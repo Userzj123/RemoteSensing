{
  "nbformat": 4,
  "nbformat_minor": 0,
  "metadata": {
    "kernelspec": {
      "display_name": "Python [conda env:earth-analytics-python]",
      "language": "python",
      "name": "conda-env-earth-analytics-python-py"
    },
    "language_info": {
      "codemirror_mode": {
        "name": "ipython",
        "version": 3
      },
      "file_extension": ".py",
      "mimetype": "text/x-python",
      "name": "python",
      "nbconvert_exporter": "python",
      "pygments_lexer": "ipython3",
      "version": "3.6.7"
    },
    "colab": {
      "name": "ContoursUsingOpenCV.ipynb",
      "provenance": [],
      "include_colab_link": true
    }
  },
  "cells": [
    {
      "cell_type": "markdown",
      "metadata": {
        "id": "view-in-github",
        "colab_type": "text"
      },
      "source": [
        "<a href=\"https://colab.research.google.com/github/arvindnswamy/RemoteSensing/blob/development/ContoursUsingOpenCV.ipynb\" target=\"_parent\"><img src=\"https://colab.research.google.com/assets/colab-badge.svg\" alt=\"Open In Colab\"/></a>"
      ]
    },
    {
      "cell_type": "code",
      "metadata": {
        "id": "4KycvxxyXlg_",
        "colab_type": "code",
        "colab": {}
      },
      "source": [
        "#I use only io from this set of modules.\n",
        "from skimage import (\n",
        "    color, feature, filters, io, measure, morphology, segmentation, util\n",
        ")"
      ],
      "execution_count": null,
      "outputs": []
    },
    {
      "cell_type": "code",
      "metadata": {
        "id": "YtvcghQQXlhp",
        "colab_type": "code",
        "colab": {},
        "outputId": "45beef42-0ced-4205-8655-178a67bf9938"
      },
      "source": [
        "#Reading the image\n",
        "\n",
        "img01 = io.imread('CoffeeParticles01.png')[:,:,0]\n",
        "print(img01.shape)\n",
        "\n",
        "#Not important to make it equal in both axes, but I did it anyway.\n",
        "img01 = img01[0:1024, 0:1024]\n",
        "io.imshow(img01)\n",
        "\n",
        "#From here, you can jump to where I import cv2"
      ],
      "execution_count": null,
      "outputs": [
        {
          "output_type": "stream",
          "text": [
            "(1024, 1280)\n"
          ],
          "name": "stdout"
        },
        {
          "output_type": "execute_result",
          "data": {
            "text/plain": [
              "<matplotlib.image.AxesImage at 0x7f06e6c3ee10>"
            ]
          },
          "metadata": {
            "tags": []
          },
          "execution_count": 122
        },
        {
          "output_type": "display_data",
          "data": {
            "image/png": "[encoded data removed]",
            "text/plain": [
              "<Figure size 432x288 with 1 Axes>"
            ]
          },
          "metadata": {
            "tags": [],
            "needs_background": "light"
          }
        }
      ]
    },
    {
      "cell_type": "code",
      "metadata": {
        "id": "gB-tXNuoXliT",
        "colab_type": "code",
        "colab": {}
      },
      "source": [
        "#To create blobs around features\n",
        "n=32\n",
        "l=1024\n",
        "img01 = filters.gaussian(img01, sigma= l / (4. * n))"
      ],
      "execution_count": null,
      "outputs": []
    },
    {
      "cell_type": "code",
      "metadata": {
        "id": "Vs9J6qMDXliv",
        "colab_type": "code",
        "colab": {}
      },
      "source": [
        "#defining your blob\n",
        "blobs = img01 > 0.7 * img01.mean()"
      ],
      "execution_count": null,
      "outputs": []
    },
    {
      "cell_type": "code",
      "metadata": {
        "id": "zac2iCZPXljD",
        "colab_type": "code",
        "colab": {}
      },
      "source": [
        "#Not sure what this doing to the blabs - labeling, I guess\n",
        "all_labels = measure.label(blobs)\n",
        "blobs_labels = measure.label(blobs, background=0)"
      ],
      "execution_count": null,
      "outputs": []
    },
    {
      "cell_type": "code",
      "metadata": {
        "id": "5kHE-47UXljY",
        "colab_type": "code",
        "colab": {},
        "outputId": "7766116b-a04e-48c2-d01c-c71e6e6bf493"
      },
      "source": [
        "#Displaying the blobs\n",
        "\n",
        "import matplotlib.pyplot as plt\n",
        "plt.figure(figsize=(9, 3.5))\n",
        "plt.subplot(131)\n",
        "plt.imshow(blobs, cmap='gray')\n",
        "plt.axis('off')\n",
        "plt.subplot(132)\n",
        "plt.imshow(all_labels, cmap='nipy_spectral')\n",
        "plt.axis('off')\n",
        "plt.subplot(133)\n",
        "plt.imshow(blobs_labels, cmap='nipy_spectral')\n",
        "plt.axis('off')\n",
        "\n",
        "plt.tight_layout()\n",
        "plt.show()"
      ],
      "execution_count": null,
      "outputs": [
        {
          "output_type": "display_data",
          "data": {
            "image/png": "[encoded data removed]",
            "text/plain": [
              "<Figure size 648x252 with 3 Axes>"
            ]
          },
          "metadata": {
            "tags": [],
            "needs_background": "light"
          }
        }
      ]
    },
    {
      "cell_type": "code",
      "metadata": {
        "id": "DqRtgRJTXljs",
        "colab_type": "code",
        "colab": {}
      },
      "source": [
        "#thresh and bw - take an image and sharpen it by using thresholding\n",
        "#specifically by using Otsu threshold - I think from the name of the \n",
        "#author\n",
        "thresh = filters.threshold_otsu(img01)\n",
        "bw = morphology.closing(img01 > thresh, morphology.square(3))"
      ],
      "execution_count": null,
      "outputs": []
    },
    {
      "cell_type": "code",
      "metadata": {
        "id": "PAUCfAd8Xlj9",
        "colab_type": "code",
        "colab": {},
        "outputId": "bf70a7d8-01e4-4fcf-93c5-9bd82347750c"
      },
      "source": [
        "io.imshow(bw)"
      ],
      "execution_count": null,
      "outputs": [
        {
          "output_type": "execute_result",
          "data": {
            "text/plain": [
              "<matplotlib.image.AxesImage at 0x7f06f45e7860>"
            ]
          },
          "metadata": {
            "tags": []
          },
          "execution_count": 36
        },
        {
          "output_type": "display_data",
          "data": {
            "image/png": "[encoded data removed]",
            "text/plain": [
              "<Figure size 432x288 with 1 Axes>"
            ]
          },
          "metadata": {
            "tags": [],
            "needs_background": "light"
          }
        }
      ]
    },
    {
      "cell_type": "code",
      "metadata": {
        "id": "bH2OYUwIXlkM",
        "colab_type": "code",
        "colab": {}
      },
      "source": [
        "import cv2 as cv2 #importing OpenCV"
      ],
      "execution_count": null,
      "outputs": []
    },
    {
      "cell_type": "code",
      "metadata": {
        "id": "mvQVajSwXlkb",
        "colab_type": "code",
        "colab": {},
        "outputId": "977b6447-0abd-43dc-afd8-dcca431bd308"
      },
      "source": [
        "# Importing the image. You could import a remote sensing water mask image\n",
        "# instead of this image of ground coffee particles\n",
        "\n",
        "img01 = cv2.imread('CoffeeParticles01.png',0)\n",
        "\n",
        "img01 = img01[0:1024, 0:1024]\n",
        "\n",
        "ret,thresh = cv2.threshold(img01,127,255,0) #thresholding, this time using\n",
        "                                            #OpenCV\n",
        "\n",
        "io.imshow(thresh) #showing the image using skimage.io"
      ],
      "execution_count": null,
      "outputs": [
        {
          "output_type": "execute_result",
          "data": {
            "text/plain": [
              "<matplotlib.image.AxesImage at 0x7f06e6e69358>"
            ]
          },
          "metadata": {
            "tags": []
          },
          "execution_count": 112
        },
        {
          "output_type": "display_data",
          "data": {
            "image/png": "[encoded data removed]",
            "text/plain": [
              "<Figure size 432x288 with 1 Axes>"
            ]
          },
          "metadata": {
            "tags": [],
            "needs_background": "light"
          }
        }
      ]
    },
    {
      "cell_type": "code",
      "metadata": {
        "id": "lkxQx-iJXlkt",
        "colab_type": "code",
        "colab": {}
      },
      "source": [
        "#Drawing contours - not sure how openCV does it.\n",
        "contours, hierarchy = cv2.findContours(thresh, \n",
        "                                       cv2.RETR_TREE, \n",
        "                                       cv2.CHAIN_APPROX_SIMPLE)\n",
        "#countours is an array of arrays. The pixels corresponding to each "
      ],
      "execution_count": null,
      "outputs": []
    },
    {
      "cell_type": "code",
      "metadata": {
        "id": "ctCPjSQgXlk9",
        "colab_type": "code",
        "colab": {},
        "outputId": "58a8eba7-83b8-48d1-94aa-6f3c1b2061f3"
      },
      "source": [
        "cv2.__version__"
      ],
      "execution_count": null,
      "outputs": [
        {
          "output_type": "execute_result",
          "data": {
            "text/plain": [
              "'4.1.0'"
            ]
          },
          "metadata": {
            "tags": []
          },
          "execution_count": 62
        }
      ]
    },
    {
      "cell_type": "code",
      "metadata": {
        "id": "9a1tlztKXllP",
        "colab_type": "code",
        "colab": {},
        "outputId": "448f3571-0a56-4bca-a19d-4674c812780f"
      },
      "source": [
        "#Here is where you are playing around with the contours themselves\n",
        "#specifically with contourArea and arcLength\n",
        "import numpy as np\n",
        "\n",
        "contours, hierarchy = cv2.findContours(thresh, cv2.RETR_TREE, cv2.CHAIN_APPROX_SIMPLE)\n",
        "\n",
        "#contours is pretty clear.\n",
        "#hierarchy is cool - it tells you if some contours are nested within \n",
        "#other contours\n",
        "\n",
        "frame = thresh\n",
        "'''\n",
        "new_frame = np.zeros(frame.shape, np.uint8)\n",
        "\n",
        "for i, contour in enumerate(contours):\n",
        "    c_area = cv2.contourArea(contour)\n",
        "    print(c_area)\n",
        "    mask = np.zeros(frame.shape, np.uint8)\n",
        "    cv2.drawContours(mask, contour, -1, 255, 3)\n",
        "    mask = cv2.bitwise_and(frame, mask)\n",
        "    new_frame = cv2.bitwise_or(new_frame, mask)\n",
        "\n",
        "frame = new_frame\n",
        "'''\n",
        "\n",
        "for i, contour in enumerate(contours):\n",
        "    c_area = cv2.contourArea(contour)\n",
        "    c_perimeter = cv2.arcLength(contour, True)\n",
        "    print(\"area: \", c_area, \"perimeter: \", c_perimeter)\n",
        "\n",
        "frame = cv2.cvtColor(frame, cv2.COLOR_GRAY2BGR)\n",
        "\n",
        "#This is where you are drawing the contours\n",
        "# -1 means you plot for all contours\n",
        "# (0, 255, 0) - contour drawn in green color\n",
        "# 2 - line thickness of contour. Can reduce to 1 to see smaller contours\n",
        "\n",
        "frameWithContours = cv2.drawContours(frame, contours, -1, (0, 255, 0), 2)"
      ],
      "execution_count": null,
      "outputs": [
        {
          "output_type": "stream",
          "text": [
            "area:  1046529.0 perimeter:  4092.0\n",
            "area:  37.0 perimeter:  29.79898953437805\n",
            "area:  4315.5 perimeter:  322.9777022600174\n",
            "area:  0.0 perimeter:  0.0\n",
            "area:  6.5 perimeter:  10.242640614509583\n",
            "area:  66.5 perimeter:  51.35533821582794\n",
            "area:  21614.5 perimeter:  955.9036681652069\n",
            "area:  12.5 perimeter:  13.071067690849304\n",
            "area:  14.0 perimeter:  15.656854152679443\n",
            "area:  160.5 perimeter:  56.52691113948822\n",
            "area:  13.0 perimeter:  13.656854152679443\n",
            "area:  1.5 perimeter:  6.2426406145095825\n",
            "area:  121.5 perimeter:  53.21320295333862\n",
            "area:  45.0 perimeter:  27.313708305358887\n",
            "area:  87.0 perimeter:  35.79898941516876\n",
            "area:  0.0 perimeter:  2.0\n",
            "area:  471.0 perimeter:  94.22539603710175\n",
            "area:  1156.5 perimeter:  165.23758804798126\n"
          ],
          "name": "stdout"
        }
      ]
    },
    {
      "cell_type": "code",
      "metadata": {
        "id": "2fCanr2OXllf",
        "colab_type": "code",
        "colab": {},
        "outputId": "64b85cc0-79d4-4b65-ba46-5295648131af"
      },
      "source": [
        "io.imshow(frameWithContours[410:650,760:950])"
      ],
      "execution_count": null,
      "outputs": [
        {
          "output_type": "execute_result",
          "data": {
            "text/plain": [
              "<matplotlib.image.AxesImage at 0x7f06f45a77f0>"
            ]
          },
          "metadata": {
            "tags": []
          },
          "execution_count": 121
        },
        {
          "output_type": "display_data",
          "data": {
            "image/png": "[encoded data removed]",
            "text/plain": [
              "<Figure size 432x288 with 1 Axes>"
            ]
          },
          "metadata": {
            "tags": [],
            "needs_background": "light"
          }
        }
      ]
    },
    {
      "cell_type": "code",
      "metadata": {
        "id": "FO5j3gUPXlls",
        "colab_type": "code",
        "colab": {},
        "outputId": "5b3cb325-dbd5-432a-8522-9404a9a1d601"
      },
      "source": [
        "1024*1024"
      ],
      "execution_count": null,
      "outputs": [
        {
          "output_type": "execute_result",
          "data": {
            "text/plain": [
              "1048576"
            ]
          },
          "metadata": {
            "tags": []
          },
          "execution_count": 94
        }
      ]
    },
    {
      "cell_type": "code",
      "metadata": {
        "id": "28FoQMxLXll8",
        "colab_type": "code",
        "colab": {},
        "outputId": "6e79837c-a39d-4fd5-fddb-eb361b6595c6"
      },
      "source": [
        "contours[0]"
      ],
      "execution_count": null,
      "outputs": [
        {
          "output_type": "execute_result",
          "data": {
            "text/plain": [
              "array([[[   0,    0]],\n",
              "\n",
              "       [[   0, 1023]],\n",
              "\n",
              "       [[1023, 1023]],\n",
              "\n",
              "       [[1023,    0]]], dtype=int32)"
            ]
          },
          "metadata": {
            "tags": []
          },
          "execution_count": 111
        }
      ]
    },
    {
      "cell_type": "code",
      "metadata": {
        "id": "ua4g9gr_XlmL",
        "colab_type": "code",
        "colab": {},
        "outputId": "c0af4cf3-ba52-4469-9805-9b4f1330e75b"
      },
      "source": [
        "hierarchy"
      ],
      "execution_count": null,
      "outputs": [
        {
          "output_type": "execute_result",
          "data": {
            "text/plain": [
              "array([[[-1, -1,  1, -1],\n",
              "        [ 2, -1, -1,  0],\n",
              "        [ 6,  1,  3,  0],\n",
              "        [ 4, -1, -1,  2],\n",
              "        [ 5,  3, -1,  2],\n",
              "        [-1,  4, -1,  2],\n",
              "        [16,  2,  7,  0],\n",
              "        [ 8, -1, -1,  6],\n",
              "        [ 9,  7, -1,  6],\n",
              "        [10,  8, -1,  6],\n",
              "        [11,  9, -1,  6],\n",
              "        [12, 10, -1,  6],\n",
              "        [13, 11, -1,  6],\n",
              "        [14, 12, -1,  6],\n",
              "        [15, 13, -1,  6],\n",
              "        [-1, 14, -1,  6],\n",
              "        [17,  6, -1,  0],\n",
              "        [-1, 16, -1,  0]]], dtype=int32)"
            ]
          },
          "metadata": {
            "tags": []
          },
          "execution_count": 106
        }
      ]
    },
    {
      "cell_type": "code",
      "metadata": {
        "id": "KwD2smBhXlmX",
        "colab_type": "code",
        "colab": {}
      },
      "source": [
        ""
      ],
      "execution_count": null,
      "outputs": []
    }
  ]
}