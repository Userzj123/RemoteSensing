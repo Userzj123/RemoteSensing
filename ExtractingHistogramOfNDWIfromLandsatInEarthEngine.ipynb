{
  "nbformat": 4,
  "nbformat_minor": 0,
  "metadata": {
    "colab": {
      "name": "ExtractingHistogramOfNDWIfromLandsatInEarthEngine.ipynb",
      "provenance": [],
      "collapsed_sections": [],
      "authorship_tag": "ABX9TyOBTDdA3SsIRxwtVDIAD5JT",
      "include_colab_link": true
    },
    "kernelspec": {
      "name": "python3",
      "display_name": "Python 3"
    }
  },
  "cells": [
    {
      "cell_type": "markdown",
      "metadata": {
        "id": "view-in-github",
        "colab_type": "text"
      },
      "source": [
        "<a href=\"https://colab.research.google.com/github/arvindnswamy/RemoteSensing/blob/development/ExtractingHistogramOfNDWIfromLandsatInEarthEngine.ipynb\" target=\"_parent\"><img src=\"https://colab.research.google.com/assets/colab-badge.svg\" alt=\"Open In Colab\"/></a>"
      ]
    },
    {
      "cell_type": "code",
      "metadata": {
        "id": "QafojKkaLlsO",
        "colab_type": "code",
        "outputId": "7a1758f3-4675-4b45-81e7-c870a86bebbe",
        "colab": {
          "base_uri": "https://localhost:8080/",
          "height": 176
        }
      },
      "source": [
        "import ee\n",
        "from IPython.display import Image\n",
        "\n",
        "# Trigger the authentication flow.\n",
        "ee.Authenticate()\n"
      ],
      "execution_count": 2,
      "outputs": [
        {
          "output_type": "stream",
          "text": [
            "To authorize access needed by Earth Engine, open the following URL in a web browser and follow the instructions. If the web browser does not start automatically, please manually browse the URL below.\n",
            "\n",
            "    https://accounts.google.com/o/oauth2/auth?client_id=517222506229-vsmmajv00ul0bs7p89v5m89qs8eb9359.apps.googleusercontent.com&scope=https%3A%2F%2Fwww.googleapis.com%2Fauth%2Fearthengine+https%3A%2F%2Fwww.googleapis.com%2Fauth%2Fdevstorage.full_control&redirect_uri=urn%3Aietf%3Awg%3Aoauth%3A2.0%3Aoob&response_type=code&code_challenge=D1fSpJfiB40E8LfaX75mdGry886VEiWxMXGYUxxyI5I&code_challenge_method=S256\n",
            "\n",
            "The authorization workflow will generate a code, which you should paste in the box below. \n",
            "Enter verification code: 4/0QHUj-_x_uRoFd9B_CLf5__63toO36-UhDcYbD6XiFQIlrDj55yCGbk\n",
            "\n",
            "Successfully saved authorization token.\n"
          ],
          "name": "stdout"
        }
      ]
    },
    {
      "cell_type": "code",
      "metadata": {
        "id": "aMwOrEPoL6Zv",
        "colab_type": "code",
        "colab": {}
      },
      "source": [
        "ee.Initialize()\n",
        "image = ee.Image('LANDSAT/LC08/C01/T1_TOA/LC08_044034_20140318') # SF Bay area again\n",
        "\n",
        "ndwi = image.normalizedDifference(['B3', 'B6'])  #Compute ND water index"
      ],
      "execution_count": 0,
      "outputs": []
    },
    {
      "cell_type": "code",
      "metadata": {
        "id": "CbM627Y1MGQk",
        "colab_type": "code",
        "outputId": "97da5dfe-37c2-44fc-d416-4559a0a5287c",
        "colab": {
          "base_uri": "https://localhost:8080/",
          "height": 352
        }
      },
      "source": [
        "'''\n",
        "This is a procedure to extract some numerical information from the image.\n",
        "'''\n",
        "\n",
        "ndwi_dict = ndwi.sample(numPixels = 1000).reduceColumns(ee.Reducer.toList().repeat(1), ['nd'])\n",
        "ndwi_list = ee.List(ndwi_dict.get('list'))\n",
        "ndwi_data = ndwi_list.getInfo()\n",
        "\n",
        "import matplotlib.pyplot as plt\n",
        "plt.hist(ndwi_data[0])"
      ],
      "execution_count": 4,
      "outputs": [
        {
          "output_type": "execute_result",
          "data": {
            "text/plain": [
              "(array([216., 267., 111.,  40.,   4.,   2.,   2.,   3.,  55., 299.]),\n",
              " array([-0.56886339, -0.41586557, -0.26286774, -0.10986992,  0.0431279 ,\n",
              "         0.19612572,  0.34912355,  0.50212137,  0.65511919,  0.80811702,\n",
              "         0.96111484]),\n",
              " <a list of 10 Patch objects>)"
            ]
          },
          "metadata": {
            "tags": []
          },
          "execution_count": 4
        },
        {
          "output_type": "display_data",
          "data": {
            "image/png": "[encoded data removed]",
            "text/plain": [
              "<Figure size 432x288 with 1 Axes>"
            ]
          },
          "metadata": {
            "tags": [],
            "needs_background": "light"
          }
        }
      ]
    },
    {
      "cell_type": "code",
      "metadata": {
        "id": "p_ruEg8NMHqC",
        "colab_type": "code",
        "colab": {}
      },
      "source": [
        "imagePath45Row34 = ee.Image('LANDSAT/LC08/C01/T1_TOA/LC08_045034_20140629') #Image of region adjacent to SF Bay area\n",
        "#I got the name of this image from the code in the next cell\n",
        "ndwiPath45Row34 = imagePath45Row34.normalizedDifference(['B3', 'B6'])  #Compute ND water index"
      ],
      "execution_count": 0,
      "outputs": []
    },
    {
      "cell_type": "code",
      "metadata": {
        "id": "P-YnUcbJMzDV",
        "colab_type": "code",
        "outputId": "6b789a78-e79e-476c-914f-8d162f638bdc",
        "colab": {
          "base_uri": "https://localhost:8080/",
          "height": 823
        }
      },
      "source": [
        "parameters = {'min': 0,\n",
        "              'max': 0.2,\n",
        "              'dimensions': 768,\n",
        "              'bands': ['B4', 'B3', 'B2']\n",
        "}\n",
        "\n",
        "'''\n",
        "It turns out that the min and max values are extremely important. Previously, I used the max value of 255 and\n",
        "higher values, thinking that the max would refer to the DN value of the image I download from USGS. Apparently\n",
        "not. Instead, when I decreased the value to 1.0 and smaller, I started getting images that are actually visible. \n",
        "The max value almost seems like a contrast stretching tool - you've seen contrast stretching in action with GIMP.\n",
        "When you have max = 0.2, you get a pretty nice image, as shown below.\n",
        "'''\n",
        "\n",
        "print(type(imagePath45Row34.getThumbUrl(parameters))) #Image takes a string poining to an image and displays it\n",
        "print(imagePath45Row34.getThumbUrl(parameters))\n",
        "Image(url = imagePath45Row34.getThumbUrl(parameters))"
      ],
      "execution_count": 5,
      "outputs": [
        {
          "output_type": "stream",
          "text": [
            "<class 'str'>\n",
            "https://earthengine.googleapis.com/v1alpha/projects/earthengine-legacy/thumbnails/dc65e3c592119026f64e49bfe7a22275-9a9a9682733d91ce2643a95d49764428:getPixels\n"
          ],
          "name": "stdout"
        },
        {
          "output_type": "execute_result",
          "data": {
            "text/html": [
              "<img src=\"https://earthengine.googleapis.com/v1alpha/projects/earthengine-legacy/thumbnails/dc65e3c592119026f64e49bfe7a22275-52c34ee8cdac8401aa965c747407dac8:getPixels\"/>"
            ],
            "text/plain": [
              "<IPython.core.display.Image object>"
            ]
          },
          "metadata": {
            "tags": []
          },
          "execution_count": 5
        }
      ]
    },
    {
      "cell_type": "code",
      "metadata": {
        "id": "0obidPsSNJFl",
        "colab_type": "code",
        "colab": {}
      },
      "source": [
        "'''\n",
        "This is used to return the names of the images of the region of interest within a time frame of interest.\n",
        "I chose a single month (June 2014) so that I'll have two images at best.\n",
        "'''\n",
        "Path45Row34_collect_return = ee.ImageCollection('LANDSAT/LC08/C01/T1').filter(ee.Filter.eq('WRS_PATH', 45)).filter(ee.Filter.eq('WRS_ROW', 34)).filterDate('2014-06-01', '2014-06-30')\n",
        "Path12Row32_collect_return = ee.ImageCollection('LANDSAT/LC08/C01/T1').filter(ee.Filter.eq('WRS_PATH', 12)).filter(ee.Filter.eq('WRS_ROW', 32)).filterDate('2014-05-01', '2014-06-30')"
      ],
      "execution_count": 0,
      "outputs": []
    },
    {
      "cell_type": "code",
      "metadata": {
        "id": "82rWRUQ7OILA",
        "colab_type": "code",
        "outputId": "b4e10a5e-647a-46e6-ce27-f381a10715b8",
        "colab": {
          "base_uri": "https://localhost:8080/",
          "height": 1000
        }
      },
      "source": [
        "Path12Row32_collect_return.getInfo()"
      ],
      "execution_count": 0,
      "outputs": [
        {
          "output_type": "execute_result",
          "data": {
            "text/plain": [
              "{'bands': [],\n",
              " 'features': [{'bands': [{'crs': 'EPSG:32619',\n",
              "     'crs_transform': [30, 0, 142485, 0, -30, 4588215],\n",
              "     'data_type': {'max': 65535,\n",
              "      'min': 0,\n",
              "      'precision': 'int',\n",
              "      'type': 'PixelType'},\n",
              "     'dimensions': [7891, 8011],\n",
              "     'id': 'B1'},\n",
              "    {'crs': 'EPSG:32619',\n",
              "     'crs_transform': [30, 0, 142485, 0, -30, 4588215],\n",
              "     'data_type': {'max': 65535,\n",
              "      'min': 0,\n",
              "      'precision': 'int',\n",
              "      'type': 'PixelType'},\n",
              "     'dimensions': [7891, 8011],\n",
              "     'id': 'B2'},\n",
              "    {'crs': 'EPSG:32619',\n",
              "     'crs_transform': [30, 0, 142485, 0, -30, 4588215],\n",
              "     'data_type': {'max': 65535,\n",
              "      'min': 0,\n",
              "      'precision': 'int',\n",
              "      'type': 'PixelType'},\n",
              "     'dimensions': [7891, 8011],\n",
              "     'id': 'B3'},\n",
              "    {'crs': 'EPSG:32619',\n",
              "     'crs_transform': [30, 0, 142485, 0, -30, 4588215],\n",
              "     'data_type': {'max': 65535,\n",
              "      'min': 0,\n",
              "      'precision': 'int',\n",
              "      'type': 'PixelType'},\n",
              "     'dimensions': [7891, 8011],\n",
              "     'id': 'B4'},\n",
              "    {'crs': 'EPSG:32619',\n",
              "     'crs_transform': [30, 0, 142485, 0, -30, 4588215],\n",
              "     'data_type': {'max': 65535,\n",
              "      'min': 0,\n",
              "      'precision': 'int',\n",
              "      'type': 'PixelType'},\n",
              "     'dimensions': [7891, 8011],\n",
              "     'id': 'B5'},\n",
              "    {'crs': 'EPSG:32619',\n",
              "     'crs_transform': [30, 0, 142485, 0, -30, 4588215],\n",
              "     'data_type': {'max': 65535,\n",
              "      'min': 0,\n",
              "      'precision': 'int',\n",
              "      'type': 'PixelType'},\n",
              "     'dimensions': [7891, 8011],\n",
              "     'id': 'B6'},\n",
              "    {'crs': 'EPSG:32619',\n",
              "     'crs_transform': [30, 0, 142485, 0, -30, 4588215],\n",
              "     'data_type': {'max': 65535,\n",
              "      'min': 0,\n",
              "      'precision': 'int',\n",
              "      'type': 'PixelType'},\n",
              "     'dimensions': [7891, 8011],\n",
              "     'id': 'B7'},\n",
              "    {'crs': 'EPSG:32619',\n",
              "     'crs_transform': [15, 0, 142492.5, 0, -15, 4588207.5],\n",
              "     'data_type': {'max': 65535,\n",
              "      'min': 0,\n",
              "      'precision': 'int',\n",
              "      'type': 'PixelType'},\n",
              "     'dimensions': [15781, 16021],\n",
              "     'id': 'B8'},\n",
              "    {'crs': 'EPSG:32619',\n",
              "     'crs_transform': [30, 0, 142485, 0, -30, 4588215],\n",
              "     'data_type': {'max': 65535,\n",
              "      'min': 0,\n",
              "      'precision': 'int',\n",
              "      'type': 'PixelType'},\n",
              "     'dimensions': [7891, 8011],\n",
              "     'id': 'B9'},\n",
              "    {'crs': 'EPSG:32619',\n",
              "     'crs_transform': [30, 0, 142485, 0, -30, 4588215],\n",
              "     'data_type': {'max': 65535,\n",
              "      'min': 0,\n",
              "      'precision': 'int',\n",
              "      'type': 'PixelType'},\n",
              "     'dimensions': [7891, 8011],\n",
              "     'id': 'B10'},\n",
              "    {'crs': 'EPSG:32619',\n",
              "     'crs_transform': [30, 0, 142485, 0, -30, 4588215],\n",
              "     'data_type': {'max': 65535,\n",
              "      'min': 0,\n",
              "      'precision': 'int',\n",
              "      'type': 'PixelType'},\n",
              "     'dimensions': [7891, 8011],\n",
              "     'id': 'B11'},\n",
              "    {'crs': 'EPSG:32619',\n",
              "     'crs_transform': [30, 0, 142485, 0, -30, 4588215],\n",
              "     'data_type': {'max': 65535,\n",
              "      'min': 0,\n",
              "      'precision': 'int',\n",
              "      'type': 'PixelType'},\n",
              "     'dimensions': [7891, 8011],\n",
              "     'id': 'BQA'}],\n",
              "   'id': 'LANDSAT/LC08/C01/T1/LC08_012032_20140505',\n",
              "   'properties': {'BPF_NAME_OLI': 'LO8BPF20140505151525_20140505153802.01',\n",
              "    'BPF_NAME_TIRS': 'LT8BPF20140505151131_20140505153855.01',\n",
              "    'CLOUD_COVER': 1.7999999523162842,\n",
              "    'CLOUD_COVER_LAND': 2.940000057220459,\n",
              "    'COLLECTION_CATEGORY': 'T1',\n",
              "    'COLLECTION_NUMBER': 1,\n",
              "    'CPF_NAME': 'LC08CPF_20140401_20140630_01.01',\n",
              "    'DATA_TYPE': 'L1TP',\n",
              "    'DATE_ACQUIRED': '2014-05-05',\n",
              "    'DATUM': 'WGS84',\n",
              "    'EARTH_SUN_DISTANCE': 1.0086145401000977,\n",
              "    'ELEVATION_SOURCE': 'GLS2000',\n",
              "    'ELLIPSOID': 'WGS84',\n",
              "    'FILE_DATE': 1488897487000,\n",
              "    'GEOMETRIC_RMSE_MODEL': 6.955999851226807,\n",
              "    'GEOMETRIC_RMSE_MODEL_X': 4.533999919891357,\n",
              "    'GEOMETRIC_RMSE_MODEL_Y': 5.275000095367432,\n",
              "    'GEOMETRIC_RMSE_VERIFY': 5.38700008392334,\n",
              "    'GRID_CELL_SIZE_PANCHROMATIC': 15,\n",
              "    'GRID_CELL_SIZE_REFLECTIVE': 30,\n",
              "    'GRID_CELL_SIZE_THERMAL': 30,\n",
              "    'GROUND_CONTROL_POINTS_MODEL': 212,\n",
              "    'GROUND_CONTROL_POINTS_VERIFY': 29,\n",
              "    'GROUND_CONTROL_POINTS_VERSION': 4,\n",
              "    'IMAGE_QUALITY_OLI': 9,\n",
              "    'IMAGE_QUALITY_TIRS': 9,\n",
              "    'K1_CONSTANT_BAND_10': 774.8853149414062,\n",
              "    'K1_CONSTANT_BAND_11': 480.8883056640625,\n",
              "    'K2_CONSTANT_BAND_10': 1321.078857421875,\n",
              "    'K2_CONSTANT_BAND_11': 1201.1441650390625,\n",
              "    'LANDSAT_PRODUCT_ID': 'LC08_L1TP_012032_20140505_20170307_01_T1',\n",
              "    'LANDSAT_SCENE_ID': 'LC80120322014125LGN01',\n",
              "    'MAP_PROJECTION': 'UTM',\n",
              "    'NADIR_OFFNADIR': 'NADIR',\n",
              "    'ORIENTATION': 'NORTH_UP',\n",
              "    'PANCHROMATIC_LINES': 16021,\n",
              "    'PANCHROMATIC_SAMPLES': 15781,\n",
              "    'PROCESSING_SOFTWARE_VERSION': 'LPGS_2.7.0',\n",
              "    'RADIANCE_ADD_BAND_1': -61.71097946166992,\n",
              "    'RADIANCE_ADD_BAND_10': 0.10000000149011612,\n",
              "    'RADIANCE_ADD_BAND_11': 0.10000000149011612,\n",
              "    'RADIANCE_ADD_BAND_2': -63.19279861450195,\n",
              "    'RADIANCE_ADD_BAND_3': -58.23162078857422,\n",
              "    'RADIANCE_ADD_BAND_4': -49.104190826416016,\n",
              "    'RADIANCE_ADD_BAND_5': -30.0493106842041,\n",
              "    'RADIANCE_ADD_BAND_6': -7.472990036010742,\n",
              "    'RADIANCE_ADD_BAND_7': -2.5188000202178955,\n",
              "    'RADIANCE_ADD_BAND_8': -55.572418212890625,\n",
              "    'RADIANCE_ADD_BAND_9': -11.743949890136719,\n",
              "    'RADIANCE_MULT_BAND_1': 0.012342000380158424,\n",
              "    'RADIANCE_MULT_BAND_10': 0.00033420001273043454,\n",
              "    'RADIANCE_MULT_BAND_11': 0.00033420001273043454,\n",
              "    'RADIANCE_MULT_BAND_2': 0.012639000080525875,\n",
              "    'RADIANCE_MULT_BAND_3': 0.011645999737083912,\n",
              "    'RADIANCE_MULT_BAND_4': 0.00982080027461052,\n",
              "    'RADIANCE_MULT_BAND_5': 0.006009900011122227,\n",
              "    'RADIANCE_MULT_BAND_6': 0.0014945999719202518,\n",
              "    'RADIANCE_MULT_BAND_7': 0.000503760005813092,\n",
              "    'RADIANCE_MULT_BAND_8': 0.011114000342786312,\n",
              "    'RADIANCE_MULT_BAND_9': 0.0023487999569624662,\n",
              "    'REFLECTANCE_ADD_BAND_1': -0.10000000149011612,\n",
              "    'REFLECTANCE_ADD_BAND_2': -0.10000000149011612,\n",
              "    'REFLECTANCE_ADD_BAND_3': -0.10000000149011612,\n",
              "    'REFLECTANCE_ADD_BAND_4': -0.10000000149011612,\n",
              "    'REFLECTANCE_ADD_BAND_5': -0.10000000149011612,\n",
              "    'REFLECTANCE_ADD_BAND_6': -0.10000000149011612,\n",
              "    'REFLECTANCE_ADD_BAND_7': -0.10000000149011612,\n",
              "    'REFLECTANCE_ADD_BAND_8': -0.10000000149011612,\n",
              "    'REFLECTANCE_ADD_BAND_9': -0.10000000149011612,\n",
              "    'REFLECTANCE_MULT_BAND_1': 1.9999999494757503e-05,\n",
              "    'REFLECTANCE_MULT_BAND_2': 1.9999999494757503e-05,\n",
              "    'REFLECTANCE_MULT_BAND_3': 1.9999999494757503e-05,\n",
              "    'REFLECTANCE_MULT_BAND_4': 1.9999999494757503e-05,\n",
              "    'REFLECTANCE_MULT_BAND_5': 1.9999999494757503e-05,\n",
              "    'REFLECTANCE_MULT_BAND_6': 1.9999999494757503e-05,\n",
              "    'REFLECTANCE_MULT_BAND_7': 1.9999999494757503e-05,\n",
              "    'REFLECTANCE_MULT_BAND_8': 1.9999999494757503e-05,\n",
              "    'REFLECTANCE_MULT_BAND_9': 1.9999999494757503e-05,\n",
              "    'REFLECTIVE_LINES': 8011,\n",
              "    'REFLECTIVE_SAMPLES': 7891,\n",
              "    'REQUEST_ID': '0501703064487_00015',\n",
              "    'RESAMPLING_OPTION': 'CUBIC_CONVOLUTION',\n",
              "    'RLUT_FILE_NAME': 'LC08RLUT_20130211_20150302_01_11.h5',\n",
              "    'ROLL_ANGLE': -0.0010000000474974513,\n",
              "    'SATURATION_BAND_1': 'Y',\n",
              "    'SATURATION_BAND_2': 'Y',\n",
              "    'SATURATION_BAND_3': 'Y',\n",
              "    'SATURATION_BAND_4': 'Y',\n",
              "    'SATURATION_BAND_5': 'Y',\n",
              "    'SATURATION_BAND_6': 'Y',\n",
              "    'SATURATION_BAND_7': 'Y',\n",
              "    'SATURATION_BAND_8': 'N',\n",
              "    'SATURATION_BAND_9': 'N',\n",
              "    'SCENE_CENTER_TIME': '15:27:08.9541920Z',\n",
              "    'SENSOR_ID': 'OLI_TIRS',\n",
              "    'SPACECRAFT_ID': 'LANDSAT_8',\n",
              "    'STATION_ID': 'LGN',\n",
              "    'SUN_AZIMUTH': 139.6895751953125,\n",
              "    'SUN_ELEVATION': 60.80693817138672,\n",
              "    'TARGET_WRS_PATH': 12,\n",
              "    'TARGET_WRS_ROW': 32,\n",
              "    'THERMAL_LINES': 8011,\n",
              "    'THERMAL_SAMPLES': 7891,\n",
              "    'TIRS_SSM_MODEL': 'ACTUAL',\n",
              "    'TIRS_SSM_POSITION_STATUS': 'NOMINAL',\n",
              "    'TIRS_STRAY_LIGHT_CORRECTION_SOURCE': 'TIRS',\n",
              "    'TRUNCATION_OLI': 'UPPER',\n",
              "    'UTM_ZONE': 19,\n",
              "    'WRS_PATH': 12,\n",
              "    'WRS_ROW': 32,\n",
              "    'google:registration_count': 67,\n",
              "    'google:registration_offset_x': 484.1864929199219,\n",
              "    'google:registration_offset_y': -268.45751953125,\n",
              "    'google:registration_ratio': 0.5275590419769287,\n",
              "    'system:asset_size': 993260737,\n",
              "    'system:footprint': {'coordinates': [[-72.62323825033307,\n",
              "       41.38186000158416],\n",
              "      [-72.6497042709215, 41.38640656418881],\n",
              "      [-72.6616134898663, 41.34798563252662],\n",
              "      [-72.7978918024003, 40.902340833970754],\n",
              "      [-72.92181591351947, 40.49233025342409],\n",
              "      [-73.04442464503883, 40.08223551543169],\n",
              "      [-73.16666237628802, 39.66899602698911],\n",
              "      [-73.12887002849607, 39.662273975915824],\n",
              "      [-72.97893840571602, 39.63549864314713],\n",
              "      [-72.04749897733191, 39.464268793315526],\n",
              "      [-71.00997382378834, 39.26358635900215],\n",
              "      [-70.99932489947939, 39.29616324695105],\n",
              "      [-70.92324530909113, 39.52813930807777],\n",
              "      [-70.85494217747357, 39.73525321967212],\n",
              "      [-70.75194006839536, 40.045686135430756],\n",
              "      [-70.65564390427726, 40.33376686205439],\n",
              "      [-70.58298940755115, 40.54968493220573],\n",
              "      [-70.51568924457348, 40.74875980815815],\n",
              "      [-70.43746002215462, 40.97881840129267],\n",
              "      [-71.28849243593605, 41.14132076624267],\n",
              "      [-72.10917460108138, 41.291283280432715],\n",
              "      [-72.62323825033307, 41.38186000158416]],\n",
              "     'type': 'LinearRing'},\n",
              "    'system:index': 'LC08_012032_20140505',\n",
              "    'system:time_start': 1399303628950},\n",
              "   'type': 'Image',\n",
              "   'version': 1497567301374000.0},\n",
              "  {'bands': [{'crs': 'EPSG:32619',\n",
              "     'crs_transform': [30, 0, 145785, 0, -30, 4588215],\n",
              "     'data_type': {'max': 65535,\n",
              "      'min': 0,\n",
              "      'precision': 'int',\n",
              "      'type': 'PixelType'},\n",
              "     'dimensions': [7901, 8021],\n",
              "     'id': 'B1'},\n",
              "    {'crs': 'EPSG:32619',\n",
              "     'crs_transform': [30, 0, 145785, 0, -30, 4588215],\n",
              "     'data_type': {'max': 65535,\n",
              "      'min': 0,\n",
              "      'precision': 'int',\n",
              "      'type': 'PixelType'},\n",
              "     'dimensions': [7901, 8021],\n",
              "     'id': 'B2'},\n",
              "    {'crs': 'EPSG:32619',\n",
              "     'crs_transform': [30, 0, 145785, 0, -30, 4588215],\n",
              "     'data_type': {'max': 65535,\n",
              "      'min': 0,\n",
              "      'precision': 'int',\n",
              "      'type': 'PixelType'},\n",
              "     'dimensions': [7901, 8021],\n",
              "     'id': 'B3'},\n",
              "    {'crs': 'EPSG:32619',\n",
              "     'crs_transform': [30, 0, 145785, 0, -30, 4588215],\n",
              "     'data_type': {'max': 65535,\n",
              "      'min': 0,\n",
              "      'precision': 'int',\n",
              "      'type': 'PixelType'},\n",
              "     'dimensions': [7901, 8021],\n",
              "     'id': 'B4'},\n",
              "    {'crs': 'EPSG:32619',\n",
              "     'crs_transform': [30, 0, 145785, 0, -30, 4588215],\n",
              "     'data_type': {'max': 65535,\n",
              "      'min': 0,\n",
              "      'precision': 'int',\n",
              "      'type': 'PixelType'},\n",
              "     'dimensions': [7901, 8021],\n",
              "     'id': 'B5'},\n",
              "    {'crs': 'EPSG:32619',\n",
              "     'crs_transform': [30, 0, 145785, 0, -30, 4588215],\n",
              "     'data_type': {'max': 65535,\n",
              "      'min': 0,\n",
              "      'precision': 'int',\n",
              "      'type': 'PixelType'},\n",
              "     'dimensions': [7901, 8021],\n",
              "     'id': 'B6'},\n",
              "    {'crs': 'EPSG:32619',\n",
              "     'crs_transform': [30, 0, 145785, 0, -30, 4588215],\n",
              "     'data_type': {'max': 65535,\n",
              "      'min': 0,\n",
              "      'precision': 'int',\n",
              "      'type': 'PixelType'},\n",
              "     'dimensions': [7901, 8021],\n",
              "     'id': 'B7'},\n",
              "    {'crs': 'EPSG:32619',\n",
              "     'crs_transform': [15, 0, 145792.5, 0, -15, 4588207.5],\n",
              "     'data_type': {'max': 65535,\n",
              "      'min': 0,\n",
              "      'precision': 'int',\n",
              "      'type': 'PixelType'},\n",
              "     'dimensions': [15801, 16041],\n",
              "     'id': 'B8'},\n",
              "    {'crs': 'EPSG:32619',\n",
              "     'crs_transform': [30, 0, 145785, 0, -30, 4588215],\n",
              "     'data_type': {'max': 65535,\n",
              "      'min': 0,\n",
              "      'precision': 'int',\n",
              "      'type': 'PixelType'},\n",
              "     'dimensions': [7901, 8021],\n",
              "     'id': 'B9'},\n",
              "    {'crs': 'EPSG:32619',\n",
              "     'crs_transform': [30, 0, 145785, 0, -30, 4588215],\n",
              "     'data_type': {'max': 65535,\n",
              "      'min': 0,\n",
              "      'precision': 'int',\n",
              "      'type': 'PixelType'},\n",
              "     'dimensions': [7901, 8021],\n",
              "     'id': 'B10'},\n",
              "    {'crs': 'EPSG:32619',\n",
              "     'crs_transform': [30, 0, 145785, 0, -30, 4588215],\n",
              "     'data_type': {'max': 65535,\n",
              "      'min': 0,\n",
              "      'precision': 'int',\n",
              "      'type': 'PixelType'},\n",
              "     'dimensions': [7901, 8021],\n",
              "     'id': 'B11'},\n",
              "    {'crs': 'EPSG:32619',\n",
              "     'crs_transform': [30, 0, 145785, 0, -30, 4588215],\n",
              "     'data_type': {'max': 65535,\n",
              "      'min': 0,\n",
              "      'precision': 'int',\n",
              "      'type': 'PixelType'},\n",
              "     'dimensions': [7901, 8021],\n",
              "     'id': 'BQA'}],\n",
              "   'id': 'LANDSAT/LC08/C01/T1/LC08_012032_20140521',\n",
              "   'properties': {'BPF_NAME_OLI': 'LO8BPF20140521151341_20140521153754.02',\n",
              "    'BPF_NAME_TIRS': 'LT8BPF20140521135248_20140521153847.02',\n",
              "    'CLOUD_COVER': 68.05000305175781,\n",
              "    'CLOUD_COVER_LAND': 91.7300033569336,\n",
              "    'COLLECTION_CATEGORY': 'T1',\n",
              "    'COLLECTION_NUMBER': 1,\n",
              "    'CPF_NAME': 'LC08CPF_20140401_20140630_01.01',\n",
              "    'DATA_TYPE': 'L1TP',\n",
              "    'DATE_ACQUIRED': '2014-05-21',\n",
              "    'DATUM': 'WGS84',\n",
              "    'EARTH_SUN_DISTANCE': 1.0121310949325562,\n",
              "    'ELEVATION_SOURCE': 'GLS2000',\n",
              "    'ELLIPSOID': 'WGS84',\n",
              "    'FILE_DATE': 1488894230000,\n",
              "    'GEOMETRIC_RMSE_MODEL': 8.182999610900879,\n",
              "    'GEOMETRIC_RMSE_MODEL_X': 5.703000068664551,\n",
              "    'GEOMETRIC_RMSE_MODEL_Y': 5.868000030517578,\n",
              "    'GEOMETRIC_RMSE_VERIFY': 7.021999835968018,\n",
              "    'GRID_CELL_SIZE_PANCHROMATIC': 15,\n",
              "    'GRID_CELL_SIZE_REFLECTIVE': 30,\n",
              "    'GRID_CELL_SIZE_THERMAL': 30,\n",
              "    'GROUND_CONTROL_POINTS_MODEL': 187,\n",
              "    'GROUND_CONTROL_POINTS_VERIFY': 33,\n",
              "    'GROUND_CONTROL_POINTS_VERSION': 4,\n",
              "    'IMAGE_QUALITY_OLI': 9,\n",
              "    'IMAGE_QUALITY_TIRS': 9,\n",
              "    'K1_CONSTANT_BAND_10': 774.8853149414062,\n",
              "    'K1_CONSTANT_BAND_11': 480.8883056640625,\n",
              "    'K2_CONSTANT_BAND_10': 1321.078857421875,\n",
              "    'K2_CONSTANT_BAND_11': 1201.1441650390625,\n",
              "    'LANDSAT_PRODUCT_ID': 'LC08_L1TP_012032_20140521_20170307_01_T1',\n",
              "    'LANDSAT_SCENE_ID': 'LC80120322014141LGN01',\n",
              "    'MAP_PROJECTION': 'UTM',\n",
              "    'NADIR_OFFNADIR': 'NADIR',\n",
              "    'ORIENTATION': 'NORTH_UP',\n",
              "    'PANCHROMATIC_LINES': 16041,\n",
              "    'PANCHROMATIC_SAMPLES': 15801,\n",
              "    'PROCESSING_SOFTWARE_VERSION': 'LPGS_2.7.0',\n",
              "    'RADIANCE_ADD_BAND_1': -61.28289031982422,\n",
              "    'RADIANCE_ADD_BAND_10': 0.10000000149011612,\n",
              "    'RADIANCE_ADD_BAND_11': 0.10000000149011612,\n",
              "    'RADIANCE_ADD_BAND_2': -62.75442886352539,\n",
              "    'RADIANCE_ADD_BAND_3': -57.82767105102539,\n",
              "    'RADIANCE_ADD_BAND_4': -48.7635498046875,\n",
              "    'RADIANCE_ADD_BAND_5': -29.84086036682129,\n",
              "    'RADIANCE_ADD_BAND_6': -7.421150207519531,\n",
              "    'RADIANCE_ADD_BAND_7': -2.5013298988342285,\n",
              "    'RADIANCE_ADD_BAND_8': -55.186920166015625,\n",
              "    'RADIANCE_ADD_BAND_9': -11.662489891052246,\n",
              "    'RADIANCE_MULT_BAND_1': 0.012257000431418419,\n",
              "    'RADIANCE_MULT_BAND_10': 0.00033420001273043454,\n",
              "    'RADIANCE_MULT_BAND_11': 0.00033420001273043454,\n",
              "    'RADIANCE_MULT_BAND_2': 0.012551000341773033,\n",
              "    'RADIANCE_MULT_BAND_3': 0.011566000059247017,\n",
              "    'RADIANCE_MULT_BAND_4': 0.009752700105309486,\n",
              "    'RADIANCE_MULT_BAND_5': 0.005968200042843819,\n",
              "    'RADIANCE_MULT_BAND_6': 0.0014842000091448426,\n",
              "    'RADIANCE_MULT_BAND_7': 0.0005002699908800423,\n",
              "    'RADIANCE_MULT_BAND_8': 0.011037000454962254,\n",
              "    'RADIANCE_MULT_BAND_9': 0.002332499949261546,\n",
              "    'REFLECTANCE_ADD_BAND_1': -0.10000000149011612,\n",
              "    'REFLECTANCE_ADD_BAND_2': -0.10000000149011612,\n",
              "    'REFLECTANCE_ADD_BAND_3': -0.10000000149011612,\n",
              "    'REFLECTANCE_ADD_BAND_4': -0.10000000149011612,\n",
              "    'REFLECTANCE_ADD_BAND_5': -0.10000000149011612,\n",
              "    'REFLECTANCE_ADD_BAND_6': -0.10000000149011612,\n",
              "    'REFLECTANCE_ADD_BAND_7': -0.10000000149011612,\n",
              "    'REFLECTANCE_ADD_BAND_8': -0.10000000149011612,\n",
              "    'REFLECTANCE_ADD_BAND_9': -0.10000000149011612,\n",
              "    'REFLECTANCE_MULT_BAND_1': 1.9999999494757503e-05,\n",
              "    'REFLECTANCE_MULT_BAND_2': 1.9999999494757503e-05,\n",
              "    'REFLECTANCE_MULT_BAND_3': 1.9999999494757503e-05,\n",
              "    'REFLECTANCE_MULT_BAND_4': 1.9999999494757503e-05,\n",
              "    'REFLECTANCE_MULT_BAND_5': 1.9999999494757503e-05,\n",
              "    'REFLECTANCE_MULT_BAND_6': 1.9999999494757503e-05,\n",
              "    'REFLECTANCE_MULT_BAND_7': 1.9999999494757503e-05,\n",
              "    'REFLECTANCE_MULT_BAND_8': 1.9999999494757503e-05,\n",
              "    'REFLECTANCE_MULT_BAND_9': 1.9999999494757503e-05,\n",
              "    'REFLECTIVE_LINES': 8021,\n",
              "    'REFLECTIVE_SAMPLES': 7901,\n",
              "    'REQUEST_ID': '0501703064466_00015',\n",
              "    'RESAMPLING_OPTION': 'CUBIC_CONVOLUTION',\n",
              "    'RLUT_FILE_NAME': 'LC08RLUT_20130211_20150302_01_11.h5',\n",
              "    'ROLL_ANGLE': -0.0010000000474974513,\n",
              "    'SATURATION_BAND_1': 'N',\n",
              "    'SATURATION_BAND_2': 'N',\n",
              "    'SATURATION_BAND_3': 'N',\n",
              "    'SATURATION_BAND_4': 'N',\n",
              "    'SATURATION_BAND_5': 'N',\n",
              "    'SATURATION_BAND_6': 'N',\n",
              "    'SATURATION_BAND_7': 'N',\n",
              "    'SATURATION_BAND_8': 'N',\n",
              "    'SATURATION_BAND_9': 'N',\n",
              "    'SCENE_CENTER_TIME': '15:27:00.8378450Z',\n",
              "    'SENSOR_ID': 'OLI_TIRS',\n",
              "    'SPACECRAFT_ID': 'LANDSAT_8',\n",
              "    'STATION_ID': 'LGN',\n",
              "    'SUN_AZIMUTH': 135.15830993652344,\n",
              "    'SUN_ELEVATION': 64.10098266601562,\n",
              "    'TARGET_WRS_PATH': 12,\n",
              "    'TARGET_WRS_ROW': 32,\n",
              "    'THERMAL_LINES': 8021,\n",
              "    'THERMAL_SAMPLES': 7901,\n",
              "    'TIRS_SSM_MODEL': 'ACTUAL',\n",
              "    'TIRS_SSM_POSITION_STATUS': 'NOMINAL',\n",
              "    'TIRS_STRAY_LIGHT_CORRECTION_SOURCE': 'TIRS',\n",
              "    'TRUNCATION_OLI': 'UPPER',\n",
              "    'UTM_ZONE': 19,\n",
              "    'WRS_PATH': 12,\n",
              "    'WRS_ROW': 32,\n",
              "    'google:registration_count': 6,\n",
              "    'google:registration_offset_x': -36.6876220703125,\n",
              "    'google:registration_offset_y': -56.86767578125,\n",
              "    'google:registration_ratio': 0.5454545617103577,\n",
              "    'system:asset_size': 1158356503,\n",
              "    'system:footprint': {'coordinates': [[-71.0709760466986,\n",
              "       39.28265317440194],\n",
              "      [-70.97072419208075, 39.26271854152181],\n",
              "      [-70.93102945848031, 39.383453315155194],\n",
              "      [-70.84777632032781, 39.63553348523867],\n",
              "      [-70.76901368309369, 39.87250537635731],\n",
              "      [-70.71026040243477, 40.04838305318394],\n",
              "      [-70.67585197222857, 40.151047851216866],\n",
              "      [-70.57898404112208, 40.43861843966511],\n",
              "      [-70.50332201317615, 40.661775923831975],\n",
              "      [-70.423325478226, 40.89635489717436],\n",
              "      [-70.39553156665752, 40.97763482194793],\n",
              "      [-70.88394499634742, 41.07224514637802],\n",
              "      [-71.63702408072675, 41.213506817889716],\n",
              "      [-72.39305081451079, 41.34971983106129],\n",
              "      [-72.60686905553351, 41.38722510372101],\n",
              "      [-72.74715041108152, 40.931459042975106],\n",
              "      [-72.87473044147877, 40.51195504094875],\n",
              "      [-73.00092047980895, 40.09236067327626],\n",
              "      [-73.12655143542194, 39.67002786359109],\n",
              "      [-72.2932978088261, 39.51795813104644],\n",
              "      [-71.36927472069738, 39.34142477674316],\n",
              "      [-71.0709760466986, 39.28265317440194]],\n",
              "     'type': 'LinearRing'},\n",
              "    'system:index': 'LC08_012032_20140521',\n",
              "    'system:time_start': 1400686020840},\n",
              "   'type': 'Image',\n",
              "   'version': 1497557052062000.0},\n",
              "  {'bands': [{'crs': 'EPSG:32619',\n",
              "     'crs_transform': [30, 0, 144885, 0, -30, 4588215],\n",
              "     'data_type': {'max': 65535,\n",
              "      'min': 0,\n",
              "      'precision': 'int',\n",
              "      'type': 'PixelType'},\n",
              "     'dimensions': [7901, 8021],\n",
              "     'id': 'B1'},\n",
              "    {'crs': 'EPSG:32619',\n",
              "     'crs_transform': [30, 0, 144885, 0, -30, 4588215],\n",
              "     'data_type': {'max': 65535,\n",
              "      'min': 0,\n",
              "      'precision': 'int',\n",
              "      'type': 'PixelType'},\n",
              "     'dimensions': [7901, 8021],\n",
              "     'id': 'B2'},\n",
              "    {'crs': 'EPSG:32619',\n",
              "     'crs_transform': [30, 0, 144885, 0, -30, 4588215],\n",
              "     'data_type': {'max': 65535,\n",
              "      'min': 0,\n",
              "      'precision': 'int',\n",
              "      'type': 'PixelType'},\n",
              "     'dimensions': [7901, 8021],\n",
              "     'id': 'B3'},\n",
              "    {'crs': 'EPSG:32619',\n",
              "     'crs_transform': [30, 0, 144885, 0, -30, 4588215],\n",
              "     'data_type': {'max': 65535,\n",
              "      'min': 0,\n",
              "      'precision': 'int',\n",
              "      'type': 'PixelType'},\n",
              "     'dimensions': [7901, 8021],\n",
              "     'id': 'B4'},\n",
              "    {'crs': 'EPSG:32619',\n",
              "     'crs_transform': [30, 0, 144885, 0, -30, 4588215],\n",
              "     'data_type': {'max': 65535,\n",
              "      'min': 0,\n",
              "      'precision': 'int',\n",
              "      'type': 'PixelType'},\n",
              "     'dimensions': [7901, 8021],\n",
              "     'id': 'B5'},\n",
              "    {'crs': 'EPSG:32619',\n",
              "     'crs_transform': [30, 0, 144885, 0, -30, 4588215],\n",
              "     'data_type': {'max': 65535,\n",
              "      'min': 0,\n",
              "      'precision': 'int',\n",
              "      'type': 'PixelType'},\n",
              "     'dimensions': [7901, 8021],\n",
              "     'id': 'B6'},\n",
              "    {'crs': 'EPSG:32619',\n",
              "     'crs_transform': [30, 0, 144885, 0, -30, 4588215],\n",
              "     'data_type': {'max': 65535,\n",
              "      'min': 0,\n",
              "      'precision': 'int',\n",
              "      'type': 'PixelType'},\n",
              "     'dimensions': [7901, 8021],\n",
              "     'id': 'B7'},\n",
              "    {'crs': 'EPSG:32619',\n",
              "     'crs_transform': [15, 0, 144892.5, 0, -15, 4588207.5],\n",
              "     'data_type': {'max': 65535,\n",
              "      'min': 0,\n",
              "      'precision': 'int',\n",
              "      'type': 'PixelType'},\n",
              "     'dimensions': [15801, 16041],\n",
              "     'id': 'B8'},\n",
              "    {'crs': 'EPSG:32619',\n",
              "     'crs_transform': [30, 0, 144885, 0, -30, 4588215],\n",
              "     'data_type': {'max': 65535,\n",
              "      'min': 0,\n",
              "      'precision': 'int',\n",
              "      'type': 'PixelType'},\n",
              "     'dimensions': [7901, 8021],\n",
              "     'id': 'B9'},\n",
              "    {'crs': 'EPSG:32619',\n",
              "     'crs_transform': [30, 0, 144885, 0, -30, 4588215],\n",
              "     'data_type': {'max': 65535,\n",
              "      'min': 0,\n",
              "      'precision': 'int',\n",
              "      'type': 'PixelType'},\n",
              "     'dimensions': [7901, 8021],\n",
              "     'id': 'B10'},\n",
              "    {'crs': 'EPSG:32619',\n",
              "     'crs_transform': [30, 0, 144885, 0, -30, 4588215],\n",
              "     'data_type': {'max': 65535,\n",
              "      'min': 0,\n",
              "      'precision': 'int',\n",
              "      'type': 'PixelType'},\n",
              "     'dimensions': [7901, 8021],\n",
              "     'id': 'B11'},\n",
              "    {'crs': 'EPSG:32619',\n",
              "     'crs_transform': [30, 0, 144885, 0, -30, 4588215],\n",
              "     'data_type': {'max': 65535,\n",
              "      'min': 0,\n",
              "      'precision': 'int',\n",
              "      'type': 'PixelType'},\n",
              "     'dimensions': [7901, 8021],\n",
              "     'id': 'BQA'}],\n",
              "   'id': 'LANDSAT/LC08/C01/T1/LC08_012032_20140606',\n",
              "   'properties': {'BPF_NAME_OLI': 'LO8BPF20140606151351_20140606153803.02',\n",
              "    'BPF_NAME_TIRS': 'LT8BPF20140606150957_20140606153856.02',\n",
              "    'CLOUD_COVER': 4.150000095367432,\n",
              "    'CLOUD_COVER_LAND': 12.229999542236328,\n",
              "    'COLLECTION_CATEGORY': 'T1',\n",
              "    'COLLECTION_NUMBER': 1,\n",
              "    'CPF_NAME': 'LC08CPF_20140401_20140630_01.01',\n",
              "    'DATA_TYPE': 'L1TP',\n",
              "    'DATE_ACQUIRED': '2014-06-06',\n",
              "    'DATUM': 'WGS84',\n",
              "    'EARTH_SUN_DISTANCE': 1.0147498846054077,\n",
              "    'ELEVATION_SOURCE': 'GLS2000',\n",
              "    'ELLIPSOID': 'WGS84',\n",
              "    'FILE_DATE': 1488684512000,\n",
              "    'GEOMETRIC_RMSE_MODEL': 7.294000148773193,\n",
              "    'GEOMETRIC_RMSE_MODEL_X': 4.741000175476074,\n",
              "    'GEOMETRIC_RMSE_MODEL_Y': 5.543000221252441,\n",
              "    'GEOMETRIC_RMSE_VERIFY': 6.593999862670898,\n",
              "    'GRID_CELL_SIZE_PANCHROMATIC': 15,\n",
              "    'GRID_CELL_SIZE_REFLECTIVE': 30,\n",
              "    'GRID_CELL_SIZE_THERMAL': 30,\n",
              "    'GROUND_CONTROL_POINTS_MODEL': 178,\n",
              "    'GROUND_CONTROL_POINTS_VERIFY': 35,\n",
              "    'GROUND_CONTROL_POINTS_VERSION': 4,\n",
              "    'IMAGE_QUALITY_OLI': 9,\n",
              "    'IMAGE_QUALITY_TIRS': 9,\n",
              "    'K1_CONSTANT_BAND_10': 774.8853149414062,\n",
              "    'K1_CONSTANT_BAND_11': 480.8883056640625,\n",
              "    'K2_CONSTANT_BAND_10': 1321.078857421875,\n",
              "    'K2_CONSTANT_BAND_11': 1201.1441650390625,\n",
              "    'LANDSAT_PRODUCT_ID': 'LC08_L1TP_012032_20140606_20170305_01_T1',\n",
              "    'LANDSAT_SCENE_ID': 'LC80120322014157LGN01',\n",
              "    'MAP_PROJECTION': 'UTM',\n",
              "    'NADIR_OFFNADIR': 'NADIR',\n",
              "    'ORIENTATION': 'NORTH_UP',\n",
              "    'PANCHROMATIC_LINES': 16041,\n",
              "    'PANCHROMATIC_SAMPLES': 15801,\n",
              "    'PROCESSING_SOFTWARE_VERSION': 'LPGS_2.7.0',\n",
              "    'RADIANCE_ADD_BAND_1': -60.96699905395508,\n",
              "    'RADIANCE_ADD_BAND_10': 0.10000000149011612,\n",
              "    'RADIANCE_ADD_BAND_11': 0.10000000149011612,\n",
              "    'RADIANCE_ADD_BAND_2': -62.43095016479492,\n",
              "    'RADIANCE_ADD_BAND_3': -57.52959060668945,\n",
              "    'RADIANCE_ADD_BAND_4': -48.51219177246094,\n",
              "    'RADIANCE_ADD_BAND_5': -29.687040328979492,\n",
              "    'RADIANCE_ADD_BAND_6': -7.382900238037109,\n",
              "    'RADIANCE_ADD_BAND_7': -2.4884300231933594,\n",
              "    'RADIANCE_ADD_BAND_8': -54.90245056152344,\n",
              "    'RADIANCE_ADD_BAND_9': -11.602370262145996,\n",
              "    'RADIANCE_MULT_BAND_1': 0.012192999944090843,\n",
              "    'RADIANCE_MULT_BAND_10': 0.00033420001273043454,\n",
              "    'RADIANCE_MULT_BAND_11': 0.00033420001273043454,\n",
              "    'RADIANCE_MULT_BAND_2': 0.01248599961400032,\n",
              "    'RADIANCE_MULT_BAND_3': 0.011505999602377415,\n",
              "    'RADIANCE_MULT_BAND_4': 0.009702400304377079,\n",
              "    'RADIANCE_MULT_BAND_5': 0.005937399808317423,\n",
              "    'RADIANCE_MULT_BAND_6': 0.001476599951274693,\n",
              "    'RADIANCE_MULT_BAND_7': 0.0004976899945177138,\n",
              "    'RADIANCE_MULT_BAND_8': 0.010979999788105488,\n",
              "    'RADIANCE_MULT_BAND_9': 0.0023205000907182693,\n",
              "    'REFLECTANCE_ADD_BAND_1': -0.10000000149011612,\n",
              "    'REFLECTANCE_ADD_BAND_2': -0.10000000149011612,\n",
              "    'REFLECTANCE_ADD_BAND_3': -0.10000000149011612,\n",
              "    'REFLECTANCE_ADD_BAND_4': -0.10000000149011612,\n",
              "    'REFLECTANCE_ADD_BAND_5': -0.10000000149011612,\n",
              "    'REFLECTANCE_ADD_BAND_6': -0.10000000149011612,\n",
              "    'REFLECTANCE_ADD_BAND_7': -0.10000000149011612,\n",
              "    'REFLECTANCE_ADD_BAND_8': -0.10000000149011612,\n",
              "    'REFLECTANCE_ADD_BAND_9': -0.10000000149011612,\n",
              "    'REFLECTANCE_MULT_BAND_1': 1.9999999494757503e-05,\n",
              "    'REFLECTANCE_MULT_BAND_2': 1.9999999494757503e-05,\n",
              "    'REFLECTANCE_MULT_BAND_3': 1.9999999494757503e-05,\n",
              "    'REFLECTANCE_MULT_BAND_4': 1.9999999494757503e-05,\n",
              "    'REFLECTANCE_MULT_BAND_5': 1.9999999494757503e-05,\n",
              "    'REFLECTANCE_MULT_BAND_6': 1.9999999494757503e-05,\n",
              "    'REFLECTANCE_MULT_BAND_7': 1.9999999494757503e-05,\n",
              "    'REFLECTANCE_MULT_BAND_8': 1.9999999494757503e-05,\n",
              "    'REFLECTANCE_MULT_BAND_9': 1.9999999494757503e-05,\n",
              "    'REFLECTIVE_LINES': 8021,\n",
              "    'REFLECTIVE_SAMPLES': 7901,\n",
              "    'REQUEST_ID': '0501703043419_00015',\n",
              "    'RESAMPLING_OPTION': 'CUBIC_CONVOLUTION',\n",
              "    'RLUT_FILE_NAME': 'LC08RLUT_20130211_20150302_01_11.h5',\n",
              "    'ROLL_ANGLE': -0.0010000000474974513,\n",
              "    'SATURATION_BAND_1': 'N',\n",
              "    'SATURATION_BAND_2': 'N',\n",
              "    'SATURATION_BAND_3': 'Y',\n",
              "    'SATURATION_BAND_4': 'N',\n",
              "    'SATURATION_BAND_5': 'Y',\n",
              "    'SATURATION_BAND_6': 'Y',\n",
              "    'SATURATION_BAND_7': 'Y',\n",
              "    'SATURATION_BAND_8': 'N',\n",
              "    'SATURATION_BAND_9': 'N',\n",
              "    'SCENE_CENTER_TIME': '15:27:10.1268960Z',\n",
              "    'SENSOR_ID': 'OLI_TIRS',\n",
              "    'SPACECRAFT_ID': 'LANDSAT_8',\n",
              "    'STATION_ID': 'LGN',\n",
              "    'SUN_AZIMUTH': 130.8376007080078,\n",
              "    'SUN_ELEVATION': 65.76978302001953,\n",
              "    'TARGET_WRS_PATH': 12,\n",
              "    'TARGET_WRS_ROW': 32,\n",
              "    'THERMAL_LINES': 8021,\n",
              "    'THERMAL_SAMPLES': 7901,\n",
              "    'TIRS_SSM_MODEL': 'ACTUAL',\n",
              "    'TIRS_SSM_POSITION_STATUS': 'NOMINAL',\n",
              "    'TIRS_STRAY_LIGHT_CORRECTION_SOURCE': 'TIRS',\n",
              "    'TRUNCATION_OLI': 'UPPER',\n",
              "    'UTM_ZONE': 19,\n",
              "    'WRS_PATH': 12,\n",
              "    'WRS_ROW': 32,\n",
              "    'google:registration_count': 5,\n",
              "    'google:registration_offset_x': -350.68212890625,\n",
              "    'google:registration_offset_y': 79.388671875,\n",
              "    'google:registration_ratio': 0.625,\n",
              "    'system:asset_size': 1071144432,\n",
              "    'system:footprint': {'coordinates': [[-72.5124161816415, 41.3692336710775],\n",
              "      [-72.61656054543366, 41.3874362586179],\n",
              "      [-72.77323557396193, 40.87812718216725],\n",
              "      [-72.89501982289909, 40.47723016918688],\n",
              "      [-73.01553867898149, 40.07625136965415],\n",
              "      [-73.13624912048739, 39.67040345203188],\n",
              "      [-73.12380087818067, 39.66812828322863],\n",
              "      [-72.88170669202817, 39.62460847381735],\n",
              "      [-71.62271093228294, 39.38909429339407],\n",
              "      [-70.98500955146, 39.2639023975184],\n",
              "      [-70.980524018563, 39.26311136131096],\n",
              "      [-70.89505108800508, 39.52249041793195],\n",
              "      [-70.820849756532, 39.746404640467865],\n",
              "      [-70.75505971133418, 39.94392849895599],\n",
              "      [-70.646948515904, 40.266595816204116],\n",
              "      [-70.57863455494996, 40.469027047411146],\n",
              "      [-70.51643587556313, 40.6524396193729],\n",
              "      [-70.43810742881367, 40.882142677995496],\n",
              "      [-70.40536756105031, 40.97783026476474],\n",
              "      [-70.54117122640875, 41.004378292333435],\n",
              "      [-71.52425434414029, 41.19110940981288],\n",
              "      [-72.5124161816415, 41.3692336710775]],\n",
              "     'type': 'LinearRing'},\n",
              "    'system:index': 'LC08_012032_20140606',\n",
              "    'system:time_start': 1402068430130},\n",
              "   'type': 'Image',\n",
              "   'version': 1497587390071000.0},\n",
              "  {'bands': [{'crs': 'EPSG:32619',\n",
              "     'crs_transform': [30, 0, 146085, 0, -30, 4588215],\n",
              "     'data_type': {'max': 65535,\n",
              "      'min': 0,\n",
              "      'precision': 'int',\n",
              "      'type': 'PixelType'},\n",
              "     'dimensions': [7901, 8021],\n",
              "     'id': 'B1'},\n",
              "    {'crs': 'EPSG:32619',\n",
              "     'crs_transform': [30, 0, 146085, 0, -30, 4588215],\n",
              "     'data_type': {'max': 65535,\n",
              "      'min': 0,\n",
              "      'precision': 'int',\n",
              "      'type': 'PixelType'},\n",
              "     'dimensions': [7901, 8021],\n",
              "     'id': 'B2'},\n",
              "    {'crs': 'EPSG:32619',\n",
              "     'crs_transform': [30, 0, 146085, 0, -30, 4588215],\n",
              "     'data_type': {'max': 65535,\n",
              "      'min': 0,\n",
              "      'precision': 'int',\n",
              "      'type': 'PixelType'},\n",
              "     'dimensions': [7901, 8021],\n",
              "     'id': 'B3'},\n",
              "    {'crs': 'EPSG:32619',\n",
              "     'crs_transform': [30, 0, 146085, 0, -30, 4588215],\n",
              "     'data_type': {'max': 65535,\n",
              "      'min': 0,\n",
              "      'precision': 'int',\n",
              "      'type': 'PixelType'},\n",
              "     'dimensions': [7901, 8021],\n",
              "     'id': 'B4'},\n",
              "    {'crs': 'EPSG:32619',\n",
              "     'crs_transform': [30, 0, 146085, 0, -30, 4588215],\n",
              "     'data_type': {'max': 65535,\n",
              "      'min': 0,\n",
              "      'precision': 'int',\n",
              "      'type': 'PixelType'},\n",
              "     'dimensions': [7901, 8021],\n",
              "     'id': 'B5'},\n",
              "    {'crs': 'EPSG:32619',\n",
              "     'crs_transform': [30, 0, 146085, 0, -30, 4588215],\n",
              "     'data_type': {'max': 65535,\n",
              "      'min': 0,\n",
              "      'precision': 'int',\n",
              "      'type': 'PixelType'},\n",
              "     'dimensions': [7901, 8021],\n",
              "     'id': 'B6'},\n",
              "    {'crs': 'EPSG:32619',\n",
              "     'crs_transform': [30, 0, 146085, 0, -30, 4588215],\n",
              "     'data_type': {'max': 65535,\n",
              "      'min': 0,\n",
              "      'precision': 'int',\n",
              "      'type': 'PixelType'},\n",
              "     'dimensions': [7901, 8021],\n",
              "     'id': 'B7'},\n",
              "    {'crs': 'EPSG:32619',\n",
              "     'crs_transform': [15, 0, 146092.5, 0, -15, 4588207.5],\n",
              "     'data_type': {'max': 65535,\n",
              "      'min': 0,\n",
              "      'precision': 'int',\n",
              "      'type': 'PixelType'},\n",
              "     'dimensions': [15801, 16041],\n",
              "     'id': 'B8'},\n",
              "    {'crs': 'EPSG:32619',\n",
              "     'crs_transform': [30, 0, 146085, 0, -30, 4588215],\n",
              "     'data_type': {'max': 65535,\n",
              "      'min': 0,\n",
              "      'precision': 'int',\n",
              "      'type': 'PixelType'},\n",
              "     'dimensions': [7901, 8021],\n",
              "     'id': 'B9'},\n",
              "    {'crs': 'EPSG:32619',\n",
              "     'crs_transform': [30, 0, 146085, 0, -30, 4588215],\n",
              "     'data_type': {'max': 65535,\n",
              "      'min': 0,\n",
              "      'precision': 'int',\n",
              "      'type': 'PixelType'},\n",
              "     'dimensions': [7901, 8021],\n",
              "     'id': 'B10'},\n",
              "    {'crs': 'EPSG:32619',\n",
              "     'crs_transform': [30, 0, 146085, 0, -30, 4588215],\n",
              "     'data_type': {'max': 65535,\n",
              "      'min': 0,\n",
              "      'precision': 'int',\n",
              "      'type': 'PixelType'},\n",
              "     'dimensions': [7901, 8021],\n",
              "     'id': 'B11'},\n",
              "    {'crs': 'EPSG:32619',\n",
              "     'crs_transform': [30, 0, 146085, 0, -30, 4588215],\n",
              "     'data_type': {'max': 65535,\n",
              "      'min': 0,\n",
              "      'precision': 'int',\n",
              "      'type': 'PixelType'},\n",
              "     'dimensions': [7901, 8021],\n",
              "     'id': 'BQA'}],\n",
              "   'id': 'LANDSAT/LC08/C01/T1/LC08_012032_20140622',\n",
              "   'properties': {'BPF_NAME_OLI': 'LO8BPF20140622151354_20140622153806.01',\n",
              "    'BPF_NAME_TIRS': 'LT8BPF20140622151000_20140622153859.01',\n",
              "    'CLOUD_COVER': 36.18000030517578,\n",
              "    'CLOUD_COVER_LAND': 1.809999942779541,\n",
              "    'COLLECTION_CATEGORY': 'T1',\n",
              "    'COLLECTION_NUMBER': 1,\n",
              "    'CPF_NAME': 'LC08CPF_20140401_20140630_01.01',\n",
              "    'DATA_TYPE': 'L1TP',\n",
              "    'DATE_ACQUIRED': '2014-06-22',\n",
              "    'DATUM': 'WGS84',\n",
              "    'EARTH_SUN_DISTANCE': 1.0163145065307617,\n",
              "    'ELEVATION_SOURCE': 'GLS2000',\n",
              "    'ELLIPSOID': 'WGS84',\n",
              "    'FILE_DATE': 1488663136000,\n",
              "    'GEOMETRIC_RMSE_MODEL': 7.922999858856201,\n",
              "    'GEOMETRIC_RMSE_MODEL_X': 4.609000205993652,\n",
              "    'GEOMETRIC_RMSE_MODEL_Y': 6.445000171661377,\n",
              "    'GEOMETRIC_RMSE_VERIFY': 5.441999912261963,\n",
              "    'GRID_CELL_SIZE_PANCHROMATIC': 15,\n",
              "    'GRID_CELL_SIZE_REFLECTIVE': 30,\n",
              "    'GRID_CELL_SIZE_THERMAL': 30,\n",
              "    'GROUND_CONTROL_POINTS_MODEL': 191,\n",
              "    'GROUND_CONTROL_POINTS_VERIFY': 33,\n",
              "    'GROUND_CONTROL_POINTS_VERSION': 4,\n",
              "    'IMAGE_QUALITY_OLI': 9,\n",
              "    'IMAGE_QUALITY_TIRS': 9,\n",
              "    'K1_CONSTANT_BAND_10': 774.8853149414062,\n",
              "    'K1_CONSTANT_BAND_11': 480.8883056640625,\n",
              "    'K2_CONSTANT_BAND_10': 1321.078857421875,\n",
              "    'K2_CONSTANT_BAND_11': 1201.1441650390625,\n",
              "    'LANDSAT_PRODUCT_ID': 'LC08_L1TP_012032_20140622_20170304_01_T1',\n",
              "    'LANDSAT_SCENE_ID': 'LC80120322014173LGN01',\n",
              "    'MAP_PROJECTION': 'UTM',\n",
              "    'NADIR_OFFNADIR': 'NADIR',\n",
              "    'ORIENTATION': 'NORTH_UP',\n",
              "    'PANCHROMATIC_LINES': 16041,\n",
              "    'PANCHROMATIC_SAMPLES': 15801,\n",
              "    'PROCESSING_SOFTWARE_VERSION': 'LPGS_2.7.0',\n",
              "    'RADIANCE_ADD_BAND_1': -60.7794303894043,\n",
              "    'RADIANCE_ADD_BAND_10': 0.10000000149011612,\n",
              "    'RADIANCE_ADD_BAND_11': 0.10000000149011612,\n",
              "    'RADIANCE_ADD_BAND_2': -62.2388801574707,\n",
              "    'RADIANCE_ADD_BAND_3': -57.35260009765625,\n",
              "    'RADIANCE_ADD_BAND_4': -48.36294174194336,\n",
              "    'RADIANCE_ADD_BAND_5': -29.59571075439453,\n",
              "    'RADIANCE_ADD_BAND_6': -7.360179901123047,\n",
              "    'RADIANCE_ADD_BAND_7': -2.4807798862457275,\n",
              "    'RADIANCE_ADD_BAND_8': -54.73353958129883,\n",
              "    'RADIANCE_ADD_BAND_9': -11.566670417785645,\n",
              "    'RADIANCE_MULT_BAND_1': 0.01215600036084652,\n",
              "    'RADIANCE_MULT_BAND_10': 0.00033420001273043454,\n",
              "    'RADIANCE_MULT_BAND_11': 0.00033420001273043454,\n",
              "    'RADIANCE_MULT_BAND_2': 0.01244799979031086,\n",
              "    'RADIANCE_MULT_BAND_3': 0.01147099956870079,\n",
              "    'RADIANCE_MULT_BAND_4': 0.009672599844634533,\n",
              "    'RADIANCE_MULT_BAND_5': 0.005919099785387516,\n",
              "    'RADIANCE_MULT_BAND_6': 0.0014720000326633453,\n",
              "    'RADIANCE_MULT_BAND_7': 0.0004961600061506033,\n",
              "    'RADIANCE_MULT_BAND_8': 0.010947000235319138,\n",
              "    'RADIANCE_MULT_BAND_9': 0.002313300035893917,\n",
              "    'REFLECTANCE_ADD_BAND_1': -0.10000000149011612,\n",
              "    'REFLECTANCE_ADD_BAND_2': -0.10000000149011612,\n",
              "    'REFLECTANCE_ADD_BAND_3': -0.10000000149011612,\n",
              "    'REFLECTANCE_ADD_BAND_4': -0.10000000149011612,\n",
              "    'REFLECTANCE_ADD_BAND_5': -0.10000000149011612,\n",
              "    'REFLECTANCE_ADD_BAND_6': -0.10000000149011612,\n",
              "    'REFLECTANCE_ADD_BAND_7': -0.10000000149011612,\n",
              "    'REFLECTANCE_ADD_BAND_8': -0.10000000149011612,\n",
              "    'REFLECTANCE_ADD_BAND_9': -0.10000000149011612,\n",
              "    'REFLECTANCE_MULT_BAND_1': 1.9999999494757503e-05,\n",
              "    'REFLECTANCE_MULT_BAND_2': 1.9999999494757503e-05,\n",
              "    'REFLECTANCE_MULT_BAND_3': 1.9999999494757503e-05,\n",
              "    'REFLECTANCE_MULT_BAND_4': 1.9999999494757503e-05,\n",
              "    'REFLECTANCE_MULT_BAND_5': 1.9999999494757503e-05,\n",
              "    'REFLECTANCE_MULT_BAND_6': 1.9999999494757503e-05,\n",
              "    'REFLECTANCE_MULT_BAND_7': 1.9999999494757503e-05,\n",
              "    'REFLECTANCE_MULT_BAND_8': 1.9999999494757503e-05,\n",
              "    'REFLECTANCE_MULT_BAND_9': 1.9999999494757503e-05,\n",
              "    'REFLECTIVE_LINES': 8021,\n",
              "    'REFLECTIVE_SAMPLES': 7901,\n",
              "    'REQUEST_ID': '0501703043278_00015',\n",
              "    'RESAMPLING_OPTION': 'CUBIC_CONVOLUTION',\n",
              "    'RLUT_FILE_NAME': 'LC08RLUT_20130211_20150302_01_11.h5',\n",
              "    'ROLL_ANGLE': -0.0010000000474974513,\n",
              "    'SATURATION_BAND_1': 'N',\n",
              "    'SATURATION_BAND_2': 'N',\n",
              "    'SATURATION_BAND_3': 'N',\n",
              "    'SATURATION_BAND_4': 'N',\n",
              "    'SATURATION_BAND_5': 'N',\n",
              "    'SATURATION_BAND_6': 'Y',\n",
              "    'SATURATION_BAND_7': 'Y',\n",
              "    'SATURATION_BAND_8': 'N',\n",
              "    'SATURATION_BAND_9': 'N',\n",
              "    'SCENE_CENTER_TIME': '15:27:13.4981680Z',\n",
              "    'SENSOR_ID': 'OLI_TIRS',\n",
              "    'SPACECRAFT_ID': 'LANDSAT_8',\n",
              "    'STATION_ID': 'LGN',\n",
              "    'SUN_AZIMUTH': 128.28732299804688,\n",
              "    'SUN_ELEVATION': 65.87274169921875,\n",
              "    'TARGET_WRS_PATH': 12,\n",
              "    'TARGET_WRS_ROW': 32,\n",
              "    'THERMAL_LINES': 8021,\n",
              "    'THERMAL_SAMPLES': 7901,\n",
              "    'TIRS_SSM_MODEL': 'ACTUAL',\n",
              "    'TIRS_SSM_POSITION_STATUS': 'NOMINAL',\n",
              "    'TIRS_STRAY_LIGHT_CORRECTION_SOURCE': 'TIRS',\n",
              "    'TRUNCATION_OLI': 'UPPER',\n",
              "    'UTM_ZONE': 19,\n",
              "    'WRS_PATH': 12,\n",
              "    'WRS_ROW': 32,\n",
              "    'google:registration_count': 4,\n",
              "    'google:registration_offset_x': 68.07403564453125,\n",
              "    'google:registration_offset_y': 100.00762939453125,\n",
              "    'google:registration_ratio': 0.25,\n",
              "    'system:asset_size': 1122190851,\n",
              "    'system:footprint': {'coordinates': [[-70.39240505669235,\n",
              "       40.97602531420106],\n",
              "      [-70.39244555705181, 40.97795347210258],\n",
              "      [-71.61696460557992, 41.21072231254466],\n",
              "      [-72.60281559930237, 41.38740776043677],\n",
              "      [-72.60667378363809, 41.37536009712929],\n",
              "      [-72.76449573449158, 40.862101717881664],\n",
              "      [-72.8845140813046, 40.466844886008545],\n",
              "      [-73.00330276503264, 40.07150840018495],\n",
              "      [-73.1226245404485, 39.670265605411274],\n",
              "      [-72.1153902132585, 39.4855738645516],\n",
              "      [-71.2859322419422, 39.326064560813414],\n",
              "      [-70.9669824215894, 39.26293914007981],\n",
              "      [-70.89078713977318, 39.49443987924554],\n",
              "      [-70.81474671720882, 39.724128120011784],\n",
              "      [-70.76746003631814, 39.866306095566145],\n",
              "      [-70.72243613593788, 40.00117540021108],\n",
              "      [-70.66099435310474, 40.18450488929499],\n",
              "      [-70.54861260486753, 40.51767388074664],\n",
              "      [-70.46950679668598, 40.75046588127333],\n",
              "      [-70.39240505669235, 40.97602531420106]],\n",
              "     'type': 'LinearRing'},\n",
              "    'system:index': 'LC08_012032_20140622',\n",
              "    'system:time_start': 1403450833500},\n",
              "   'type': 'Image',\n",
              "   'version': 1497588090826000.0}],\n",
              " 'id': 'LANDSAT/LC08/C01/T1',\n",
              " 'properties': {'date_range': [1365638400000, 1588809600000],\n",
              "  'description': '<p>Landsat 8 Collection 1 Tier 1 DN values, representing scaled, calibrated at-sensor radiance.</p><p>Landsat scenes with the highest available data quality\\nare placed into Tier 1 and are considered suitable for time-series processing\\nanalysis. Tier 1 includes Level-1 Precision Terrain (L1TP) processed data\\nthat have well-characterized radiometry and are inter-calibrated across the\\ndifferent Landsat sensors. The georegistration of Tier 1 scenes will be\\nconsistent and within prescribed tolerances [<=12 m root mean square error\\n(RMSE)]. All Tier 1 Landsat data can be considered consistent and\\ninter-calibrated (regardless of sensor) across the full collection. See more information\\n<a href=\"https://landsat.usgs.gov/landsat-collections\">in the USGS docs.</a></p><p>For more information, see <a\\nhref=\"https://www.usgs.gov/land-resources/nli/landsat/landsat-8-data-users-handbook\">\\nLandsat 8 Handbook</a></p><p><b>Revisit Interval</b><br>\\n  16 days\\n</p><p><b>Bands</b><table class=\"eecat\"><tr><th scope=\"col\">Name</th><th scope=\"col\">Resolution</th><th scope=\"col\">Wavelength</th><th scope=\"col\">Description</th></tr><tr><td>B1</td><td>\\n      30 meters\\n</td><td>0.43 - 0.45 µm</td><td><p>Coastal aerosol</p></td></tr><tr><td>B2</td><td>\\n      30 meters\\n</td><td>0.45 - 0.51 µm</td><td><p>Blue</p></td></tr><tr><td>B3</td><td>\\n      30 meters\\n</td><td>0.53 - 0.59 µm</td><td><p>Green</p></td></tr><tr><td>B4</td><td>\\n      30 meters\\n</td><td>0.64 - 0.67 µm</td><td><p>Red</p></td></tr><tr><td>B5</td><td>\\n      30 meters\\n</td><td>0.85 - 0.88 µm</td><td><p>Near infrared</p></td></tr><tr><td>B6</td><td>\\n      30 meters\\n</td><td>1.57 - 1.65 µm</td><td><p>Shortwave infrared 1</p></td></tr><tr><td>B7</td><td>\\n      30 meters\\n</td><td>2.11 - 2.29 µm</td><td><p>Shortwave infrared 2</p></td></tr><tr><td>B8</td><td>\\n      15 meters\\n</td><td>0.52 - 0.90 µm</td><td><p>Band 8 Panchromatic</p></td></tr><tr><td>B9</td><td>\\n      15 meters\\n</td><td>1.36 - 1.38 µm</td><td><p>Cirrus</p></td></tr><tr><td>B10</td><td>\\n      30 meters\\n</td><td>10.60 - 11.19 µm</td><td><p>Thermal infrared 1, resampled from 100m to 30m</p></td></tr><tr><td>B11</td><td>\\n      30 meters\\n</td><td>11.50 - 12.51 µm</td><td><p>Thermal infrared 2, resampled from 100m to 30m</p></td></tr><tr><td>BQA</td><td></td><td></td><td><p>Landsat Collection 1 QA Bitmask (<a href=\"https://www.usgs.gov/land-resources/nli/landsat/landsat-collection-1-level-1-quality-assessment-band\">See Landsat QA page</a>)</p></td></tr><tr><td colspan=100>\\n      Bitmask for BQA\\n<ul><li>\\n          Bit 0: Designated Fill\\n<ul><li>0: No</li><li>1: Yes</li></ul></li><li>\\n          Bit 1: Terrain Occlusion\\n<ul><li>0: No</li><li>1: Yes</li></ul></li><li>\\n          Bits 2-3: Radiometric Saturation\\n<ul><li>0: No bands contain saturation</li><li>1: 1-2 bands contain saturation</li><li>2: 3-4 bands contain saturation</li><li>3: 5 or more bands contain saturation</li></ul></li><li>\\n          Bit 4: Cloud\\n<ul><li>0: No</li><li>1: Yes</li></ul></li><li>\\n          Bits 5-6: Cloud Confidence\\n<ul><li>0: Not Determined / Condition does not exist.</li><li>1: Low, (0-33 percent confidence)</li><li>2: Medium, (34-66 percent confidence)</li><li>3: High, (67-100 percent confidence)</li></ul></li><li>\\n          Bits 7-8: Cloud Shadow Confidence\\n<ul><li>0: Not Determined / Condition does not exist.</li><li>1: Low, (0-33 percent confidence)</li><li>2: Medium, (34-66 percent confidence)</li><li>3: High, (67-100 percent confidence)</li></ul></li><li>\\n          Bits 9-10: Snow / Ice Confidence\\n<ul><li>0: Not Determined / Condition does not exist.</li><li>1: Low, (0-33 percent confidence)</li><li>2: Medium, (34-66 percent confidence)</li><li>3: High, (67-100 percent confidence)</li></ul></li><li>\\n          Bits 11-12: Cirrus Confidence\\n<ul><li>0: Not Determined / Condition does not exist.</li><li>1: Low, (0-33 percent confidence)</li><li>2: Medium, (34-66 percent confidence)</li><li>3: High, (67-100 percent confidence)</li></ul></li></ul></td></tr></table><p><b>Image Properties</b><table class=\"eecat\"><tr><th scope=\"col\">Name</th><th scope=\"col\">Type</th><th scope=\"col\">Description</th></tr><tr><td>BPF_NAME_OLI</td><td>STRING</td><td><p>The file name for the Bias Parameter File (BPF) used to generate the product, if applicable. This only applies to products that contain OLI bands.</p></td></tr><tr><td>BPF_NAME_TIRS</td><td>STRING</td><td><p>The file name for the Bias Parameter File (BPF) used to generate the product, if applicable. This only applies to products that contain TIRS bands.</p></td></tr><tr><td>CLOUD_COVER</td><td>DOUBLE</td><td><p>Percentage cloud cover, -1 = not calculated.</p></td></tr><tr><td>CLOUD_COVER_LAND</td><td>DOUBLE</td><td><p>Percentage cloud cover over land, -1 = not calculated.</p></td></tr><tr><td>COLLECTION_CATEGORY</td><td>STRING</td><td><p>Tier of scene. (T1 or T2)</p></td></tr><tr><td>COLLECTION_NUMBER</td><td>DOUBLE</td><td><p>Number of collection.</p></td></tr><tr><td>CPF_NAME</td><td>STRING</td><td><p>Calibration parameter file name.</p></td></tr><tr><td>DATA_TYPE</td><td>STRING</td><td><p>Data type identifier. (L1T or L1G)</p></td></tr><tr><td>DATE_ACQUIRED</td><td>STRING</td><td><p>Image acquisition date. &quot;YYYY-MM-DD&quot;</p></td></tr><tr><td>DATUM</td><td>STRING</td><td><p>Datum used in image creation.</p></td></tr><tr><td>EARTH_SUN_DISTANCE</td><td>DOUBLE</td><td><p>Earth sun distance in astronomical units (AU).</p></td></tr><tr><td>ELEVATION_SOURCE</td><td>STRING</td><td><p>Elevation model source used for standard terrain corrected (L1T) products.</p></td></tr><tr><td>ELLIPSOID</td><td>STRING</td><td><p>Ellipsoid used in image creation.</p></td></tr><tr><td>EPHEMERIS_TYPE</td><td>STRING</td><td><p>Ephemeris data type used to perform geometric correction. (Definitive or Predictive)</p></td></tr><tr><td>FILE_DATE</td><td>DOUBLE</td><td><p>File date in milliseconds since epoch.</p></td></tr><tr><td>GEOMETRIC_RMSE_MODEL</td><td>DOUBLE</td><td><p>Combined Root Mean Square Error (RMSE) of the geometric residuals\\n(metres) in both across-track and along-track directions\\nmeasured on the GCPs used in geometric precision correction.\\nNot present in L1G products.</p></td></tr><tr><td>GEOMETRIC_RMSE_MODEL_X</td><td>DOUBLE</td><td><p>RMSE of the X direction geometric residuals (in metres) measured\\non the GCPs used in geometric precision correction. Not present in\\nL1G products.</p></td></tr><tr><td>GEOMETRIC_RMSE_MODEL_Y</td><td>DOUBLE</td><td><p>RMSE of the Y direction geometric residuals (in metres) measured\\non the GCPs used in geometric precision correction. Not present in\\nL1G products.</p></td></tr><tr><td>GRID_CELL_SIZE_PANCHROMATIC</td><td>DOUBLE</td><td><p>Grid cell size used in creating the image for the panchromatic band.</p></td></tr><tr><td>GRID_CELL_SIZE_REFLECTIVE</td><td>DOUBLE</td><td><p>Grid cell size used in creating the image for the reflective band.</p></td></tr><tr><td>GRID_CELL_SIZE_THERMAL</td><td>DOUBLE</td><td><p>Grid cell size used in creating the image for the thermal band.</p></td></tr><tr><td>GROUND_CONTROL_POINTS_MODEL</td><td>DOUBLE</td><td><p>The number of ground control points used. Not used in L1GT products.\\nValues: 0 - 999 (0 is used for L1T products that have used\\nMulti-scene refinement).</p></td></tr><tr><td>GROUND_CONTROL_POINTS_VERSION</td><td>DOUBLE</td><td><p>The number of ground control points used in the verification of\\nthe terrain corrected product. Values: -1 to 1615 (-1 = not available)</p></td></tr><tr><td>IMAGE_QUALITY</td><td>DOUBLE</td><td><p>Image quality, 0 = worst, 9 = best, -1 = quality not calculated</p></td></tr><tr><td>IMAGE_QUALITY_OLI</td><td>DOUBLE</td><td><p>The composite image quality for the OLI bands. Values: 9 = Best. 1 = Worst. 0 = Image quality not calculated. This parameter is only present if OLI bands are present in the product.</p></td></tr><tr><td>IMAGE_QUALITY_TIRS</td><td>DOUBLE</td><td><p>The composite image quality for the TIRS bands. Values: 9 = Best. 1 = Worst. 0 = Image quality not calculated. This parameter is only present if OLI bands are present in the product.</p></td></tr><tr><td>K1_CONSTANT_BAND_10</td><td>DOUBLE</td><td><p>Calibration K1 constant for Band 10 radiance to temperature conversion.</p></td></tr><tr><td>K1_CONSTANT_BAND_11</td><td>DOUBLE</td><td><p>Calibration K1 constant for Band 11 radiance to temperature conversion.</p></td></tr><tr><td>K2_CONSTANT_BAND_10</td><td>DOUBLE</td><td><p>Calibration K2 constant for Band 10 radiance to temperature conversion.</p></td></tr><tr><td>K2_CONSTANT_BAND_11</td><td>DOUBLE</td><td><p>Calibration K2 constant for Band 11 radiance to temperature conversion.</p></td></tr><tr><td>LANDSAT_PRODUCT_ID</td><td>STRING</td><td><p>The naming convention of each Landsat Collection 1 Level-1 image based\\non acquisition parameters and processing parameters.</p><p>Format: LXSS_LLLL_PPPRRR_YYYYMMDD_yyyymmdd_CC_TX</p><ul><li>L = Landsat</li><li>X = Sensor (O = Operational Land Imager,\\nT = Thermal Infrared Sensor, C = Combined OLI/TIRS)</li><li>SS = Satellite (08 = Landsat 8)</li><li>LLLL = Processing Correction Level (L1TP = precision and terrain,\\nL1GT = systematic terrain, L1GS = systematic)</li><li>PPP = WRS Path</li><li>RRR = WRS Row</li><li>YYYYMMDD = Acquisition Date expressed in Year, Month, Day</li><li>yyyymmdd = Processing Date expressed in Year, Month, Day</li><li>CC = Collection Number (01)</li><li>TX = Collection Category (RT = Real Time, T1 = Tier 1, T2 = Tier 2)</li></ul></td></tr><tr><td>LANDSAT_SCENE_ID</td><td>STRING</td><td><p>The Pre-Collection naming convention of each image is based on acquisition\\nparameters. This was the naming convention used prior to Collection 1.</p><p>Format: LXSPPPRRRYYYYDDDGSIVV</p><ul><li>L = Landsat</li><li>X = Sensor (O = Operational Land Imager, T = Thermal Infrared Sensor, C = Combined OLI/TIRS)</li><li>S = Satellite (08 = Landsat 8)</li><li>PPP = WRS Path</li><li>RRR = WRS Row</li><li>YYYY = Year of Acquisition</li><li>DDD = Julian Day of Acquisition</li><li>GSI = Ground Station Identifier</li><li>VV = Version</li></ul></td></tr><tr><td>MAP_PROJECTION</td><td>STRING</td><td><p>Projection used to represent the 3-dimensional surface of the earth for the Level-1 product.</p></td></tr><tr><td>NADIR_OFFNADIR</td><td>STRING</td><td><p>Nadir or Off-Nadir condition of the scene.</p></td></tr><tr><td>ORIENTATION</td><td>STRING</td><td><p>Orientation used in creating the image. Values: NOMINAL = Nominal Path, NORTH_UP = North Up, TRUE_NORTH = True North, USER = User</p></td></tr><tr><td>PANCHROMATIC_LINES</td><td>DOUBLE</td><td><p>Number of product lines for the panchromatic band.</p></td></tr><tr><td>PANCHROMATIC_SAMPLES</td><td>DOUBLE</td><td><p>Number of product samples for the panchromatic bands.</p></td></tr><tr><td>PROCESSING_SOFTWARE_VERSION</td><td>STRING</td><td><p>Name and version of the processing software used to generate the L1 product.</p></td></tr><tr><td>RADIANCE_ADD_BAND_1</td><td>DOUBLE</td><td><p>Additive rescaling factor used to convert calibrated DN to radiance for Band 1.</p></td></tr><tr><td>RADIANCE_ADD_BAND_10</td><td>DOUBLE</td><td><p>Additive rescaling factor used to convert calibrated DN to radiance for Band 10.</p></td></tr><tr><td>RADIANCE_ADD_BAND_11</td><td>DOUBLE</td><td><p>Additive rescaling factor used to convert calibrated DN to radiance for Band 11.</p></td></tr><tr><td>RADIANCE_ADD_BAND_2</td><td>DOUBLE</td><td><p>Additive rescaling factor used to convert calibrated DN to radiance for Band 2.</p></td></tr><tr><td>RADIANCE_ADD_BAND_3</td><td>DOUBLE</td><td><p>Additive rescaling factor used to convert calibrated DN to radiance for Band 3.</p></td></tr><tr><td>RADIANCE_ADD_BAND_4</td><td>DOUBLE</td><td><p>Additive rescaling factor used to convert calibrated DN to radiance for Band 4.</p></td></tr><tr><td>RADIANCE_ADD_BAND_5</td><td>DOUBLE</td><td><p>Additive rescaling factor used to convert calibrated DN to radiance for Band 5.</p></td></tr><tr><td>RADIANCE_ADD_BAND_6</td><td>DOUBLE</td><td><p>Additive rescaling factor used to convert calibrated DN to radiance for Band 6.</p></td></tr><tr><td>RADIANCE_ADD_BAND_7</td><td>DOUBLE</td><td><p>Additive rescaling factor used to convert calibrated DN to radiance for Band 7.</p></td></tr><tr><td>RADIANCE_ADD_BAND_8</td><td>DOUBLE</td><td><p>Additive rescaling factor used to convert calibrated DN to radiance for Band 8.</p></td></tr><tr><td>RADIANCE_ADD_BAND_9</td><td>DOUBLE</td><td><p>Additive rescaling factor used to convert calibrated DN to radiance for Band 9.</p></td></tr><tr><td>RADIANCE_MULT_BAND_1</td><td>DOUBLE</td><td><p>Multiplicative rescaling factor used to convert calibrated Band 1 DN to radiance.</p></td></tr><tr><td>RADIANCE_MULT_BAND_10</td><td>DOUBLE</td><td><p>Multiplicative rescaling factor used to convert calibrated Band 10 DN to radiance.</p></td></tr><tr><td>RADIANCE_MULT_BAND_11</td><td>DOUBLE</td><td><p>Multiplicative rescaling factor used to convert calibrated Band 11 DN to radiance.</p></td></tr><tr><td>RADIANCE_MULT_BAND_2</td><td>DOUBLE</td><td><p>Multiplicative rescaling factor used to convert calibrated Band 2 DN to radiance.</p></td></tr><tr><td>RADIANCE_MULT_BAND_3</td><td>DOUBLE</td><td><p>Multiplicative rescaling factor used to convert calibrated Band 3 DN to radiance.</p></td></tr><tr><td>RADIANCE_MULT_BAND_4</td><td>DOUBLE</td><td><p>Multiplicative rescaling factor used to convert calibrated Band 4 DN to radiance.</p></td></tr><tr><td>RADIANCE_MULT_BAND_5</td><td>DOUBLE</td><td><p>Multiplicative rescaling factor used to convert calibrated Band 5 DN to radiance.</p></td></tr><tr><td>RADIANCE_MULT_BAND_6</td><td>DOUBLE</td><td><p>Multiplicative rescaling factor used to convert calibrated Band 6 DN to radiance.</p></td></tr><tr><td>RADIANCE_MULT_BAND_7</td><td>DOUBLE</td><td><p>Multiplicative rescaling factor used to convert calibrated Band 7 DN to radiance.</p></td></tr><tr><td>RADIANCE_MULT_BAND_8</td><td>DOUBLE</td><td><p>Multiplicative rescaling factor used to convert calibrated Band 8 DN to radiance.</p></td></tr><tr><td>RADIANCE_MULT_BAND_9</td><td>DOUBLE</td><td><p>Multiplicative rescaling factor used to convert calibrated Band 9 DN to radiance.</p></td></tr><tr><td>REFLECTANCE_ADD_BAND_1</td><td>DOUBLE</td><td><p>Additive rescaling factor used to convert calibrated Band 1 DN to reflectance.</p></td></tr><tr><td>REFLECTANCE_ADD_BAND_2</td><td>DOUBLE</td><td><p>Additive rescaling factor used to convert calibrated Band 2 DN to reflectance.</p></td></tr><tr><td>REFLECTANCE_ADD_BAND_3</td><td>DOUBLE</td><td><p>Additive rescaling factor used to convert calibrated Band 3 DN to reflectance.</p></td></tr><tr><td>REFLECTANCE_ADD_BAND_4</td><td>DOUBLE</td><td><p>Additive rescaling factor used to convert calibrated Band 4 DN to reflectance.</p></td></tr><tr><td>REFLECTANCE_ADD_BAND_5</td><td>DOUBLE</td><td><p>Additive rescaling factor used to convert calibrated Band 5 DN to reflectance.</p></td></tr><tr><td>REFLECTANCE_ADD_BAND_7</td><td>DOUBLE</td><td><p>Multiplicative factor used to convert calibrated Band 7 DN to reflectance.</p></td></tr><tr><td>REFLECTANCE_ADD_BAND_8</td><td>DOUBLE</td><td><p>Multiplicative factor used to convert calibrated Band 8 DN to reflectance.</p></td></tr><tr><td>REFLECTANCE_ADD_BAND_9</td><td>DOUBLE</td><td><p>Minimum achievable spectral reflectance value for Band 8.</p></td></tr><tr><td>REFLECTANCE_MULT_BAND_1</td><td>DOUBLE</td><td><p>Multiplicative factor used to convert calibrated Band 1 DN to reflectance.</p></td></tr><tr><td>REFLECTANCE_MULT_BAND_2</td><td>DOUBLE</td><td><p>Multiplicative factor used to convert calibrated Band 2 DN to reflectance.</p></td></tr><tr><td>REFLECTANCE_MULT_BAND_3</td><td>DOUBLE</td><td><p>Multiplicative factor used to convert calibrated Band 3 DN to reflectance.</p></td></tr><tr><td>REFLECTANCE_MULT_BAND_4</td><td>DOUBLE</td><td><p>Multiplicative factor used to convert calibrated Band 4 DN to reflectance.</p></td></tr><tr><td>REFLECTANCE_MULT_BAND_5</td><td>DOUBLE</td><td><p>Multiplicative factor used to convert calibrated Band 5 DN to reflectance.</p></td></tr><tr><td>REFLECTANCE_MULT_BAND_6</td><td>DOUBLE</td><td><p>Multiplicative factor used to convert calibrated Band 6 DN to reflectance.</p></td></tr><tr><td>REFLECTANCE_MULT_BAND_7</td><td>DOUBLE</td><td><p>Multiplicative factor used to convert calibrated Band 7 DN to reflectance.</p></td></tr><tr><td>REFLECTANCE_MULT_BAND_8</td><td>DOUBLE</td><td><p>Multiplicative factor used to convert calibrated Band 8 DN to reflectance.</p></td></tr><tr><td>REFLECTANCE_MULT_BAND_9</td><td>DOUBLE</td><td><p>Multiplicative factor used to convert calibrated Band 9 DN to reflectance.</p></td></tr><tr><td>REFLECTIVE_LINES</td><td>DOUBLE</td><td><p>Number of product lines for the reflective bands.</p></td></tr><tr><td>REFLECTIVE_SAMPLES</td><td>DOUBLE</td><td><p>Number of product samples for the reflective bands.</p></td></tr><tr><td>REQUEST_ID</td><td>STRING</td><td><p>Request id, nnnyymmdd0000_0000</p><ul><li>nnn = node number</li><li>yy = year</li><li>mm = month</li><li>dd = day</li></ul></td></tr><tr><td>RESAMPLING_OPTION</td><td>STRING</td><td><p>Resampling option used in creating the image.</p></td></tr><tr><td>RLUT_FILE_NAME</td><td>STRING</td><td><p>The file name for the Response Linearization Lookup Table (RLUT) used to generate the product, if applicable.</p></td></tr><tr><td>ROLL_ANGLE</td><td>DOUBLE</td><td><p>The amount of spacecraft roll angle at the scene center.</p></td></tr><tr><td>SATURATION_BAND_1</td><td>STRING</td><td><p>Flag indicating saturated pixels for band 1 (&#39;Y&#39;/&#39;N&#39;)</p></td></tr><tr><td>SATURATION_BAND_10</td><td>STRING</td><td><p>Flag indicating saturated pixels for band 10 (&#39;Y&#39;/&#39;N&#39;)</p></td></tr><tr><td>SATURATION_BAND_11</td><td>STRING</td><td><p>Flag indicating saturated pixels for band 11 (&#39;Y&#39;/&#39;N&#39;)</p></td></tr><tr><td>SATURATION_BAND_2</td><td>STRING</td><td><p>Flag indicating saturated pixels for band 2 (&#39;Y&#39;/&#39;N&#39;)</p></td></tr><tr><td>SATURATION_BAND_3</td><td>STRING</td><td><p>Flag indicating saturated pixels for band 3 (&#39;Y&#39;/&#39;N&#39;)</p></td></tr><tr><td>SATURATION_BAND_4</td><td>STRING</td><td><p>Flag indicating saturated pixels for band 4 (&#39;Y&#39;/&#39;N&#39;)</p></td></tr><tr><td>SATURATION_BAND_5</td><td>STRING</td><td><p>Flag indicating saturated pixels for band 5 (&#39;Y&#39;/&#39;N&#39;)</p></td></tr><tr><td>SATURATION_BAND_6</td><td>STRING</td><td><p>Flag indicating saturated pixels for band 6 (&#39;Y&#39;/&#39;N&#39;)</p></td></tr><tr><td>SATURATION_BAND_7</td><td>STRING</td><td><p>Flag indicating saturated pixels for band 7 (&#39;Y&#39;/&#39;N&#39;)</p></td></tr><tr><td>SATURATION_BAND_8</td><td>STRING</td><td><p>Flag indicating saturated pixels for band 8 (&#39;Y&#39;/&#39;N&#39;)</p></td></tr><tr><td>SATURATION_BAND_9</td><td>STRING</td><td><p>Flag indicating saturated pixels for band 9 (&#39;Y&#39;/&#39;N&#39;)</p></td></tr><tr><td>SCENE_CENTER_TIME</td><td>STRING</td><td><p>Scene center time of acquired image. HH:MM:SS.SSSSSSSZ</p><ul><li>HH = Hour (00-23)</li><li>MM = Minutes</li><li>SS.SSSSSSS = Fractional seconds</li><li>Z = &quot;Zulu&quot; time (same as GMT)</li></ul></td></tr><tr><td>SENSOR_ID</td><td>STRING</td><td><p>Sensor used to capture data.</p></td></tr><tr><td>SPACECRAFT_ID</td><td>STRING</td><td><p>Spacecraft identification.</p></td></tr><tr><td>STATION_ID</td><td>STRING</td><td><p>Ground Station/Organisation that received the data.</p></td></tr><tr><td>SUN_AZIMUTH</td><td>DOUBLE</td><td><p>Sun azimuth angle in degrees for the image center location at the image centre acquisition time.</p></td></tr><tr><td>SUN_ELEVATION</td><td>DOUBLE</td><td><p>Sun elevation angle in degrees for the image center location at the image centre acquisition time.</p></td></tr><tr><td>TARGET_WRS_PATH</td><td>DOUBLE</td><td><p>Nearest WRS-2 path to the line-of-sight scene center of the image.</p></td></tr><tr><td>TARGET_WRS_ROW</td><td>DOUBLE</td><td><p>Nearest WRS-2 row to the line-of-sight scene center of the image. Rows 880-889 and 990-999 are reserved for the polar regions where it is undefined in the WRS-2.</p></td></tr><tr><td>THERMAL_LINES</td><td>DOUBLE</td><td><p>Number of product lines for the thermal band.</p></td></tr><tr><td>THERMAL_SAMPLES</td><td>DOUBLE</td><td><p>Number of product samples for the thermal band.</p></td></tr><tr><td>TIRS_SSM_MODEL</td><td>STRING</td><td><p>Due to an anomalous condition on the Thermal Infrared\\nSensor (TIRS) Scene Select Mirror (SSM) encoder electronics,\\nthis field has been added to indicate which model was used to process the data.\\n(Actual, Preliminary, Final)</p></td></tr><tr><td>TIRS_SSM_POSITION_STATUS</td><td>STRING</td><td><p>TIRS SSM position status.</p></td></tr><tr><td>TIRS_STRAY_LIGHT_CORRECTION_SOURCE</td><td>STRING</td><td><p>TIRS stray light correction source.</p></td></tr><tr><td>TRUNCATION_OLI</td><td>STRING</td><td><p>Region of OLCI truncated.</p></td></tr><tr><td>UTM_ZONE</td><td>DOUBLE</td><td><p>UTM zone number used in product map projection.</p></td></tr><tr><td>WRS_PATH</td><td>DOUBLE</td><td><p>The WRS orbital path number (001 - 251).</p></td></tr><tr><td>WRS_ROW</td><td>DOUBLE</td><td><p>Landsat satellite WRS row (001-248).</p></td></tr></table><style>\\n  table.eecat {\\n  border: 1px solid black;\\n  border-collapse: collapse;\\n  font-size: 13px;\\n  }\\n  table.eecat td, tr, th {\\n  text-align: left; vertical-align: top;\\n  border: 1px solid gray; padding: 3px;\\n  }\\n  td.nobreak { white-space: nowrap; }\\n</style>',\n",
              "  'period': 0,\n",
              "  'product_tags': ['global',\n",
              "   'oli_tirs',\n",
              "   'l8',\n",
              "   'lc8',\n",
              "   'c1',\n",
              "   'tier1',\n",
              "   't1',\n",
              "   'radiance'],\n",
              "  'provider': 'USGS',\n",
              "  'provider_url': 'http://landsat.usgs.gov/',\n",
              "  'sample': 'https://mw1.google.com/ges/dd/images/LANDSAT_RAW_sample.png',\n",
              "  'source_tags': ['landsat', 'usgs'],\n",
              "  'system:visualization_0_bands': 'B4,B3,B2',\n",
              "  'system:visualization_0_max': '30000.0',\n",
              "  'system:visualization_0_min': '0.0',\n",
              "  'system:visualization_0_name': 'True Color (432)',\n",
              "  'system:visualization_1_bands': 'B5,B4,B3',\n",
              "  'system:visualization_1_max': '30000.0',\n",
              "  'system:visualization_1_min': '0.0',\n",
              "  'system:visualization_1_name': 'Near Infrared (543)',\n",
              "  'system:visualization_2_bands': 'B7,B5,B3',\n",
              "  'system:visualization_2_max': '30000.0',\n",
              "  'system:visualization_2_min': '0.0',\n",
              "  'system:visualization_2_name': 'Shortwave Infrared (753)',\n",
              "  'tags': ['landsat',\n",
              "   'usgs',\n",
              "   'global',\n",
              "   'oli_tirs',\n",
              "   'l8',\n",
              "   'lc8',\n",
              "   'c1',\n",
              "   'tier1',\n",
              "   't1',\n",
              "   'radiance'],\n",
              "  'thumb': 'https://mw1.google.com/ges/dd/images/LANDSAT_RAW_thumb.png',\n",
              "  'title': 'USGS Landsat 8 Collection 1 Tier 1 Raw Scenes',\n",
              "  'type_name': 'ImageCollection',\n",
              "  'visualization_0_bands': 'B4,B3,B2',\n",
              "  'visualization_0_max': '30000.0',\n",
              "  'visualization_0_min': '0.0',\n",
              "  'visualization_0_name': 'True Color (432)',\n",
              "  'visualization_1_bands': 'B5,B4,B3',\n",
              "  'visualization_1_max': '30000.0',\n",
              "  'visualization_1_min': '0.0',\n",
              "  'visualization_1_name': 'Near Infrared (543)',\n",
              "  'visualization_2_bands': 'B7,B5,B3',\n",
              "  'visualization_2_max': '30000.0',\n",
              "  'visualization_2_min': '0.0',\n",
              "  'visualization_2_name': 'Shortwave Infrared (753)'},\n",
              " 'type': 'ImageCollection',\n",
              " 'version': 1590065396867228}"
            ]
          },
          "metadata": {
            "tags": []
          },
          "execution_count": 16
        }
      ]
    },
    {
      "cell_type": "code",
      "metadata": {
        "id": "pW5iM4DyOTo8",
        "colab_type": "code",
        "outputId": "f057668b-0fdb-41c0-83cd-9702e0256afd",
        "colab": {
          "base_uri": "https://localhost:8080/",
          "height": 369
        }
      },
      "source": [
        "'''\n",
        "This is a procedure to extract some numerical information from the image. The histogram of a mostly near-coast\n",
        "water scene.\n",
        "'''\n",
        "\n",
        "ndwiPath45Row34_dict = ndwiPath45Row34.sample(numPixels = 10000).reduceColumns(ee.Reducer.toList().repeat(1), ['nd'])\n",
        "ndwiPath45Row34_list = ee.List(ndwiPath45Row34_dict.get('list'))\n",
        "ndwiPath45Row34_data = ndwiPath45Row34_list.getInfo()\n",
        "\n",
        "import matplotlib.pyplot as plt\n",
        "plt.hist(ndwiPath45Row34_data[0])"
      ],
      "execution_count": 7,
      "outputs": [
        {
          "output_type": "execute_result",
          "data": {
            "text/plain": [
              "(array([1.210e+02, 1.470e+02, 8.800e+01, 2.100e+01, 1.560e+02, 4.222e+03,\n",
              "        4.761e+03, 4.570e+02, 4.000e+00, 4.000e+00]),\n",
              " array([-0.57072189, -0.41931567, -0.26790945, -0.11650324,  0.03490298,\n",
              "         0.18630919,  0.33771541,  0.48912163,  0.64052784,  0.79193406,\n",
              "         0.94334028]),\n",
              " <a list of 10 Patch objects>)"
            ]
          },
          "metadata": {
            "tags": []
          },
          "execution_count": 7
        },
        {
          "output_type": "display_data",
          "data": {
            "image/png": "[encoded data removed]",
            "text/plain": [
              "<Figure size 432x288 with 1 Axes>"
            ]
          },
          "metadata": {
            "tags": [],
            "needs_background": "light"
          }
        }
      ]
    },
    {
      "cell_type": "code",
      "metadata": {
        "id": "HfVlXgNiO5NC",
        "colab_type": "code",
        "colab": {}
      },
      "source": [
        "def get_images(path_list, row_list, satellite, start_date, end_date, max_cloud_percentage):\n",
        "  coll = ee.ImageCollection(satellite).filterDate(start_date, end_date)\\\n",
        "            .filter(ee.Filter.inList('WRS_PATH', path_list))\\\n",
        "            .filter(ee.Filter.inList('WRS_ROW', row_list))\\\n",
        "            .filter(ee.Filter.lt('CLOUD_COVER', max_cloud_percentage))\n",
        "  image_ids = list(map(lambda x: x['id'], coll.getInfo()['features']))\n",
        "\n",
        "  images = list(map(lambda x: ee.Image(x), image_ids))\n",
        "\n",
        "  return images"
      ],
      "execution_count": 0,
      "outputs": []
    },
    {
      "cell_type": "code",
      "metadata": {
        "id": "0aiNGxcmZbJM",
        "colab_type": "code",
        "colab": {}
      },
      "source": [
        "p = [14]\n",
        "r = [32]\n",
        "sat = 'LANDSAT/LC08/C01/T1'\n",
        "sd = '2013-05-01'\n",
        "ed = '2020-05-01'\n",
        "cc= 10\n",
        "image_list = get_images(p, r, sat, sd, ed, cc)"
      ],
      "execution_count": 0,
      "outputs": []
    },
    {
      "cell_type": "code",
      "metadata": {
        "id": "eIxeSndUal6D",
        "colab_type": "code",
        "outputId": "9ec677ec-fd2c-42d9-f367-f7943946fbce",
        "colab": {
          "base_uri": "https://localhost:8080/",
          "height": 769
        }
      },
      "source": [
        "image0 = image_list[0]\n",
        "\n",
        "parameters = {'min': 0.0,\n",
        "              'max': 15000,\n",
        "              'dimensions': 768,\n",
        "              'bands': ['B4', 'B3', 'B2']\n",
        "}\n",
        "\n",
        "Image(url = image0.getThumbUrl(parameters))"
      ],
      "execution_count": 7,
      "outputs": [
        {
          "output_type": "execute_result",
          "data": {
            "text/html": [
              "<img src=\"https://earthengine.googleapis.com/v1alpha/projects/earthengine-legacy/thumbnails/f5c291a14fc8ae0135f18461202dcd9e-e728d005169dfa974c84d802e88ad0e7:getPixels\"/>"
            ],
            "text/plain": [
              "<IPython.core.display.Image object>"
            ]
          },
          "metadata": {
            "tags": []
          },
          "execution_count": 7
        }
      ]
    },
    {
      "cell_type": "code",
      "metadata": {
        "id": "6CLyd64Say1C",
        "colab_type": "code",
        "outputId": "b73d39d7-47ed-43e8-ae36-e24e5440246f",
        "colab": {
          "base_uri": "https://localhost:8080/",
          "height": 34
        }
      },
      "source": [
        "len(image_list)"
      ],
      "execution_count": 0,
      "outputs": [
        {
          "output_type": "execute_result",
          "data": {
            "text/plain": [
              "34"
            ]
          },
          "metadata": {
            "tags": []
          },
          "execution_count": 28
        }
      ]
    },
    {
      "cell_type": "code",
      "metadata": {
        "id": "ggsOtpGli3Rf",
        "colab_type": "code",
        "colab": {}
      },
      "source": [
        ""
      ],
      "execution_count": 0,
      "outputs": []
    },
    {
      "cell_type": "code",
      "metadata": {
        "id": "Gf280HuGuvEB",
        "colab_type": "code",
        "colab": {}
      },
      "source": [
        "def get_imagecollection(path_list, row_list, satellite, start_date, end_date, max_cloud_percentage):\n",
        "  coll = ee.ImageCollection(satellite).filterDate(start_date, end_date)\\\n",
        "            .filter(ee.Filter.inList('WRS_PATH', path_list))\\\n",
        "            .filter(ee.Filter.inList('WRS_ROW', row_list))\\\n",
        "            .filter(ee.Filter.lt('CLOUD_COVER', max_cloud_percentage))\n",
        "\n",
        "  return coll\n",
        "\n",
        "def addndvi(image):\n",
        "\treturn image.normalizedDifference(['B5','B4'])\n",
        " \n",
        "def conditional(image):\n",
        "\treturn ee.Algorithms.If(ee.Number(image.get('SUN_ELEVATION')).gt(40), image, ee.Image(0))"
      ],
      "execution_count": 0,
      "outputs": []
    },
    {
      "cell_type": "code",
      "metadata": {
        "id": "ThUdhIgOy7zq",
        "colab_type": "code",
        "colab": {}
      },
      "source": [
        "imagecollection = get_imagecollection(p, r, sat, sd, ed, cc)"
      ],
      "execution_count": 0,
      "outputs": []
    },
    {
      "cell_type": "code",
      "metadata": {
        "id": "3Rn-GXsbz7O7",
        "colab_type": "code",
        "colab": {}
      },
      "source": [
        "imgcollndvi = imagecollection.map(addndvi).limit(3).getInfo()"
      ],
      "execution_count": 0,
      "outputs": []
    },
    {
      "cell_type": "code",
      "metadata": {
        "id": "SJ013Gw62Hci",
        "colab_type": "code",
        "colab": {}
      },
      "source": [
        ""
      ],
      "execution_count": 0,
      "outputs": []
    },
    {
      "cell_type": "code",
      "metadata": {
        "id": "ZppCfnEV2ms0",
        "colab_type": "code",
        "outputId": "2a1899ab-a021-4d0d-cdde-3bb85208ad8b",
        "colab": {
          "base_uri": "https://localhost:8080/",
          "height": 34
        }
      },
      "source": [
        "type(image0)"
      ],
      "execution_count": 0,
      "outputs": [
        {
          "output_type": "execute_result",
          "data": {
            "text/plain": [
              "ee.image.Image"
            ]
          },
          "metadata": {
            "tags": []
          },
          "execution_count": 44
        }
      ]
    },
    {
      "cell_type": "code",
      "metadata": {
        "id": "UZYGo8zo2qSt",
        "colab_type": "code",
        "outputId": "a2603b92-dc48-45ec-ef51-65e724f418a3",
        "colab": {
          "base_uri": "https://localhost:8080/",
          "height": 789
        }
      },
      "source": [
        "parameters = {'min': -1.0,\n",
        "              'max': 1.0,\n",
        "              'dimensions': 768,\n",
        "              'bands': ['nd'],\n",
        "              'palette': ['blue', 'white', 'green'],\n",
        "              'region': ee.Geometry.Rectangle([-74.04, 40.69, -73.82, 40.94])\n",
        "}\n",
        "\n",
        "image0ndvi = image0.normalizedDifference(['B5', 'B4'])\n",
        "\n",
        "Image(url = image0ndvi.getThumbUrl(parameters))"
      ],
      "execution_count": 12,
      "outputs": [
        {
          "output_type": "execute_result",
          "data": {
            "text/html": [
              "<img src=\"https://earthengine.googleapis.com/v1alpha/projects/earthengine-legacy/thumbnails/096da81b24ac80b14aea796ebcce9f70-93719daf86a5945983b706d24759c6a7:getPixels\"/>"
            ],
            "text/plain": [
              "<IPython.core.display.Image object>"
            ]
          },
          "metadata": {
            "tags": []
          },
          "execution_count": 12
        }
      ]
    },
    {
      "cell_type": "code",
      "metadata": {
        "id": "X_nkwaLq7Z-u",
        "colab_type": "code",
        "outputId": "af3da57f-f137-49a5-9cf7-5106e9f8d56d",
        "colab": {
          "base_uri": "https://localhost:8080/",
          "height": 1000
        }
      },
      "source": [
        "for image in image_list:\n",
        "  imagendvi = image.normalizedDifference(['B5', 'B4'])\n",
        "  display(Image(url = imagendvi.getThumbUrl(parameters)))"
      ],
      "execution_count": 13,
      "outputs": [
        {
          "output_type": "display_data",
          "data": {
            "text/html": [
              "<img src=\"https://earthengine.googleapis.com/v1alpha/projects/earthengine-legacy/thumbnails/096da81b24ac80b14aea796ebcce9f70-4477e3a25eec8c60d238b2ef1c540d7d:getPixels\"/>"
            ],
            "text/plain": [
              "<IPython.core.display.Image object>"
            ]
          },
          "metadata": {
            "tags": []
          }
        },
        {
          "output_type": "display_data",
          "data": {
            "text/html": [
              "<img src=\"https://earthengine.googleapis.com/v1alpha/projects/earthengine-legacy/thumbnails/ee7777522f82d0f878bec7a6841be0e2-ec95a48f155eda2048b48783b43a9c1f:getPixels\"/>"
            ],
            "text/plain": [
              "<IPython.core.display.Image object>"
            ]
          },
          "metadata": {
            "tags": []
          }
        },
        {
          "output_type": "display_data",
          "data": {
            "text/html": [
              "<img src=\"https://earthengine.googleapis.com/v1alpha/projects/earthengine-legacy/thumbnails/33b75c89048e5d8865835e5dbcf899f3-76a1b6e836f22436c0536392775a41e8:getPixels\"/>"
            ],
            "text/plain": [
              "<IPython.core.display.Image object>"
            ]
          },
          "metadata": {
            "tags": []
          }
        },
        {
          "output_type": "display_data",
          "data": {
            "text/html": [
              "<img src=\"https://earthengine.googleapis.com/v1alpha/projects/earthengine-legacy/thumbnails/fe4f0b4fe0ddf9e16d4e771da2f58b7f-03e2fb4039a1b48d9fbf311bf14929bc:getPixels\"/>"
            ],
            "text/plain": [
              "<IPython.core.display.Image object>"
            ]
          },
          "metadata": {
            "tags": []
          }
        },
        {
          "output_type": "display_data",
          "data": {
            "text/html": [
              "<img src=\"https://earthengine.googleapis.com/v1alpha/projects/earthengine-legacy/thumbnails/393723dbf7785306972ad12c3ff4c3ad-83d9c575c3838029f9c94e31043d0f8e:getPixels\"/>"
            ],
            "text/plain": [
              "<IPython.core.display.Image object>"
            ]
          },
          "metadata": {
            "tags": []
          }
        },
        {
          "output_type": "display_data",
          "data": {
            "text/html": [
              "<img src=\"https://earthengine.googleapis.com/v1alpha/projects/earthengine-legacy/thumbnails/9954a62136004de345115ab47dfeead7-2e0e2f13cbf7364d3ecce2cb0d36f84f:getPixels\"/>"
            ],
            "text/plain": [
              "<IPython.core.display.Image object>"
            ]
          },
          "metadata": {
            "tags": []
          }
        },
        {
          "output_type": "display_data",
          "data": {
            "text/html": [
              "<img src=\"https://earthengine.googleapis.com/v1alpha/projects/earthengine-legacy/thumbnails/9a98763f3cf85708ff9b532c9a87b067-b8a2eb5a6ce17883050a296054247b1b:getPixels\"/>"
            ],
            "text/plain": [
              "<IPython.core.display.Image object>"
            ]
          },
          "metadata": {
            "tags": []
          }
        },
        {
          "output_type": "display_data",
          "data": {
            "text/html": [
              "<img src=\"https://earthengine.googleapis.com/v1alpha/projects/earthengine-legacy/thumbnails/09b8165c497f2c4d3b7726263856c1e8-2639ad60c37fe77136f21e438f08f6d9:getPixels\"/>"
            ],
            "text/plain": [
              "<IPython.core.display.Image object>"
            ]
          },
          "metadata": {
            "tags": []
          }
        },
        {
          "output_type": "display_data",
          "data": {
            "text/html": [
              "<img src=\"https://earthengine.googleapis.com/v1alpha/projects/earthengine-legacy/thumbnails/7ede32ea85f0509d3def391d5482a59c-f47001c331441497210a8341f694a59f:getPixels\"/>"
            ],
            "text/plain": [
              "<IPython.core.display.Image object>"
            ]
          },
          "metadata": {
            "tags": []
          }
        },
        {
          "output_type": "display_data",
          "data": {
            "text/html": [
              "<img src=\"https://earthengine.googleapis.com/v1alpha/projects/earthengine-legacy/thumbnails/277170bd5eaae3dbd27640563e25910a-a5dea47c2028761d280a8b0f44d77410:getPixels\"/>"
            ],
            "text/plain": [
              "<IPython.core.display.Image object>"
            ]
          },
          "metadata": {
            "tags": []
          }
        },
        {
          "output_type": "display_data",
          "data": {
            "text/html": [
              "<img src=\"https://earthengine.googleapis.com/v1alpha/projects/earthengine-legacy/thumbnails/2ab946ab68a5cedd782432d085cb1c06-c66486fbe03ea574960e7f60acd5e41f:getPixels\"/>"
            ],
            "text/plain": [
              "<IPython.core.display.Image object>"
            ]
          },
          "metadata": {
            "tags": []
          }
        },
        {
          "output_type": "display_data",
          "data": {
            "text/html": [
              "<img src=\"https://earthengine.googleapis.com/v1alpha/projects/earthengine-legacy/thumbnails/b393c96c20936f9828fcd77513d43547-eb4bd00092f91fbf1f3cbd2c9a469947:getPixels\"/>"
            ],
            "text/plain": [
              "<IPython.core.display.Image object>"
            ]
          },
          "metadata": {
            "tags": []
          }
        },
        {
          "output_type": "display_data",
          "data": {
            "text/html": [
              "<img src=\"https://earthengine.googleapis.com/v1alpha/projects/earthengine-legacy/thumbnails/be48967683f5ca6dc2bfc8241c5a10be-7abe77ce91180ba4eb2ce5abf67ac171:getPixels\"/>"
            ],
            "text/plain": [
              "<IPython.core.display.Image object>"
            ]
          },
          "metadata": {
            "tags": []
          }
        },
        {
          "output_type": "display_data",
          "data": {
            "text/html": [
              "<img src=\"https://earthengine.googleapis.com/v1alpha/projects/earthengine-legacy/thumbnails/4dc8a060d568b7ef7d1c3c3e8ab5cee5-8a7b2453ba2ed219cd555fd5c7f36e23:getPixels\"/>"
            ],
            "text/plain": [
              "<IPython.core.display.Image object>"
            ]
          },
          "metadata": {
            "tags": []
          }
        },
        {
          "output_type": "display_data",
          "data": {
            "text/html": [
              "<img src=\"https://earthengine.googleapis.com/v1alpha/projects/earthengine-legacy/thumbnails/b2f7a02f0c27544e8870fecccce42323-90bf525c2e3d800ad6caf2db61a8076d:getPixels\"/>"
            ],
            "text/plain": [
              "<IPython.core.display.Image object>"
            ]
          },
          "metadata": {
            "tags": []
          }
        },
        {
          "output_type": "display_data",
          "data": {
            "text/html": [
              "<img src=\"https://earthengine.googleapis.com/v1alpha/projects/earthengine-legacy/thumbnails/78b424856f118a30ab18adf81aeb91c6-94adf0e9dbe80db79e605ed442f70233:getPixels\"/>"
            ],
            "text/plain": [
              "<IPython.core.display.Image object>"
            ]
          },
          "metadata": {
            "tags": []
          }
        },
        {
          "output_type": "display_data",
          "data": {
            "text/html": [
              "<img src=\"https://earthengine.googleapis.com/v1alpha/projects/earthengine-legacy/thumbnails/e68238c528ebd8633412c0b1acb3d7e7-a90fa68b47b7c2de3b5e4455bd3d611a:getPixels\"/>"
            ],
            "text/plain": [
              "<IPython.core.display.Image object>"
            ]
          },
          "metadata": {
            "tags": []
          }
        },
        {
          "output_type": "display_data",
          "data": {
            "text/html": [
              "<img src=\"https://earthengine.googleapis.com/v1alpha/projects/earthengine-legacy/thumbnails/cb864302bc9a716844b82bd78e94cddc-5622ef8a39393ae60237514acb68a69c:getPixels\"/>"
            ],
            "text/plain": [
              "<IPython.core.display.Image object>"
            ]
          },
          "metadata": {
            "tags": []
          }
        },
        {
          "output_type": "display_data",
          "data": {
            "text/html": [
              "<img src=\"https://earthengine.googleapis.com/v1alpha/projects/earthengine-legacy/thumbnails/3f5d4a0fa2134b4624062b1ca0ec4854-6c778fef238e677e676f83d92037ebaf:getPixels\"/>"
            ],
            "text/plain": [
              "<IPython.core.display.Image object>"
            ]
          },
          "metadata": {
            "tags": []
          }
        },
        {
          "output_type": "display_data",
          "data": {
            "text/html": [
              "<img src=\"https://earthengine.googleapis.com/v1alpha/projects/earthengine-legacy/thumbnails/0aca4fd283a005f5d822cfc5b472a417-e13543cf65c1a1deb4c66861a00b1bcf:getPixels\"/>"
            ],
            "text/plain": [
              "<IPython.core.display.Image object>"
            ]
          },
          "metadata": {
            "tags": []
          }
        },
        {
          "output_type": "display_data",
          "data": {
            "text/html": [
              "<img src=\"https://earthengine.googleapis.com/v1alpha/projects/earthengine-legacy/thumbnails/d8de1b844ac5c08a52186f3b3586f396-2d05d457aff44d4eff617bcea7d3839f:getPixels\"/>"
            ],
            "text/plain": [
              "<IPython.core.display.Image object>"
            ]
          },
          "metadata": {
            "tags": []
          }
        },
        {
          "output_type": "display_data",
          "data": {
            "text/html": [
              "<img src=\"https://earthengine.googleapis.com/v1alpha/projects/earthengine-legacy/thumbnails/527007a07c3b42978a99e4ed25eac8f5-2a58b1fb39670c742386efe87e1e9185:getPixels\"/>"
            ],
            "text/plain": [
              "<IPython.core.display.Image object>"
            ]
          },
          "metadata": {
            "tags": []
          }
        },
        {
          "output_type": "display_data",
          "data": {
            "text/html": [
              "<img src=\"https://earthengine.googleapis.com/v1alpha/projects/earthengine-legacy/thumbnails/4aeb72b6d631e9dd29bb3f31fc25669f-3959c0926aa8cd7ec27ee3505f47e99b:getPixels\"/>"
            ],
            "text/plain": [
              "<IPython.core.display.Image object>"
            ]
          },
          "metadata": {
            "tags": []
          }
        },
        {
          "output_type": "display_data",
          "data": {
            "text/html": [
              "<img src=\"https://earthengine.googleapis.com/v1alpha/projects/earthengine-legacy/thumbnails/4b3b7ba22328cc49d514091d8ea518c8-ce7678a3d0ca31d7565808cfae1ebbfa:getPixels\"/>"
            ],
            "text/plain": [
              "<IPython.core.display.Image object>"
            ]
          },
          "metadata": {
            "tags": []
          }
        },
        {
          "output_type": "display_data",
          "data": {
            "text/html": [
              "<img src=\"https://earthengine.googleapis.com/v1alpha/projects/earthengine-legacy/thumbnails/b5bb8ed351d8dcab3b65c8fc29516573-17edb2adab47a091fa388022bccd58d2:getPixels\"/>"
            ],
            "text/plain": [
              "<IPython.core.display.Image object>"
            ]
          },
          "metadata": {
            "tags": []
          }
        },
        {
          "output_type": "display_data",
          "data": {
            "text/html": [
              "<img src=\"https://earthengine.googleapis.com/v1alpha/projects/earthengine-legacy/thumbnails/a306b70e300bf3a3ed1acae4abcb078b-4eda20a05e2b8da5ef3e97b26fffdf7b:getPixels\"/>"
            ],
            "text/plain": [
              "<IPython.core.display.Image object>"
            ]
          },
          "metadata": {
            "tags": []
          }
        },
        {
          "output_type": "display_data",
          "data": {
            "text/html": [
              "<img src=\"https://earthengine.googleapis.com/v1alpha/projects/earthengine-legacy/thumbnails/b893ad4488e64c8db31eaa075e8f20bb-d130945ef0f6c2646dae63d4710f8710:getPixels\"/>"
            ],
            "text/plain": [
              "<IPython.core.display.Image object>"
            ]
          },
          "metadata": {
            "tags": []
          }
        },
        {
          "output_type": "display_data",
          "data": {
            "text/html": [
              "<img src=\"https://earthengine.googleapis.com/v1alpha/projects/earthengine-legacy/thumbnails/b816b9ddefad05c26d80f09fb6c3e848-895d4942e2327a113b1aa58059428db7:getPixels\"/>"
            ],
            "text/plain": [
              "<IPython.core.display.Image object>"
            ]
          },
          "metadata": {
            "tags": []
          }
        },
        {
          "output_type": "display_data",
          "data": {
            "text/html": [
              "<img src=\"https://earthengine.googleapis.com/v1alpha/projects/earthengine-legacy/thumbnails/b7dde1f380666276f31379d1506082d7-e21a733dd12040d6fc3582fa8ce2c8b0:getPixels\"/>"
            ],
            "text/plain": [
              "<IPython.core.display.Image object>"
            ]
          },
          "metadata": {
            "tags": []
          }
        },
        {
          "output_type": "display_data",
          "data": {
            "text/html": [
              "<img src=\"https://earthengine.googleapis.com/v1alpha/projects/earthengine-legacy/thumbnails/afd7cf64dd25f595fed0a0bfb335b0d3-74aa2a5d049a380197be7afb42dbcd32:getPixels\"/>"
            ],
            "text/plain": [
              "<IPython.core.display.Image object>"
            ]
          },
          "metadata": {
            "tags": []
          }
        },
        {
          "output_type": "display_data",
          "data": {
            "text/html": [
              "<img src=\"https://earthengine.googleapis.com/v1alpha/projects/earthengine-legacy/thumbnails/35bf9841f1a41925bd18cada90b378ac-3c910f6bc18d43003f49ef42e2a1e864:getPixels\"/>"
            ],
            "text/plain": [
              "<IPython.core.display.Image object>"
            ]
          },
          "metadata": {
            "tags": []
          }
        },
        {
          "output_type": "display_data",
          "data": {
            "text/html": [
              "<img src=\"https://earthengine.googleapis.com/v1alpha/projects/earthengine-legacy/thumbnails/c078145619746ff1d851cd5aa9a329a9-0e5a7ad6f74dac6782917a0de64f7a71:getPixels\"/>"
            ],
            "text/plain": [
              "<IPython.core.display.Image object>"
            ]
          },
          "metadata": {
            "tags": []
          }
        },
        {
          "output_type": "display_data",
          "data": {
            "text/html": [
              "<img src=\"https://earthengine.googleapis.com/v1alpha/projects/earthengine-legacy/thumbnails/08b4beb5ea6a85a1d7e94e2ed07e0178-655884e4d50ce26af41ccc59f57758f5:getPixels\"/>"
            ],
            "text/plain": [
              "<IPython.core.display.Image object>"
            ]
          },
          "metadata": {
            "tags": []
          }
        },
        {
          "output_type": "display_data",
          "data": {
            "text/html": [
              "<img src=\"https://earthengine.googleapis.com/v1alpha/projects/earthengine-legacy/thumbnails/4b33077952a6588f67b6e12552c87f24-97b2aa6698ebcac70671ae24d113c66c:getPixels\"/>"
            ],
            "text/plain": [
              "<IPython.core.display.Image object>"
            ]
          },
          "metadata": {
            "tags": []
          }
        }
      ]
    },
    {
      "cell_type": "code",
      "metadata": {
        "id": "2i8FjKB_K_3E",
        "colab_type": "code",
        "outputId": "8fad00bc-2c2c-4e75-b302-db05dd120b3a",
        "colab": {
          "base_uri": "https://localhost:8080/",
          "height": 265
        }
      },
      "source": [
        "import matplotlib.pyplot as plt\n",
        "f, ax1 = plt.subplots(1,figsize=(6,4))\n",
        "\n",
        "for image in image_list:\n",
        "  imagendvi = image.normalizedDifference(['B5', 'B4'])\n",
        "  imagendvi_dict = imagendvi.sample(numPixels = 1000).reduceColumns(ee.Reducer.toList().repeat(1), ['nd'])\n",
        "  imagendvi_list = ee.List(imagendvi_dict.get('list'))\n",
        "  imagendvi_data = imagendvi_list.getInfo()\n",
        "  ax1.hist(imagendvi_data[0])\n"
      ],
      "execution_count": 0,
      "outputs": [
        {
          "output_type": "display_data",
          "data": {
            "image/png": "[encoded data removed]",
            "text/plain": [
              "<Figure size 432x288 with 1 Axes>"
            ]
          },
          "metadata": {
            "tags": [],
            "needs_background": "light"
          }
        }
      ]
    },
    {
      "cell_type": "code",
      "metadata": {
        "id": "r2wEj9l_SAub",
        "colab_type": "code",
        "outputId": "21968813-a413-4fea-b5f4-3e20980e6a40",
        "colab": {
          "base_uri": "https://localhost:8080/",
          "height": 1000
        }
      },
      "source": [
        "parameters = {'min': -1.0,\n",
        "              'max': 1.0,\n",
        "              'dimensions': 768,\n",
        "              'bands': ['nd'],\n",
        "              'palette': ['green', 'white', 'blue'],\n",
        "              'region': ee.Geometry.Rectangle([-74.04, 40.69, -73.82, 40.94])\n",
        "}\n",
        "\n",
        "for image in image_list:\n",
        "  imagendwi = image.normalizedDifference(['B3', 'B6'])\n",
        "  display(Image(url = imagendwi.getThumbUrl(parameters)))"
      ],
      "execution_count": 14,
      "outputs": [
        {
          "output_type": "display_data",
          "data": {
            "text/html": [
              "<img src=\"https://earthengine.googleapis.com/v1alpha/projects/earthengine-legacy/thumbnails/4869672133740cbd7c3f976159cfdf4b-4c3fce7e3ad0924fa6c5a94c38f3c744:getPixels\"/>"
            ],
            "text/plain": [
              "<IPython.core.display.Image object>"
            ]
          },
          "metadata": {
            "tags": []
          }
        },
        {
          "output_type": "display_data",
          "data": {
            "text/html": [
              "<img src=\"https://earthengine.googleapis.com/v1alpha/projects/earthengine-legacy/thumbnails/4db207edbbfee628e3cfbf4f42defdcc-0829dd1af8be356bdd5f8eb3270d96c1:getPixels\"/>"
            ],
            "text/plain": [
              "<IPython.core.display.Image object>"
            ]
          },
          "metadata": {
            "tags": []
          }
        },
        {
          "output_type": "display_data",
          "data": {
            "text/html": [
              "<img src=\"https://earthengine.googleapis.com/v1alpha/projects/earthengine-legacy/thumbnails/e371b8a2dd7d2a2871e4290bab7e1c84-ec2ae82db78194bd694ff015cca6e935:getPixels\"/>"
            ],
            "text/plain": [
              "<IPython.core.display.Image object>"
            ]
          },
          "metadata": {
            "tags": []
          }
        },
        {
          "output_type": "display_data",
          "data": {
            "text/html": [
              "<img src=\"https://earthengine.googleapis.com/v1alpha/projects/earthengine-legacy/thumbnails/cdec5ae58f9090c38e43abd20ed3c3bd-2edea38e1e8278be0d6e1d39f3780ce5:getPixels\"/>"
            ],
            "text/plain": [
              "<IPython.core.display.Image object>"
            ]
          },
          "metadata": {
            "tags": []
          }
        },
        {
          "output_type": "display_data",
          "data": {
            "text/html": [
              "<img src=\"https://earthengine.googleapis.com/v1alpha/projects/earthengine-legacy/thumbnails/a7992cbbcbef97d8eb6d9ec6f3be85b0-acddebb3ab5770d80a34c9a1e364628c:getPixels\"/>"
            ],
            "text/plain": [
              "<IPython.core.display.Image object>"
            ]
          },
          "metadata": {
            "tags": []
          }
        },
        {
          "output_type": "display_data",
          "data": {
            "text/html": [
              "<img src=\"https://earthengine.googleapis.com/v1alpha/projects/earthengine-legacy/thumbnails/a506607f53d3f50a30fc0b369776aa14-ceca4d8bd388b70fa39e063b41ed2803:getPixels\"/>"
            ],
            "text/plain": [
              "<IPython.core.display.Image object>"
            ]
          },
          "metadata": {
            "tags": []
          }
        },
        {
          "output_type": "display_data",
          "data": {
            "text/html": [
              "<img src=\"https://earthengine.googleapis.com/v1alpha/projects/earthengine-legacy/thumbnails/fb191d5b03efd4f59a53c74eff56b2a2-69423ee05eb2d8b37eb833704bbb5942:getPixels\"/>"
            ],
            "text/plain": [
              "<IPython.core.display.Image object>"
            ]
          },
          "metadata": {
            "tags": []
          }
        },
        {
          "output_type": "display_data",
          "data": {
            "text/html": [
              "<img src=\"https://earthengine.googleapis.com/v1alpha/projects/earthengine-legacy/thumbnails/547e1f451392e7772bfe9451ce2f8b88-1bf73277d67bd089bc26af368ad3b6ca:getPixels\"/>"
            ],
            "text/plain": [
              "<IPython.core.display.Image object>"
            ]
          },
          "metadata": {
            "tags": []
          }
        },
        {
          "output_type": "display_data",
          "data": {
            "text/html": [
              "<img src=\"https://earthengine.googleapis.com/v1alpha/projects/earthengine-legacy/thumbnails/b2d9c4c522ffd903c8535d899276f80b-cb2317fbb9c0b2afe2f58025543d856c:getPixels\"/>"
            ],
            "text/plain": [
              "<IPython.core.display.Image object>"
            ]
          },
          "metadata": {
            "tags": []
          }
        },
        {
          "output_type": "display_data",
          "data": {
            "text/html": [
              "<img src=\"https://earthengine.googleapis.com/v1alpha/projects/earthengine-legacy/thumbnails/7c6f15e98d93b050133958a7eaf50e43-510ef6015e5c1879b93b7e724a56be19:getPixels\"/>"
            ],
            "text/plain": [
              "<IPython.core.display.Image object>"
            ]
          },
          "metadata": {
            "tags": []
          }
        },
        {
          "output_type": "display_data",
          "data": {
            "text/html": [
              "<img src=\"https://earthengine.googleapis.com/v1alpha/projects/earthengine-legacy/thumbnails/f23e5d870901556510661567140029b1-e9c0f8a47e604b69381a9833f5c48727:getPixels\"/>"
            ],
            "text/plain": [
              "<IPython.core.display.Image object>"
            ]
          },
          "metadata": {
            "tags": []
          }
        },
        {
          "output_type": "display_data",
          "data": {
            "text/html": [
              "<img src=\"https://earthengine.googleapis.com/v1alpha/projects/earthengine-legacy/thumbnails/abc1149fc137c7113bbd57763488cf01-a78e3edf9d72a8370d86378e02fbb047:getPixels\"/>"
            ],
            "text/plain": [
              "<IPython.core.display.Image object>"
            ]
          },
          "metadata": {
            "tags": []
          }
        },
        {
          "output_type": "display_data",
          "data": {
            "text/html": [
              "<img src=\"https://earthengine.googleapis.com/v1alpha/projects/earthengine-legacy/thumbnails/1163a25eebdbf4b6642cb549b7d86f31-97f7421bc72163bb7df736ea1040e741:getPixels\"/>"
            ],
            "text/plain": [
              "<IPython.core.display.Image object>"
            ]
          },
          "metadata": {
            "tags": []
          }
        },
        {
          "output_type": "display_data",
          "data": {
            "text/html": [
              "<img src=\"https://earthengine.googleapis.com/v1alpha/projects/earthengine-legacy/thumbnails/108091baf8f28ca02ff6942f2911cdfe-26eeb77a01f54b30d971f7a528445bdb:getPixels\"/>"
            ],
            "text/plain": [
              "<IPython.core.display.Image object>"
            ]
          },
          "metadata": {
            "tags": []
          }
        },
        {
          "output_type": "display_data",
          "data": {
            "text/html": [
              "<img src=\"https://earthengine.googleapis.com/v1alpha/projects/earthengine-legacy/thumbnails/ffbacdee60cdca407b8462ea3d6dd6ca-f73984b8c90c6e55098c97065b8c37aa:getPixels\"/>"
            ],
            "text/plain": [
              "<IPython.core.display.Image object>"
            ]
          },
          "metadata": {
            "tags": []
          }
        },
        {
          "output_type": "display_data",
          "data": {
            "text/html": [
              "<img src=\"https://earthengine.googleapis.com/v1alpha/projects/earthengine-legacy/thumbnails/f3dd7486e7ad114c5577241b4fd6f492-5aeb9db36f2e4021dd7ca16188f4882d:getPixels\"/>"
            ],
            "text/plain": [
              "<IPython.core.display.Image object>"
            ]
          },
          "metadata": {
            "tags": []
          }
        },
        {
          "output_type": "display_data",
          "data": {
            "text/html": [
              "<img src=\"https://earthengine.googleapis.com/v1alpha/projects/earthengine-legacy/thumbnails/5e2246037c1ab00fc7d3ac74b605df59-30d4fd52908b1bab55b6863981bc512f:getPixels\"/>"
            ],
            "text/plain": [
              "<IPython.core.display.Image object>"
            ]
          },
          "metadata": {
            "tags": []
          }
        },
        {
          "output_type": "display_data",
          "data": {
            "text/html": [
              "<img src=\"https://earthengine.googleapis.com/v1alpha/projects/earthengine-legacy/thumbnails/25089544f3f8eeeb9e8bedc9a7472917-4dbf33e62b830c2cf4aa1268de8b53c5:getPixels\"/>"
            ],
            "text/plain": [
              "<IPython.core.display.Image object>"
            ]
          },
          "metadata": {
            "tags": []
          }
        },
        {
          "output_type": "display_data",
          "data": {
            "text/html": [
              "<img src=\"https://earthengine.googleapis.com/v1alpha/projects/earthengine-legacy/thumbnails/79fe64c28ea61b06410d07d587492aa2-2880c89b9442ef567f7a3d607fcd063c:getPixels\"/>"
            ],
            "text/plain": [
              "<IPython.core.display.Image object>"
            ]
          },
          "metadata": {
            "tags": []
          }
        },
        {
          "output_type": "display_data",
          "data": {
            "text/html": [
              "<img src=\"https://earthengine.googleapis.com/v1alpha/projects/earthengine-legacy/thumbnails/9b85efbb836ae9566f07c90f02b4832b-71f6bbaf06a0fb11130b7e1daacd3f34:getPixels\"/>"
            ],
            "text/plain": [
              "<IPython.core.display.Image object>"
            ]
          },
          "metadata": {
            "tags": []
          }
        },
        {
          "output_type": "display_data",
          "data": {
            "text/html": [
              "<img src=\"https://earthengine.googleapis.com/v1alpha/projects/earthengine-legacy/thumbnails/744cc911601d80b9d8eb7fbfa9afe20c-92468e356d8c166063d1e82d25f7bd9e:getPixels\"/>"
            ],
            "text/plain": [
              "<IPython.core.display.Image object>"
            ]
          },
          "metadata": {
            "tags": []
          }
        },
        {
          "output_type": "display_data",
          "data": {
            "text/html": [
              "<img src=\"https://earthengine.googleapis.com/v1alpha/projects/earthengine-legacy/thumbnails/772b680d5eaee6b57f93e01edb0b0764-abf5c75e0036a8eb272c391c37343a02:getPixels\"/>"
            ],
            "text/plain": [
              "<IPython.core.display.Image object>"
            ]
          },
          "metadata": {
            "tags": []
          }
        },
        {
          "output_type": "display_data",
          "data": {
            "text/html": [
              "<img src=\"https://earthengine.googleapis.com/v1alpha/projects/earthengine-legacy/thumbnails/74e6c8a08f36d41a1c957ea8f3d406be-f6944a46533251374d55f625a950ffe9:getPixels\"/>"
            ],
            "text/plain": [
              "<IPython.core.display.Image object>"
            ]
          },
          "metadata": {
            "tags": []
          }
        },
        {
          "output_type": "display_data",
          "data": {
            "text/html": [
              "<img src=\"https://earthengine.googleapis.com/v1alpha/projects/earthengine-legacy/thumbnails/221c6984e7f447bc0f0ecb46c8d845aa-f323498bc5366da0aed828efa854729e:getPixels\"/>"
            ],
            "text/plain": [
              "<IPython.core.display.Image object>"
            ]
          },
          "metadata": {
            "tags": []
          }
        },
        {
          "output_type": "display_data",
          "data": {
            "text/html": [
              "<img src=\"https://earthengine.googleapis.com/v1alpha/projects/earthengine-legacy/thumbnails/8dc4f29ac1fa808f48eed0f7a699ef70-d053e97abfaab8f9c4bdfa6237fc0bcf:getPixels\"/>"
            ],
            "text/plain": [
              "<IPython.core.display.Image object>"
            ]
          },
          "metadata": {
            "tags": []
          }
        },
        {
          "output_type": "display_data",
          "data": {
            "text/html": [
              "<img src=\"https://earthengine.googleapis.com/v1alpha/projects/earthengine-legacy/thumbnails/f15fd51f417627cd4cd827ba976b0fbf-c70443a1582b07d7407e4feb9035399e:getPixels\"/>"
            ],
            "text/plain": [
              "<IPython.core.display.Image object>"
            ]
          },
          "metadata": {
            "tags": []
          }
        },
        {
          "output_type": "display_data",
          "data": {
            "text/html": [
              "<img src=\"https://earthengine.googleapis.com/v1alpha/projects/earthengine-legacy/thumbnails/c799c44f9e32129f7101b5396dcfe542-a64f357c3fb0b8ef1c7b1654b9ac91fd:getPixels\"/>"
            ],
            "text/plain": [
              "<IPython.core.display.Image object>"
            ]
          },
          "metadata": {
            "tags": []
          }
        },
        {
          "output_type": "display_data",
          "data": {
            "text/html": [
              "<img src=\"https://earthengine.googleapis.com/v1alpha/projects/earthengine-legacy/thumbnails/f9a3d82affee1588698808d059796214-d30fa6f5f07fcc2f82fb8a08bbeba994:getPixels\"/>"
            ],
            "text/plain": [
              "<IPython.core.display.Image object>"
            ]
          },
          "metadata": {
            "tags": []
          }
        },
        {
          "output_type": "display_data",
          "data": {
            "text/html": [
              "<img src=\"https://earthengine.googleapis.com/v1alpha/projects/earthengine-legacy/thumbnails/6e4f0767905938e09e7a17e8fd30457b-f4125a311ee2c1e5fd6111953d71ba81:getPixels\"/>"
            ],
            "text/plain": [
              "<IPython.core.display.Image object>"
            ]
          },
          "metadata": {
            "tags": []
          }
        },
        {
          "output_type": "display_data",
          "data": {
            "text/html": [
              "<img src=\"https://earthengine.googleapis.com/v1alpha/projects/earthengine-legacy/thumbnails/645c06012550fd109565ebed73ec0d58-afad7ab153e34b5a70096b3ef6c13b73:getPixels\"/>"
            ],
            "text/plain": [
              "<IPython.core.display.Image object>"
            ]
          },
          "metadata": {
            "tags": []
          }
        },
        {
          "output_type": "display_data",
          "data": {
            "text/html": [
              "<img src=\"https://earthengine.googleapis.com/v1alpha/projects/earthengine-legacy/thumbnails/bf945fe1d03beb34f8fd1aaaa5486996-ee34cbff3dac24f91da1a486965d39d9:getPixels\"/>"
            ],
            "text/plain": [
              "<IPython.core.display.Image object>"
            ]
          },
          "metadata": {
            "tags": []
          }
        },
        {
          "output_type": "display_data",
          "data": {
            "text/html": [
              "<img src=\"https://earthengine.googleapis.com/v1alpha/projects/earthengine-legacy/thumbnails/3a14cb3e1522368574707801a7e52b41-6276930514f08232100bbadba21dd85c:getPixels\"/>"
            ],
            "text/plain": [
              "<IPython.core.display.Image object>"
            ]
          },
          "metadata": {
            "tags": []
          }
        },
        {
          "output_type": "display_data",
          "data": {
            "text/html": [
              "<img src=\"https://earthengine.googleapis.com/v1alpha/projects/earthengine-legacy/thumbnails/d6fe7e18563df363da97de878127f55c-240d6b54c0fb068b959a1759a1f77852:getPixels\"/>"
            ],
            "text/plain": [
              "<IPython.core.display.Image object>"
            ]
          },
          "metadata": {
            "tags": []
          }
        },
        {
          "output_type": "display_data",
          "data": {
            "text/html": [
              "<img src=\"https://earthengine.googleapis.com/v1alpha/projects/earthengine-legacy/thumbnails/b802f065f7042ea97a67525ee6d02e7d-7073cbca4159e9b17c8a65df2b78dc47:getPixels\"/>"
            ],
            "text/plain": [
              "<IPython.core.display.Image object>"
            ]
          },
          "metadata": {
            "tags": []
          }
        }
      ]
    },
    {
      "cell_type": "code",
      "metadata": {
        "id": "xzcb41y6TYlQ",
        "colab_type": "code",
        "colab": {}
      },
      "source": [
        ""
      ],
      "execution_count": 0,
      "outputs": []
    },
    {
      "cell_type": "code",
      "metadata": {
        "id": "-clzWk72oZgY",
        "colab_type": "code",
        "colab": {}
      },
      "source": [
        "#First attempt at clustering. Big failure.\n",
        "studysite = ee.Geometry.Rectangle([-74.04, 40.69, -73.82, 40.94]);\n",
        "\n",
        "image0ndwi = image0.normalizedDifference(['B3', 'B6'])\n",
        "\n",
        "training = image0ndwi.sample(numPixels = 100000);\n",
        "\n",
        "clusterer = ee.Clusterer.wekaKMeans(9).train(training);\n",
        "\n",
        "clusterfluster = image0ndwi.cluster(clusterer)"
      ],
      "execution_count": 0,
      "outputs": []
    },
    {
      "cell_type": "code",
      "metadata": {
        "id": "kXuxzXmv_tO3",
        "colab_type": "code",
        "outputId": "45d49583-5bff-4451-bb20-ff6cd0e8a404",
        "colab": {
          "base_uri": "https://localhost:8080/",
          "height": 789
        }
      },
      "source": [
        "#displaying the cluster result - big failure\n",
        "parameters = {'min': 0.0,\n",
        "              'max': 12.0,\n",
        "              'dimensions': 768,\n",
        "              #'palette': ['brown', 'white', 'blue'],\n",
        "              'region': ee.Geometry.Rectangle([-74.04, 40.69, -73.82, 40.94])\n",
        "}\n",
        "Image(url = clusterfluster.getThumbUrl(parameters))"
      ],
      "execution_count": 32,
      "outputs": [
        {
          "output_type": "execute_result",
          "data": {
            "text/html": [
              "<img src=\"https://earthengine.googleapis.com/v1alpha/projects/earthengine-legacy/thumbnails/bebe04698a1ae5f07ea1e5f0bc236af5-8a608e544e98edca5d734a369e77e134:getPixels\"/>"
            ],
            "text/plain": [
              "<IPython.core.display.Image object>"
            ]
          },
          "metadata": {
            "tags": []
          },
          "execution_count": 32
        }
      ]
    },
    {
      "cell_type": "code",
      "metadata": {
        "id": "JMgSqsahADGD",
        "colab_type": "code",
        "outputId": "85d74d51-0c2f-4b05-e92a-3df7ca8c9f70",
        "colab": {
          "base_uri": "https://localhost:8080/",
          "height": 789
        }
      },
      "source": [
        "#Displaying one of the water NDVI images from earlier.\n",
        "parameters = {'min': -0.5,\n",
        "              'max': 0.3,\n",
        "              'dimensions': 768,\n",
        "              #'palette': ['brown', 'white', 'blue'],\n",
        "              'region': ee.Geometry.Rectangle([-74.04, 40.69, -73.82, 40.94])\n",
        "}\n",
        "Image(url = image0ndwi.getThumbUrl(parameters))"
      ],
      "execution_count": 9,
      "outputs": [
        {
          "output_type": "execute_result",
          "data": {
            "text/html": [
              "<img src=\"https://earthengine.googleapis.com/v1alpha/projects/earthengine-legacy/thumbnails/5cc2b6c44c8bd44fbc6ff6c5fe9a8632-368c8496449c19a33cabc2649d375307:getPixels\"/>"
            ],
            "text/plain": [
              "<IPython.core.display.Image object>"
            ]
          },
          "metadata": {
            "tags": []
          },
          "execution_count": 9
        }
      ]
    },
    {
      "cell_type": "code",
      "metadata": {
        "id": "nyKQSTIuC6ll",
        "colab_type": "code",
        "colab": {
          "base_uri": "https://localhost:8080/",
          "height": 352
        },
        "outputId": "572470a0-7b69-4e6b-fe44-9764e2d17c63"
      },
      "source": [
        "#Plotting the histogram of values of the NDWI image to estimate which values correspond to water. \n",
        "imagendwi_dict = image0ndwi.sample(region=ee.Geometry.Rectangle([-74.04, 40.69, -73.82, 40.94]), scale = 30.0, numPixels = 1000).reduceColumns(ee.Reducer.toList().repeat(1), ['nd'])\n",
        "imagendwi_list = ee.List(imagendwi_dict.get('list'))\n",
        "imagendwi_data = imagendwi_list.getInfo()\n",
        "plt.hist(imagendwi_data[0])"
      ],
      "execution_count": 15,
      "outputs": [
        {
          "output_type": "execute_result",
          "data": {
            "text/plain": [
              "(array([ 14.,  93., 278., 326.,  97.,  31.,   3.,  20., 124.,  14.]),\n",
              " array([-0.26055957, -0.20880255, -0.15704553, -0.10528851, -0.05353149,\n",
              "        -0.00177447,  0.04998254,  0.10173956,  0.15349658,  0.2052536 ,\n",
              "         0.25701062]),\n",
              " <a list of 10 Patch objects>)"
            ]
          },
          "metadata": {
            "tags": []
          },
          "execution_count": 15
        },
        {
          "output_type": "display_data",
          "data": {
            "image/png": "[encoded data removed]",
            "text/plain": [
              "<Figure size 432x288 with 1 Axes>"
            ]
          },
          "metadata": {
            "tags": [],
            "needs_background": "light"
          }
        }
      ]
    },
    {
      "cell_type": "code",
      "metadata": {
        "id": "ZYri0Gg19J1p",
        "colab_type": "code",
        "colab": {
          "base_uri": "https://localhost:8080/",
          "height": 789
        },
        "outputId": "807b9704-869e-4ad9-c4a5-1bf1eeef0368"
      },
      "source": [
        "#Creating a water mask  based on the histogram shown earlier.\n",
        "waterthreshold = 0.1;\n",
        "watermask = image0ndwi.gte(waterthreshold) #creating a water mask. Any NDWI greater than waterthreshold value is taken to be water.\n",
        "\n",
        "parameters = {'min': -0.5,\n",
        "              'max': 0.4,\n",
        "              'dimensions': 768,\n",
        "              #'palette': ['brown', 'white', 'blue'],\n",
        "              'region': ee.Geometry.Rectangle([-74.04, 40.69, -73.82, 40.94])\n",
        "}\n",
        "Image(url = watermask.getThumbUrl(parameters))"
      ],
      "execution_count": 23,
      "outputs": [
        {
          "output_type": "execute_result",
          "data": {
            "text/html": [
              "<img src=\"https://earthengine.googleapis.com/v1alpha/projects/earthengine-legacy/thumbnails/4298bbbaabf18aac545ef0602cd6b1b7-cde85b1902dc2c8cb3d33fd7c1928a02:getPixels\"/>"
            ],
            "text/plain": [
              "<IPython.core.display.Image object>"
            ]
          },
          "metadata": {
            "tags": []
          },
          "execution_count": 23
        }
      ]
    },
    {
      "cell_type": "code",
      "metadata": {
        "id": "rfoCnlLe1nVN",
        "colab_type": "code",
        "colab": {}
      },
      "source": [
        "#What is in the watermask?\n",
        "watermask_data = ee.List(watermask.sample(numPixels = 1000).reduceColumns(ee.Reducer.toList().repeat(1), ['nd']).get('list')).getInfo()\n"
      ],
      "execution_count": 0,
      "outputs": []
    },
    {
      "cell_type": "code",
      "metadata": {
        "id": "mY3fPkOJLDsC",
        "colab_type": "code",
        "colab": {
          "base_uri": "https://localhost:8080/",
          "height": 317
        },
        "outputId": "9a417441-75b7-4b78-c639-728d2aded9eb"
      },
      "source": [
        "plt.hist(watermask_data) # You can see that the mask is a contrast - greater than threshold is categorized as 1 and the rest as 0. "
      ],
      "execution_count": 37,
      "outputs": [
        {
          "output_type": "execute_result",
          "data": {
            "text/plain": [
              "(array([659.,   0.,   0.,   0.,   0.,   0.,   0.,   0.,   0.,  31.]),\n",
              " array([0. , 0.1, 0.2, 0.3, 0.4, 0.5, 0.6, 0.7, 0.8, 0.9, 1. ]),\n",
              " <a list of 10 Patch objects>)"
            ]
          },
          "metadata": {
            "tags": []
          },
          "execution_count": 37
        },
        {
          "output_type": "display_data",
          "data": {
            "image/png": "[encoded data removed]",
            "text/plain": [
              "<Figure size 432x288 with 1 Axes>"
            ]
          },
          "metadata": {
            "tags": [],
            "needs_background": "light"
          }
        }
      ]
    },
    {
      "cell_type": "code",
      "metadata": {
        "id": "VgAog5VlLGvk",
        "colab_type": "code",
        "colab": {
          "base_uri": "https://localhost:8080/",
          "height": 104
        },
        "outputId": "1c0f4a04-4404-455c-ca9f-a0a7bdc42b40"
      },
      "source": [
        "watermask.getInfo()['bands'] #Question: how can I use this mask as a training to cluster the image?"
      ],
      "execution_count": 32,
      "outputs": [
        {
          "output_type": "execute_result",
          "data": {
            "text/plain": [
              "[{'crs': 'EPSG:32618',\n",
              "  'crs_transform': [30, 0, 393285, 0, -30, 4575615],\n",
              "  'data_type': {'max': 1, 'min': 0, 'precision': 'int', 'type': 'PixelType'},\n",
              "  'dimensions': [7641, 7431],\n",
              "  'id': 'nd'}]"
            ]
          },
          "metadata": {
            "tags": []
          },
          "execution_count": 32
        }
      ]
    },
    {
      "cell_type": "code",
      "metadata": {
        "id": "SXwfD-saMRWt",
        "colab_type": "code",
        "colab": {}
      },
      "source": [
        ""
      ],
      "execution_count": 0,
      "outputs": []
    }
  ]
}