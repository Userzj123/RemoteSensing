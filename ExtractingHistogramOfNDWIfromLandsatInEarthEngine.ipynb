{
  "nbformat": 4,
  "nbformat_minor": 0,
  "metadata": {
    "colab": {
      "name": "ExtractingHistogramOfNDWIfromLandsatInEarthEngine.ipynb",
      "provenance": [],
      "authorship_tag": "ABX9TyN2L2zSXWu56h3v009q6wtp",
      "include_colab_link": true
    },
    "kernelspec": {
      "name": "python3",
      "display_name": "Python 3"
    }
  },
  "cells": [
    {
      "cell_type": "markdown",
      "metadata": {
        "id": "view-in-github",
        "colab_type": "text"
      },
      "source": [
        "<a href=\"https://colab.research.google.com/github/arvindnswamy/RemoteSensing/blob/development/ExtractingHistogramOfNDWIfromLandsatInEarthEngine.ipynb\" target=\"_parent\"><img src=\"https://colab.research.google.com/assets/colab-badge.svg\" alt=\"Open In Colab\"/></a>"
      ]
    },
    {
      "cell_type": "code",
      "metadata": {
        "id": "QafojKkaLlsO",
        "colab_type": "code",
        "outputId": "2d33eb7f-0bda-4bfc-aa2b-759f8a82a9b8",
        "colab": {
          "base_uri": "https://localhost:8080/",
          "height": 176
        }
      },
      "source": [
        "import ee\n",
        "from IPython.display import Image\n",
        "\n",
        "# Trigger the authentication flow.\n",
        "ee.Authenticate()\n"
      ],
      "execution_count": 1,
      "outputs": [
        {
          "output_type": "stream",
          "text": [
            "To authorize access needed by Earth Engine, open the following URL in a web browser and follow the instructions. If the web browser does not start automatically, please manually browse the URL below.\n",
            "\n",
            "    https://accounts.google.com/o/oauth2/auth?client_id=517222506229-vsmmajv00ul0bs7p89v5m89qs8eb9359.apps.googleusercontent.com&scope=https%3A%2F%2Fwww.googleapis.com%2Fauth%2Fearthengine+https%3A%2F%2Fwww.googleapis.com%2Fauth%2Fdevstorage.full_control&redirect_uri=urn%3Aietf%3Awg%3Aoauth%3A2.0%3Aoob&response_type=code&code_challenge=wVRDFJN8-vjyQJotb2IIdyt_2R19iWSQ4-XEAnDZ2Ug&code_challenge_method=S256\n",
            "\n",
            "The authorization workflow will generate a code, which you should paste in the box below. \n",
            "Enter verification code: 4/0QE2yXSJynQ_FUC5vlPEWgG_hCmB9d5H1UI69QvEaabgdmoCpSqN4JI\n",
            "\n",
            "Successfully saved authorization token.\n"
          ],
          "name": "stdout"
        }
      ]
    },
    {
      "cell_type": "code",
      "metadata": {
        "id": "aMwOrEPoL6Zv",
        "colab_type": "code",
        "colab": {}
      },
      "source": [
        "ee.Initialize()\n",
        "image = ee.Image('LANDSAT/LC08/C01/T1_TOA/LC08_044034_20140318') # SF Bay area again\n",
        "\n",
        "ndwi = image.normalizedDifference(['B3', 'B5'])  #Compute ND water index"
      ],
      "execution_count": 0,
      "outputs": []
    },
    {
      "cell_type": "code",
      "metadata": {
        "id": "CbM627Y1MGQk",
        "colab_type": "code",
        "outputId": "7cfb2acb-7a40-4f76-bf1f-b7c9f97f155d",
        "colab": {
          "base_uri": "https://localhost:8080/",
          "height": 352
        }
      },
      "source": [
        "'''\n",
        "This is a procedure to extract some numerical information from the image.\n",
        "'''\n",
        "\n",
        "ndwi_dict = ndwi.sample(numPixels = 1000).reduceColumns(ee.Reducer.toList().repeat(1), ['nd'])\n",
        "ndwi_list = ee.List(ndwi_dict.get('list'))\n",
        "ndwi_data = ndwi_list.getInfo()\n",
        "\n",
        "import matplotlib.pyplot as plt\n",
        "plt.hist(ndwi_data[0])"
      ],
      "execution_count": 3,
      "outputs": [
        {
          "output_type": "execute_result",
          "data": {
            "text/plain": [
              "(array([ 41., 236., 228., 103.,  26.,   8.,   1.,   5.,  72., 279.]),\n",
              " array([-0.77725891, -0.62530867, -0.47335842, -0.32140818, -0.16945794,\n",
              "        -0.01750769,  0.13444255,  0.28639279,  0.43834304,  0.59029328,\n",
              "         0.74224352]),\n",
              " <a list of 10 Patch objects>)"
            ]
          },
          "metadata": {
            "tags": []
          },
          "execution_count": 3
        },
        {
          "output_type": "display_data",
          "data": {
            "image/png": "[encoded data removed]",
            "text/plain": [
              "<Figure size 432x288 with 1 Axes>"
            ]
          },
          "metadata": {
            "tags": [],
            "needs_background": "light"
          }
        }
      ]
    },
    {
      "cell_type": "code",
      "metadata": {
        "id": "p_ruEg8NMHqC",
        "colab_type": "code",
        "colab": {}
      },
      "source": [
        "imagePath45Row34 = ee.Image('LANDSAT/LC08/C01/T1_TOA/LC08_045034_20140629') #Image of region adjacent to SF Bay area\n",
        "#I got the name of this image from the code in the next cell\n",
        "ndwiPath45Row34 = imagePath45Row34.normalizedDifference(['B3', 'B5'])  #Compute ND water index"
      ],
      "execution_count": 0,
      "outputs": []
    },
    {
      "cell_type": "code",
      "metadata": {
        "id": "P-YnUcbJMzDV",
        "colab_type": "code",
        "outputId": "9fa10986-1f3f-48fb-871d-dd6788907b09",
        "colab": {
          "base_uri": "https://localhost:8080/",
          "height": 823
        }
      },
      "source": [
        "parameters = {'min': 0,\n",
        "              'max': 0.2,\n",
        "              'dimensions': 768,\n",
        "              'bands': ['B4', 'B3', 'B2']\n",
        "}\n",
        "\n",
        "'''\n",
        "It turns out that the min and max values are extremely important. Previously, I used the max value of 255 and\n",
        "higher values, thinking that the max would refer to the DN value of the image I download from USGS. Apparently\n",
        "not. Instead, when I decreased the value to 1.0 and smaller, I started getting images that are actually visible. \n",
        "The max value almost seems like a contrast stretching tool - you've seen contrast stretching in action with GIMP.\n",
        "When you have max = 0.2, you get a pretty nice image, as shown below.\n",
        "'''\n",
        "\n",
        "print(type(imagePath45Row34.getThumbUrl(parameters))) #Image takes a string poining to an image and displays it\n",
        "print(imagePath45Row34.getThumbUrl(parameters))\n",
        "Image(url = imagePath45Row34.getThumbUrl(parameters))"
      ],
      "execution_count": 5,
      "outputs": [
        {
          "output_type": "stream",
          "text": [
            "<class 'str'>\n",
            "https://earthengine.googleapis.com/v1alpha/projects/earthengine-legacy/thumbnails/646b8f6fd5e7e4ed909d36e88c718c08-58fbeffb9456160e0a2af8febe608ed0:getPixels\n"
          ],
          "name": "stdout"
        },
        {
          "output_type": "execute_result",
          "data": {
            "text/html": [
              "<img src=\"https://earthengine.googleapis.com/v1alpha/projects/earthengine-legacy/thumbnails/646b8f6fd5e7e4ed909d36e88c718c08-ea23803d8e94d772bc2915ffa1a6b3d3:getPixels\"/>"
            ],
            "text/plain": [
              "<IPython.core.display.Image object>"
            ]
          },
          "metadata": {
            "tags": []
          },
          "execution_count": 5
        }
      ]
    },
    {
      "cell_type": "code",
      "metadata": {
        "id": "0obidPsSNJFl",
        "colab_type": "code",
        "colab": {}
      },
      "source": [
        "'''\n",
        "This is used to return the names of the images of the region of interest within a time frame of interest.\n",
        "I chose a single month (June 2014) so that I'll have two images at best.\n",
        "'''\n",
        "Path45Row34_collect_return = ee.ImageCollection('LANDSAT/LC08/C01/T1').filter(ee.Filter.eq('WRS_PATH', 45)).filter(ee.Filter.eq('WRS_ROW', 34)).filterDate('2014-06-01', '2014-06-30')\n",
        "Path12Row32_collect_return = ee.ImageCollection('LANDSAT/LC08/C01/T1').filter(ee.Filter.eq('WRS_PATH', 12)).filter(ee.Filter.eq('WRS_ROW', 32)).filterDate('2014-05-01', '2014-06-30')"
      ],
      "execution_count": 0,
      "outputs": []
    },
    {
      "cell_type": "code",
      "metadata": {
        "id": "82rWRUQ7OILA",
        "colab_type": "code",
        "outputId": "b4e10a5e-647a-46e6-ce27-f381a10715b8",
        "colab": {
          "base_uri": "https://localhost:8080/",
          "height": 1000
        }
      },
      "source": [
        "Path12Row32_collect_return.getInfo()"
      ],
      "execution_count": 0,
      "outputs": [
        {
          "output_type": "execute_result",
          "data": {
            "text/plain": [
              "{'bands': [],\n",
              " 'features': [{'bands': [{'crs': 'EPSG:32619',\n",
              "     'crs_transform': [30, 0, 142485, 0, -30, 4588215],\n",
              "     'data_type': {'max': 65535,\n",
              "      'min': 0,\n",
              "      'precision': 'int',\n",
              "      'type': 'PixelType'},\n",
              "     'dimensions': [7891, 8011],\n",
              "     'id': 'B1'},\n",
              "    {'crs': 'EPSG:32619',\n",
              "     'crs_transform': [30, 0, 142485, 0, -30, 4588215],\n",
              "     'data_type': {'max': 65535,\n",
              "      'min': 0,\n",
              "      'precision': 'int',\n",
              "      'type': 'PixelType'},\n",
              "     'dimensions': [7891, 8011],\n",
              "     'id': 'B2'},\n",
              "    {'crs': 'EPSG:32619',\n",
              "     'crs_transform': [30, 0, 142485, 0, -30, 4588215],\n",
              "     'data_type': {'max': 65535,\n",
              "      'min': 0,\n",
              "      'precision': 'int',\n",
              "      'type': 'PixelType'},\n",
              "     'dimensions': [7891, 8011],\n",
              "     'id': 'B3'},\n",
              "    {'crs': 'EPSG:32619',\n",
              "     'crs_transform': [30, 0, 142485, 0, -30, 4588215],\n",
              "     'data_type': {'max': 65535,\n",
              "      'min': 0,\n",
              "      'precision': 'int',\n",
              "      'type': 'PixelType'},\n",
              "     'dimensions': [7891, 8011],\n",
              "     'id': 'B4'},\n",
              "    {'crs': 'EPSG:32619',\n",
              "     'crs_transform': [30, 0, 142485, 0, -30, 4588215],\n",
              "     'data_type': {'max': 65535,\n",
              "      'min': 0,\n",
              "      'precision': 'int',\n",
              "      'type': 'PixelType'},\n",
              "     'dimensions': [7891, 8011],\n",
              "     'id': 'B5'},\n",
              "    {'crs': 'EPSG:32619',\n",
              "     'crs_transform': [30, 0, 142485, 0, -30, 4588215],\n",
              "     'data_type': {'max': 65535,\n",
              "      'min': 0,\n",
              "      'precision': 'int',\n",
              "      'type': 'PixelType'},\n",
              "     'dimensions': [7891, 8011],\n",
              "     'id': 'B6'},\n",
              "    {'crs': 'EPSG:32619',\n",
              "     'crs_transform': [30, 0, 142485, 0, -30, 4588215],\n",
              "     'data_type': {'max': 65535,\n",
              "      'min': 0,\n",
              "      'precision': 'int',\n",
              "      'type': 'PixelType'},\n",
              "     'dimensions': [7891, 8011],\n",
              "     'id': 'B7'},\n",
              "    {'crs': 'EPSG:32619',\n",
              "     'crs_transform': [15, 0, 142492.5, 0, -15, 4588207.5],\n",
              "     'data_type': {'max': 65535,\n",
              "      'min': 0,\n",
              "      'precision': 'int',\n",
              "      'type': 'PixelType'},\n",
              "     'dimensions': [15781, 16021],\n",
              "     'id': 'B8'},\n",
              "    {'crs': 'EPSG:32619',\n",
              "     'crs_transform': [30, 0, 142485, 0, -30, 4588215],\n",
              "     'data_type': {'max': 65535,\n",
              "      'min': 0,\n",
              "      'precision': 'int',\n",
              "      'type': 'PixelType'},\n",
              "     'dimensions': [7891, 8011],\n",
              "     'id': 'B9'},\n",
              "    {'crs': 'EPSG:32619',\n",
              "     'crs_transform': [30, 0, 142485, 0, -30, 4588215],\n",
              "     'data_type': {'max': 65535,\n",
              "      'min': 0,\n",
              "      'precision': 'int',\n",
              "      'type': 'PixelType'},\n",
              "     'dimensions': [7891, 8011],\n",
              "     'id': 'B10'},\n",
              "    {'crs': 'EPSG:32619',\n",
              "     'crs_transform': [30, 0, 142485, 0, -30, 4588215],\n",
              "     'data_type': {'max': 65535,\n",
              "      'min': 0,\n",
              "      'precision': 'int',\n",
              "      'type': 'PixelType'},\n",
              "     'dimensions': [7891, 8011],\n",
              "     'id': 'B11'},\n",
              "    {'crs': 'EPSG:32619',\n",
              "     'crs_transform': [30, 0, 142485, 0, -30, 4588215],\n",
              "     'data_type': {'max': 65535,\n",
              "      'min': 0,\n",
              "      'precision': 'int',\n",
              "      'type': 'PixelType'},\n",
              "     'dimensions': [7891, 8011],\n",
              "     'id': 'BQA'}],\n",
              "   'id': 'LANDSAT/LC08/C01/T1/LC08_012032_20140505',\n",
              "   'properties': {'BPF_NAME_OLI': 'LO8BPF20140505151525_20140505153802.01',\n",
              "    'BPF_NAME_TIRS': 'LT8BPF20140505151131_20140505153855.01',\n",
              "    'CLOUD_COVER': 1.7999999523162842,\n",
              "    'CLOUD_COVER_LAND': 2.940000057220459,\n",
              "    'COLLECTION_CATEGORY': 'T1',\n",
              "    'COLLECTION_NUMBER': 1,\n",
              "    'CPF_NAME': 'LC08CPF_20140401_20140630_01.01',\n",
              "    'DATA_TYPE': 'L1TP',\n",
              "    'DATE_ACQUIRED': '2014-05-05',\n",
              "    'DATUM': 'WGS84',\n",
              "    'EARTH_SUN_DISTANCE': 1.0086145401000977,\n",
              "    'ELEVATION_SOURCE': 'GLS2000',\n",
              "    'ELLIPSOID': 'WGS84',\n",
              "    'FILE_DATE': 1488897487000,\n",
              "    'GEOMETRIC_RMSE_MODEL': 6.955999851226807,\n",
              "    'GEOMETRIC_RMSE_MODEL_X': 4.533999919891357,\n",
              "    'GEOMETRIC_RMSE_MODEL_Y': 5.275000095367432,\n",
              "    'GEOMETRIC_RMSE_VERIFY': 5.38700008392334,\n",
              "    'GRID_CELL_SIZE_PANCHROMATIC': 15,\n",
              "    'GRID_CELL_SIZE_REFLECTIVE': 30,\n",
              "    'GRID_CELL_SIZE_THERMAL': 30,\n",
              "    'GROUND_CONTROL_POINTS_MODEL': 212,\n",
              "    'GROUND_CONTROL_POINTS_VERIFY': 29,\n",
              "    'GROUND_CONTROL_POINTS_VERSION': 4,\n",
              "    'IMAGE_QUALITY_OLI': 9,\n",
              "    'IMAGE_QUALITY_TIRS': 9,\n",
              "    'K1_CONSTANT_BAND_10': 774.8853149414062,\n",
              "    'K1_CONSTANT_BAND_11': 480.8883056640625,\n",
              "    'K2_CONSTANT_BAND_10': 1321.078857421875,\n",
              "    'K2_CONSTANT_BAND_11': 1201.1441650390625,\n",
              "    'LANDSAT_PRODUCT_ID': 'LC08_L1TP_012032_20140505_20170307_01_T1',\n",
              "    'LANDSAT_SCENE_ID': 'LC80120322014125LGN01',\n",
              "    'MAP_PROJECTION': 'UTM',\n",
              "    'NADIR_OFFNADIR': 'NADIR',\n",
              "    'ORIENTATION': 'NORTH_UP',\n",
              "    'PANCHROMATIC_LINES': 16021,\n",
              "    'PANCHROMATIC_SAMPLES': 15781,\n",
              "    'PROCESSING_SOFTWARE_VERSION': 'LPGS_2.7.0',\n",
              "    'RADIANCE_ADD_BAND_1': -61.71097946166992,\n",
              "    'RADIANCE_ADD_BAND_10': 0.10000000149011612,\n",
              "    'RADIANCE_ADD_BAND_11': 0.10000000149011612,\n",
              "    'RADIANCE_ADD_BAND_2': -63.19279861450195,\n",
              "    'RADIANCE_ADD_BAND_3': -58.23162078857422,\n",
              "    'RADIANCE_ADD_BAND_4': -49.104190826416016,\n",
              "    'RADIANCE_ADD_BAND_5': -30.0493106842041,\n",
              "    'RADIANCE_ADD_BAND_6': -7.472990036010742,\n",
              "    'RADIANCE_ADD_BAND_7': -2.5188000202178955,\n",
              "    'RADIANCE_ADD_BAND_8': -55.572418212890625,\n",
              "    'RADIANCE_ADD_BAND_9': -11.743949890136719,\n",
              "    'RADIANCE_MULT_BAND_1': 0.012342000380158424,\n",
              "    'RADIANCE_MULT_BAND_10': 0.00033420001273043454,\n",
              "    'RADIANCE_MULT_BAND_11': 0.00033420001273043454,\n",
              "    'RADIANCE_MULT_BAND_2': 0.012639000080525875,\n",
              "    'RADIANCE_MULT_BAND_3': 0.011645999737083912,\n",
              "    'RADIANCE_MULT_BAND_4': 0.00982080027461052,\n",
              "    'RADIANCE_MULT_BAND_5': 0.006009900011122227,\n",
              "    'RADIANCE_MULT_BAND_6': 0.0014945999719202518,\n",
              "    'RADIANCE_MULT_BAND_7': 0.000503760005813092,\n",
              "    'RADIANCE_MULT_BAND_8': 0.011114000342786312,\n",
              "    'RADIANCE_MULT_BAND_9': 0.0023487999569624662,\n",
              "    'REFLECTANCE_ADD_BAND_1': -0.10000000149011612,\n",
              "    'REFLECTANCE_ADD_BAND_2': -0.10000000149011612,\n",
              "    'REFLECTANCE_ADD_BAND_3': -0.10000000149011612,\n",
              "    'REFLECTANCE_ADD_BAND_4': -0.10000000149011612,\n",
              "    'REFLECTANCE_ADD_BAND_5': -0.10000000149011612,\n",
              "    'REFLECTANCE_ADD_BAND_6': -0.10000000149011612,\n",
              "    'REFLECTANCE_ADD_BAND_7': -0.10000000149011612,\n",
              "    'REFLECTANCE_ADD_BAND_8': -0.10000000149011612,\n",
              "    'REFLECTANCE_ADD_BAND_9': -0.10000000149011612,\n",
              "    'REFLECTANCE_MULT_BAND_1': 1.9999999494757503e-05,\n",
              "    'REFLECTANCE_MULT_BAND_2': 1.9999999494757503e-05,\n",
              "    'REFLECTANCE_MULT_BAND_3': 1.9999999494757503e-05,\n",
              "    'REFLECTANCE_MULT_BAND_4': 1.9999999494757503e-05,\n",
              "    'REFLECTANCE_MULT_BAND_5': 1.9999999494757503e-05,\n",
              "    'REFLECTANCE_MULT_BAND_6': 1.9999999494757503e-05,\n",
              "    'REFLECTANCE_MULT_BAND_7': 1.9999999494757503e-05,\n",
              "    'REFLECTANCE_MULT_BAND_8': 1.9999999494757503e-05,\n",
              "    'REFLECTANCE_MULT_BAND_9': 1.9999999494757503e-05,\n",
              "    'REFLECTIVE_LINES': 8011,\n",
              "    'REFLECTIVE_SAMPLES': 7891,\n",
              "    'REQUEST_ID': '0501703064487_00015',\n",
              "    'RESAMPLING_OPTION': 'CUBIC_CONVOLUTION',\n",
              "    'RLUT_FILE_NAME': 'LC08RLUT_20130211_20150302_01_11.h5',\n",
              "    'ROLL_ANGLE': -0.0010000000474974513,\n",
              "    'SATURATION_BAND_1': 'Y',\n",
              "    'SATURATION_BAND_2': 'Y',\n",
              "    'SATURATION_BAND_3': 'Y',\n",
              "    'SATURATION_BAND_4': 'Y',\n",
              "    'SATURATION_BAND_5': 'Y',\n",
              "    'SATURATION_BAND_6': 'Y',\n",
              "    'SATURATION_BAND_7': 'Y',\n",
              "    'SATURATION_BAND_8': 'N',\n",
              "    'SATURATION_BAND_9': 'N',\n",
              "    'SCENE_CENTER_TIME': '15:27:08.9541920Z',\n",
              "    'SENSOR_ID': 'OLI_TIRS',\n",
              "    'SPACECRAFT_ID': 'LANDSAT_8',\n",
              "    'STATION_ID': 'LGN',\n",
              "    'SUN_AZIMUTH': 139.6895751953125,\n",
              "    'SUN_ELEVATION': 60.80693817138672,\n",
              "    'TARGET_WRS_PATH': 12,\n",
              "    'TARGET_WRS_ROW': 32,\n",
              "    'THERMAL_LINES': 8011,\n",
              "    'THERMAL_SAMPLES': 7891,\n",
              "    'TIRS_SSM_MODEL': 'ACTUAL',\n",
              "    'TIRS_SSM_POSITION_STATUS': 'NOMINAL',\n",
              "    'TIRS_STRAY_LIGHT_CORRECTION_SOURCE': 'TIRS',\n",
              "    'TRUNCATION_OLI': 'UPPER',\n",
              "    'UTM_ZONE': 19,\n",
              "    'WRS_PATH': 12,\n",
              "    'WRS_ROW': 32,\n",
              "    'google:registration_count': 67,\n",
              "    'google:registration_offset_x': 484.1864929199219,\n",
              "    'google:registration_offset_y': -268.45751953125,\n",
              "    'google:registration_ratio': 0.5275590419769287,\n",
              "    'system:asset_size': 993260737,\n",
              "    'system:footprint': {'coordinates': [[-72.62323825033307,\n",
              "       41.38186000158416],\n",
              "      [-72.6497042709215, 41.38640656418881],\n",
              "      [-72.6616134898663, 41.34798563252662],\n",
              "      [-72.7978918024003, 40.902340833970754],\n",
              "      [-72.92181591351947, 40.49233025342409],\n",
              "      [-73.04442464503883, 40.08223551543169],\n",
              "      [-73.16666237628802, 39.66899602698911],\n",
              "      [-73.12887002849607, 39.662273975915824],\n",
              "      [-72.97893840571602, 39.63549864314713],\n",
              "      [-72.04749897733191, 39.464268793315526],\n",
              "      [-71.00997382378834, 39.26358635900215],\n",
              "      [-70.99932489947939, 39.29616324695105],\n",
              "      [-70.92324530909113, 39.52813930807777],\n",
              "      [-70.85494217747357, 39.73525321967212],\n",
              "      [-70.75194006839536, 40.045686135430756],\n",
              "      [-70.65564390427726, 40.33376686205439],\n",
              "      [-70.58298940755115, 40.54968493220573],\n",
              "      [-70.51568924457348, 40.74875980815815],\n",
              "      [-70.43746002215462, 40.97881840129267],\n",
              "      [-71.28849243593605, 41.14132076624267],\n",
              "      [-72.10917460108138, 41.291283280432715],\n",
              "      [-72.62323825033307, 41.38186000158416]],\n",
              "     'type': 'LinearRing'},\n",
              "    'system:index': 'LC08_012032_20140505',\n",
              "    'system:time_start': 1399303628950},\n",
              "   'type': 'Image',\n",
              "   'version': 1497567301374000.0},\n",
              "  {'bands': [{'crs': 'EPSG:32619',\n",
              "     'crs_transform': [30, 0, 145785, 0, -30, 4588215],\n",
              "     'data_type': {'max': 65535,\n",
              "      'min': 0,\n",
              "      'precision': 'int',\n",
              "      'type': 'PixelType'},\n",
              "     'dimensions': [7901, 8021],\n",
              "     'id': 'B1'},\n",
              "    {'crs': 'EPSG:32619',\n",
              "     'crs_transform': [30, 0, 145785, 0, -30, 4588215],\n",
              "     'data_type': {'max': 65535,\n",
              "      'min': 0,\n",
              "      'precision': 'int',\n",
              "      'type': 'PixelType'},\n",
              "     'dimensions': [7901, 8021],\n",
              "     'id': 'B2'},\n",
              "    {'crs': 'EPSG:32619',\n",
              "     'crs_transform': [30, 0, 145785, 0, -30, 4588215],\n",
              "     'data_type': {'max': 65535,\n",
              "      'min': 0,\n",
              "      'precision': 'int',\n",
              "      'type': 'PixelType'},\n",
              "     'dimensions': [7901, 8021],\n",
              "     'id': 'B3'},\n",
              "    {'crs': 'EPSG:32619',\n",
              "     'crs_transform': [30, 0, 145785, 0, -30, 4588215],\n",
              "     'data_type': {'max': 65535,\n",
              "      'min': 0,\n",
              "      'precision': 'int',\n",
              "      'type': 'PixelType'},\n",
              "     'dimensions': [7901, 8021],\n",
              "     'id': 'B4'},\n",
              "    {'crs': 'EPSG:32619',\n",
              "     'crs_transform': [30, 0, 145785, 0, -30, 4588215],\n",
              "     'data_type': {'max': 65535,\n",
              "      'min': 0,\n",
              "      'precision': 'int',\n",
              "      'type': 'PixelType'},\n",
              "     'dimensions': [7901, 8021],\n",
              "     'id': 'B5'},\n",
              "    {'crs': 'EPSG:32619',\n",
              "     'crs_transform': [30, 0, 145785, 0, -30, 4588215],\n",
              "     'data_type': {'max': 65535,\n",
              "      'min': 0,\n",
              "      'precision': 'int',\n",
              "      'type': 'PixelType'},\n",
              "     'dimensions': [7901, 8021],\n",
              "     'id': 'B6'},\n",
              "    {'crs': 'EPSG:32619',\n",
              "     'crs_transform': [30, 0, 145785, 0, -30, 4588215],\n",
              "     'data_type': {'max': 65535,\n",
              "      'min': 0,\n",
              "      'precision': 'int',\n",
              "      'type': 'PixelType'},\n",
              "     'dimensions': [7901, 8021],\n",
              "     'id': 'B7'},\n",
              "    {'crs': 'EPSG:32619',\n",
              "     'crs_transform': [15, 0, 145792.5, 0, -15, 4588207.5],\n",
              "     'data_type': {'max': 65535,\n",
              "      'min': 0,\n",
              "      'precision': 'int',\n",
              "      'type': 'PixelType'},\n",
              "     'dimensions': [15801, 16041],\n",
              "     'id': 'B8'},\n",
              "    {'crs': 'EPSG:32619',\n",
              "     'crs_transform': [30, 0, 145785, 0, -30, 4588215],\n",
              "     'data_type': {'max': 65535,\n",
              "      'min': 0,\n",
              "      'precision': 'int',\n",
              "      'type': 'PixelType'},\n",
              "     'dimensions': [7901, 8021],\n",
              "     'id': 'B9'},\n",
              "    {'crs': 'EPSG:32619',\n",
              "     'crs_transform': [30, 0, 145785, 0, -30, 4588215],\n",
              "     'data_type': {'max': 65535,\n",
              "      'min': 0,\n",
              "      'precision': 'int',\n",
              "      'type': 'PixelType'},\n",
              "     'dimensions': [7901, 8021],\n",
              "     'id': 'B10'},\n",
              "    {'crs': 'EPSG:32619',\n",
              "     'crs_transform': [30, 0, 145785, 0, -30, 4588215],\n",
              "     'data_type': {'max': 65535,\n",
              "      'min': 0,\n",
              "      'precision': 'int',\n",
              "      'type': 'PixelType'},\n",
              "     'dimensions': [7901, 8021],\n",
              "     'id': 'B11'},\n",
              "    {'crs': 'EPSG:32619',\n",
              "     'crs_transform': [30, 0, 145785, 0, -30, 4588215],\n",
              "     'data_type': {'max': 65535,\n",
              "      'min': 0,\n",
              "      'precision': 'int',\n",
              "      'type': 'PixelType'},\n",
              "     'dimensions': [7901, 8021],\n",
              "     'id': 'BQA'}],\n",
              "   'id': 'LANDSAT/LC08/C01/T1/LC08_012032_20140521',\n",
              "   'properties': {'BPF_NAME_OLI': 'LO8BPF20140521151341_20140521153754.02',\n",
              "    'BPF_NAME_TIRS': 'LT8BPF20140521135248_20140521153847.02',\n",
              "    'CLOUD_COVER': 68.05000305175781,\n",
              "    'CLOUD_COVER_LAND': 91.7300033569336,\n",
              "    'COLLECTION_CATEGORY': 'T1',\n",
              "    'COLLECTION_NUMBER': 1,\n",
              "    'CPF_NAME': 'LC08CPF_20140401_20140630_01.01',\n",
              "    'DATA_TYPE': 'L1TP',\n",
              "    'DATE_ACQUIRED': '2014-05-21',\n",
              "    'DATUM': 'WGS84',\n",
              "    'EARTH_SUN_DISTANCE': 1.0121310949325562,\n",
              "    'ELEVATION_SOURCE': 'GLS2000',\n",
              "    'ELLIPSOID': 'WGS84',\n",
              "    'FILE_DATE': 1488894230000,\n",
              "    'GEOMETRIC_RMSE_MODEL': 8.182999610900879,\n",
              "    'GEOMETRIC_RMSE_MODEL_X': 5.703000068664551,\n",
              "    'GEOMETRIC_RMSE_MODEL_Y': 5.868000030517578,\n",
              "    'GEOMETRIC_RMSE_VERIFY': 7.021999835968018,\n",
              "    'GRID_CELL_SIZE_PANCHROMATIC': 15,\n",
              "    'GRID_CELL_SIZE_REFLECTIVE': 30,\n",
              "    'GRID_CELL_SIZE_THERMAL': 30,\n",
              "    'GROUND_CONTROL_POINTS_MODEL': 187,\n",
              "    'GROUND_CONTROL_POINTS_VERIFY': 33,\n",
              "    'GROUND_CONTROL_POINTS_VERSION': 4,\n",
              "    'IMAGE_QUALITY_OLI': 9,\n",
              "    'IMAGE_QUALITY_TIRS': 9,\n",
              "    'K1_CONSTANT_BAND_10': 774.8853149414062,\n",
              "    'K1_CONSTANT_BAND_11': 480.8883056640625,\n",
              "    'K2_CONSTANT_BAND_10': 1321.078857421875,\n",
              "    'K2_CONSTANT_BAND_11': 1201.1441650390625,\n",
              "    'LANDSAT_PRODUCT_ID': 'LC08_L1TP_012032_20140521_20170307_01_T1',\n",
              "    'LANDSAT_SCENE_ID': 'LC80120322014141LGN01',\n",
              "    'MAP_PROJECTION': 'UTM',\n",
              "    'NADIR_OFFNADIR': 'NADIR',\n",
              "    'ORIENTATION': 'NORTH_UP',\n",
              "    'PANCHROMATIC_LINES': 16041,\n",
              "    'PANCHROMATIC_SAMPLES': 15801,\n",
              "    'PROCESSING_SOFTWARE_VERSION': 'LPGS_2.7.0',\n",
              "    'RADIANCE_ADD_BAND_1': -61.28289031982422,\n",
              "    'RADIANCE_ADD_BAND_10': 0.10000000149011612,\n",
              "    'RADIANCE_ADD_BAND_11': 0.10000000149011612,\n",
              "    'RADIANCE_ADD_BAND_2': -62.75442886352539,\n",
              "    'RADIANCE_ADD_BAND_3': -57.82767105102539,\n",
              "    'RADIANCE_ADD_BAND_4': -48.7635498046875,\n",
              "    'RADIANCE_ADD_BAND_5': -29.84086036682129,\n",
              "    'RADIANCE_ADD_BAND_6': -7.421150207519531,\n",
              "    'RADIANCE_ADD_BAND_7': -2.5013298988342285,\n",
              "    'RADIANCE_ADD_BAND_8': -55.186920166015625,\n",
              "    'RADIANCE_ADD_BAND_9': -11.662489891052246,\n",
              "    'RADIANCE_MULT_BAND_1': 0.012257000431418419,\n",
              "    'RADIANCE_MULT_BAND_10': 0.00033420001273043454,\n",
              "    'RADIANCE_MULT_BAND_11': 0.00033420001273043454,\n",
              "    'RADIANCE_MULT_BAND_2': 0.012551000341773033,\n",
              "    'RADIANCE_MULT_BAND_3': 0.011566000059247017,\n",
              "    'RADIANCE_MULT_BAND_4': 0.009752700105309486,\n",
              "    'RADIANCE_MULT_BAND_5': 0.005968200042843819,\n",
              "    'RADIANCE_MULT_BAND_6': 0.0014842000091448426,\n",
              "    'RADIANCE_MULT_BAND_7': 0.0005002699908800423,\n",
              "    'RADIANCE_MULT_BAND_8': 0.011037000454962254,\n",
              "    'RADIANCE_MULT_BAND_9': 0.002332499949261546,\n",
              "    'REFLECTANCE_ADD_BAND_1': -0.10000000149011612,\n",
              "    'REFLECTANCE_ADD_BAND_2': -0.10000000149011612,\n",
              "    'REFLECTANCE_ADD_BAND_3': -0.10000000149011612,\n",
              "    'REFLECTANCE_ADD_BAND_4': -0.10000000149011612,\n",
              "    'REFLECTANCE_ADD_BAND_5': -0.10000000149011612,\n",
              "    'REFLECTANCE_ADD_BAND_6': -0.10000000149011612,\n",
              "    'REFLECTANCE_ADD_BAND_7': -0.10000000149011612,\n",
              "    'REFLECTANCE_ADD_BAND_8': -0.10000000149011612,\n",
              "    'REFLECTANCE_ADD_BAND_9': -0.10000000149011612,\n",
              "    'REFLECTANCE_MULT_BAND_1': 1.9999999494757503e-05,\n",
              "    'REFLECTANCE_MULT_BAND_2': 1.9999999494757503e-05,\n",
              "    'REFLECTANCE_MULT_BAND_3': 1.9999999494757503e-05,\n",
              "    'REFLECTANCE_MULT_BAND_4': 1.9999999494757503e-05,\n",
              "    'REFLECTANCE_MULT_BAND_5': 1.9999999494757503e-05,\n",
              "    'REFLECTANCE_MULT_BAND_6': 1.9999999494757503e-05,\n",
              "    'REFLECTANCE_MULT_BAND_7': 1.9999999494757503e-05,\n",
              "    'REFLECTANCE_MULT_BAND_8': 1.9999999494757503e-05,\n",
              "    'REFLECTANCE_MULT_BAND_9': 1.9999999494757503e-05,\n",
              "    'REFLECTIVE_LINES': 8021,\n",
              "    'REFLECTIVE_SAMPLES': 7901,\n",
              "    'REQUEST_ID': '0501703064466_00015',\n",
              "    'RESAMPLING_OPTION': 'CUBIC_CONVOLUTION',\n",
              "    'RLUT_FILE_NAME': 'LC08RLUT_20130211_20150302_01_11.h5',\n",
              "    'ROLL_ANGLE': -0.0010000000474974513,\n",
              "    'SATURATION_BAND_1': 'N',\n",
              "    'SATURATION_BAND_2': 'N',\n",
              "    'SATURATION_BAND_3': 'N',\n",
              "    'SATURATION_BAND_4': 'N',\n",
              "    'SATURATION_BAND_5': 'N',\n",
              "    'SATURATION_BAND_6': 'N',\n",
              "    'SATURATION_BAND_7': 'N',\n",
              "    'SATURATION_BAND_8': 'N',\n",
              "    'SATURATION_BAND_9': 'N',\n",
              "    'SCENE_CENTER_TIME': '15:27:00.8378450Z',\n",
              "    'SENSOR_ID': 'OLI_TIRS',\n",
              "    'SPACECRAFT_ID': 'LANDSAT_8',\n",
              "    'STATION_ID': 'LGN',\n",
              "    'SUN_AZIMUTH': 135.15830993652344,\n",
              "    'SUN_ELEVATION': 64.10098266601562,\n",
              "    'TARGET_WRS_PATH': 12,\n",
              "    'TARGET_WRS_ROW': 32,\n",
              "    'THERMAL_LINES': 8021,\n",
              "    'THERMAL_SAMPLES': 7901,\n",
              "    'TIRS_SSM_MODEL': 'ACTUAL',\n",
              "    'TIRS_SSM_POSITION_STATUS': 'NOMINAL',\n",
              "    'TIRS_STRAY_LIGHT_CORRECTION_SOURCE': 'TIRS',\n",
              "    'TRUNCATION_OLI': 'UPPER',\n",
              "    'UTM_ZONE': 19,\n",
              "    'WRS_PATH': 12,\n",
              "    'WRS_ROW': 32,\n",
              "    'google:registration_count': 6,\n",
              "    'google:registration_offset_x': -36.6876220703125,\n",
              "    'google:registration_offset_y': -56.86767578125,\n",
              "    'google:registration_ratio': 0.5454545617103577,\n",
              "    'system:asset_size': 1158356503,\n",
              "    'system:footprint': {'coordinates': [[-71.0709760466986,\n",
              "       39.28265317440194],\n",
              "      [-70.97072419208075, 39.26271854152181],\n",
              "      [-70.93102945848031, 39.383453315155194],\n",
              "      [-70.84777632032781, 39.63553348523867],\n",
              "      [-70.76901368309369, 39.87250537635731],\n",
              "      [-70.71026040243477, 40.04838305318394],\n",
              "      [-70.67585197222857, 40.151047851216866],\n",
              "      [-70.57898404112208, 40.43861843966511],\n",
              "      [-70.50332201317615, 40.661775923831975],\n",
              "      [-70.423325478226, 40.89635489717436],\n",
              "      [-70.39553156665752, 40.97763482194793],\n",
              "      [-70.88394499634742, 41.07224514637802],\n",
              "      [-71.63702408072675, 41.213506817889716],\n",
              "      [-72.39305081451079, 41.34971983106129],\n",
              "      [-72.60686905553351, 41.38722510372101],\n",
              "      [-72.74715041108152, 40.931459042975106],\n",
              "      [-72.87473044147877, 40.51195504094875],\n",
              "      [-73.00092047980895, 40.09236067327626],\n",
              "      [-73.12655143542194, 39.67002786359109],\n",
              "      [-72.2932978088261, 39.51795813104644],\n",
              "      [-71.36927472069738, 39.34142477674316],\n",
              "      [-71.0709760466986, 39.28265317440194]],\n",
              "     'type': 'LinearRing'},\n",
              "    'system:index': 'LC08_012032_20140521',\n",
              "    'system:time_start': 1400686020840},\n",
              "   'type': 'Image',\n",
              "   'version': 1497557052062000.0},\n",
              "  {'bands': [{'crs': 'EPSG:32619',\n",
              "     'crs_transform': [30, 0, 144885, 0, -30, 4588215],\n",
              "     'data_type': {'max': 65535,\n",
              "      'min': 0,\n",
              "      'precision': 'int',\n",
              "      'type': 'PixelType'},\n",
              "     'dimensions': [7901, 8021],\n",
              "     'id': 'B1'},\n",
              "    {'crs': 'EPSG:32619',\n",
              "     'crs_transform': [30, 0, 144885, 0, -30, 4588215],\n",
              "     'data_type': {'max': 65535,\n",
              "      'min': 0,\n",
              "      'precision': 'int',\n",
              "      'type': 'PixelType'},\n",
              "     'dimensions': [7901, 8021],\n",
              "     'id': 'B2'},\n",
              "    {'crs': 'EPSG:32619',\n",
              "     'crs_transform': [30, 0, 144885, 0, -30, 4588215],\n",
              "     'data_type': {'max': 65535,\n",
              "      'min': 0,\n",
              "      'precision': 'int',\n",
              "      'type': 'PixelType'},\n",
              "     'dimensions': [7901, 8021],\n",
              "     'id': 'B3'},\n",
              "    {'crs': 'EPSG:32619',\n",
              "     'crs_transform': [30, 0, 144885, 0, -30, 4588215],\n",
              "     'data_type': {'max': 65535,\n",
              "      'min': 0,\n",
              "      'precision': 'int',\n",
              "      'type': 'PixelType'},\n",
              "     'dimensions': [7901, 8021],\n",
              "     'id': 'B4'},\n",
              "    {'crs': 'EPSG:32619',\n",
              "     'crs_transform': [30, 0, 144885, 0, -30, 4588215],\n",
              "     'data_type': {'max': 65535,\n",
              "      'min': 0,\n",
              "      'precision': 'int',\n",
              "      'type': 'PixelType'},\n",
              "     'dimensions': [7901, 8021],\n",
              "     'id': 'B5'},\n",
              "    {'crs': 'EPSG:32619',\n",
              "     'crs_transform': [30, 0, 144885, 0, -30, 4588215],\n",
              "     'data_type': {'max': 65535,\n",
              "      'min': 0,\n",
              "      'precision': 'int',\n",
              "      'type': 'PixelType'},\n",
              "     'dimensions': [7901, 8021],\n",
              "     'id': 'B6'},\n",
              "    {'crs': 'EPSG:32619',\n",
              "     'crs_transform': [30, 0, 144885, 0, -30, 4588215],\n",
              "     'data_type': {'max': 65535,\n",
              "      'min': 0,\n",
              "      'precision': 'int',\n",
              "      'type': 'PixelType'},\n",
              "     'dimensions': [7901, 8021],\n",
              "     'id': 'B7'},\n",
              "    {'crs': 'EPSG:32619',\n",
              "     'crs_transform': [15, 0, 144892.5, 0, -15, 4588207.5],\n",
              "     'data_type': {'max': 65535,\n",
              "      'min': 0,\n",
              "      'precision': 'int',\n",
              "      'type': 'PixelType'},\n",
              "     'dimensions': [15801, 16041],\n",
              "     'id': 'B8'},\n",
              "    {'crs': 'EPSG:32619',\n",
              "     'crs_transform': [30, 0, 144885, 0, -30, 4588215],\n",
              "     'data_type': {'max': 65535,\n",
              "      'min': 0,\n",
              "      'precision': 'int',\n",
              "      'type': 'PixelType'},\n",
              "     'dimensions': [7901, 8021],\n",
              "     'id': 'B9'},\n",
              "    {'crs': 'EPSG:32619',\n",
              "     'crs_transform': [30, 0, 144885, 0, -30, 4588215],\n",
              "     'data_type': {'max': 65535,\n",
              "      'min': 0,\n",
              "      'precision': 'int',\n",
              "      'type': 'PixelType'},\n",
              "     'dimensions': [7901, 8021],\n",
              "     'id': 'B10'},\n",
              "    {'crs': 'EPSG:32619',\n",
              "     'crs_transform': [30, 0, 144885, 0, -30, 4588215],\n",
              "     'data_type': {'max': 65535,\n",
              "      'min': 0,\n",
              "      'precision': 'int',\n",
              "      'type': 'PixelType'},\n",
              "     'dimensions': [7901, 8021],\n",
              "     'id': 'B11'},\n",
              "    {'crs': 'EPSG:32619',\n",
              "     'crs_transform': [30, 0, 144885, 0, -30, 4588215],\n",
              "     'data_type': {'max': 65535,\n",
              "      'min': 0,\n",
              "      'precision': 'int',\n",
              "      'type': 'PixelType'},\n",
              "     'dimensions': [7901, 8021],\n",
              "     'id': 'BQA'}],\n",
              "   'id': 'LANDSAT/LC08/C01/T1/LC08_012032_20140606',\n",
              "   'properties': {'BPF_NAME_OLI': 'LO8BPF20140606151351_20140606153803.02',\n",
              "    'BPF_NAME_TIRS': 'LT8BPF20140606150957_20140606153856.02',\n",
              "    'CLOUD_COVER': 4.150000095367432,\n",
              "    'CLOUD_COVER_LAND': 12.229999542236328,\n",
              "    'COLLECTION_CATEGORY': 'T1',\n",
              "    'COLLECTION_NUMBER': 1,\n",
              "    'CPF_NAME': 'LC08CPF_20140401_20140630_01.01',\n",
              "    'DATA_TYPE': 'L1TP',\n",
              "    'DATE_ACQUIRED': '2014-06-06',\n",
              "    'DATUM': 'WGS84',\n",
              "    'EARTH_SUN_DISTANCE': 1.0147498846054077,\n",
              "    'ELEVATION_SOURCE': 'GLS2000',\n",
              "    'ELLIPSOID': 'WGS84',\n",
              "    'FILE_DATE': 1488684512000,\n",
              "    'GEOMETRIC_RMSE_MODEL': 7.294000148773193,\n",
              "    'GEOMETRIC_RMSE_MODEL_X': 4.741000175476074,\n",
              "    'GEOMETRIC_RMSE_MODEL_Y': 5.543000221252441,\n",
              "    'GEOMETRIC_RMSE_VERIFY': 6.593999862670898,\n",
              "    'GRID_CELL_SIZE_PANCHROMATIC': 15,\n",
              "    'GRID_CELL_SIZE_REFLECTIVE': 30,\n",
              "    'GRID_CELL_SIZE_THERMAL': 30,\n",
              "    'GROUND_CONTROL_POINTS_MODEL': 178,\n",
              "    'GROUND_CONTROL_POINTS_VERIFY': 35,\n",
              "    'GROUND_CONTROL_POINTS_VERSION': 4,\n",
              "    'IMAGE_QUALITY_OLI': 9,\n",
              "    'IMAGE_QUALITY_TIRS': 9,\n",
              "    'K1_CONSTANT_BAND_10': 774.8853149414062,\n",
              "    'K1_CONSTANT_BAND_11': 480.8883056640625,\n",
              "    'K2_CONSTANT_BAND_10': 1321.078857421875,\n",
              "    'K2_CONSTANT_BAND_11': 1201.1441650390625,\n",
              "    'LANDSAT_PRODUCT_ID': 'LC08_L1TP_012032_20140606_20170305_01_T1',\n",
              "    'LANDSAT_SCENE_ID': 'LC80120322014157LGN01',\n",
              "    'MAP_PROJECTION': 'UTM',\n",
              "    'NADIR_OFFNADIR': 'NADIR',\n",
              "    'ORIENTATION': 'NORTH_UP',\n",
              "    'PANCHROMATIC_LINES': 16041,\n",
              "    'PANCHROMATIC_SAMPLES': 15801,\n",
              "    'PROCESSING_SOFTWARE_VERSION': 'LPGS_2.7.0',\n",
              "    'RADIANCE_ADD_BAND_1': -60.96699905395508,\n",
              "    'RADIANCE_ADD_BAND_10': 0.10000000149011612,\n",
              "    'RADIANCE_ADD_BAND_11': 0.10000000149011612,\n",
              "    'RADIANCE_ADD_BAND_2': -62.43095016479492,\n",
              "    'RADIANCE_ADD_BAND_3': -57.52959060668945,\n",
              "    'RADIANCE_ADD_BAND_4': -48.51219177246094,\n",
              "    'RADIANCE_ADD_BAND_5': -29.687040328979492,\n",
              "    'RADIANCE_ADD_BAND_6': -7.382900238037109,\n",
              "    'RADIANCE_ADD_BAND_7': -2.4884300231933594,\n",
              "    'RADIANCE_ADD_BAND_8': -54.90245056152344,\n",
              "    'RADIANCE_ADD_BAND_9': -11.602370262145996,\n",
              "    'RADIANCE_MULT_BAND_1': 0.012192999944090843,\n",
              "    'RADIANCE_MULT_BAND_10': 0.00033420001273043454,\n",
              "    'RADIANCE_MULT_BAND_11': 0.00033420001273043454,\n",
              "    'RADIANCE_MULT_BAND_2': 0.01248599961400032,\n",
              "    'RADIANCE_MULT_BAND_3': 0.011505999602377415,\n",
              "    'RADIANCE_MULT_BAND_4': 0.009702400304377079,\n",
              "    'RADIANCE_MULT_BAND_5': 0.005937399808317423,\n",
              "    'RADIANCE_MULT_BAND_6': 0.001476599951274693,\n",
              "    'RADIANCE_MULT_BAND_7': 0.0004976899945177138,\n",
              "    'RADIANCE_MULT_BAND_8': 0.010979999788105488,\n",
              "    'RADIANCE_MULT_BAND_9': 0.0023205000907182693,\n",
              "    'REFLECTANCE_ADD_BAND_1': -0.10000000149011612,\n",
              "    'REFLECTANCE_ADD_BAND_2': -0.10000000149011612,\n",
              "    'REFLECTANCE_ADD_BAND_3': -0.10000000149011612,\n",
              "    'REFLECTANCE_ADD_BAND_4': -0.10000000149011612,\n",
              "    'REFLECTANCE_ADD_BAND_5': -0.10000000149011612,\n",
              "    'REFLECTANCE_ADD_BAND_6': -0.10000000149011612,\n",
              "    'REFLECTANCE_ADD_BAND_7': -0.10000000149011612,\n",
              "    'REFLECTANCE_ADD_BAND_8': -0.10000000149011612,\n",
              "    'REFLECTANCE_ADD_BAND_9': -0.10000000149011612,\n",
              "    'REFLECTANCE_MULT_BAND_1': 1.9999999494757503e-05,\n",
              "    'REFLECTANCE_MULT_BAND_2': 1.9999999494757503e-05,\n",
              "    'REFLECTANCE_MULT_BAND_3': 1.9999999494757503e-05,\n",
              "    'REFLECTANCE_MULT_BAND_4': 1.9999999494757503e-05,\n",
              "    'REFLECTANCE_MULT_BAND_5': 1.9999999494757503e-05,\n",
              "    'REFLECTANCE_MULT_BAND_6': 1.9999999494757503e-05,\n",
              "    'REFLECTANCE_MULT_BAND_7': 1.9999999494757503e-05,\n",
              "    'REFLECTANCE_MULT_BAND_8': 1.9999999494757503e-05,\n",
              "    'REFLECTANCE_MULT_BAND_9': 1.9999999494757503e-05,\n",
              "    'REFLECTIVE_LINES': 8021,\n",
              "    'REFLECTIVE_SAMPLES': 7901,\n",
              "    'REQUEST_ID': '0501703043419_00015',\n",
              "    'RESAMPLING_OPTION': 'CUBIC_CONVOLUTION',\n",
              "    'RLUT_FILE_NAME': 'LC08RLUT_20130211_20150302_01_11.h5',\n",
              "    'ROLL_ANGLE': -0.0010000000474974513,\n",
              "    'SATURATION_BAND_1': 'N',\n",
              "    'SATURATION_BAND_2': 'N',\n",
              "    'SATURATION_BAND_3': 'Y',\n",
              "    'SATURATION_BAND_4': 'N',\n",
              "    'SATURATION_BAND_5': 'Y',\n",
              "    'SATURATION_BAND_6': 'Y',\n",
              "    'SATURATION_BAND_7': 'Y',\n",
              "    'SATURATION_BAND_8': 'N',\n",
              "    'SATURATION_BAND_9': 'N',\n",
              "    'SCENE_CENTER_TIME': '15:27:10.1268960Z',\n",
              "    'SENSOR_ID': 'OLI_TIRS',\n",
              "    'SPACECRAFT_ID': 'LANDSAT_8',\n",
              "    'STATION_ID': 'LGN',\n",
              "    'SUN_AZIMUTH': 130.8376007080078,\n",
              "    'SUN_ELEVATION': 65.76978302001953,\n",
              "    'TARGET_WRS_PATH': 12,\n",
              "    'TARGET_WRS_ROW': 32,\n",
              "    'THERMAL_LINES': 8021,\n",
              "    'THERMAL_SAMPLES': 7901,\n",
              "    'TIRS_SSM_MODEL': 'ACTUAL',\n",
              "    'TIRS_SSM_POSITION_STATUS': 'NOMINAL',\n",
              "    'TIRS_STRAY_LIGHT_CORRECTION_SOURCE': 'TIRS',\n",
              "    'TRUNCATION_OLI': 'UPPER',\n",
              "    'UTM_ZONE': 19,\n",
              "    'WRS_PATH': 12,\n",
              "    'WRS_ROW': 32,\n",
              "    'google:registration_count': 5,\n",
              "    'google:registration_offset_x': -350.68212890625,\n",
              "    'google:registration_offset_y': 79.388671875,\n",
              "    'google:registration_ratio': 0.625,\n",
              "    'system:asset_size': 1071144432,\n",
              "    'system:footprint': {'coordinates': [[-72.5124161816415, 41.3692336710775],\n",
              "      [-72.61656054543366, 41.3874362586179],\n",
              "      [-72.77323557396193, 40.87812718216725],\n",
              "      [-72.89501982289909, 40.47723016918688],\n",
              "      [-73.01553867898149, 40.07625136965415],\n",
              "      [-73.13624912048739, 39.67040345203188],\n",
              "      [-73.12380087818067, 39.66812828322863],\n",
              "      [-72.88170669202817, 39.62460847381735],\n",
              "      [-71.62271093228294, 39.38909429339407],\n",
              "      [-70.98500955146, 39.2639023975184],\n",
              "      [-70.980524018563, 39.26311136131096],\n",
              "      [-70.89505108800508, 39.52249041793195],\n",
              "      [-70.820849756532, 39.746404640467865],\n",
              "      [-70.75505971133418, 39.94392849895599],\n",
              "      [-70.646948515904, 40.266595816204116],\n",
              "      [-70.57863455494996, 40.469027047411146],\n",
              "      [-70.51643587556313, 40.6524396193729],\n",
              "      [-70.43810742881367, 40.882142677995496],\n",
              "      [-70.40536756105031, 40.97783026476474],\n",
              "      [-70.54117122640875, 41.004378292333435],\n",
              "      [-71.52425434414029, 41.19110940981288],\n",
              "      [-72.5124161816415, 41.3692336710775]],\n",
              "     'type': 'LinearRing'},\n",
              "    'system:index': 'LC08_012032_20140606',\n",
              "    'system:time_start': 1402068430130},\n",
              "   'type': 'Image',\n",
              "   'version': 1497587390071000.0},\n",
              "  {'bands': [{'crs': 'EPSG:32619',\n",
              "     'crs_transform': [30, 0, 146085, 0, -30, 4588215],\n",
              "     'data_type': {'max': 65535,\n",
              "      'min': 0,\n",
              "      'precision': 'int',\n",
              "      'type': 'PixelType'},\n",
              "     'dimensions': [7901, 8021],\n",
              "     'id': 'B1'},\n",
              "    {'crs': 'EPSG:32619',\n",
              "     'crs_transform': [30, 0, 146085, 0, -30, 4588215],\n",
              "     'data_type': {'max': 65535,\n",
              "      'min': 0,\n",
              "      'precision': 'int',\n",
              "      'type': 'PixelType'},\n",
              "     'dimensions': [7901, 8021],\n",
              "     'id': 'B2'},\n",
              "    {'crs': 'EPSG:32619',\n",
              "     'crs_transform': [30, 0, 146085, 0, -30, 4588215],\n",
              "     'data_type': {'max': 65535,\n",
              "      'min': 0,\n",
              "      'precision': 'int',\n",
              "      'type': 'PixelType'},\n",
              "     'dimensions': [7901, 8021],\n",
              "     'id': 'B3'},\n",
              "    {'crs': 'EPSG:32619',\n",
              "     'crs_transform': [30, 0, 146085, 0, -30, 4588215],\n",
              "     'data_type': {'max': 65535,\n",
              "      'min': 0,\n",
              "      'precision': 'int',\n",
              "      'type': 'PixelType'},\n",
              "     'dimensions': [7901, 8021],\n",
              "     'id': 'B4'},\n",
              "    {'crs': 'EPSG:32619',\n",
              "     'crs_transform': [30, 0, 146085, 0, -30, 4588215],\n",
              "     'data_type': {'max': 65535,\n",
              "      'min': 0,\n",
              "      'precision': 'int',\n",
              "      'type': 'PixelType'},\n",
              "     'dimensions': [7901, 8021],\n",
              "     'id': 'B5'},\n",
              "    {'crs': 'EPSG:32619',\n",
              "     'crs_transform': [30, 0, 146085, 0, -30, 4588215],\n",
              "     'data_type': {'max': 65535,\n",
              "      'min': 0,\n",
              "      'precision': 'int',\n",
              "      'type': 'PixelType'},\n",
              "     'dimensions': [7901, 8021],\n",
              "     'id': 'B6'},\n",
              "    {'crs': 'EPSG:32619',\n",
              "     'crs_transform': [30, 0, 146085, 0, -30, 4588215],\n",
              "     'data_type': {'max': 65535,\n",
              "      'min': 0,\n",
              "      'precision': 'int',\n",
              "      'type': 'PixelType'},\n",
              "     'dimensions': [7901, 8021],\n",
              "     'id': 'B7'},\n",
              "    {'crs': 'EPSG:32619',\n",
              "     'crs_transform': [15, 0, 146092.5, 0, -15, 4588207.5],\n",
              "     'data_type': {'max': 65535,\n",
              "      'min': 0,\n",
              "      'precision': 'int',\n",
              "      'type': 'PixelType'},\n",
              "     'dimensions': [15801, 16041],\n",
              "     'id': 'B8'},\n",
              "    {'crs': 'EPSG:32619',\n",
              "     'crs_transform': [30, 0, 146085, 0, -30, 4588215],\n",
              "     'data_type': {'max': 65535,\n",
              "      'min': 0,\n",
              "      'precision': 'int',\n",
              "      'type': 'PixelType'},\n",
              "     'dimensions': [7901, 8021],\n",
              "     'id': 'B9'},\n",
              "    {'crs': 'EPSG:32619',\n",
              "     'crs_transform': [30, 0, 146085, 0, -30, 4588215],\n",
              "     'data_type': {'max': 65535,\n",
              "      'min': 0,\n",
              "      'precision': 'int',\n",
              "      'type': 'PixelType'},\n",
              "     'dimensions': [7901, 8021],\n",
              "     'id': 'B10'},\n",
              "    {'crs': 'EPSG:32619',\n",
              "     'crs_transform': [30, 0, 146085, 0, -30, 4588215],\n",
              "     'data_type': {'max': 65535,\n",
              "      'min': 0,\n",
              "      'precision': 'int',\n",
              "      'type': 'PixelType'},\n",
              "     'dimensions': [7901, 8021],\n",
              "     'id': 'B11'},\n",
              "    {'crs': 'EPSG:32619',\n",
              "     'crs_transform': [30, 0, 146085, 0, -30, 4588215],\n",
              "     'data_type': {'max': 65535,\n",
              "      'min': 0,\n",
              "      'precision': 'int',\n",
              "      'type': 'PixelType'},\n",
              "     'dimensions': [7901, 8021],\n",
              "     'id': 'BQA'}],\n",
              "   'id': 'LANDSAT/LC08/C01/T1/LC08_012032_20140622',\n",
              "   'properties': {'BPF_NAME_OLI': 'LO8BPF20140622151354_20140622153806.01',\n",
              "    'BPF_NAME_TIRS': 'LT8BPF20140622151000_20140622153859.01',\n",
              "    'CLOUD_COVER': 36.18000030517578,\n",
              "    'CLOUD_COVER_LAND': 1.809999942779541,\n",
              "    'COLLECTION_CATEGORY': 'T1',\n",
              "    'COLLECTION_NUMBER': 1,\n",
              "    'CPF_NAME': 'LC08CPF_20140401_20140630_01.01',\n",
              "    'DATA_TYPE': 'L1TP',\n",
              "    'DATE_ACQUIRED': '2014-06-22',\n",
              "    'DATUM': 'WGS84',\n",
              "    'EARTH_SUN_DISTANCE': 1.0163145065307617,\n",
              "    'ELEVATION_SOURCE': 'GLS2000',\n",
              "    'ELLIPSOID': 'WGS84',\n",
              "    'FILE_DATE': 1488663136000,\n",
              "    'GEOMETRIC_RMSE_MODEL': 7.922999858856201,\n",
              "    'GEOMETRIC_RMSE_MODEL_X': 4.609000205993652,\n",
              "    'GEOMETRIC_RMSE_MODEL_Y': 6.445000171661377,\n",
              "    'GEOMETRIC_RMSE_VERIFY': 5.441999912261963,\n",
              "    'GRID_CELL_SIZE_PANCHROMATIC': 15,\n",
              "    'GRID_CELL_SIZE_REFLECTIVE': 30,\n",
              "    'GRID_CELL_SIZE_THERMAL': 30,\n",
              "    'GROUND_CONTROL_POINTS_MODEL': 191,\n",
              "    'GROUND_CONTROL_POINTS_VERIFY': 33,\n",
              "    'GROUND_CONTROL_POINTS_VERSION': 4,\n",
              "    'IMAGE_QUALITY_OLI': 9,\n",
              "    'IMAGE_QUALITY_TIRS': 9,\n",
              "    'K1_CONSTANT_BAND_10': 774.8853149414062,\n",
              "    'K1_CONSTANT_BAND_11': 480.8883056640625,\n",
              "    'K2_CONSTANT_BAND_10': 1321.078857421875,\n",
              "    'K2_CONSTANT_BAND_11': 1201.1441650390625,\n",
              "    'LANDSAT_PRODUCT_ID': 'LC08_L1TP_012032_20140622_20170304_01_T1',\n",
              "    'LANDSAT_SCENE_ID': 'LC80120322014173LGN01',\n",
              "    'MAP_PROJECTION': 'UTM',\n",
              "    'NADIR_OFFNADIR': 'NADIR',\n",
              "    'ORIENTATION': 'NORTH_UP',\n",
              "    'PANCHROMATIC_LINES': 16041,\n",
              "    'PANCHROMATIC_SAMPLES': 15801,\n",
              "    'PROCESSING_SOFTWARE_VERSION': 'LPGS_2.7.0',\n",
              "    'RADIANCE_ADD_BAND_1': -60.7794303894043,\n",
              "    'RADIANCE_ADD_BAND_10': 0.10000000149011612,\n",
              "    'RADIANCE_ADD_BAND_11': 0.10000000149011612,\n",
              "    'RADIANCE_ADD_BAND_2': -62.2388801574707,\n",
              "    'RADIANCE_ADD_BAND_3': -57.35260009765625,\n",
              "    'RADIANCE_ADD_BAND_4': -48.36294174194336,\n",
              "    'RADIANCE_ADD_BAND_5': -29.59571075439453,\n",
              "    'RADIANCE_ADD_BAND_6': -7.360179901123047,\n",
              "    'RADIANCE_ADD_BAND_7': -2.4807798862457275,\n",
              "    'RADIANCE_ADD_BAND_8': -54.73353958129883,\n",
              "    'RADIANCE_ADD_BAND_9': -11.566670417785645,\n",
              "    'RADIANCE_MULT_BAND_1': 0.01215600036084652,\n",
              "    'RADIANCE_MULT_BAND_10': 0.00033420001273043454,\n",
              "    'RADIANCE_MULT_BAND_11': 0.00033420001273043454,\n",
              "    'RADIANCE_MULT_BAND_2': 0.01244799979031086,\n",
              "    'RADIANCE_MULT_BAND_3': 0.01147099956870079,\n",
              "    'RADIANCE_MULT_BAND_4': 0.009672599844634533,\n",
              "    'RADIANCE_MULT_BAND_5': 0.005919099785387516,\n",
              "    'RADIANCE_MULT_BAND_6': 0.0014720000326633453,\n",
              "    'RADIANCE_MULT_BAND_7': 0.0004961600061506033,\n",
              "    'RADIANCE_MULT_BAND_8': 0.010947000235319138,\n",
              "    'RADIANCE_MULT_BAND_9': 0.002313300035893917,\n",
              "    'REFLECTANCE_ADD_BAND_1': -0.10000000149011612,\n",
              "    'REFLECTANCE_ADD_BAND_2': -0.10000000149011612,\n",
              "    'REFLECTANCE_ADD_BAND_3': -0.10000000149011612,\n",
              "    'REFLECTANCE_ADD_BAND_4': -0.10000000149011612,\n",
              "    'REFLECTANCE_ADD_BAND_5': -0.10000000149011612,\n",
              "    'REFLECTANCE_ADD_BAND_6': -0.10000000149011612,\n",
              "    'REFLECTANCE_ADD_BAND_7': -0.10000000149011612,\n",
              "    'REFLECTANCE_ADD_BAND_8': -0.10000000149011612,\n",
              "    'REFLECTANCE_ADD_BAND_9': -0.10000000149011612,\n",
              "    'REFLECTANCE_MULT_BAND_1': 1.9999999494757503e-05,\n",
              "    'REFLECTANCE_MULT_BAND_2': 1.9999999494757503e-05,\n",
              "    'REFLECTANCE_MULT_BAND_3': 1.9999999494757503e-05,\n",
              "    'REFLECTANCE_MULT_BAND_4': 1.9999999494757503e-05,\n",
              "    'REFLECTANCE_MULT_BAND_5': 1.9999999494757503e-05,\n",
              "    'REFLECTANCE_MULT_BAND_6': 1.9999999494757503e-05,\n",
              "    'REFLECTANCE_MULT_BAND_7': 1.9999999494757503e-05,\n",
              "    'REFLECTANCE_MULT_BAND_8': 1.9999999494757503e-05,\n",
              "    'REFLECTANCE_MULT_BAND_9': 1.9999999494757503e-05,\n",
              "    'REFLECTIVE_LINES': 8021,\n",
              "    'REFLECTIVE_SAMPLES': 7901,\n",
              "    'REQUEST_ID': '0501703043278_00015',\n",
              "    'RESAMPLING_OPTION': 'CUBIC_CONVOLUTION',\n",
              "    'RLUT_FILE_NAME': 'LC08RLUT_20130211_20150302_01_11.h5',\n",
              "    'ROLL_ANGLE': -0.0010000000474974513,\n",
              "    'SATURATION_BAND_1': 'N',\n",
              "    'SATURATION_BAND_2': 'N',\n",
              "    'SATURATION_BAND_3': 'N',\n",
              "    'SATURATION_BAND_4': 'N',\n",
              "    'SATURATION_BAND_5': 'N',\n",
              "    'SATURATION_BAND_6': 'Y',\n",
              "    'SATURATION_BAND_7': 'Y',\n",
              "    'SATURATION_BAND_8': 'N',\n",
              "    'SATURATION_BAND_9': 'N',\n",
              "    'SCENE_CENTER_TIME': '15:27:13.4981680Z',\n",
              "    'SENSOR_ID': 'OLI_TIRS',\n",
              "    'SPACECRAFT_ID': 'LANDSAT_8',\n",
              "    'STATION_ID': 'LGN',\n",
              "    'SUN_AZIMUTH': 128.28732299804688,\n",
              "    'SUN_ELEVATION': 65.87274169921875,\n",
              "    'TARGET_WRS_PATH': 12,\n",
              "    'TARGET_WRS_ROW': 32,\n",
              "    'THERMAL_LINES': 8021,\n",
              "    'THERMAL_SAMPLES': 7901,\n",
              "    'TIRS_SSM_MODEL': 'ACTUAL',\n",
              "    'TIRS_SSM_POSITION_STATUS': 'NOMINAL',\n",
              "    'TIRS_STRAY_LIGHT_CORRECTION_SOURCE': 'TIRS',\n",
              "    'TRUNCATION_OLI': 'UPPER',\n",
              "    'UTM_ZONE': 19,\n",
              "    'WRS_PATH': 12,\n",
              "    'WRS_ROW': 32,\n",
              "    'google:registration_count': 4,\n",
              "    'google:registration_offset_x': 68.07403564453125,\n",
              "    'google:registration_offset_y': 100.00762939453125,\n",
              "    'google:registration_ratio': 0.25,\n",
              "    'system:asset_size': 1122190851,\n",
              "    'system:footprint': {'coordinates': [[-70.39240505669235,\n",
              "       40.97602531420106],\n",
              "      [-70.39244555705181, 40.97795347210258],\n",
              "      [-71.61696460557992, 41.21072231254466],\n",
              "      [-72.60281559930237, 41.38740776043677],\n",
              "      [-72.60667378363809, 41.37536009712929],\n",
              "      [-72.76449573449158, 40.862101717881664],\n",
              "      [-72.8845140813046, 40.466844886008545],\n",
              "      [-73.00330276503264, 40.07150840018495],\n",
              "      [-73.1226245404485, 39.670265605411274],\n",
              "      [-72.1153902132585, 39.4855738645516],\n",
              "      [-71.2859322419422, 39.326064560813414],\n",
              "      [-70.9669824215894, 39.26293914007981],\n",
              "      [-70.89078713977318, 39.49443987924554],\n",
              "      [-70.81474671720882, 39.724128120011784],\n",
              "      [-70.76746003631814, 39.866306095566145],\n",
              "      [-70.72243613593788, 40.00117540021108],\n",
              "      [-70.66099435310474, 40.18450488929499],\n",
              "      [-70.54861260486753, 40.51767388074664],\n",
              "      [-70.46950679668598, 40.75046588127333],\n",
              "      [-70.39240505669235, 40.97602531420106]],\n",
              "     'type': 'LinearRing'},\n",
              "    'system:index': 'LC08_012032_20140622',\n",
              "    'system:time_start': 1403450833500},\n",
              "   'type': 'Image',\n",
              "   'version': 1497588090826000.0}],\n",
              " 'id': 'LANDSAT/LC08/C01/T1',\n",
              " 'properties': {'date_range': [1365638400000, 1588809600000],\n",
              "  'description': '<p>Landsat 8 Collection 1 Tier 1 DN values, representing scaled, calibrated at-sensor radiance.</p><p>Landsat scenes with the highest available data quality\\nare placed into Tier 1 and are considered suitable for time-series processing\\nanalysis. Tier 1 includes Level-1 Precision Terrain (L1TP) processed data\\nthat have well-characterized radiometry and are inter-calibrated across the\\ndifferent Landsat sensors. The georegistration of Tier 1 scenes will be\\nconsistent and within prescribed tolerances [<=12 m root mean square error\\n(RMSE)]. All Tier 1 Landsat data can be considered consistent and\\ninter-calibrated (regardless of sensor) across the full collection. See more information\\n<a href=\"https://landsat.usgs.gov/landsat-collections\">in the USGS docs.</a></p><p>For more information, see <a\\nhref=\"https://www.usgs.gov/land-resources/nli/landsat/landsat-8-data-users-handbook\">\\nLandsat 8 Handbook</a></p><p><b>Revisit Interval</b><br>\\n  16 days\\n</p><p><b>Bands</b><table class=\"eecat\"><tr><th scope=\"col\">Name</th><th scope=\"col\">Resolution</th><th scope=\"col\">Wavelength</th><th scope=\"col\">Description</th></tr><tr><td>B1</td><td>\\n      30 meters\\n</td><td>0.43 - 0.45 µm</td><td><p>Coastal aerosol</p></td></tr><tr><td>B2</td><td>\\n      30 meters\\n</td><td>0.45 - 0.51 µm</td><td><p>Blue</p></td></tr><tr><td>B3</td><td>\\n      30 meters\\n</td><td>0.53 - 0.59 µm</td><td><p>Green</p></td></tr><tr><td>B4</td><td>\\n      30 meters\\n</td><td>0.64 - 0.67 µm</td><td><p>Red</p></td></tr><tr><td>B5</td><td>\\n      30 meters\\n</td><td>0.85 - 0.88 µm</td><td><p>Near infrared</p></td></tr><tr><td>B6</td><td>\\n      30 meters\\n</td><td>1.57 - 1.65 µm</td><td><p>Shortwave infrared 1</p></td></tr><tr><td>B7</td><td>\\n      30 meters\\n</td><td>2.11 - 2.29 µm</td><td><p>Shortwave infrared 2</p></td></tr><tr><td>B8</td><td>\\n      15 meters\\n</td><td>0.52 - 0.90 µm</td><td><p>Band 8 Panchromatic</p></td></tr><tr><td>B9</td><td>\\n      15 meters\\n</td><td>1.36 - 1.38 µm</td><td><p>Cirrus</p></td></tr><tr><td>B10</td><td>\\n      30 meters\\n</td><td>10.60 - 11.19 µm</td><td><p>Thermal infrared 1, resampled from 100m to 30m</p></td></tr><tr><td>B11</td><td>\\n      30 meters\\n</td><td>11.50 - 12.51 µm</td><td><p>Thermal infrared 2, resampled from 100m to 30m</p></td></tr><tr><td>BQA</td><td></td><td></td><td><p>Landsat Collection 1 QA Bitmask (<a href=\"https://www.usgs.gov/land-resources/nli/landsat/landsat-collection-1-level-1-quality-assessment-band\">See Landsat QA page</a>)</p></td></tr><tr><td colspan=100>\\n      Bitmask for BQA\\n<ul><li>\\n          Bit 0: Designated Fill\\n<ul><li>0: No</li><li>1: Yes</li></ul></li><li>\\n          Bit 1: Terrain Occlusion\\n<ul><li>0: No</li><li>1: Yes</li></ul></li><li>\\n          Bits 2-3: Radiometric Saturation\\n<ul><li>0: No bands contain saturation</li><li>1: 1-2 bands contain saturation</li><li>2: 3-4 bands contain saturation</li><li>3: 5 or more bands contain saturation</li></ul></li><li>\\n          Bit 4: Cloud\\n<ul><li>0: No</li><li>1: Yes</li></ul></li><li>\\n          Bits 5-6: Cloud Confidence\\n<ul><li>0: Not Determined / Condition does not exist.</li><li>1: Low, (0-33 percent confidence)</li><li>2: Medium, (34-66 percent confidence)</li><li>3: High, (67-100 percent confidence)</li></ul></li><li>\\n          Bits 7-8: Cloud Shadow Confidence\\n<ul><li>0: Not Determined / Condition does not exist.</li><li>1: Low, (0-33 percent confidence)</li><li>2: Medium, (34-66 percent confidence)</li><li>3: High, (67-100 percent confidence)</li></ul></li><li>\\n          Bits 9-10: Snow / Ice Confidence\\n<ul><li>0: Not Determined / Condition does not exist.</li><li>1: Low, (0-33 percent confidence)</li><li>2: Medium, (34-66 percent confidence)</li><li>3: High, (67-100 percent confidence)</li></ul></li><li>\\n          Bits 11-12: Cirrus Confidence\\n<ul><li>0: Not Determined / Condition does not exist.</li><li>1: Low, (0-33 percent confidence)</li><li>2: Medium, (34-66 percent confidence)</li><li>3: High, (67-100 percent confidence)</li></ul></li></ul></td></tr></table><p><b>Image Properties</b><table class=\"eecat\"><tr><th scope=\"col\">Name</th><th scope=\"col\">Type</th><th scope=\"col\">Description</th></tr><tr><td>BPF_NAME_OLI</td><td>STRING</td><td><p>The file name for the Bias Parameter File (BPF) used to generate the product, if applicable. This only applies to products that contain OLI bands.</p></td></tr><tr><td>BPF_NAME_TIRS</td><td>STRING</td><td><p>The file name for the Bias Parameter File (BPF) used to generate the product, if applicable. This only applies to products that contain TIRS bands.</p></td></tr><tr><td>CLOUD_COVER</td><td>DOUBLE</td><td><p>Percentage cloud cover, -1 = not calculated.</p></td></tr><tr><td>CLOUD_COVER_LAND</td><td>DOUBLE</td><td><p>Percentage cloud cover over land, -1 = not calculated.</p></td></tr><tr><td>COLLECTION_CATEGORY</td><td>STRING</td><td><p>Tier of scene. (T1 or T2)</p></td></tr><tr><td>COLLECTION_NUMBER</td><td>DOUBLE</td><td><p>Number of collection.</p></td></tr><tr><td>CPF_NAME</td><td>STRING</td><td><p>Calibration parameter file name.</p></td></tr><tr><td>DATA_TYPE</td><td>STRING</td><td><p>Data type identifier. (L1T or L1G)</p></td></tr><tr><td>DATE_ACQUIRED</td><td>STRING</td><td><p>Image acquisition date. &quot;YYYY-MM-DD&quot;</p></td></tr><tr><td>DATUM</td><td>STRING</td><td><p>Datum used in image creation.</p></td></tr><tr><td>EARTH_SUN_DISTANCE</td><td>DOUBLE</td><td><p>Earth sun distance in astronomical units (AU).</p></td></tr><tr><td>ELEVATION_SOURCE</td><td>STRING</td><td><p>Elevation model source used for standard terrain corrected (L1T) products.</p></td></tr><tr><td>ELLIPSOID</td><td>STRING</td><td><p>Ellipsoid used in image creation.</p></td></tr><tr><td>EPHEMERIS_TYPE</td><td>STRING</td><td><p>Ephemeris data type used to perform geometric correction. (Definitive or Predictive)</p></td></tr><tr><td>FILE_DATE</td><td>DOUBLE</td><td><p>File date in milliseconds since epoch.</p></td></tr><tr><td>GEOMETRIC_RMSE_MODEL</td><td>DOUBLE</td><td><p>Combined Root Mean Square Error (RMSE) of the geometric residuals\\n(metres) in both across-track and along-track directions\\nmeasured on the GCPs used in geometric precision correction.\\nNot present in L1G products.</p></td></tr><tr><td>GEOMETRIC_RMSE_MODEL_X</td><td>DOUBLE</td><td><p>RMSE of the X direction geometric residuals (in metres) measured\\non the GCPs used in geometric precision correction. Not present in\\nL1G products.</p></td></tr><tr><td>GEOMETRIC_RMSE_MODEL_Y</td><td>DOUBLE</td><td><p>RMSE of the Y direction geometric residuals (in metres) measured\\non the GCPs used in geometric precision correction. Not present in\\nL1G products.</p></td></tr><tr><td>GRID_CELL_SIZE_PANCHROMATIC</td><td>DOUBLE</td><td><p>Grid cell size used in creating the image for the panchromatic band.</p></td></tr><tr><td>GRID_CELL_SIZE_REFLECTIVE</td><td>DOUBLE</td><td><p>Grid cell size used in creating the image for the reflective band.</p></td></tr><tr><td>GRID_CELL_SIZE_THERMAL</td><td>DOUBLE</td><td><p>Grid cell size used in creating the image for the thermal band.</p></td></tr><tr><td>GROUND_CONTROL_POINTS_MODEL</td><td>DOUBLE</td><td><p>The number of ground control points used. Not used in L1GT products.\\nValues: 0 - 999 (0 is used for L1T products that have used\\nMulti-scene refinement).</p></td></tr><tr><td>GROUND_CONTROL_POINTS_VERSION</td><td>DOUBLE</td><td><p>The number of ground control points used in the verification of\\nthe terrain corrected product. Values: -1 to 1615 (-1 = not available)</p></td></tr><tr><td>IMAGE_QUALITY</td><td>DOUBLE</td><td><p>Image quality, 0 = worst, 9 = best, -1 = quality not calculated</p></td></tr><tr><td>IMAGE_QUALITY_OLI</td><td>DOUBLE</td><td><p>The composite image quality for the OLI bands. Values: 9 = Best. 1 = Worst. 0 = Image quality not calculated. This parameter is only present if OLI bands are present in the product.</p></td></tr><tr><td>IMAGE_QUALITY_TIRS</td><td>DOUBLE</td><td><p>The composite image quality for the TIRS bands. Values: 9 = Best. 1 = Worst. 0 = Image quality not calculated. This parameter is only present if OLI bands are present in the product.</p></td></tr><tr><td>K1_CONSTANT_BAND_10</td><td>DOUBLE</td><td><p>Calibration K1 constant for Band 10 radiance to temperature conversion.</p></td></tr><tr><td>K1_CONSTANT_BAND_11</td><td>DOUBLE</td><td><p>Calibration K1 constant for Band 11 radiance to temperature conversion.</p></td></tr><tr><td>K2_CONSTANT_BAND_10</td><td>DOUBLE</td><td><p>Calibration K2 constant for Band 10 radiance to temperature conversion.</p></td></tr><tr><td>K2_CONSTANT_BAND_11</td><td>DOUBLE</td><td><p>Calibration K2 constant for Band 11 radiance to temperature conversion.</p></td></tr><tr><td>LANDSAT_PRODUCT_ID</td><td>STRING</td><td><p>The naming convention of each Landsat Collection 1 Level-1 image based\\non acquisition parameters and processing parameters.</p><p>Format: LXSS_LLLL_PPPRRR_YYYYMMDD_yyyymmdd_CC_TX</p><ul><li>L = Landsat</li><li>X = Sensor (O = Operational Land Imager,\\nT = Thermal Infrared Sensor, C = Combined OLI/TIRS)</li><li>SS = Satellite (08 = Landsat 8)</li><li>LLLL = Processing Correction Level (L1TP = precision and terrain,\\nL1GT = systematic terrain, L1GS = systematic)</li><li>PPP = WRS Path</li><li>RRR = WRS Row</li><li>YYYYMMDD = Acquisition Date expressed in Year, Month, Day</li><li>yyyymmdd = Processing Date expressed in Year, Month, Day</li><li>CC = Collection Number (01)</li><li>TX = Collection Category (RT = Real Time, T1 = Tier 1, T2 = Tier 2)</li></ul></td></tr><tr><td>LANDSAT_SCENE_ID</td><td>STRING</td><td><p>The Pre-Collection naming convention of each image is based on acquisition\\nparameters. This was the naming convention used prior to Collection 1.</p><p>Format: LXSPPPRRRYYYYDDDGSIVV</p><ul><li>L = Landsat</li><li>X = Sensor (O = Operational Land Imager, T = Thermal Infrared Sensor, C = Combined OLI/TIRS)</li><li>S = Satellite (08 = Landsat 8)</li><li>PPP = WRS Path</li><li>RRR = WRS Row</li><li>YYYY = Year of Acquisition</li><li>DDD = Julian Day of Acquisition</li><li>GSI = Ground Station Identifier</li><li>VV = Version</li></ul></td></tr><tr><td>MAP_PROJECTION</td><td>STRING</td><td><p>Projection used to represent the 3-dimensional surface of the earth for the Level-1 product.</p></td></tr><tr><td>NADIR_OFFNADIR</td><td>STRING</td><td><p>Nadir or Off-Nadir condition of the scene.</p></td></tr><tr><td>ORIENTATION</td><td>STRING</td><td><p>Orientation used in creating the image. Values: NOMINAL = Nominal Path, NORTH_UP = North Up, TRUE_NORTH = True North, USER = User</p></td></tr><tr><td>PANCHROMATIC_LINES</td><td>DOUBLE</td><td><p>Number of product lines for the panchromatic band.</p></td></tr><tr><td>PANCHROMATIC_SAMPLES</td><td>DOUBLE</td><td><p>Number of product samples for the panchromatic bands.</p></td></tr><tr><td>PROCESSING_SOFTWARE_VERSION</td><td>STRING</td><td><p>Name and version of the processing software used to generate the L1 product.</p></td></tr><tr><td>RADIANCE_ADD_BAND_1</td><td>DOUBLE</td><td><p>Additive rescaling factor used to convert calibrated DN to radiance for Band 1.</p></td></tr><tr><td>RADIANCE_ADD_BAND_10</td><td>DOUBLE</td><td><p>Additive rescaling factor used to convert calibrated DN to radiance for Band 10.</p></td></tr><tr><td>RADIANCE_ADD_BAND_11</td><td>DOUBLE</td><td><p>Additive rescaling factor used to convert calibrated DN to radiance for Band 11.</p></td></tr><tr><td>RADIANCE_ADD_BAND_2</td><td>DOUBLE</td><td><p>Additive rescaling factor used to convert calibrated DN to radiance for Band 2.</p></td></tr><tr><td>RADIANCE_ADD_BAND_3</td><td>DOUBLE</td><td><p>Additive rescaling factor used to convert calibrated DN to radiance for Band 3.</p></td></tr><tr><td>RADIANCE_ADD_BAND_4</td><td>DOUBLE</td><td><p>Additive rescaling factor used to convert calibrated DN to radiance for Band 4.</p></td></tr><tr><td>RADIANCE_ADD_BAND_5</td><td>DOUBLE</td><td><p>Additive rescaling factor used to convert calibrated DN to radiance for Band 5.</p></td></tr><tr><td>RADIANCE_ADD_BAND_6</td><td>DOUBLE</td><td><p>Additive rescaling factor used to convert calibrated DN to radiance for Band 6.</p></td></tr><tr><td>RADIANCE_ADD_BAND_7</td><td>DOUBLE</td><td><p>Additive rescaling factor used to convert calibrated DN to radiance for Band 7.</p></td></tr><tr><td>RADIANCE_ADD_BAND_8</td><td>DOUBLE</td><td><p>Additive rescaling factor used to convert calibrated DN to radiance for Band 8.</p></td></tr><tr><td>RADIANCE_ADD_BAND_9</td><td>DOUBLE</td><td><p>Additive rescaling factor used to convert calibrated DN to radiance for Band 9.</p></td></tr><tr><td>RADIANCE_MULT_BAND_1</td><td>DOUBLE</td><td><p>Multiplicative rescaling factor used to convert calibrated Band 1 DN to radiance.</p></td></tr><tr><td>RADIANCE_MULT_BAND_10</td><td>DOUBLE</td><td><p>Multiplicative rescaling factor used to convert calibrated Band 10 DN to radiance.</p></td></tr><tr><td>RADIANCE_MULT_BAND_11</td><td>DOUBLE</td><td><p>Multiplicative rescaling factor used to convert calibrated Band 11 DN to radiance.</p></td></tr><tr><td>RADIANCE_MULT_BAND_2</td><td>DOUBLE</td><td><p>Multiplicative rescaling factor used to convert calibrated Band 2 DN to radiance.</p></td></tr><tr><td>RADIANCE_MULT_BAND_3</td><td>DOUBLE</td><td><p>Multiplicative rescaling factor used to convert calibrated Band 3 DN to radiance.</p></td></tr><tr><td>RADIANCE_MULT_BAND_4</td><td>DOUBLE</td><td><p>Multiplicative rescaling factor used to convert calibrated Band 4 DN to radiance.</p></td></tr><tr><td>RADIANCE_MULT_BAND_5</td><td>DOUBLE</td><td><p>Multiplicative rescaling factor used to convert calibrated Band 5 DN to radiance.</p></td></tr><tr><td>RADIANCE_MULT_BAND_6</td><td>DOUBLE</td><td><p>Multiplicative rescaling factor used to convert calibrated Band 6 DN to radiance.</p></td></tr><tr><td>RADIANCE_MULT_BAND_7</td><td>DOUBLE</td><td><p>Multiplicative rescaling factor used to convert calibrated Band 7 DN to radiance.</p></td></tr><tr><td>RADIANCE_MULT_BAND_8</td><td>DOUBLE</td><td><p>Multiplicative rescaling factor used to convert calibrated Band 8 DN to radiance.</p></td></tr><tr><td>RADIANCE_MULT_BAND_9</td><td>DOUBLE</td><td><p>Multiplicative rescaling factor used to convert calibrated Band 9 DN to radiance.</p></td></tr><tr><td>REFLECTANCE_ADD_BAND_1</td><td>DOUBLE</td><td><p>Additive rescaling factor used to convert calibrated Band 1 DN to reflectance.</p></td></tr><tr><td>REFLECTANCE_ADD_BAND_2</td><td>DOUBLE</td><td><p>Additive rescaling factor used to convert calibrated Band 2 DN to reflectance.</p></td></tr><tr><td>REFLECTANCE_ADD_BAND_3</td><td>DOUBLE</td><td><p>Additive rescaling factor used to convert calibrated Band 3 DN to reflectance.</p></td></tr><tr><td>REFLECTANCE_ADD_BAND_4</td><td>DOUBLE</td><td><p>Additive rescaling factor used to convert calibrated Band 4 DN to reflectance.</p></td></tr><tr><td>REFLECTANCE_ADD_BAND_5</td><td>DOUBLE</td><td><p>Additive rescaling factor used to convert calibrated Band 5 DN to reflectance.</p></td></tr><tr><td>REFLECTANCE_ADD_BAND_7</td><td>DOUBLE</td><td><p>Multiplicative factor used to convert calibrated Band 7 DN to reflectance.</p></td></tr><tr><td>REFLECTANCE_ADD_BAND_8</td><td>DOUBLE</td><td><p>Multiplicative factor used to convert calibrated Band 8 DN to reflectance.</p></td></tr><tr><td>REFLECTANCE_ADD_BAND_9</td><td>DOUBLE</td><td><p>Minimum achievable spectral reflectance value for Band 8.</p></td></tr><tr><td>REFLECTANCE_MULT_BAND_1</td><td>DOUBLE</td><td><p>Multiplicative factor used to convert calibrated Band 1 DN to reflectance.</p></td></tr><tr><td>REFLECTANCE_MULT_BAND_2</td><td>DOUBLE</td><td><p>Multiplicative factor used to convert calibrated Band 2 DN to reflectance.</p></td></tr><tr><td>REFLECTANCE_MULT_BAND_3</td><td>DOUBLE</td><td><p>Multiplicative factor used to convert calibrated Band 3 DN to reflectance.</p></td></tr><tr><td>REFLECTANCE_MULT_BAND_4</td><td>DOUBLE</td><td><p>Multiplicative factor used to convert calibrated Band 4 DN to reflectance.</p></td></tr><tr><td>REFLECTANCE_MULT_BAND_5</td><td>DOUBLE</td><td><p>Multiplicative factor used to convert calibrated Band 5 DN to reflectance.</p></td></tr><tr><td>REFLECTANCE_MULT_BAND_6</td><td>DOUBLE</td><td><p>Multiplicative factor used to convert calibrated Band 6 DN to reflectance.</p></td></tr><tr><td>REFLECTANCE_MULT_BAND_7</td><td>DOUBLE</td><td><p>Multiplicative factor used to convert calibrated Band 7 DN to reflectance.</p></td></tr><tr><td>REFLECTANCE_MULT_BAND_8</td><td>DOUBLE</td><td><p>Multiplicative factor used to convert calibrated Band 8 DN to reflectance.</p></td></tr><tr><td>REFLECTANCE_MULT_BAND_9</td><td>DOUBLE</td><td><p>Multiplicative factor used to convert calibrated Band 9 DN to reflectance.</p></td></tr><tr><td>REFLECTIVE_LINES</td><td>DOUBLE</td><td><p>Number of product lines for the reflective bands.</p></td></tr><tr><td>REFLECTIVE_SAMPLES</td><td>DOUBLE</td><td><p>Number of product samples for the reflective bands.</p></td></tr><tr><td>REQUEST_ID</td><td>STRING</td><td><p>Request id, nnnyymmdd0000_0000</p><ul><li>nnn = node number</li><li>yy = year</li><li>mm = month</li><li>dd = day</li></ul></td></tr><tr><td>RESAMPLING_OPTION</td><td>STRING</td><td><p>Resampling option used in creating the image.</p></td></tr><tr><td>RLUT_FILE_NAME</td><td>STRING</td><td><p>The file name for the Response Linearization Lookup Table (RLUT) used to generate the product, if applicable.</p></td></tr><tr><td>ROLL_ANGLE</td><td>DOUBLE</td><td><p>The amount of spacecraft roll angle at the scene center.</p></td></tr><tr><td>SATURATION_BAND_1</td><td>STRING</td><td><p>Flag indicating saturated pixels for band 1 (&#39;Y&#39;/&#39;N&#39;)</p></td></tr><tr><td>SATURATION_BAND_10</td><td>STRING</td><td><p>Flag indicating saturated pixels for band 10 (&#39;Y&#39;/&#39;N&#39;)</p></td></tr><tr><td>SATURATION_BAND_11</td><td>STRING</td><td><p>Flag indicating saturated pixels for band 11 (&#39;Y&#39;/&#39;N&#39;)</p></td></tr><tr><td>SATURATION_BAND_2</td><td>STRING</td><td><p>Flag indicating saturated pixels for band 2 (&#39;Y&#39;/&#39;N&#39;)</p></td></tr><tr><td>SATURATION_BAND_3</td><td>STRING</td><td><p>Flag indicating saturated pixels for band 3 (&#39;Y&#39;/&#39;N&#39;)</p></td></tr><tr><td>SATURATION_BAND_4</td><td>STRING</td><td><p>Flag indicating saturated pixels for band 4 (&#39;Y&#39;/&#39;N&#39;)</p></td></tr><tr><td>SATURATION_BAND_5</td><td>STRING</td><td><p>Flag indicating saturated pixels for band 5 (&#39;Y&#39;/&#39;N&#39;)</p></td></tr><tr><td>SATURATION_BAND_6</td><td>STRING</td><td><p>Flag indicating saturated pixels for band 6 (&#39;Y&#39;/&#39;N&#39;)</p></td></tr><tr><td>SATURATION_BAND_7</td><td>STRING</td><td><p>Flag indicating saturated pixels for band 7 (&#39;Y&#39;/&#39;N&#39;)</p></td></tr><tr><td>SATURATION_BAND_8</td><td>STRING</td><td><p>Flag indicating saturated pixels for band 8 (&#39;Y&#39;/&#39;N&#39;)</p></td></tr><tr><td>SATURATION_BAND_9</td><td>STRING</td><td><p>Flag indicating saturated pixels for band 9 (&#39;Y&#39;/&#39;N&#39;)</p></td></tr><tr><td>SCENE_CENTER_TIME</td><td>STRING</td><td><p>Scene center time of acquired image. HH:MM:SS.SSSSSSSZ</p><ul><li>HH = Hour (00-23)</li><li>MM = Minutes</li><li>SS.SSSSSSS = Fractional seconds</li><li>Z = &quot;Zulu&quot; time (same as GMT)</li></ul></td></tr><tr><td>SENSOR_ID</td><td>STRING</td><td><p>Sensor used to capture data.</p></td></tr><tr><td>SPACECRAFT_ID</td><td>STRING</td><td><p>Spacecraft identification.</p></td></tr><tr><td>STATION_ID</td><td>STRING</td><td><p>Ground Station/Organisation that received the data.</p></td></tr><tr><td>SUN_AZIMUTH</td><td>DOUBLE</td><td><p>Sun azimuth angle in degrees for the image center location at the image centre acquisition time.</p></td></tr><tr><td>SUN_ELEVATION</td><td>DOUBLE</td><td><p>Sun elevation angle in degrees for the image center location at the image centre acquisition time.</p></td></tr><tr><td>TARGET_WRS_PATH</td><td>DOUBLE</td><td><p>Nearest WRS-2 path to the line-of-sight scene center of the image.</p></td></tr><tr><td>TARGET_WRS_ROW</td><td>DOUBLE</td><td><p>Nearest WRS-2 row to the line-of-sight scene center of the image. Rows 880-889 and 990-999 are reserved for the polar regions where it is undefined in the WRS-2.</p></td></tr><tr><td>THERMAL_LINES</td><td>DOUBLE</td><td><p>Number of product lines for the thermal band.</p></td></tr><tr><td>THERMAL_SAMPLES</td><td>DOUBLE</td><td><p>Number of product samples for the thermal band.</p></td></tr><tr><td>TIRS_SSM_MODEL</td><td>STRING</td><td><p>Due to an anomalous condition on the Thermal Infrared\\nSensor (TIRS) Scene Select Mirror (SSM) encoder electronics,\\nthis field has been added to indicate which model was used to process the data.\\n(Actual, Preliminary, Final)</p></td></tr><tr><td>TIRS_SSM_POSITION_STATUS</td><td>STRING</td><td><p>TIRS SSM position status.</p></td></tr><tr><td>TIRS_STRAY_LIGHT_CORRECTION_SOURCE</td><td>STRING</td><td><p>TIRS stray light correction source.</p></td></tr><tr><td>TRUNCATION_OLI</td><td>STRING</td><td><p>Region of OLCI truncated.</p></td></tr><tr><td>UTM_ZONE</td><td>DOUBLE</td><td><p>UTM zone number used in product map projection.</p></td></tr><tr><td>WRS_PATH</td><td>DOUBLE</td><td><p>The WRS orbital path number (001 - 251).</p></td></tr><tr><td>WRS_ROW</td><td>DOUBLE</td><td><p>Landsat satellite WRS row (001-248).</p></td></tr></table><style>\\n  table.eecat {\\n  border: 1px solid black;\\n  border-collapse: collapse;\\n  font-size: 13px;\\n  }\\n  table.eecat td, tr, th {\\n  text-align: left; vertical-align: top;\\n  border: 1px solid gray; padding: 3px;\\n  }\\n  td.nobreak { white-space: nowrap; }\\n</style>',\n",
              "  'period': 0,\n",
              "  'product_tags': ['global',\n",
              "   'oli_tirs',\n",
              "   'l8',\n",
              "   'lc8',\n",
              "   'c1',\n",
              "   'tier1',\n",
              "   't1',\n",
              "   'radiance'],\n",
              "  'provider': 'USGS',\n",
              "  'provider_url': 'http://landsat.usgs.gov/',\n",
              "  'sample': 'https://mw1.google.com/ges/dd/images/LANDSAT_RAW_sample.png',\n",
              "  'source_tags': ['landsat', 'usgs'],\n",
              "  'system:visualization_0_bands': 'B4,B3,B2',\n",
              "  'system:visualization_0_max': '30000.0',\n",
              "  'system:visualization_0_min': '0.0',\n",
              "  'system:visualization_0_name': 'True Color (432)',\n",
              "  'system:visualization_1_bands': 'B5,B4,B3',\n",
              "  'system:visualization_1_max': '30000.0',\n",
              "  'system:visualization_1_min': '0.0',\n",
              "  'system:visualization_1_name': 'Near Infrared (543)',\n",
              "  'system:visualization_2_bands': 'B7,B5,B3',\n",
              "  'system:visualization_2_max': '30000.0',\n",
              "  'system:visualization_2_min': '0.0',\n",
              "  'system:visualization_2_name': 'Shortwave Infrared (753)',\n",
              "  'tags': ['landsat',\n",
              "   'usgs',\n",
              "   'global',\n",
              "   'oli_tirs',\n",
              "   'l8',\n",
              "   'lc8',\n",
              "   'c1',\n",
              "   'tier1',\n",
              "   't1',\n",
              "   'radiance'],\n",
              "  'thumb': 'https://mw1.google.com/ges/dd/images/LANDSAT_RAW_thumb.png',\n",
              "  'title': 'USGS Landsat 8 Collection 1 Tier 1 Raw Scenes',\n",
              "  'type_name': 'ImageCollection',\n",
              "  'visualization_0_bands': 'B4,B3,B2',\n",
              "  'visualization_0_max': '30000.0',\n",
              "  'visualization_0_min': '0.0',\n",
              "  'visualization_0_name': 'True Color (432)',\n",
              "  'visualization_1_bands': 'B5,B4,B3',\n",
              "  'visualization_1_max': '30000.0',\n",
              "  'visualization_1_min': '0.0',\n",
              "  'visualization_1_name': 'Near Infrared (543)',\n",
              "  'visualization_2_bands': 'B7,B5,B3',\n",
              "  'visualization_2_max': '30000.0',\n",
              "  'visualization_2_min': '0.0',\n",
              "  'visualization_2_name': 'Shortwave Infrared (753)'},\n",
              " 'type': 'ImageCollection',\n",
              " 'version': 1590065396867228}"
            ]
          },
          "metadata": {
            "tags": []
          },
          "execution_count": 16
        }
      ]
    },
    {
      "cell_type": "code",
      "metadata": {
        "id": "pW5iM4DyOTo8",
        "colab_type": "code",
        "outputId": "7cc0f043-11d6-4291-99c3-cf0760cc6c7b",
        "colab": {
          "base_uri": "https://localhost:8080/",
          "height": 369
        }
      },
      "source": [
        "'''\n",
        "This is a procedure to extract some numerical information from the image. The histogram of a mostly near-coast\n",
        "water scene.\n",
        "'''\n",
        "\n",
        "ndwiPath45Row34_dict = ndwiPath45Row34.sample(numPixels = 10000).reduceColumns(ee.Reducer.toList().repeat(1), ['nd'])\n",
        "ndwiPath45Row34_list = ee.List(ndwiPath45Row34_dict.get('list'))\n",
        "ndwiPath45Row34_data = ndwiPath45Row34_list.getInfo()\n",
        "\n",
        "import matplotlib.pyplot as plt\n",
        "plt.hist(ndwiPath45Row34_data[0])"
      ],
      "execution_count": 6,
      "outputs": [
        {
          "output_type": "execute_result",
          "data": {
            "text/plain": [
              "(array([1.070e+02, 1.540e+02, 7.900e+01, 2.600e+01, 2.100e+01, 8.070e+02,\n",
              "        5.890e+03, 2.885e+03, 7.000e+00, 5.000e+00]),\n",
              " array([-0.71244393, -0.57131737, -0.4301908 , -0.28906424, -0.14793767,\n",
              "        -0.00681111,  0.13431546,  0.27544203,  0.41656859,  0.55769516,\n",
              "         0.69882172]),\n",
              " <a list of 10 Patch objects>)"
            ]
          },
          "metadata": {
            "tags": []
          },
          "execution_count": 6
        },
        {
          "output_type": "display_data",
          "data": {
            "image/png": "[encoded data removed]",
            "text/plain": [
              "<Figure size 432x288 with 1 Axes>"
            ]
          },
          "metadata": {
            "tags": [],
            "needs_background": "light"
          }
        }
      ]
    },
    {
      "cell_type": "code",
      "metadata": {
        "id": "HfVlXgNiO5NC",
        "colab_type": "code",
        "colab": {}
      },
      "source": [
        "def get_images(path_list, row_list, satellite, start_date, end_date, max_cloud_percentage):\n",
        "  coll = ee.ImageCollection(satellite).filterDate(start_date, end_date)\\\n",
        "            .filter(ee.Filter.inList('WRS_PATH', path_list))\\\n",
        "            .filter(ee.Filter.inList('WRS_ROW', row_list))\\\n",
        "            .filter(ee.Filter.lt('CLOUD_COVER', max_cloud_percentage))\n",
        "  image_ids = list(map(lambda x: x['id'], coll.getInfo()['features']))\n",
        "\n",
        "  images = list(map(lambda x: ee.Image(x), image_ids))\n",
        "\n",
        "  return images"
      ],
      "execution_count": 0,
      "outputs": []
    },
    {
      "cell_type": "code",
      "metadata": {
        "id": "0aiNGxcmZbJM",
        "colab_type": "code",
        "colab": {}
      },
      "source": [
        "p = [14]\n",
        "r = [32]\n",
        "sat = 'LANDSAT/LC08/C01/T1'\n",
        "sd = '2013-05-01'\n",
        "ed = '2020-05-01'\n",
        "cc= 10\n",
        "image_list = get_images(p, r, sat, sd, ed, cc)"
      ],
      "execution_count": 0,
      "outputs": []
    },
    {
      "cell_type": "code",
      "metadata": {
        "id": "eIxeSndUal6D",
        "colab_type": "code",
        "colab": {
          "base_uri": "https://localhost:8080/",
          "height": 769
        },
        "outputId": "0e02893d-77d5-45f5-ee12-baac0f5f7e98"
      },
      "source": [
        "image0 = image_list[0]\n",
        "\n",
        "parameters = {'min': 0.0,\n",
        "              'max': 15000,\n",
        "              'dimensions': 768,\n",
        "              'bands': ['B6', 'B5', 'B4']\n",
        "}\n",
        "\n",
        "Image(url = image0.getThumbUrl(parameters))"
      ],
      "execution_count": 83,
      "outputs": [
        {
          "output_type": "execute_result",
          "data": {
            "text/html": [
              "<img src=\"https://earthengine.googleapis.com/v1alpha/projects/earthengine-legacy/thumbnails/01c76939305448451603d70eb05dcf76-817f874fdffa880612086cd75b3ea005:getPixels\"/>"
            ],
            "text/plain": [
              "<IPython.core.display.Image object>"
            ]
          },
          "metadata": {
            "tags": []
          },
          "execution_count": 83
        }
      ]
    },
    {
      "cell_type": "code",
      "metadata": {
        "id": "6CLyd64Say1C",
        "colab_type": "code",
        "colab": {
          "base_uri": "https://localhost:8080/",
          "height": 34
        },
        "outputId": "b73d39d7-47ed-43e8-ae36-e24e5440246f"
      },
      "source": [
        "len(image_list)"
      ],
      "execution_count": 28,
      "outputs": [
        {
          "output_type": "execute_result",
          "data": {
            "text/plain": [
              "34"
            ]
          },
          "metadata": {
            "tags": []
          },
          "execution_count": 28
        }
      ]
    },
    {
      "cell_type": "code",
      "metadata": {
        "id": "ggsOtpGli3Rf",
        "colab_type": "code",
        "colab": {}
      },
      "source": [
        ""
      ],
      "execution_count": 0,
      "outputs": []
    },
    {
      "cell_type": "code",
      "metadata": {
        "id": "Gf280HuGuvEB",
        "colab_type": "code",
        "colab": {}
      },
      "source": [
        "def get_imagecollection(path_list, row_list, satellite, start_date, end_date, max_cloud_percentage):\n",
        "  coll = ee.ImageCollection(satellite).filterDate(start_date, end_date)\\\n",
        "            .filter(ee.Filter.inList('WRS_PATH', path_list))\\\n",
        "            .filter(ee.Filter.inList('WRS_ROW', row_list))\\\n",
        "            .filter(ee.Filter.lt('CLOUD_COVER', max_cloud_percentage))\n",
        "\n",
        "  return coll\n",
        "\n",
        "def addndvi(image):\n",
        "\treturn image.normalizedDifference(['B5','B4'])\n",
        " \n",
        "def conditional(image):\n",
        "\treturn ee.Algorithms.If(ee.Number(image.get('SUN_ELEVATION')).gt(40), image, ee.Image(0))"
      ],
      "execution_count": 0,
      "outputs": []
    },
    {
      "cell_type": "code",
      "metadata": {
        "id": "ThUdhIgOy7zq",
        "colab_type": "code",
        "colab": {}
      },
      "source": [
        "imagecollection = get_imagecollection(p, r, sat, sd, ed, cc)"
      ],
      "execution_count": 0,
      "outputs": []
    },
    {
      "cell_type": "code",
      "metadata": {
        "id": "3Rn-GXsbz7O7",
        "colab_type": "code",
        "colab": {}
      },
      "source": [
        "imgcollndvi = imagecollection.map(addndvi).limit(3).getInfo()"
      ],
      "execution_count": 0,
      "outputs": []
    },
    {
      "cell_type": "code",
      "metadata": {
        "id": "SJ013Gw62Hci",
        "colab_type": "code",
        "colab": {}
      },
      "source": [
        ""
      ],
      "execution_count": 0,
      "outputs": []
    },
    {
      "cell_type": "code",
      "metadata": {
        "id": "ZppCfnEV2ms0",
        "colab_type": "code",
        "colab": {
          "base_uri": "https://localhost:8080/",
          "height": 34
        },
        "outputId": "2a1899ab-a021-4d0d-cdde-3bb85208ad8b"
      },
      "source": [
        "type(image0)"
      ],
      "execution_count": 44,
      "outputs": [
        {
          "output_type": "execute_result",
          "data": {
            "text/plain": [
              "ee.image.Image"
            ]
          },
          "metadata": {
            "tags": []
          },
          "execution_count": 44
        }
      ]
    },
    {
      "cell_type": "code",
      "metadata": {
        "id": "UZYGo8zo2qSt",
        "colab_type": "code",
        "colab": {
          "base_uri": "https://localhost:8080/",
          "height": 789
        },
        "outputId": "2e04b912-d039-4ca3-c7bb-9e690de04b0b"
      },
      "source": [
        "parameters = {'min': -1.0,\n",
        "              'max': 1.0,\n",
        "              'dimensions': 768,\n",
        "              'bands': ['nd'],\n",
        "              'palette': ['blue', 'white', 'green'],\n",
        "              'region': ee.Geometry.Rectangle([-74.04, 40.69, -73.82, 40.94])\n",
        "}\n",
        "\n",
        "image0ndvi = image0.normalizedDifference(['B5', 'B4'])\n",
        "\n",
        "Image(url = image0ndvi.getThumbUrl(parameters))"
      ],
      "execution_count": 61,
      "outputs": [
        {
          "output_type": "execute_result",
          "data": {
            "text/html": [
              "<img src=\"https://earthengine.googleapis.com/v1alpha/projects/earthengine-legacy/thumbnails/33ee3176781e0585eabbcb123389f198-c29eb1700490ec6c26fa0b7166342f41:getPixels\"/>"
            ],
            "text/plain": [
              "<IPython.core.display.Image object>"
            ]
          },
          "metadata": {
            "tags": []
          },
          "execution_count": 61
        }
      ]
    },
    {
      "cell_type": "code",
      "metadata": {
        "id": "X_nkwaLq7Z-u",
        "colab_type": "code",
        "colab": {
          "base_uri": "https://localhost:8080/",
          "height": 1000
        },
        "outputId": "f695c4d5-c64d-4c80-fabd-c615923260d4"
      },
      "source": [
        "for image in image_list:\n",
        "  imagendvi = image.normalizedDifference(['B5', 'B4'])\n",
        "  display(Image(url = imagendvi.getThumbUrl(parameters)))"
      ],
      "execution_count": 64,
      "outputs": [
        {
          "output_type": "display_data",
          "data": {
            "text/html": [
              "<img src=\"https://earthengine.googleapis.com/v1alpha/projects/earthengine-legacy/thumbnails/33ee3176781e0585eabbcb123389f198-73ea125ebc4c37229a05f307cbc889c2:getPixels\"/>"
            ],
            "text/plain": [
              "<IPython.core.display.Image object>"
            ]
          },
          "metadata": {
            "tags": []
          }
        },
        {
          "output_type": "display_data",
          "data": {
            "text/html": [
              "<img src=\"https://earthengine.googleapis.com/v1alpha/projects/earthengine-legacy/thumbnails/e4267df61cbbe0e47007ff7b82a9fdec-8464e67720046d8d6ee4c64e03812d56:getPixels\"/>"
            ],
            "text/plain": [
              "<IPython.core.display.Image object>"
            ]
          },
          "metadata": {
            "tags": []
          }
        },
        {
          "output_type": "display_data",
          "data": {
            "text/html": [
              "<img src=\"https://earthengine.googleapis.com/v1alpha/projects/earthengine-legacy/thumbnails/71816c35884d96b5a7af272900113c86-39e311cd254fd0138a038c573374489b:getPixels\"/>"
            ],
            "text/plain": [
              "<IPython.core.display.Image object>"
            ]
          },
          "metadata": {
            "tags": []
          }
        },
        {
          "output_type": "display_data",
          "data": {
            "text/html": [
              "<img src=\"https://earthengine.googleapis.com/v1alpha/projects/earthengine-legacy/thumbnails/481624d85bcdd418874275747d5c493d-8c3bbb137b2604e739f3ac791b39c8e8:getPixels\"/>"
            ],
            "text/plain": [
              "<IPython.core.display.Image object>"
            ]
          },
          "metadata": {
            "tags": []
          }
        },
        {
          "output_type": "display_data",
          "data": {
            "text/html": [
              "<img src=\"https://earthengine.googleapis.com/v1alpha/projects/earthengine-legacy/thumbnails/ab15a9581a70ad62b552524fb39ccf28-1aeeed22e48e3fbc48816501cdf80707:getPixels\"/>"
            ],
            "text/plain": [
              "<IPython.core.display.Image object>"
            ]
          },
          "metadata": {
            "tags": []
          }
        },
        {
          "output_type": "display_data",
          "data": {
            "text/html": [
              "<img src=\"https://earthengine.googleapis.com/v1alpha/projects/earthengine-legacy/thumbnails/7fbd1a98c38e4c6f1043960e02f22dd7-d6de2257471d658152c09f014e848f85:getPixels\"/>"
            ],
            "text/plain": [
              "<IPython.core.display.Image object>"
            ]
          },
          "metadata": {
            "tags": []
          }
        },
        {
          "output_type": "display_data",
          "data": {
            "text/html": [
              "<img src=\"https://earthengine.googleapis.com/v1alpha/projects/earthengine-legacy/thumbnails/3d630485ce8ab65c94921ae200885946-1e83f05d6de77e86e72a606207ecfc70:getPixels\"/>"
            ],
            "text/plain": [
              "<IPython.core.display.Image object>"
            ]
          },
          "metadata": {
            "tags": []
          }
        },
        {
          "output_type": "display_data",
          "data": {
            "text/html": [
              "<img src=\"https://earthengine.googleapis.com/v1alpha/projects/earthengine-legacy/thumbnails/e97cc8107e0fe4543225befb2d2d123b-74a95c8e4bb69f7e83c90f44e13999d6:getPixels\"/>"
            ],
            "text/plain": [
              "<IPython.core.display.Image object>"
            ]
          },
          "metadata": {
            "tags": []
          }
        },
        {
          "output_type": "display_data",
          "data": {
            "text/html": [
              "<img src=\"https://earthengine.googleapis.com/v1alpha/projects/earthengine-legacy/thumbnails/e7c728010137ee811d6647d738b6021e-31dcdf827d644e8622b14c063bb46847:getPixels\"/>"
            ],
            "text/plain": [
              "<IPython.core.display.Image object>"
            ]
          },
          "metadata": {
            "tags": []
          }
        },
        {
          "output_type": "display_data",
          "data": {
            "text/html": [
              "<img src=\"https://earthengine.googleapis.com/v1alpha/projects/earthengine-legacy/thumbnails/f4292f5f731e2be53c0572d7874c9b95-104baa46e56b495edcb7ce6ac7141933:getPixels\"/>"
            ],
            "text/plain": [
              "<IPython.core.display.Image object>"
            ]
          },
          "metadata": {
            "tags": []
          }
        },
        {
          "output_type": "display_data",
          "data": {
            "text/html": [
              "<img src=\"https://earthengine.googleapis.com/v1alpha/projects/earthengine-legacy/thumbnails/a934925bf1f0878bae34e94ebf0e2878-fc33e548363a3294fca38e9cc79cefa9:getPixels\"/>"
            ],
            "text/plain": [
              "<IPython.core.display.Image object>"
            ]
          },
          "metadata": {
            "tags": []
          }
        },
        {
          "output_type": "display_data",
          "data": {
            "text/html": [
              "<img src=\"https://earthengine.googleapis.com/v1alpha/projects/earthengine-legacy/thumbnails/8d151b9093dcb861e6a1788fb435fdfc-b572156a28f81c8d4b7de2a688ad5116:getPixels\"/>"
            ],
            "text/plain": [
              "<IPython.core.display.Image object>"
            ]
          },
          "metadata": {
            "tags": []
          }
        },
        {
          "output_type": "display_data",
          "data": {
            "text/html": [
              "<img src=\"https://earthengine.googleapis.com/v1alpha/projects/earthengine-legacy/thumbnails/0dbe0013314c2323ab68f2e5188722a7-aea1f40e432fe0137f07e5aebdc4d21f:getPixels\"/>"
            ],
            "text/plain": [
              "<IPython.core.display.Image object>"
            ]
          },
          "metadata": {
            "tags": []
          }
        },
        {
          "output_type": "display_data",
          "data": {
            "text/html": [
              "<img src=\"https://earthengine.googleapis.com/v1alpha/projects/earthengine-legacy/thumbnails/4c02e7ef5327af80c6e80df63b742358-fb27830be3a8c120cab2e972626047fd:getPixels\"/>"
            ],
            "text/plain": [
              "<IPython.core.display.Image object>"
            ]
          },
          "metadata": {
            "tags": []
          }
        },
        {
          "output_type": "display_data",
          "data": {
            "text/html": [
              "<img src=\"https://earthengine.googleapis.com/v1alpha/projects/earthengine-legacy/thumbnails/4ec12ec55b26030ed8572d04ead11a7b-102e5bf31969063bf25c9f30daa6fab4:getPixels\"/>"
            ],
            "text/plain": [
              "<IPython.core.display.Image object>"
            ]
          },
          "metadata": {
            "tags": []
          }
        },
        {
          "output_type": "display_data",
          "data": {
            "text/html": [
              "<img src=\"https://earthengine.googleapis.com/v1alpha/projects/earthengine-legacy/thumbnails/456304e96337a9f43833d16d5c028207-8e57ba150e9fc0fe774608c6fbe21252:getPixels\"/>"
            ],
            "text/plain": [
              "<IPython.core.display.Image object>"
            ]
          },
          "metadata": {
            "tags": []
          }
        },
        {
          "output_type": "display_data",
          "data": {
            "text/html": [
              "<img src=\"https://earthengine.googleapis.com/v1alpha/projects/earthengine-legacy/thumbnails/048f74eb23ff8347f9b87fa6149cde41-b9253bc09f349ad1ac7569cbd27a51d9:getPixels\"/>"
            ],
            "text/plain": [
              "<IPython.core.display.Image object>"
            ]
          },
          "metadata": {
            "tags": []
          }
        },
        {
          "output_type": "display_data",
          "data": {
            "text/html": [
              "<img src=\"https://earthengine.googleapis.com/v1alpha/projects/earthengine-legacy/thumbnails/53dcb92250c23d2d81df2372477edf1c-91c9cf944456eef2bbce36afe62db3fa:getPixels\"/>"
            ],
            "text/plain": [
              "<IPython.core.display.Image object>"
            ]
          },
          "metadata": {
            "tags": []
          }
        },
        {
          "output_type": "display_data",
          "data": {
            "text/html": [
              "<img src=\"https://earthengine.googleapis.com/v1alpha/projects/earthengine-legacy/thumbnails/4d91005cbdd054fda02af89f47bfddc9-c0c377849434d84a71bd3adba255ea63:getPixels\"/>"
            ],
            "text/plain": [
              "<IPython.core.display.Image object>"
            ]
          },
          "metadata": {
            "tags": []
          }
        },
        {
          "output_type": "display_data",
          "data": {
            "text/html": [
              "<img src=\"https://earthengine.googleapis.com/v1alpha/projects/earthengine-legacy/thumbnails/2a73db327abbb56fbab467d32fcac600-f903892786bc07cfe9d38cfcfb32f0eb:getPixels\"/>"
            ],
            "text/plain": [
              "<IPython.core.display.Image object>"
            ]
          },
          "metadata": {
            "tags": []
          }
        },
        {
          "output_type": "display_data",
          "data": {
            "text/html": [
              "<img src=\"https://earthengine.googleapis.com/v1alpha/projects/earthengine-legacy/thumbnails/00fe0c7755315355d944b6ae01e8df81-c71743a944503e7003da1f4e2fbaf0a8:getPixels\"/>"
            ],
            "text/plain": [
              "<IPython.core.display.Image object>"
            ]
          },
          "metadata": {
            "tags": []
          }
        },
        {
          "output_type": "display_data",
          "data": {
            "text/html": [
              "<img src=\"https://earthengine.googleapis.com/v1alpha/projects/earthengine-legacy/thumbnails/4371e7b49f92482c3bb115db3bfac8b0-32a44f18d638496b89091169cc8d5ed9:getPixels\"/>"
            ],
            "text/plain": [
              "<IPython.core.display.Image object>"
            ]
          },
          "metadata": {
            "tags": []
          }
        },
        {
          "output_type": "display_data",
          "data": {
            "text/html": [
              "<img src=\"https://earthengine.googleapis.com/v1alpha/projects/earthengine-legacy/thumbnails/bd8c713c50521f27bf7f0c440d4cb125-5af506ccd17f901d320eb5b4057079e5:getPixels\"/>"
            ],
            "text/plain": [
              "<IPython.core.display.Image object>"
            ]
          },
          "metadata": {
            "tags": []
          }
        },
        {
          "output_type": "display_data",
          "data": {
            "text/html": [
              "<img src=\"https://earthengine.googleapis.com/v1alpha/projects/earthengine-legacy/thumbnails/c6153fa4ed9f1c4a5f8bf7fca2cbd609-2792ec2319380f3368edfcfde9208cc8:getPixels\"/>"
            ],
            "text/plain": [
              "<IPython.core.display.Image object>"
            ]
          },
          "metadata": {
            "tags": []
          }
        },
        {
          "output_type": "display_data",
          "data": {
            "text/html": [
              "<img src=\"https://earthengine.googleapis.com/v1alpha/projects/earthengine-legacy/thumbnails/d7ff631901c6994d9322995271c8a63b-119e015f8d46b5617527f0d1b057bfae:getPixels\"/>"
            ],
            "text/plain": [
              "<IPython.core.display.Image object>"
            ]
          },
          "metadata": {
            "tags": []
          }
        },
        {
          "output_type": "display_data",
          "data": {
            "text/html": [
              "<img src=\"https://earthengine.googleapis.com/v1alpha/projects/earthengine-legacy/thumbnails/bedddd9697bdbdcc0427818b24fd0838-958c5ae171f00fa62d680b309f43f958:getPixels\"/>"
            ],
            "text/plain": [
              "<IPython.core.display.Image object>"
            ]
          },
          "metadata": {
            "tags": []
          }
        },
        {
          "output_type": "display_data",
          "data": {
            "text/html": [
              "<img src=\"https://earthengine.googleapis.com/v1alpha/projects/earthengine-legacy/thumbnails/30bca70ae6cf4c6bd95de38a970fcec5-bb812cba1f75befbd4466468caf5d120:getPixels\"/>"
            ],
            "text/plain": [
              "<IPython.core.display.Image object>"
            ]
          },
          "metadata": {
            "tags": []
          }
        },
        {
          "output_type": "display_data",
          "data": {
            "text/html": [
              "<img src=\"https://earthengine.googleapis.com/v1alpha/projects/earthengine-legacy/thumbnails/1749a07dc8d68327027c97841d4b2788-5685345ae50e579d13841f82c50c015d:getPixels\"/>"
            ],
            "text/plain": [
              "<IPython.core.display.Image object>"
            ]
          },
          "metadata": {
            "tags": []
          }
        },
        {
          "output_type": "display_data",
          "data": {
            "text/html": [
              "<img src=\"https://earthengine.googleapis.com/v1alpha/projects/earthengine-legacy/thumbnails/22e72cba5145058425d72bd70600840d-223a3d74f635b2f3237e1c8323cc2b22:getPixels\"/>"
            ],
            "text/plain": [
              "<IPython.core.display.Image object>"
            ]
          },
          "metadata": {
            "tags": []
          }
        },
        {
          "output_type": "display_data",
          "data": {
            "text/html": [
              "<img src=\"https://earthengine.googleapis.com/v1alpha/projects/earthengine-legacy/thumbnails/2b8d9c3ea1afdfdf95289e79002d9d71-9f85f7a9bbfb44cbe0db92c2a8d50d8b:getPixels\"/>"
            ],
            "text/plain": [
              "<IPython.core.display.Image object>"
            ]
          },
          "metadata": {
            "tags": []
          }
        },
        {
          "output_type": "display_data",
          "data": {
            "text/html": [
              "<img src=\"https://earthengine.googleapis.com/v1alpha/projects/earthengine-legacy/thumbnails/86f3d938cb9d15282f552e34fb9077b0-e7e46d6c7fb2b3f0a6a47eea8641bd48:getPixels\"/>"
            ],
            "text/plain": [
              "<IPython.core.display.Image object>"
            ]
          },
          "metadata": {
            "tags": []
          }
        },
        {
          "output_type": "display_data",
          "data": {
            "text/html": [
              "<img src=\"https://earthengine.googleapis.com/v1alpha/projects/earthengine-legacy/thumbnails/53f1a241f34356fa3cee96e63a06fa9e-c2f23fb277dd5d99d5d81f13dad1a87f:getPixels\"/>"
            ],
            "text/plain": [
              "<IPython.core.display.Image object>"
            ]
          },
          "metadata": {
            "tags": []
          }
        },
        {
          "output_type": "display_data",
          "data": {
            "text/html": [
              "<img src=\"https://earthengine.googleapis.com/v1alpha/projects/earthengine-legacy/thumbnails/13180dd3768d8befe80b5ff96ef925cd-29d273236cabb9fdd64cb763736634bd:getPixels\"/>"
            ],
            "text/plain": [
              "<IPython.core.display.Image object>"
            ]
          },
          "metadata": {
            "tags": []
          }
        },
        {
          "output_type": "display_data",
          "data": {
            "text/html": [
              "<img src=\"https://earthengine.googleapis.com/v1alpha/projects/earthengine-legacy/thumbnails/0e0af2d8a6ecf41e76280fa8abc4daae-fd1ce94115e9e547caede2f23d4213d7:getPixels\"/>"
            ],
            "text/plain": [
              "<IPython.core.display.Image object>"
            ]
          },
          "metadata": {
            "tags": []
          }
        }
      ]
    },
    {
      "cell_type": "code",
      "metadata": {
        "id": "2i8FjKB_K_3E",
        "colab_type": "code",
        "colab": {
          "base_uri": "https://localhost:8080/",
          "height": 265
        },
        "outputId": "8fad00bc-2c2c-4e75-b302-db05dd120b3a"
      },
      "source": [
        "import matplotlib.pyplot as plt\n",
        "f, ax1 = plt.subplots(1,figsize=(6,4))\n",
        "\n",
        "for image in image_list:\n",
        "  imagendvi = image.normalizedDifference(['B5', 'B4'])\n",
        "  imagendvi_dict = imagendvi.sample(numPixels = 1000).reduceColumns(ee.Reducer.toList().repeat(1), ['nd'])\n",
        "  imagendvi_list = ee.List(imagendvi_dict.get('list'))\n",
        "  imagendvi_data = imagendvi_list.getInfo()\n",
        "  ax1.hist(imagendvi_data[0])\n"
      ],
      "execution_count": 66,
      "outputs": [
        {
          "output_type": "display_data",
          "data": {
            "image/png": "[encoded data removed]",
            "text/plain": [
              "<Figure size 432x288 with 1 Axes>"
            ]
          },
          "metadata": {
            "tags": [],
            "needs_background": "light"
          }
        }
      ]
    },
    {
      "cell_type": "code",
      "metadata": {
        "id": "r2wEj9l_SAub",
        "colab_type": "code",
        "colab": {
          "base_uri": "https://localhost:8080/",
          "height": 1000
        },
        "outputId": "c7c33212-3a8b-44b4-e474-f1c4856b55b8"
      },
      "source": [
        "parameters = {'min': -1.0,\n",
        "              'max': 1.0,\n",
        "              'dimensions': 768,\n",
        "              'bands': ['nd'],\n",
        "              'palette': ['green', 'white', 'blue'],\n",
        "              'region': ee.Geometry.Rectangle([-74.04, 40.69, -73.82, 40.94])\n",
        "}\n",
        "\n",
        "for image in image_list:\n",
        "  imagendwi = image.normalizedDifference(['B5', 'B6'])\n",
        "  display(Image(url = imagendwi.getThumbUrl(parameters)))"
      ],
      "execution_count": 115,
      "outputs": [
        {
          "output_type": "display_data",
          "data": {
            "text/html": [
              "<img src=\"https://earthengine.googleapis.com/v1alpha/projects/earthengine-legacy/thumbnails/0735e68c5b9fb2e15cba6deec543466c-1eb429a4a7327dec937d6f631297b61e:getPixels\"/>"
            ],
            "text/plain": [
              "<IPython.core.display.Image object>"
            ]
          },
          "metadata": {
            "tags": []
          }
        },
        {
          "output_type": "display_data",
          "data": {
            "text/html": [
              "<img src=\"https://earthengine.googleapis.com/v1alpha/projects/earthengine-legacy/thumbnails/20e164156e3e970a4690f5a69881bbe5-24c8baa491a7a8b11337a4fba95fccba:getPixels\"/>"
            ],
            "text/plain": [
              "<IPython.core.display.Image object>"
            ]
          },
          "metadata": {
            "tags": []
          }
        },
        {
          "output_type": "display_data",
          "data": {
            "text/html": [
              "<img src=\"https://earthengine.googleapis.com/v1alpha/projects/earthengine-legacy/thumbnails/9230314b9cd110fe04ce1580e17d3274-00f78e7058668d18ef8421741f842e67:getPixels\"/>"
            ],
            "text/plain": [
              "<IPython.core.display.Image object>"
            ]
          },
          "metadata": {
            "tags": []
          }
        },
        {
          "output_type": "display_data",
          "data": {
            "text/html": [
              "<img src=\"https://earthengine.googleapis.com/v1alpha/projects/earthengine-legacy/thumbnails/7ee5c3f0c7b6d9d9b88b6e03acbf59a0-1e78d73bd7bf20e9d6876be5f9a59745:getPixels\"/>"
            ],
            "text/plain": [
              "<IPython.core.display.Image object>"
            ]
          },
          "metadata": {
            "tags": []
          }
        },
        {
          "output_type": "display_data",
          "data": {
            "text/html": [
              "<img src=\"https://earthengine.googleapis.com/v1alpha/projects/earthengine-legacy/thumbnails/82c6caa23ca904ff4b7c97e0206a6713-b3302f41b4125f12dc5988f745e42108:getPixels\"/>"
            ],
            "text/plain": [
              "<IPython.core.display.Image object>"
            ]
          },
          "metadata": {
            "tags": []
          }
        },
        {
          "output_type": "display_data",
          "data": {
            "text/html": [
              "<img src=\"https://earthengine.googleapis.com/v1alpha/projects/earthengine-legacy/thumbnails/5f129d2a45777a4c8a6afcf4748d9a38-62907225c11ec43731e407e17ea93853:getPixels\"/>"
            ],
            "text/plain": [
              "<IPython.core.display.Image object>"
            ]
          },
          "metadata": {
            "tags": []
          }
        },
        {
          "output_type": "display_data",
          "data": {
            "text/html": [
              "<img src=\"https://earthengine.googleapis.com/v1alpha/projects/earthengine-legacy/thumbnails/0fe1dbe4d12618e90b9b06294ba3447b-93522e70c008649c2e259889058fc303:getPixels\"/>"
            ],
            "text/plain": [
              "<IPython.core.display.Image object>"
            ]
          },
          "metadata": {
            "tags": []
          }
        },
        {
          "output_type": "display_data",
          "data": {
            "text/html": [
              "<img src=\"https://earthengine.googleapis.com/v1alpha/projects/earthengine-legacy/thumbnails/32e26388f700e087ed750cb1a6f26f45-cc5b3cc5d88b3cfcb13a6ee38a608301:getPixels\"/>"
            ],
            "text/plain": [
              "<IPython.core.display.Image object>"
            ]
          },
          "metadata": {
            "tags": []
          }
        },
        {
          "output_type": "display_data",
          "data": {
            "text/html": [
              "<img src=\"https://earthengine.googleapis.com/v1alpha/projects/earthengine-legacy/thumbnails/8fceb2b2cccb1cfd0f3af2788391204d-86b5d7ef6afe81c5d73fdca702384c56:getPixels\"/>"
            ],
            "text/plain": [
              "<IPython.core.display.Image object>"
            ]
          },
          "metadata": {
            "tags": []
          }
        },
        {
          "output_type": "display_data",
          "data": {
            "text/html": [
              "<img src=\"https://earthengine.googleapis.com/v1alpha/projects/earthengine-legacy/thumbnails/838db04172d93da7f0f0b20f50db047c-df29755f343cb2380757fa8e0770735c:getPixels\"/>"
            ],
            "text/plain": [
              "<IPython.core.display.Image object>"
            ]
          },
          "metadata": {
            "tags": []
          }
        },
        {
          "output_type": "display_data",
          "data": {
            "text/html": [
              "<img src=\"https://earthengine.googleapis.com/v1alpha/projects/earthengine-legacy/thumbnails/ba1657362a5e9e33a52669ae03daf662-11ff56215aea1c296fcf48c540fc8fee:getPixels\"/>"
            ],
            "text/plain": [
              "<IPython.core.display.Image object>"
            ]
          },
          "metadata": {
            "tags": []
          }
        },
        {
          "output_type": "display_data",
          "data": {
            "text/html": [
              "<img src=\"https://earthengine.googleapis.com/v1alpha/projects/earthengine-legacy/thumbnails/2ccfb67154cb37b292d9280fd9e923b9-195820d98d8e1b33b8f39aa42c2e03ae:getPixels\"/>"
            ],
            "text/plain": [
              "<IPython.core.display.Image object>"
            ]
          },
          "metadata": {
            "tags": []
          }
        },
        {
          "output_type": "display_data",
          "data": {
            "text/html": [
              "<img src=\"https://earthengine.googleapis.com/v1alpha/projects/earthengine-legacy/thumbnails/1c0ae3434f6fa2f4c24ef5fa3f916580-6a1671f9a605d7f1f93143c637ba57e1:getPixels\"/>"
            ],
            "text/plain": [
              "<IPython.core.display.Image object>"
            ]
          },
          "metadata": {
            "tags": []
          }
        },
        {
          "output_type": "display_data",
          "data": {
            "text/html": [
              "<img src=\"https://earthengine.googleapis.com/v1alpha/projects/earthengine-legacy/thumbnails/e42c3027602c4f6f32f5779a5e050d68-58e3ad7119d865346438169e293d8af9:getPixels\"/>"
            ],
            "text/plain": [
              "<IPython.core.display.Image object>"
            ]
          },
          "metadata": {
            "tags": []
          }
        },
        {
          "output_type": "display_data",
          "data": {
            "text/html": [
              "<img src=\"https://earthengine.googleapis.com/v1alpha/projects/earthengine-legacy/thumbnails/c63544c0a934c7c979cb27e2c77fa66c-42ba396cf86ebf934430f1b96044e87a:getPixels\"/>"
            ],
            "text/plain": [
              "<IPython.core.display.Image object>"
            ]
          },
          "metadata": {
            "tags": []
          }
        },
        {
          "output_type": "display_data",
          "data": {
            "text/html": [
              "<img src=\"https://earthengine.googleapis.com/v1alpha/projects/earthengine-legacy/thumbnails/bf5353c2a99799bf823abddc3b889909-bb00515d5faf807284f7e123b1153767:getPixels\"/>"
            ],
            "text/plain": [
              "<IPython.core.display.Image object>"
            ]
          },
          "metadata": {
            "tags": []
          }
        },
        {
          "output_type": "display_data",
          "data": {
            "text/html": [
              "<img src=\"https://earthengine.googleapis.com/v1alpha/projects/earthengine-legacy/thumbnails/d0284c186fc23569b4cd2631abe16e11-ed556f05f507129fb0d68c94225470a1:getPixels\"/>"
            ],
            "text/plain": [
              "<IPython.core.display.Image object>"
            ]
          },
          "metadata": {
            "tags": []
          }
        },
        {
          "output_type": "display_data",
          "data": {
            "text/html": [
              "<img src=\"https://earthengine.googleapis.com/v1alpha/projects/earthengine-legacy/thumbnails/f2cf433ec164bfe7d1398362eed0c973-517f6bf0764406e6b32dadcb04706bcb:getPixels\"/>"
            ],
            "text/plain": [
              "<IPython.core.display.Image object>"
            ]
          },
          "metadata": {
            "tags": []
          }
        },
        {
          "output_type": "display_data",
          "data": {
            "text/html": [
              "<img src=\"https://earthengine.googleapis.com/v1alpha/projects/earthengine-legacy/thumbnails/02bda74847f9be710e8b87f295b79e7f-9b2842d3f86f5642bdb50dcba94cbb37:getPixels\"/>"
            ],
            "text/plain": [
              "<IPython.core.display.Image object>"
            ]
          },
          "metadata": {
            "tags": []
          }
        },
        {
          "output_type": "display_data",
          "data": {
            "text/html": [
              "<img src=\"https://earthengine.googleapis.com/v1alpha/projects/earthengine-legacy/thumbnails/3af5771c05138908f05c47e163466246-aa575c383b13851d232a9d3e2030f73b:getPixels\"/>"
            ],
            "text/plain": [
              "<IPython.core.display.Image object>"
            ]
          },
          "metadata": {
            "tags": []
          }
        },
        {
          "output_type": "display_data",
          "data": {
            "text/html": [
              "<img src=\"https://earthengine.googleapis.com/v1alpha/projects/earthengine-legacy/thumbnails/3ad3c3942785b9b2ccd8b8b814927de5-8fba0176d17f3413cd3222d110a887b6:getPixels\"/>"
            ],
            "text/plain": [
              "<IPython.core.display.Image object>"
            ]
          },
          "metadata": {
            "tags": []
          }
        },
        {
          "output_type": "display_data",
          "data": {
            "text/html": [
              "<img src=\"https://earthengine.googleapis.com/v1alpha/projects/earthengine-legacy/thumbnails/5e84d036380e46ce240a547d433405c4-8a557e1a9f53402c346bc775bc32e5cb:getPixels\"/>"
            ],
            "text/plain": [
              "<IPython.core.display.Image object>"
            ]
          },
          "metadata": {
            "tags": []
          }
        },
        {
          "output_type": "display_data",
          "data": {
            "text/html": [
              "<img src=\"https://earthengine.googleapis.com/v1alpha/projects/earthengine-legacy/thumbnails/2160686ac972ecdc700f5324d11ea3a0-1d6c4e7830d584a84e898979a32d23da:getPixels\"/>"
            ],
            "text/plain": [
              "<IPython.core.display.Image object>"
            ]
          },
          "metadata": {
            "tags": []
          }
        },
        {
          "output_type": "display_data",
          "data": {
            "text/html": [
              "<img src=\"https://earthengine.googleapis.com/v1alpha/projects/earthengine-legacy/thumbnails/4f5417e8b83474daafbffa5efe22b0be-7dd2bcefab900aa802d8ac151d33fe13:getPixels\"/>"
            ],
            "text/plain": [
              "<IPython.core.display.Image object>"
            ]
          },
          "metadata": {
            "tags": []
          }
        },
        {
          "output_type": "display_data",
          "data": {
            "text/html": [
              "<img src=\"https://earthengine.googleapis.com/v1alpha/projects/earthengine-legacy/thumbnails/9d45e95ce4c17baf08a35c96691ceb67-cceeb4d63f3f15a2fea8934500f6e533:getPixels\"/>"
            ],
            "text/plain": [
              "<IPython.core.display.Image object>"
            ]
          },
          "metadata": {
            "tags": []
          }
        },
        {
          "output_type": "display_data",
          "data": {
            "text/html": [
              "<img src=\"https://earthengine.googleapis.com/v1alpha/projects/earthengine-legacy/thumbnails/de877f2faf546711872da5db4bc43944-2df3fd84c6aca0dc66b5c31384a97b2b:getPixels\"/>"
            ],
            "text/plain": [
              "<IPython.core.display.Image object>"
            ]
          },
          "metadata": {
            "tags": []
          }
        },
        {
          "output_type": "display_data",
          "data": {
            "text/html": [
              "<img src=\"https://earthengine.googleapis.com/v1alpha/projects/earthengine-legacy/thumbnails/a34a95e493e81f5daf372009372aa2d6-66b8ab1bba6862cc95ce24a2bdcd51c5:getPixels\"/>"
            ],
            "text/plain": [
              "<IPython.core.display.Image object>"
            ]
          },
          "metadata": {
            "tags": []
          }
        },
        {
          "output_type": "display_data",
          "data": {
            "text/html": [
              "<img src=\"https://earthengine.googleapis.com/v1alpha/projects/earthengine-legacy/thumbnails/702845a09265708a9b54c5414cb00fba-2036af3bc8e9e12cb137d23e83da6d1c:getPixels\"/>"
            ],
            "text/plain": [
              "<IPython.core.display.Image object>"
            ]
          },
          "metadata": {
            "tags": []
          }
        },
        {
          "output_type": "display_data",
          "data": {
            "text/html": [
              "<img src=\"https://earthengine.googleapis.com/v1alpha/projects/earthengine-legacy/thumbnails/2bcabfb8483f3b978d731727fd0d1c0d-8bfc8dc1aade80472cb88669a49e0918:getPixels\"/>"
            ],
            "text/plain": [
              "<IPython.core.display.Image object>"
            ]
          },
          "metadata": {
            "tags": []
          }
        },
        {
          "output_type": "display_data",
          "data": {
            "text/html": [
              "<img src=\"https://earthengine.googleapis.com/v1alpha/projects/earthengine-legacy/thumbnails/a3cdb7443b8e9b225747be3c2c782cd2-d6acbff10bf16833405931bb3424a6d5:getPixels\"/>"
            ],
            "text/plain": [
              "<IPython.core.display.Image object>"
            ]
          },
          "metadata": {
            "tags": []
          }
        },
        {
          "output_type": "display_data",
          "data": {
            "text/html": [
              "<img src=\"https://earthengine.googleapis.com/v1alpha/projects/earthengine-legacy/thumbnails/a633950896aaeb154d1608db5afff54f-b87c6ba15d71d749149ebe35c8d701bf:getPixels\"/>"
            ],
            "text/plain": [
              "<IPython.core.display.Image object>"
            ]
          },
          "metadata": {
            "tags": []
          }
        },
        {
          "output_type": "display_data",
          "data": {
            "text/html": [
              "<img src=\"https://earthengine.googleapis.com/v1alpha/projects/earthengine-legacy/thumbnails/5f0da34d00c6fa1b6e1d6d3befe93b12-b10d8869a38b5c923cd49462f3ac019c:getPixels\"/>"
            ],
            "text/plain": [
              "<IPython.core.display.Image object>"
            ]
          },
          "metadata": {
            "tags": []
          }
        },
        {
          "output_type": "display_data",
          "data": {
            "text/html": [
              "<img src=\"https://earthengine.googleapis.com/v1alpha/projects/earthengine-legacy/thumbnails/41984b7c298fa613e04dde89e4c79c98-9d75ee64e27571744563a91d4481fb63:getPixels\"/>"
            ],
            "text/plain": [
              "<IPython.core.display.Image object>"
            ]
          },
          "metadata": {
            "tags": []
          }
        },
        {
          "output_type": "display_data",
          "data": {
            "text/html": [
              "<img src=\"https://earthengine.googleapis.com/v1alpha/projects/earthengine-legacy/thumbnails/fab2207fa228da8c7c38fab3abe020f3-cfd722a044f0108aea9fcd052df6a225:getPixels\"/>"
            ],
            "text/plain": [
              "<IPython.core.display.Image object>"
            ]
          },
          "metadata": {
            "tags": []
          }
        }
      ]
    },
    {
      "cell_type": "code",
      "metadata": {
        "id": "xzcb41y6TYlQ",
        "colab_type": "code",
        "colab": {}
      },
      "source": [
        "clusterfluster = image0ndwi.cluster(clusterer)"
      ],
      "execution_count": 0,
      "outputs": []
    },
    {
      "cell_type": "code",
      "metadata": {
        "id": "-clzWk72oZgY",
        "colab_type": "code",
        "colab": {}
      },
      "source": [
        "studysite = ee.Geometry.Rectangle([-74.04, 40.69, -73.82, 40.94]);\n",
        "\n",
        "image0ndwi = image0.normalizedDifference(['B5', 'B6'])\n",
        "\n",
        "training = image0ndwi.sample(numPixels = 100000);\n",
        "\n",
        "clusterer = ee.Clusterer.wekaKMeans(9).train(training);"
      ],
      "execution_count": 0,
      "outputs": []
    },
    {
      "cell_type": "code",
      "metadata": {
        "id": "kXuxzXmv_tO3",
        "colab_type": "code",
        "colab": {
          "base_uri": "https://localhost:8080/",
          "height": 769
        },
        "outputId": "51906746-6d1c-4466-dc38-60b4fc7d0e65"
      },
      "source": [
        "parameters = {'min': 0.0,\n",
        "              'max': 5.0,\n",
        "              'dimensions': 768,\n",
        "              #'palette': ['brown', 'white', 'blue'],\n",
        "              #'region': ee.Geometry.Rectangle([-74.04, 40.69, -73.82, 40.94])\n",
        "}\n",
        "Image(url = clusterfluster.getThumbUrl(parameters))"
      ],
      "execution_count": 124,
      "outputs": [
        {
          "output_type": "execute_result",
          "data": {
            "text/html": [
              "<img src=\"https://earthengine.googleapis.com/v1alpha/projects/earthengine-legacy/thumbnails/7299ddc3c12c1e836f07ad8628750cbb-9dee30b05f18e1afbfe799501debca96:getPixels\"/>"
            ],
            "text/plain": [
              "<IPython.core.display.Image object>"
            ]
          },
          "metadata": {
            "tags": []
          },
          "execution_count": 124
        }
      ]
    },
    {
      "cell_type": "code",
      "metadata": {
        "id": "JMgSqsahADGD",
        "colab_type": "code",
        "colab": {
          "base_uri": "https://localhost:8080/",
          "height": 607
        },
        "outputId": "a1553d8e-0c01-4129-c125-638f650728be"
      },
      "source": [
        "clusterfluster.getInfo()"
      ],
      "execution_count": 106,
      "outputs": [
        {
          "output_type": "execute_result",
          "data": {
            "text/plain": [
              "{'bands': [{'crs': 'EPSG:32618',\n",
              "   'crs_transform': [30, 0, 393285, 0, -30, 4575615],\n",
              "   'data_type': {'max': 2147483647,\n",
              "    'min': -2147483648,\n",
              "    'precision': 'int',\n",
              "    'type': 'PixelType'},\n",
              "   'dimensions': [7641, 7431],\n",
              "   'id': 'cluster'}],\n",
              " 'properties': {'system:footprint': {'coordinates': [[-73.55972856517639,\n",
              "     40.9210458395994],\n",
              "    [-73.65884701015169, 40.94040209951729],\n",
              "    [-74.39099607563138, 41.08036506267204],\n",
              "    [-75.53752851259908, 41.28907332531779],\n",
              "    [-75.75831185535647, 41.32779956407564],\n",
              "    [-75.7591722695154, 41.32647346866513],\n",
              "    [-76.00264695366093, 40.53106663014035],\n",
              "    [-76.24236827999674, 39.729154487819734],\n",
              "    [-76.23573771307694, 39.72794945032572],\n",
              "    [-75.79848047772803, 39.64906773852695],\n",
              "    [-74.08398344632296, 39.3220193126467],\n",
              "    [-74.06195535083428, 39.388950588916195],\n",
              "    [-73.98986911699056, 39.60737895551066],\n",
              "    [-73.95692468542457, 39.70682915736417],\n",
              "    [-73.90842792248759, 39.85274831459669],\n",
              "    [-73.8605913484838, 39.99619932308573],\n",
              "    [-73.836946080518, 40.066931104962585],\n",
              "    [-73.7689103253528, 40.26974557344547],\n",
              "    [-73.71170197282827, 40.439390511010174],\n",
              "    [-73.69369099239746, 40.492700072396076],\n",
              "    [-73.64004508266956, 40.65099141831467],\n",
              "    [-73.54875883091333, 40.918818843781914],\n",
              "    [-73.55972856517639, 40.9210458395994]],\n",
              "   'type': 'LinearRing'}},\n",
              " 'type': 'Image'}"
            ]
          },
          "metadata": {
            "tags": []
          },
          "execution_count": 106
        }
      ]
    },
    {
      "cell_type": "code",
      "metadata": {
        "id": "nyKQSTIuC6ll",
        "colab_type": "code",
        "colab": {}
      },
      "source": [
        ""
      ],
      "execution_count": 0,
      "outputs": []
    }
  ]
}