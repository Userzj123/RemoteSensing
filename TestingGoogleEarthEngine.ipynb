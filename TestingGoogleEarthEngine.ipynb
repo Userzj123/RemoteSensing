{
  "nbformat": 4,
  "nbformat_minor": 0,
  "metadata": {
    "colab": {
      "name": "TestingGoogleEarthEngine.ipynb",
      "provenance": [],
      "collapsed_sections": [],
      "authorship_tag": "ABX9TyO6GnWFdCgznhZ1p82rWW+k",
      "include_colab_link": true
    },
    "kernelspec": {
      "name": "python3",
      "display_name": "Python 3"
    }
  },
  "cells": [
    {
      "cell_type": "markdown",
      "metadata": {
        "id": "view-in-github",
        "colab_type": "text"
      },
      "source": [
        "<a href=\"https://colab.research.google.com/github/arvindnswamy/RemoteSensing/blob/development/TestingGoogleEarthEngine.ipynb\" target=\"_parent\"><img src=\"https://colab.research.google.com/assets/colab-badge.svg\" alt=\"Open In Colab\"/></a>"
      ]
    },
    {
      "cell_type": "code",
      "metadata": {
        "id": "EreJNoGhCotu",
        "colab_type": "code",
        "colab": {}
      },
      "source": [
        "import ee"
      ],
      "execution_count": 0,
      "outputs": []
    },
    {
      "cell_type": "code",
      "metadata": {
        "id": "mKLqiaJSC1LI",
        "colab_type": "code",
        "outputId": "9a900629-a4ce-4ad7-87ae-3b8470e1910f",
        "colab": {
          "base_uri": "https://localhost:8080/",
          "height": 176
        }
      },
      "source": [
        "from IPython.display import Image\n",
        "\n",
        "# Trigger the authentication flow.\n",
        "ee.Authenticate()"
      ],
      "execution_count": 0,
      "outputs": [
        {
          "output_type": "stream",
          "text": [
            "To authorize access needed by Earth Engine, open the following URL in a web browser and follow the instructions. If the web browser does not start automatically, please manually browse the URL below.\n",
            "\n",
            "    https://accounts.google.com/o/oauth2/auth?client_id=517222506229-vsmmajv00ul0bs7p89v5m89qs8eb9359.apps.googleusercontent.com&scope=https%3A%2F%2Fwww.googleapis.com%2Fauth%2Fearthengine+https%3A%2F%2Fwww.googleapis.com%2Fauth%2Fdevstorage.full_control&redirect_uri=urn%3Aietf%3Awg%3Aoauth%3A2.0%3Aoob&response_type=code&code_challenge=UJDKNpX1ISWey7KuEA1L4bjf1ccEL5utVvFpkWcULi0&code_challenge_method=S256\n",
            "\n",
            "The authorization workflow will generate a code, which you should paste in the box below. \n",
            "Enter verification code: 4/0AH3fN4K7h-3CPpY7gBM1AAWfG30l4NoSvVnT0Hy2A73r2jvyGrNdww\n",
            "\n",
            "Successfully saved authorization token.\n"
          ],
          "name": "stdout"
        }
      ]
    },
    {
      "cell_type": "code",
      "metadata": {
        "id": "tuNQhbp6DBAn",
        "colab_type": "code",
        "colab": {}
      },
      "source": [
        "ee.Initialize()\n",
        "image = ee.Image('LANDSAT/LC08/C01/T1_TOA/LC08_044034_20140318')"
      ],
      "execution_count": 0,
      "outputs": []
    },
    {
      "cell_type": "code",
      "metadata": {
        "id": "SiOGiLSCDQ3k",
        "colab_type": "code",
        "colab": {}
      },
      "source": [
        "import ee.mapclient"
      ],
      "execution_count": 0,
      "outputs": []
    },
    {
      "cell_type": "code",
      "metadata": {
        "id": "PR32PyFBDvGV",
        "colab_type": "code",
        "outputId": "46e39f92-cab8-422a-f013-bc0936154644",
        "colab": {
          "base_uri": "https://localhost:8080/",
          "height": 184
        }
      },
      "source": [
        "Map = ee.mapclient()\n",
        "Map.setCenter(-122.1899, 37.5010, 10)"
      ],
      "execution_count": 0,
      "outputs": [
        {
          "output_type": "error",
          "ename": "TypeError",
          "evalue": "ignored",
          "traceback": [
            "\u001b[0;31m---------------------------------------------------------------------------\u001b[0m",
            "\u001b[0;31mTypeError\u001b[0m                                 Traceback (most recent call last)",
            "\u001b[0;32m<ipython-input-10-055e564454be>\u001b[0m in \u001b[0;36m<module>\u001b[0;34m()\u001b[0m\n\u001b[0;32m----> 1\u001b[0;31m \u001b[0mMap\u001b[0m \u001b[0;34m=\u001b[0m \u001b[0mee\u001b[0m\u001b[0;34m.\u001b[0m\u001b[0mmapclient\u001b[0m\u001b[0;34m(\u001b[0m\u001b[0;34m)\u001b[0m\u001b[0;34m\u001b[0m\u001b[0;34m\u001b[0m\u001b[0m\n\u001b[0m\u001b[1;32m      2\u001b[0m \u001b[0mMap\u001b[0m\u001b[0;34m.\u001b[0m\u001b[0msetCenter\u001b[0m\u001b[0;34m(\u001b[0m\u001b[0;34m-\u001b[0m\u001b[0;36m122.1899\u001b[0m\u001b[0;34m,\u001b[0m \u001b[0;36m37.5010\u001b[0m\u001b[0;34m,\u001b[0m \u001b[0;36m10\u001b[0m\u001b[0;34m)\u001b[0m\u001b[0;34m\u001b[0m\u001b[0;34m\u001b[0m\u001b[0m\n",
            "\u001b[0;31mTypeError\u001b[0m: 'module' object is not callable"
          ]
        }
      ]
    },
    {
      "cell_type": "code",
      "metadata": {
        "id": "Rqq-_fdOEFGg",
        "colab_type": "code",
        "outputId": "8945450d-6034-4fa0-f4f9-8e4fe71102be",
        "colab": {
          "base_uri": "https://localhost:8080/",
          "height": 139
        }
      },
      "source": [
        "print(image)"
      ],
      "execution_count": 0,
      "outputs": [
        {
          "output_type": "stream",
          "text": [
            "ee.Image({\n",
            "  \"type\": \"Invocation\",\n",
            "  \"arguments\": {\n",
            "    \"id\": \"LANDSAT/LC08/C01/T1_TOA/LC08_044034_20140318\"\n",
            "  },\n",
            "  \"functionName\": \"Image.load\"\n",
            "})\n"
          ],
          "name": "stdout"
        }
      ]
    },
    {
      "cell_type": "code",
      "metadata": {
        "id": "SuY8tVc2FYXq",
        "colab_type": "code",
        "colab": {}
      },
      "source": [
        "from IPython.display import Image\n"
      ],
      "execution_count": 0,
      "outputs": []
    },
    {
      "cell_type": "code",
      "metadata": {
        "id": "QOzGtfYCFy9T",
        "colab_type": "code",
        "outputId": "d22f5686-801d-4229-82a7-ce28a3fe09f0",
        "colab": {
          "base_uri": "https://localhost:8080/",
          "height": 533
        }
      },
      "source": [
        "Image(url=image.updateMask(image.select('B3').gt(0))\n",
        "  .getThumbUrl({'min': 0, 'max': 255, 'dimensions': 512}))"
      ],
      "execution_count": 0,
      "outputs": [
        {
          "output_type": "execute_result",
          "data": {
            "text/html": [
              "<img src=\"https://earthengine.googleapis.com/v1alpha/projects/earthengine-legacy/thumbnails/28a5efde4d44accaadbc99a0c2c32a7c-71669cfcfd45b901f052f576faa100c8:getPixels\"/>"
            ],
            "text/plain": [
              "<IPython.core.display.Image object>"
            ]
          },
          "metadata": {
            "tags": []
          },
          "execution_count": 10
        }
      ]
    },
    {
      "cell_type": "code",
      "metadata": {
        "id": "36UDq_ODF0yp",
        "colab_type": "code",
        "outputId": "b5119ef6-a701-44ac-d712-b9ef7fe7c4bc",
        "colab": {
          "base_uri": "https://localhost:8080/",
          "height": 533
        }
      },
      "source": [
        "Image(url=image.select('B3').updateMask(image.select('B3').gt(0))\n",
        "  .getThumbUrl({'min': 0, 'max': 255, 'dimensions': 512}))\n"
      ],
      "execution_count": 0,
      "outputs": [
        {
          "output_type": "execute_result",
          "data": {
            "text/html": [
              "<img src=\"https://earthengine.googleapis.com/v1alpha/projects/earthengine-legacy/thumbnails/5f98e5ae58d1cfcf52d88abe2bd94b3a-9b47cb5ec8b341db2fdb735cd36dfd94:getPixels\"/>"
            ],
            "text/plain": [
              "<IPython.core.display.Image object>"
            ]
          },
          "metadata": {
            "tags": []
          },
          "execution_count": 9
        }
      ]
    },
    {
      "cell_type": "code",
      "metadata": {
        "id": "SXXpEH5MGRNA",
        "colab_type": "code",
        "outputId": "b4149e32-7098-4d60-9fc1-502116eeb1b6",
        "colab": {
          "base_uri": "https://localhost:8080/",
          "height": 277
        }
      },
      "source": [
        "dem = ee.Image('USGS/SRTMGL1_003')\n",
        "Image(url=dem.updateMask(dem.gt(0))\n",
        "  .getThumbUrl({'min': 0, 'max': 4000, 'dimensions': 512,\n",
        "                'palette': ['006633', 'E5FFCC', '662A00', 'D8D8D8', 'F5F5F5']}))\n"
      ],
      "execution_count": 0,
      "outputs": [
        {
          "output_type": "execute_result",
          "data": {
            "text/html": [
              "<img src=\"https://earthengine.googleapis.com/v1alpha/projects/earthengine-legacy/thumbnails/ac58af12d5e0be1d7310f2a584b586be-6ea59cc2d8974edc1ddcbc4fa4566363:getPixels\"/>"
            ],
            "text/plain": [
              "<IPython.core.display.Image object>"
            ]
          },
          "metadata": {
            "tags": []
          },
          "execution_count": 16
        }
      ]
    },
    {
      "cell_type": "code",
      "metadata": {
        "id": "_fvthXo8GrNq",
        "colab_type": "code",
        "outputId": "55f10a26-4b26-4bb9-caa2-dd2e01ac25c4",
        "colab": {
          "base_uri": "https://localhost:8080/",
          "height": 533
        }
      },
      "source": [
        "image.bandNames().getInfo()\n",
        "parameters = {'min': 0,\n",
        "              'max': 1000,\n",
        "              'dimensions': 512,\n",
        "              'bands': ['B4', 'B3', 'B2']\n",
        "}\n",
        "\n",
        "Image(url = image.getThumbUrl(parameters))"
      ],
      "execution_count": 18,
      "outputs": [
        {
          "output_type": "execute_result",
          "data": {
            "text/html": [
              "<img src=\"https://earthengine.googleapis.com/v1alpha/projects/earthengine-legacy/thumbnails/f5ac2776b6ce05e75c3548a68a697d11-e63c575aa7015d54b85e5f1278802fba:getPixels\"/>"
            ],
            "text/plain": [
              "<IPython.core.display.Image object>"
            ]
          },
          "metadata": {
            "tags": []
          },
          "execution_count": 18
        }
      ]
    },
    {
      "cell_type": "code",
      "metadata": {
        "id": "JbP9rlKjxJ2S",
        "colab_type": "code",
        "outputId": "cf37a8d3-97de-420e-cde0-6d8336c7e395",
        "colab": {
          "base_uri": "https://localhost:8080/",
          "height": 588
        }
      },
      "source": [
        "import folium\n",
        "\n",
        "# Define a method for displaying Earth Engine image tiles to folium map.\n",
        "def add_ee_layer(self, ee_image_object, vis_params, name):\n",
        "  map_id_dict = ee.Image(ee_image_object).getMapId(vis_params)\n",
        "  folium.raster_layers.TileLayer(\n",
        "    tiles = map_id_dict['tile_fetcher'].url_format,\n",
        "    attr = \"Map Data © Google Earth Engine\",\n",
        "    name = name,\n",
        "    overlay = True,\n",
        "    control = True\n",
        "  ).add_to(self)\n",
        "\n",
        "# Add EE drawing method to folium.\n",
        "folium.Map.add_ee_layer = add_ee_layer\n",
        "\n",
        "# Fetch an elevation model.\n",
        "dem = ee.Image('USGS/SRTMGL1_003')\n",
        "# Set visualization parameters.\n",
        "vis_params = {\n",
        "  'min': 0,\n",
        "  'max': 4000,\n",
        "  'palette': ['006633', 'E5FFCC', '662A00', 'D8D8D8', 'F5F5F5']}\n",
        "\n",
        "# Create a folium map object.\n",
        "my_map = folium.Map(location=[20, 0], zoom_start=3, height=500)\n",
        "\n",
        "# Add the elevation model to the map object.\n",
        "my_map.add_ee_layer(dem.updateMask(dem.gt(0)), vis_params, 'DEM')\n",
        "\n",
        "# Add a layer control panel to the map.\n",
        "my_map.add_child(folium.LayerControl())\n",
        "\n",
        "# Display the map.\n",
        "display(my_map)\n"
      ],
      "execution_count": 13,
      "outputs": [
        {
          "output_type": "display_data",
          "data": {
            "text/html": [
              "<div style=\"width:100%;\"><div style=\"position:relative;width:100%;height:0;padding-bottom:60%;\"><span style=\"color:#565656\">Make this Notebook Trusted to load map: File -> Trust Notebook</span><iframe src=\"about:blank\" style=\"position:absolute;width:100%;height:100%;left:0;top:0;border:none !important;\" data-html=PCFET0NUWVBFIGh0bWw+CjxoZWFkPiAgICAKICAgIDxtZXRhIGh0dHAtZXF1aXY9ImNvbnRlbnQtdHlwZSIgY29udGVudD0idGV4dC9odG1sOyBjaGFyc2V0PVVURi04IiAvPgogICAgPHNjcmlwdD5MX1BSRUZFUl9DQU5WQVM9ZmFsc2U7IExfTk9fVE9VQ0g9ZmFsc2U7IExfRElTQUJMRV8zRD1mYWxzZTs8L3NjcmlwdD4KICAgIDxzY3JpcHQgc3JjPSJodHRwczovL2Nkbi5qc2RlbGl2ci5uZXQvbnBtL2xlYWZsZXRAMS40LjAvZGlzdC9sZWFmbGV0LmpzIj48L3NjcmlwdD4KICAgIDxzY3JpcHQgc3JjPSJodHRwczovL2NvZGUuanF1ZXJ5LmNvbS9qcXVlcnktMS4xMi40Lm1pbi5qcyI+PC9zY3JpcHQ+CiAgICA8c2NyaXB0IHNyYz0iaHR0cHM6Ly9tYXhjZG4uYm9vdHN0cmFwY2RuLmNvbS9ib290c3RyYXAvMy4yLjAvanMvYm9vdHN0cmFwLm1pbi5qcyI+PC9zY3JpcHQ+CiAgICA8c2NyaXB0IHNyYz0iaHR0cHM6Ly9jZG5qcy5jbG91ZGZsYXJlLmNvbS9hamF4L2xpYnMvTGVhZmxldC5hd2Vzb21lLW1hcmtlcnMvMi4wLjIvbGVhZmxldC5hd2Vzb21lLW1hcmtlcnMuanMiPjwvc2NyaXB0PgogICAgPGxpbmsgcmVsPSJzdHlsZXNoZWV0IiBocmVmPSJodHRwczovL2Nkbi5qc2RlbGl2ci5uZXQvbnBtL2xlYWZsZXRAMS40LjAvZGlzdC9sZWFmbGV0LmNzcyIvPgogICAgPGxpbmsgcmVsPSJzdHlsZXNoZWV0IiBocmVmPSJodHRwczovL21heGNkbi5ib290c3RyYXBjZG4uY29tL2Jvb3RzdHJhcC8zLjIuMC9jc3MvYm9vdHN0cmFwLm1pbi5jc3MiLz4KICAgIDxsaW5rIHJlbD0ic3R5bGVzaGVldCIgaHJlZj0iaHR0cHM6Ly9tYXhjZG4uYm9vdHN0cmFwY2RuLmNvbS9ib290c3RyYXAvMy4yLjAvY3NzL2Jvb3RzdHJhcC10aGVtZS5taW4uY3NzIi8+CiAgICA8bGluayByZWw9InN0eWxlc2hlZXQiIGhyZWY9Imh0dHBzOi8vbWF4Y2RuLmJvb3RzdHJhcGNkbi5jb20vZm9udC1hd2Vzb21lLzQuNi4zL2Nzcy9mb250LWF3ZXNvbWUubWluLmNzcyIvPgogICAgPGxpbmsgcmVsPSJzdHlsZXNoZWV0IiBocmVmPSJodHRwczovL2NkbmpzLmNsb3VkZmxhcmUuY29tL2FqYXgvbGlicy9MZWFmbGV0LmF3ZXNvbWUtbWFya2Vycy8yLjAuMi9sZWFmbGV0LmF3ZXNvbWUtbWFya2Vycy5jc3MiLz4KICAgIDxsaW5rIHJlbD0ic3R5bGVzaGVldCIgaHJlZj0iaHR0cHM6Ly9yYXdjZG4uZ2l0aGFjay5jb20vcHl0aG9uLXZpc3VhbGl6YXRpb24vZm9saXVtL21hc3Rlci9mb2xpdW0vdGVtcGxhdGVzL2xlYWZsZXQuYXdlc29tZS5yb3RhdGUuY3NzIi8+CiAgICA8c3R5bGU+aHRtbCwgYm9keSB7d2lkdGg6IDEwMCU7aGVpZ2h0OiAxMDAlO21hcmdpbjogMDtwYWRkaW5nOiAwO308L3N0eWxlPgogICAgPHN0eWxlPiNtYXAge3Bvc2l0aW9uOmFic29sdXRlO3RvcDowO2JvdHRvbTowO3JpZ2h0OjA7bGVmdDowO308L3N0eWxlPgogICAgCiAgICA8bWV0YSBuYW1lPSJ2aWV3cG9ydCIgY29udGVudD0id2lkdGg9ZGV2aWNlLXdpZHRoLAogICAgICAgIGluaXRpYWwtc2NhbGU9MS4wLCBtYXhpbXVtLXNjYWxlPTEuMCwgdXNlci1zY2FsYWJsZT1ubyIgLz4KICAgIDxzdHlsZT4jbWFwXzU2YTRlNDIzMzhjMjQzZmFiOGUzM2Y0M2I1YmVjYzliIHsKICAgICAgICBwb3NpdGlvbjogcmVsYXRpdmU7CiAgICAgICAgd2lkdGg6IDEwMC4wJTsKICAgICAgICBoZWlnaHQ6IDUwMC4wcHg7CiAgICAgICAgbGVmdDogMC4wJTsKICAgICAgICB0b3A6IDAuMCU7CiAgICAgICAgfQogICAgPC9zdHlsZT4KPC9oZWFkPgo8Ym9keT4gICAgCiAgICAKICAgIDxkaXYgY2xhc3M9ImZvbGl1bS1tYXAiIGlkPSJtYXBfNTZhNGU0MjMzOGMyNDNmYWI4ZTMzZjQzYjViZWNjOWIiID48L2Rpdj4KPC9ib2R5Pgo8c2NyaXB0PiAgICAKICAgIAogICAgCiAgICAgICAgdmFyIGJvdW5kcyA9IG51bGw7CiAgICAKCiAgICB2YXIgbWFwXzU2YTRlNDIzMzhjMjQzZmFiOGUzM2Y0M2I1YmVjYzliID0gTC5tYXAoCiAgICAgICAgJ21hcF81NmE0ZTQyMzM4YzI0M2ZhYjhlMzNmNDNiNWJlY2M5YicsIHsKICAgICAgICBjZW50ZXI6IFsyMCwgMF0sCiAgICAgICAgem9vbTogMywKICAgICAgICBtYXhCb3VuZHM6IGJvdW5kcywKICAgICAgICBsYXllcnM6IFtdLAogICAgICAgIHdvcmxkQ29weUp1bXA6IGZhbHNlLAogICAgICAgIGNyczogTC5DUlMuRVBTRzM4NTcsCiAgICAgICAgem9vbUNvbnRyb2w6IHRydWUsCiAgICAgICAgfSk7CgoKICAgIAogICAgdmFyIHRpbGVfbGF5ZXJfMjVmNjkxNjU5MjNkNDgwNmEyOWJmNmNhYjY0OGNiMDMgPSBMLnRpbGVMYXllcigKICAgICAgICAnaHR0cHM6Ly97c30udGlsZS5vcGVuc3RyZWV0bWFwLm9yZy97en0ve3h9L3t5fS5wbmcnLAogICAgICAgIHsKICAgICAgICAiYXR0cmlidXRpb24iOiBudWxsLAogICAgICAgICJkZXRlY3RSZXRpbmEiOiBmYWxzZSwKICAgICAgICAibWF4TmF0aXZlWm9vbSI6IDE4LAogICAgICAgICJtYXhab29tIjogMTgsCiAgICAgICAgIm1pblpvb20iOiAwLAogICAgICAgICJub1dyYXAiOiBmYWxzZSwKICAgICAgICAib3BhY2l0eSI6IDEsCiAgICAgICAgInN1YmRvbWFpbnMiOiAiYWJjIiwKICAgICAgICAidG1zIjogZmFsc2UKfSkuYWRkVG8obWFwXzU2YTRlNDIzMzhjMjQzZmFiOGUzM2Y0M2I1YmVjYzliKTsKICAgIHZhciB0aWxlX2xheWVyX2ZlMTliZDI1YzZmNTQ2NTY4MjcwY2U4MjU0N2RlNDJlID0gTC50aWxlTGF5ZXIoCiAgICAgICAgJ2h0dHBzOi8vZWFydGhlbmdpbmUuZ29vZ2xlYXBpcy5jb20vdjFhbHBoYS9wcm9qZWN0cy9lYXJ0aGVuZ2luZS1sZWdhY3kvbWFwcy9iMTJmNjk5YjMyZjdkYmQ1ZWZjNzA1N2IwMDZkMTk1My0xYzBjYWM3MTc2ZGFhODNmODZkOTI5ZTIxYmIwYzEyZC90aWxlcy97en0ve3h9L3t5fScsCiAgICAgICAgewogICAgICAgICJhdHRyaWJ1dGlvbiI6ICJNYXAgRGF0YSBcdTAwYTkgR29vZ2xlIEVhcnRoIEVuZ2luZSIsCiAgICAgICAgImRldGVjdFJldGluYSI6IGZhbHNlLAogICAgICAgICJtYXhOYXRpdmVab29tIjogMTgsCiAgICAgICAgIm1heFpvb20iOiAxOCwKICAgICAgICAibWluWm9vbSI6IDAsCiAgICAgICAgIm5vV3JhcCI6IGZhbHNlLAogICAgICAgICJvcGFjaXR5IjogMSwKICAgICAgICAic3ViZG9tYWlucyI6ICJhYmMiLAogICAgICAgICJ0bXMiOiBmYWxzZQp9KS5hZGRUbyhtYXBfNTZhNGU0MjMzOGMyNDNmYWI4ZTMzZjQzYjViZWNjOWIpOwogICAgCiAgICAgICAgICAgIHZhciBsYXllcl9jb250cm9sX2RlYWU0ZjhhODllODQzZWQ4ZWU1NDU1NTMxNTFjY2NiID0gewogICAgICAgICAgICAgICAgYmFzZV9sYXllcnMgOiB7ICJvcGVuc3RyZWV0bWFwIiA6IHRpbGVfbGF5ZXJfMjVmNjkxNjU5MjNkNDgwNmEyOWJmNmNhYjY0OGNiMDMsIH0sCiAgICAgICAgICAgICAgICBvdmVybGF5cyA6IHsgIkRFTSIgOiB0aWxlX2xheWVyX2ZlMTliZDI1YzZmNTQ2NTY4MjcwY2U4MjU0N2RlNDJlLCB9CiAgICAgICAgICAgICAgICB9OwogICAgICAgICAgICBMLmNvbnRyb2wubGF5ZXJzKAogICAgICAgICAgICAgICAgbGF5ZXJfY29udHJvbF9kZWFlNGY4YTg5ZTg0M2VkOGVlNTQ1NTUzMTUxY2NjYi5iYXNlX2xheWVycywKICAgICAgICAgICAgICAgIGxheWVyX2NvbnRyb2xfZGVhZTRmOGE4OWU4NDNlZDhlZTU0NTU1MzE1MWNjY2Iub3ZlcmxheXMsCiAgICAgICAgICAgICAgICB7cG9zaXRpb246ICd0b3ByaWdodCcsCiAgICAgICAgICAgICAgICAgY29sbGFwc2VkOiB0cnVlLAogICAgICAgICAgICAgICAgIGF1dG9aSW5kZXg6IHRydWUKICAgICAgICAgICAgICAgIH0pLmFkZFRvKG1hcF81NmE0ZTQyMzM4YzI0M2ZhYjhlMzNmNDNiNWJlY2M5Yik7CiAgICAgICAgICAgIAogICAgICAgIAo8L3NjcmlwdD4= onload=\"this.contentDocument.open();this.contentDocument.write(atob(this.getAttribute('data-html')));this.contentDocument.close();\" allowfullscreen webkitallowfullscreen mozallowfullscreen></iframe></div></div>"
            ],
            "text/plain": [
              "<folium.folium.Map at 0x7fc56b7067f0>"
            ]
          },
          "metadata": {
            "tags": []
          }
        }
      ]
    },
    {
      "cell_type": "code",
      "metadata": {
        "id": "jm5c9JP4xalW",
        "colab_type": "code",
        "outputId": "f70081b5-d72e-40ed-9f0c-eae05e288437",
        "colab": {
          "base_uri": "https://localhost:8080/",
          "height": 588
        }
      },
      "source": [
        "import folium\n",
        "\n",
        "image = ee.Image('LANDSAT/LC08/C01/T1_TOA/LC08_044034_20140318')\n",
        "\n",
        "ndwi = image.normalizedDifference(['B3', 'B5'])\n",
        "ndvi = image.normalizedDifference(['B5', 'B4'])\n",
        "\n",
        "# Set visualization parameters.\n",
        "vis_params_W = {\n",
        "  'min': 0.5,\n",
        "  'max': 1.0,\n",
        "  'palette': ['00FFFF', '0000FF']}\n",
        "\n",
        "vis_params_V = {\n",
        "  'min': -1,\n",
        "  'max': 1,\n",
        "  'palette': ['#d73027', '#f46d43', '#fdae61','#fee08b', '#d9ef8b', '#a6d96a', '#66bd63', '#1a9850']\n",
        "  #'palette': ['blue', 'white', 'green']\n",
        "  }\n",
        "\n",
        "# Create a folium map object.\n",
        "my_map = folium.Map(location=[37.2, -121], zoom_start=8, height=500)\n",
        "\n",
        "# Add the water index model to the map object.\n",
        "my_map.add_ee_layer(ndwi.updateMask(ndwi.gt(0)), vis_params_W, 'NDWI')\n",
        "\n",
        "# Add the vegetation index model to the map object.\n",
        "my_map.add_ee_layer(ndvi, vis_params_V, 'NDVI')\n",
        "\n",
        "# Add a layer control panel to the map.\n",
        "my_map.add_child(folium.LayerControl())\n",
        "\n",
        "# Display the map.\n",
        "display(my_map)"
      ],
      "execution_count": 15,
      "outputs": [
        {
          "output_type": "display_data",
          "data": {
            "text/html": [
              "<div style=\"width:100%;\"><div style=\"position:relative;width:100%;height:0;padding-bottom:60%;\"><span style=\"color:#565656\">Make this Notebook Trusted to load map: File -> Trust Notebook</span><iframe src=\"about:blank\" style=\"position:absolute;width:100%;height:100%;left:0;top:0;border:none !important;\" data-html=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 onload=\"this.contentDocument.open();this.contentDocument.write(atob(this.getAttribute('data-html')));this.contentDocument.close();\" allowfullscreen webkitallowfullscreen mozallowfullscreen></iframe></div></div>"
            ],
            "text/plain": [
              "<folium.folium.Map at 0x7fc56b0cfb38>"
            ]
          },
          "metadata": {
            "tags": []
          }
        }
      ]
    },
    {
      "cell_type": "code",
      "metadata": {
        "id": "wjU0HSXkx7NL",
        "colab_type": "code",
        "outputId": "48269a2c-f811-451c-e8c0-3d18d2599795",
        "colab": {
          "base_uri": "https://localhost:8080/",
          "height": 588
        }
      },
      "source": [
        "image = ee.Image('LANDSAT/LC08/C01/T1_TOA/LC08_044034_20140318')\n",
        "\n",
        "my_map = folium.Map(location=[37.2, -121], zoom_start=8, height=500)\n",
        "image_B1 = image.select(['B4','B3','B2'])\n",
        "vis_params_B1 = {\n",
        "  'min': 0,\n",
        "  'max': 30000.0}\n",
        "my_map.add_ee_layer(image_B1, vis_params_B1, 'B1')\n",
        "display(my_map)"
      ],
      "execution_count": 0,
      "outputs": [
        {
          "output_type": "display_data",
          "data": {
            "text/html": [
              "<div style=\"width:100%;\"><div style=\"position:relative;width:100%;height:0;padding-bottom:60%;\"><span style=\"color:#565656\">Make this Notebook Trusted to load map: File -> Trust Notebook</span><iframe src=\"about:blank\" style=\"position:absolute;width:100%;height:100%;left:0;top:0;border:none !important;\" data-html=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 onload=\"this.contentDocument.open();this.contentDocument.write(atob(this.getAttribute('data-html')));this.contentDocument.close();\" allowfullscreen webkitallowfullscreen mozallowfullscreen></iframe></div></div>"
            ],
            "text/plain": [
              "<folium.folium.Map at 0x7fdeb7ece080>"
            ]
          },
          "metadata": {
            "tags": []
          }
        }
      ]
    },
    {
      "cell_type": "code",
      "metadata": {
        "id": "bVEzL6P5dUx4",
        "colab_type": "code",
        "outputId": "beb296d0-75b3-46e7-b7be-d9bc55571aab",
        "colab": {
          "base_uri": "https://localhost:8080/",
          "height": 588
        }
      },
      "source": [
        "dataset = ee.Image('LANDSAT/LC08/C01/T1_TOA/LC08_044034_20140318')\n",
        "trueColor432 = dataset.select(['B4', 'B3', 'B2'])\n",
        "trueColor432Vis = {\n",
        "  'min': 0.0,\n",
        "  'max': 100000.0,\n",
        "}\n",
        "my_map_2 = folium.Map(location=[37.2, -121], zoom_start=8)\n",
        "my_map_2.add_ee_layer(trueColor432, trueColor432Vis, 'B4B3B2')\n",
        "display(my_map_2)"
      ],
      "execution_count": 0,
      "outputs": [
        {
          "output_type": "display_data",
          "data": {
            "text/html": [
              "<div style=\"width:100%;\"><div style=\"position:relative;width:100%;height:0;padding-bottom:60%;\"><span style=\"color:#565656\">Make this Notebook Trusted to load map: File -> Trust Notebook</span><iframe src=\"about:blank\" style=\"position:absolute;width:100%;height:100%;left:0;top:0;border:none !important;\" data-html=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 onload=\"this.contentDocument.open();this.contentDocument.write(atob(this.getAttribute('data-html')));this.contentDocument.close();\" allowfullscreen webkitallowfullscreen mozallowfullscreen></iframe></div></div>"
            ],
            "text/plain": [
              "<folium.folium.Map at 0x7fdeb7da9c18>"
            ]
          },
          "metadata": {
            "tags": []
          }
        }
      ]
    },
    {
      "cell_type": "code",
      "metadata": {
        "id": "pn-4PVo8l9oc",
        "colab_type": "code",
        "outputId": "b0da7c6f-7232-49cc-fd54-c2289111915f",
        "colab": {
          "base_uri": "https://localhost:8080/",
          "height": 89
        }
      },
      "source": [
        "Image(image_B1)"
      ],
      "execution_count": 0,
      "outputs": [
        {
          "output_type": "stream",
          "text": [
            "/usr/local/lib/python3.6/dist-packages/IPython/core/formatters.py:364: FormatterWarning: image/png formatter returned invalid type <class 'ee.image.Image'> (expected (<class 'bytes'>, <class 'str'>)) for object: <IPython.core.display.Image object>\n",
            "  FormatterWarning\n"
          ],
          "name": "stderr"
        },
        {
          "output_type": "execute_result",
          "data": {
            "text/plain": [
              "<IPython.core.display.Image object>"
            ]
          },
          "metadata": {
            "tags": []
          },
          "execution_count": 70
        }
      ]
    },
    {
      "cell_type": "code",
      "metadata": {
        "id": "HoVvs9Kj4S_0",
        "colab_type": "code",
        "outputId": "1abbfab4-c083-43e6-b198-af8292c6fd64",
        "colab": {
          "base_uri": "https://localhost:8080/",
          "height": 52
        }
      },
      "source": [
        "#This is code I downloaded from https://geoscripting-wur.github.io/Earth_Engine/\n",
        "#This presentation also seems helpful in understanding why the Python version might\n",
        "#be worth persisting with, given the ease of using the JavaScript platform.\n",
        "#Here: https://docs.google.com/presentation/d/1MVVeyCdm-FrMVRPop6wB3iyd85TAlwB-F9ygTQZ8S1w/pub#slide=id.g1e419debf0_1_205\n",
        "\n",
        "import ee\n",
        "from ee import batch\n",
        "\n",
        "## Initialize connection to server\n",
        "ee.Initialize()\n",
        "\n",
        "## Define your image collection \n",
        "collection = ee.ImageCollection('LANDSAT/LC8_L1T_TOA')\n",
        "\n",
        "## Define time range\n",
        "collection_time = collection.filterDate('2013-04-11', '2018-01-01') #YYYY-MM-DD\n",
        "\n",
        "## Select location based on location of tile\n",
        "path = collection_time.filter(ee.Filter.eq('WRS_PATH', 198))\n",
        "pathrow = path.filter(ee.Filter.eq('WRS_ROW', 24))\n",
        "# or via geographical location:\n",
        "#point_geom = ee.Geometry.Point(5, 52) #longitude, latitude\n",
        "#pathrow = collection_time.filterBounds(point_geom)\n",
        "\n",
        "## Select imagery with less then 5% of image covered by clouds\n",
        "clouds = pathrow.filter(ee.Filter.lt('CLOUD_COVER', 5))\n",
        "\n",
        "## Select bands\n",
        "bands = clouds.select(['B4', 'B3', 'B2'])\n",
        "\n",
        "## Make 8 bit data\n",
        "def convertBit(image):\n",
        "    return image.multiply(512).uint8()  \n",
        "\n",
        "## Convert bands to output video  \n",
        "outputVideo = bands.map(convertBit)\n",
        "\n",
        "print(\"Starting to create a video\")\n",
        "\n",
        "## Export video to Google Drive\n",
        "out = batch.Export.video.toDrive(outputVideo, description='Netherlands_video_region_L8_time', dimensions = 720, framesPerSecond = 2, region=([5.588144,51.993435], [5.727906, 51.993435],[5.727906, 51.944356],[5.588144, 51.944356]), maxFrames=10000)\n",
        "\n",
        "## Process the image\n",
        "process = batch.Task.start(out)\n",
        "\n",
        "print(\"Process sent to cloud\")"
      ],
      "execution_count": 0,
      "outputs": [
        {
          "output_type": "stream",
          "text": [
            "Starting to create a video\n",
            "Process sent to cloud\n"
          ],
          "name": "stdout"
        }
      ]
    },
    {
      "cell_type": "code",
      "metadata": {
        "id": "jKPdLXoySh_M",
        "colab_type": "code",
        "outputId": "c1493d99-af7c-4ac5-ae24-1362d3cad4cf",
        "colab": {
          "base_uri": "https://localhost:8080/",
          "height": 54
        }
      },
      "source": [
        "## Define your image collection \n",
        "collection = ee.ImageCollection('LANDSAT/LC8_L1T_TOA')\n",
        "\n",
        "## Define time range\n",
        "collection_time = collection.filterDate('2013-04-11', '2018-01-01') #YYYY-MM-DD\n",
        "\n",
        "## Select location based on location of tile\n",
        "path = collection_time.filter(ee.Filter.eq('WRS_PATH', 14))\n",
        "pathrow = path.filter(ee.Filter.eq('WRS_ROW', 32))\n",
        "\n",
        "## Select imagery with less then 5% of image covered by clouds\n",
        "clouds = pathrow.filter(ee.Filter.lt('CLOUD_COVER', 5))\n",
        "\n",
        "## Select bands\n",
        "bands = clouds.select(['B4', 'B3', 'B2'])\n",
        "\n",
        "## Convert bands to output video  \n",
        "outputVideo = bands.map(convertBit)\n",
        "\n",
        "videoArgs = {\n",
        "  'dimensions': 768,\n",
        "  'framesPerSecond': 7,\n",
        "  'min': 0.0,\n",
        "  'max': 255.0\n",
        "}\n",
        "\n",
        "\n",
        "print(bands.getVideoThumbURL(videoArgs))"
      ],
      "execution_count": 0,
      "outputs": [
        {
          "output_type": "stream",
          "text": [
            "https://earthengine.googleapis.com/v1alpha/projects/earthengine-legacy/videoThumbnails/f3190332c8711c125cdda881f6e85449-702f21dbf9a6186733c0650e3431e44c:getPixels\n"
          ],
          "name": "stdout"
        }
      ]
    },
    {
      "cell_type": "code",
      "metadata": {
        "id": "CRGl8EpaX9zp",
        "colab_type": "code",
        "outputId": "9978e90c-8529-4b63-cef1-22f087782609",
        "colab": {
          "base_uri": "https://localhost:8080/",
          "height": 34
        }
      },
      "source": [
        ""
      ],
      "execution_count": 0,
      "outputs": [
        {
          "output_type": "execute_result",
          "data": {
            "text/plain": [
              "<Task EXPORT_VIDEO: Netherlands_video_region_L8_time (UNSUBMITTED)>"
            ]
          },
          "metadata": {
            "tags": []
          },
          "execution_count": 106
        }
      ]
    },
    {
      "cell_type": "code",
      "metadata": {
        "id": "eZZHQJzJd9KR",
        "colab_type": "code",
        "outputId": "f5c858a6-6cb3-4b28-90cc-163ae79a5f45",
        "colab": {
          "base_uri": "https://localhost:8080/",
          "height": 54
        }
      },
      "source": [
        "# Define an area of interest geometry with a global non-polar extent.\n",
        "aoi = ee.Geometry.Polygon([[[-179.0, 78.0], [-179.0, -58.0], [179.0, -58.0], [179.0, 78.0]]]);\n",
        "\n",
        "# Import hourly predicted temperature image collection for northern winter\n",
        "# solstice. Note that predictions extend for 384 hours; limit the collection\n",
        "# to the first 24 hours.\n",
        "tempCol = ee.ImageCollection('NOAA/GFS0P25').filterDate('2018-12-22', '2018-12-23').limit(24).select('temperature_2m_above_ground');\n",
        "\n",
        "# Define arguments for animation function parameters.\n",
        "videoArgs = {\n",
        "  'dimensions': 768,\n",
        "  'region': aoi,\n",
        "  'framesPerSecond': 7,\n",
        "  'crs': 'EPSG:3857',\n",
        "  'min': -40.0,\n",
        "  'max': 35.0,\n",
        "  'palette': ['blue', 'purple', 'cyan', 'green', 'yellow', 'red']\n",
        "};\n",
        "'''\n",
        "// Print the animation to the console as a ui.Thumbnail using the above defined\n",
        "// arguments. Note that ui.Thumbnail produces an animation when the first input\n",
        "// is an ee.ImageCollection instead of an ee.Image.\n",
        "'''\n",
        "#print(ui.Thumbnail(tempCol, videoArgs));\n",
        "\n",
        "# Alternatively, print a URL that will produce the animation when accessed.\n",
        "print(tempCol.getVideoThumbURL(videoArgs))"
      ],
      "execution_count": 0,
      "outputs": [
        {
          "output_type": "stream",
          "text": [
            "https://earthengine.googleapis.com/v1alpha/projects/earthengine-legacy/videoThumbnails/9edd53d9cc21a8060b4aed658594d4dd-46a3e451d7ce7f56e257f8049a6ab999:getPixels\n"
          ],
          "name": "stdout"
        }
      ]
    },
    {
      "cell_type": "code",
      "metadata": {
        "id": "0z94hqrIOArw",
        "colab_type": "code",
        "colab": {
          "base_uri": "https://localhost:8080/",
          "height": 173
        },
        "outputId": "ac2828c4-0838-43fe-eab9-77ca09989707"
      },
      "source": [
        "# Make a sequence the hard way.\n",
        "eeList = ee.List([1, 2, 3, 4, 5])\n",
        "\n",
        "# Make a sequence the easy way!\n",
        "sequence = ee.List.sequence(1, 5);\n",
        "\n",
        "print('Sequence:', sequence)\n",
        "print('Opening the container:', sequence.getInfo())"
      ],
      "execution_count": 19,
      "outputs": [
        {
          "output_type": "stream",
          "text": [
            "Sequence: ee.List({\n",
            "  \"type\": \"Invocation\",\n",
            "  \"arguments\": {\n",
            "    \"start\": 1,\n",
            "    \"end\": 5\n",
            "  },\n",
            "  \"functionName\": \"List.sequence\"\n",
            "})\n",
            "Opening the container: [1, 2, 3, 4, 5]\n"
          ],
          "name": "stdout"
        }
      ]
    },
    {
      "cell_type": "code",
      "metadata": {
        "id": "hlARNdKg6DgB",
        "colab_type": "code",
        "colab": {
          "base_uri": "https://localhost:8080/",
          "height": 86
        },
        "outputId": "d8b8e15d-8bb5-4e9d-bb2e-c68640d7c8ba"
      },
      "source": [
        "import numpy as np\n",
        "dictionary = ee.Dictionary({\n",
        "  'e': np.e,\n",
        "  'pi': np.pi,\n",
        "  'phi': (1 + np.sqrt(5))/2\n",
        "})\n",
        "\n",
        "# Get some values from the dictionary.\n",
        "print('Euler:', dictionary.get('e').getInfo())\n",
        "print('Pi:', dictionary.get('pi').getInfo())\n",
        "print('Golden ratio:', dictionary.get('phi').getInfo())\n",
        "\n",
        "# Get all the keys:\n",
        "print('Keys: ', dictionary.keys().getInfo())"
      ],
      "execution_count": 21,
      "outputs": [
        {
          "output_type": "stream",
          "text": [
            "Euler: 2.718281828459045\n",
            "Pi: 3.141592653589793\n",
            "Golden ratio: 1.618033988749895\n",
            "Keys:  ['e', 'phi', 'pi']\n"
          ],
          "name": "stdout"
        }
      ]
    },
    {
      "cell_type": "code",
      "metadata": {
        "id": "vrhDBXaB6OGu",
        "colab_type": "code",
        "colab": {
          "base_uri": "https://localhost:8080/",
          "height": 156
        },
        "outputId": "3755a0a2-cc2f-4f07-de5d-5f82af6fbb37"
      },
      "source": [
        "# Define a date in Earth Engine.\n",
        "date = ee.Date('2015-12-31')\n",
        "print('Date:', date)\n",
        "print('Date:', date.getInfo())"
      ],
      "execution_count": 22,
      "outputs": [
        {
          "output_type": "stream",
          "text": [
            "Date: ee.Date({\n",
            "  \"type\": \"Invocation\",\n",
            "  \"arguments\": {\n",
            "    \"value\": \"2015-12-31\"\n",
            "  },\n",
            "  \"functionName\": \"Date\"\n",
            "})\n",
            "Date: {'type': 'Date', 'value': 1451520000000}\n"
          ],
          "name": "stdout"
        }
      ]
    },
    {
      "cell_type": "code",
      "metadata": {
        "id": "7ddor0O96acN",
        "colab_type": "code",
        "colab": {
          "base_uri": "https://localhost:8080/",
          "height": 243
        },
        "outputId": "912a82df-e5e0-4156-8bc2-809bf5c5e03d"
      },
      "source": [
        "image1 = ee.Image(1)\n",
        "print(image1,'\\n')\n",
        "image1.getInfo()"
      ],
      "execution_count": 23,
      "outputs": [
        {
          "output_type": "stream",
          "text": [
            "ee.Image({\n",
            "  \"type\": \"Invocation\",\n",
            "  \"arguments\": {\n",
            "    \"value\": 1\n",
            "  },\n",
            "  \"functionName\": \"Image.constant\"\n",
            "}) \n",
            "\n"
          ],
          "name": "stdout"
        },
        {
          "output_type": "execute_result",
          "data": {
            "text/plain": [
              "{'bands': [{'crs': 'EPSG:4326',\n",
              "   'crs_transform': [1, 0, 0, 0, 1, 0],\n",
              "   'data_type': {'max': 1, 'min': 1, 'precision': 'int', 'type': 'PixelType'},\n",
              "   'id': 'constant'}],\n",
              " 'type': 'Image'}"
            ]
          },
          "metadata": {
            "tags": []
          },
          "execution_count": 23
        }
      ]
    },
    {
      "cell_type": "code",
      "metadata": {
        "id": "TO9Z7Zty674O",
        "colab_type": "code",
        "colab": {
          "base_uri": "https://localhost:8080/",
          "height": 1000
        },
        "outputId": "1c15bdea-fa75-4a33-fe0f-1f3c2411f24d"
      },
      "source": [
        "image.getInfo()"
      ],
      "execution_count": 25,
      "outputs": [
        {
          "output_type": "execute_result",
          "data": {
            "text/plain": [
              "{'bands': [{'crs': 'EPSG:32610',\n",
              "   'crs_transform': [30, 0, 460785, 0, -30, 4264215],\n",
              "   'data_type': {'precision': 'float', 'type': 'PixelType'},\n",
              "   'dimensions': [7661, 7801],\n",
              "   'id': 'B1'},\n",
              "  {'crs': 'EPSG:32610',\n",
              "   'crs_transform': [30, 0, 460785, 0, -30, 4264215],\n",
              "   'data_type': {'precision': 'float', 'type': 'PixelType'},\n",
              "   'dimensions': [7661, 7801],\n",
              "   'id': 'B2'},\n",
              "  {'crs': 'EPSG:32610',\n",
              "   'crs_transform': [30, 0, 460785, 0, -30, 4264215],\n",
              "   'data_type': {'precision': 'float', 'type': 'PixelType'},\n",
              "   'dimensions': [7661, 7801],\n",
              "   'id': 'B3'},\n",
              "  {'crs': 'EPSG:32610',\n",
              "   'crs_transform': [30, 0, 460785, 0, -30, 4264215],\n",
              "   'data_type': {'precision': 'float', 'type': 'PixelType'},\n",
              "   'dimensions': [7661, 7801],\n",
              "   'id': 'B4'},\n",
              "  {'crs': 'EPSG:32610',\n",
              "   'crs_transform': [30, 0, 460785, 0, -30, 4264215],\n",
              "   'data_type': {'precision': 'float', 'type': 'PixelType'},\n",
              "   'dimensions': [7661, 7801],\n",
              "   'id': 'B5'},\n",
              "  {'crs': 'EPSG:32610',\n",
              "   'crs_transform': [30, 0, 460785, 0, -30, 4264215],\n",
              "   'data_type': {'precision': 'float', 'type': 'PixelType'},\n",
              "   'dimensions': [7661, 7801],\n",
              "   'id': 'B6'},\n",
              "  {'crs': 'EPSG:32610',\n",
              "   'crs_transform': [30, 0, 460785, 0, -30, 4264215],\n",
              "   'data_type': {'precision': 'float', 'type': 'PixelType'},\n",
              "   'dimensions': [7661, 7801],\n",
              "   'id': 'B7'},\n",
              "  {'crs': 'EPSG:32610',\n",
              "   'crs_transform': [15, 0, 460792.5, 0, -15, 4264207.5],\n",
              "   'data_type': {'precision': 'float', 'type': 'PixelType'},\n",
              "   'dimensions': [15321, 15601],\n",
              "   'id': 'B8'},\n",
              "  {'crs': 'EPSG:32610',\n",
              "   'crs_transform': [30, 0, 460785, 0, -30, 4264215],\n",
              "   'data_type': {'precision': 'float', 'type': 'PixelType'},\n",
              "   'dimensions': [7661, 7801],\n",
              "   'id': 'B9'},\n",
              "  {'crs': 'EPSG:32610',\n",
              "   'crs_transform': [30, 0, 460785, 0, -30, 4264215],\n",
              "   'data_type': {'precision': 'float', 'type': 'PixelType'},\n",
              "   'dimensions': [7661, 7801],\n",
              "   'id': 'B10'},\n",
              "  {'crs': 'EPSG:32610',\n",
              "   'crs_transform': [30, 0, 460785, 0, -30, 4264215],\n",
              "   'data_type': {'precision': 'float', 'type': 'PixelType'},\n",
              "   'dimensions': [7661, 7801],\n",
              "   'id': 'B11'},\n",
              "  {'crs': 'EPSG:32610',\n",
              "   'crs_transform': [30, 0, 460785, 0, -30, 4264215],\n",
              "   'data_type': {'max': 65535,\n",
              "    'min': 0,\n",
              "    'precision': 'int',\n",
              "    'type': 'PixelType'},\n",
              "   'dimensions': [7661, 7801],\n",
              "   'id': 'BQA'}],\n",
              " 'id': 'LANDSAT/LC08/C01/T1_TOA/LC08_044034_20140318',\n",
              " 'properties': {'BPF_NAME_OLI': 'LO8BPF20140318183249_20140318190412.01',\n",
              "  'BPF_NAME_TIRS': 'LT8BPF20140318182855_20140318190505.01',\n",
              "  'CLOUD_COVER': 0.05999999865889549,\n",
              "  'CLOUD_COVER_LAND': 0.10000000149011612,\n",
              "  'COLLECTION_CATEGORY': 'T1',\n",
              "  'COLLECTION_NUMBER': 1,\n",
              "  'CPF_NAME': 'LC08CPF_20140101_20140331_01.01',\n",
              "  'DATA_TYPE': 'L1TP',\n",
              "  'DATE_ACQUIRED': '2014-03-18',\n",
              "  'DATUM': 'WGS84',\n",
              "  'EARTH_SUN_DISTANCE': 0.9953709244728088,\n",
              "  'ELEVATION_SOURCE': 'GLS2000',\n",
              "  'ELLIPSOID': 'WGS84',\n",
              "  'FILE_DATE': 1488849349000,\n",
              "  'GEOMETRIC_RMSE_MODEL': 6.78000020980835,\n",
              "  'GEOMETRIC_RMSE_MODEL_X': 4.841000080108643,\n",
              "  'GEOMETRIC_RMSE_MODEL_Y': 4.747000217437744,\n",
              "  'GEOMETRIC_RMSE_VERIFY': 3.249000072479248,\n",
              "  'GRID_CELL_SIZE_PANCHROMATIC': 15,\n",
              "  'GRID_CELL_SIZE_REFLECTIVE': 30,\n",
              "  'GRID_CELL_SIZE_THERMAL': 30,\n",
              "  'GROUND_CONTROL_POINTS_MODEL': 527,\n",
              "  'GROUND_CONTROL_POINTS_VERIFY': 164,\n",
              "  'GROUND_CONTROL_POINTS_VERSION': 4,\n",
              "  'IMAGE_QUALITY_OLI': 9,\n",
              "  'IMAGE_QUALITY_TIRS': 9,\n",
              "  'K1_CONSTANT_BAND_10': 774.8853149414062,\n",
              "  'K1_CONSTANT_BAND_11': 480.8883056640625,\n",
              "  'K2_CONSTANT_BAND_10': 1321.078857421875,\n",
              "  'K2_CONSTANT_BAND_11': 1201.1441650390625,\n",
              "  'LANDSAT_PRODUCT_ID': 'LC08_L1TP_044034_20140318_20170307_01_T1',\n",
              "  'LANDSAT_SCENE_ID': 'LC80440342014077LGN01',\n",
              "  'MAP_PROJECTION': 'UTM',\n",
              "  'NADIR_OFFNADIR': 'NADIR',\n",
              "  'ORIENTATION': 'NORTH_UP',\n",
              "  'PANCHROMATIC_LINES': 15601,\n",
              "  'PANCHROMATIC_SAMPLES': 15321,\n",
              "  'PROCESSING_SOFTWARE_VERSION': 'LPGS_2.7.0',\n",
              "  'RADIANCE_ADD_BAND_1': -63.364051818847656,\n",
              "  'RADIANCE_ADD_BAND_10': 0.10000000149011612,\n",
              "  'RADIANCE_ADD_BAND_11': 0.10000000149011612,\n",
              "  'RADIANCE_ADD_BAND_2': -64.88555908203125,\n",
              "  'RADIANCE_ADD_BAND_3': -59.79148864746094,\n",
              "  'RADIANCE_ADD_BAND_4': -50.419559478759766,\n",
              "  'RADIANCE_ADD_BAND_5': -30.854249954223633,\n",
              "  'RADIANCE_ADD_BAND_6': -7.67317008972168,\n",
              "  'RADIANCE_ADD_BAND_7': -2.5862700939178467,\n",
              "  'RADIANCE_ADD_BAND_8': -57.06106185913086,\n",
              "  'RADIANCE_ADD_BAND_9': -12.058540344238281,\n",
              "  'RADIANCE_MULT_BAND_1': 0.012672999873757362,\n",
              "  'RADIANCE_MULT_BAND_10': 0.00033420001273043454,\n",
              "  'RADIANCE_MULT_BAND_11': 0.00033420001273043454,\n",
              "  'RADIANCE_MULT_BAND_2': 0.012977000325918198,\n",
              "  'RADIANCE_MULT_BAND_3': 0.011958000250160694,\n",
              "  'RADIANCE_MULT_BAND_4': 0.010084000416100025,\n",
              "  'RADIANCE_MULT_BAND_5': 0.006170900072902441,\n",
              "  'RADIANCE_MULT_BAND_6': 0.001534600043669343,\n",
              "  'RADIANCE_MULT_BAND_7': 0.0005172499804757535,\n",
              "  'RADIANCE_MULT_BAND_8': 0.0114120002835989,\n",
              "  'RADIANCE_MULT_BAND_9': 0.0024117000866681337,\n",
              "  'REFLECTANCE_ADD_BAND_1': -0.10000000149011612,\n",
              "  'REFLECTANCE_ADD_BAND_2': -0.10000000149011612,\n",
              "  'REFLECTANCE_ADD_BAND_3': -0.10000000149011612,\n",
              "  'REFLECTANCE_ADD_BAND_4': -0.10000000149011612,\n",
              "  'REFLECTANCE_ADD_BAND_5': -0.10000000149011612,\n",
              "  'REFLECTANCE_ADD_BAND_6': -0.10000000149011612,\n",
              "  'REFLECTANCE_ADD_BAND_7': -0.10000000149011612,\n",
              "  'REFLECTANCE_ADD_BAND_8': -0.10000000149011612,\n",
              "  'REFLECTANCE_ADD_BAND_9': -0.10000000149011612,\n",
              "  'REFLECTANCE_MULT_BAND_1': 1.9999999494757503e-05,\n",
              "  'REFLECTANCE_MULT_BAND_2': 1.9999999494757503e-05,\n",
              "  'REFLECTANCE_MULT_BAND_3': 1.9999999494757503e-05,\n",
              "  'REFLECTANCE_MULT_BAND_4': 1.9999999494757503e-05,\n",
              "  'REFLECTANCE_MULT_BAND_5': 1.9999999494757503e-05,\n",
              "  'REFLECTANCE_MULT_BAND_6': 1.9999999494757503e-05,\n",
              "  'REFLECTANCE_MULT_BAND_7': 1.9999999494757503e-05,\n",
              "  'REFLECTANCE_MULT_BAND_8': 1.9999999494757503e-05,\n",
              "  'REFLECTANCE_MULT_BAND_9': 1.9999999494757503e-05,\n",
              "  'REFLECTIVE_LINES': 7801,\n",
              "  'REFLECTIVE_SAMPLES': 7661,\n",
              "  'REQUEST_ID': '0501703063989_00019',\n",
              "  'RESAMPLING_OPTION': 'CUBIC_CONVOLUTION',\n",
              "  'RLUT_FILE_NAME': 'LC08RLUT_20130211_20150302_01_11.h5',\n",
              "  'ROLL_ANGLE': -0.0010000000474974513,\n",
              "  'SATURATION_BAND_1': 'Y',\n",
              "  'SATURATION_BAND_2': 'Y',\n",
              "  'SATURATION_BAND_3': 'Y',\n",
              "  'SATURATION_BAND_4': 'Y',\n",
              "  'SATURATION_BAND_5': 'Y',\n",
              "  'SATURATION_BAND_6': 'Y',\n",
              "  'SATURATION_BAND_7': 'Y',\n",
              "  'SATURATION_BAND_8': 'N',\n",
              "  'SATURATION_BAND_9': 'N',\n",
              "  'SCENE_CENTER_TIME': '18:46:32.0535800Z',\n",
              "  'SENSOR_ID': 'OLI_TIRS',\n",
              "  'SPACECRAFT_ID': 'LANDSAT_8',\n",
              "  'STATION_ID': 'LGN',\n",
              "  'SUN_AZIMUTH': 146.2395782470703,\n",
              "  'SUN_ELEVATION': 46.471065521240234,\n",
              "  'TARGET_WRS_PATH': 44,\n",
              "  'TARGET_WRS_ROW': 34,\n",
              "  'THERMAL_LINES': 7801,\n",
              "  'THERMAL_SAMPLES': 7661,\n",
              "  'TIRS_SSM_MODEL': 'ACTUAL',\n",
              "  'TIRS_SSM_POSITION_STATUS': 'NOMINAL',\n",
              "  'TIRS_STRAY_LIGHT_CORRECTION_SOURCE': 'TIRS',\n",
              "  'TRUNCATION_OLI': 'UPPER',\n",
              "  'UTM_ZONE': 10,\n",
              "  'WRS_PATH': 44,\n",
              "  'WRS_ROW': 34,\n",
              "  'google:registration_count': 0,\n",
              "  'google:registration_offset_x': 0,\n",
              "  'google:registration_offset_y': 0,\n",
              "  'google:registration_ratio': 0,\n",
              "  'system:asset_size': 1105511852,\n",
              "  'system:footprint': {'coordinates': [[-121.3637119499993, 36.41016684133052],\n",
              "    [-121.35905784815819, 36.42528989660049],\n",
              "    [-121.2315833015866, 36.840374852891664],\n",
              "    [-121.09978718573184, 37.26438246506325],\n",
              "    [-121.00571062336425, 37.564795515259384],\n",
              "    [-120.98453376062118, 37.632161601008896],\n",
              "    [-120.95100979452299, 37.73864548098522],\n",
              "    [-120.90277241165228, 37.89149086576169],\n",
              "    [-120.8836409072059, 37.951976016520376],\n",
              "    [-120.85713152433351, 38.03584247073611],\n",
              "    [-120.82804345546616, 38.12789513604401],\n",
              "    [-122.38148159443172, 38.42337450676813],\n",
              "    [-122.9500220192271, 38.525813632077686],\n",
              "    [-122.95103687833704, 38.52422133103557],\n",
              "    [-122.9569591344694, 38.504384836247866],\n",
              "    [-123.43853932998316, 36.805122381748035],\n",
              "    [-123.18722447462653, 36.759167415189125],\n",
              "    [-121.5105534682754, 36.43765126135182],\n",
              "    [-121.36447385999617, 36.408418528930035],\n",
              "    [-121.3637119499993, 36.41016684133052]],\n",
              "   'type': 'LinearRing'},\n",
              "  'system:index': 'LC08_044034_20140318',\n",
              "  'system:time_start': 1395168392050},\n",
              " 'type': 'Image',\n",
              " 'version': 1590153555527121}"
            ]
          },
          "metadata": {
            "tags": []
          },
          "execution_count": 25
        }
      ]
    },
    {
      "cell_type": "code",
      "metadata": {
        "id": "BVxGQbo17Aj8",
        "colab_type": "code",
        "colab": {
          "base_uri": "https://localhost:8080/",
          "height": 201
        },
        "outputId": "904ad228-a5d3-4b9b-d7d2-d69eae9f97f9"
      },
      "source": [
        "import folium\n",
        "# Load an image.\n",
        "image = ee.Image('LANDSAT/LC08/C01/T1_TOA/LC08_044034_20140318')\n",
        "mapid = image.getMapId({\n",
        "    'bands': ['B4', 'B3', 'B2'], \n",
        "    'min': 0, \n",
        "    'max': 0.3})\n",
        "\n",
        "# Display the map with folium!\n",
        "display(center, {'Median Composite':mapid},zoom_start=8)"
      ],
      "execution_count": 28,
      "outputs": [
        {
          "output_type": "error",
          "ename": "NameError",
          "evalue": "ignored",
          "traceback": [
            "\u001b[0;31m---------------------------------------------------------------------------\u001b[0m",
            "\u001b[0;31mNameError\u001b[0m                                 Traceback (most recent call last)",
            "\u001b[0;32m<ipython-input-28-2030a5a7eaea>\u001b[0m in \u001b[0;36m<module>\u001b[0;34m()\u001b[0m\n\u001b[1;32m      8\u001b[0m \u001b[0;34m\u001b[0m\u001b[0m\n\u001b[1;32m      9\u001b[0m \u001b[0;31m# Display the map with folium!\u001b[0m\u001b[0;34m\u001b[0m\u001b[0;34m\u001b[0m\u001b[0;34m\u001b[0m\u001b[0m\n\u001b[0;32m---> 10\u001b[0;31m \u001b[0mdisplay\u001b[0m\u001b[0;34m(\u001b[0m\u001b[0mcenter\u001b[0m\u001b[0;34m,\u001b[0m \u001b[0;34m{\u001b[0m\u001b[0;34m'Median Composite'\u001b[0m\u001b[0;34m:\u001b[0m\u001b[0mmapid\u001b[0m\u001b[0;34m}\u001b[0m\u001b[0;34m,\u001b[0m\u001b[0mzoom_start\u001b[0m\u001b[0;34m=\u001b[0m\u001b[0;36m8\u001b[0m\u001b[0;34m)\u001b[0m\u001b[0;34m\u001b[0m\u001b[0;34m\u001b[0m\u001b[0m\n\u001b[0m",
            "\u001b[0;31mNameError\u001b[0m: name 'center' is not defined"
          ]
        }
      ]
    },
    {
      "cell_type": "code",
      "metadata": {
        "id": "ifXlPQYK7gww",
        "colab_type": "code",
        "colab": {}
      },
      "source": [
        ""
      ],
      "execution_count": 0,
      "outputs": []
    }
  ]
}