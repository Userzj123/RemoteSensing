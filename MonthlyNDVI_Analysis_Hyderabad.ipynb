{
  "nbformat": 4,
  "nbformat_minor": 0,
  "metadata": {
    "colab": {
      "name": "MonthlyNDVI_Analysis_Hyderabad.ipynb",
      "provenance": [],
      "collapsed_sections": [],
      "toc_visible": true,
      "authorship_tag": "ABX9TyMuJbNNH+qH8sARN6rj6Us4",
      "include_colab_link": true
    },
    "kernelspec": {
      "name": "python3",
      "display_name": "Python 3"
    }
  },
  "cells": [
    {
      "cell_type": "markdown",
      "metadata": {
        "id": "view-in-github",
        "colab_type": "text"
      },
      "source": [
        "<a href=\"https://colab.research.google.com/github/arvindnswamy/RemoteSensing/blob/development/MonthlyNDVI_Analysis_Hyderabad.ipynb\" target=\"_parent\"><img src=\"https://colab.research.google.com/assets/colab-badge.svg\" alt=\"Open In Colab\"/></a>"
      ]
    },
    {
      "cell_type": "code",
      "metadata": {
        "id": "p3LmFLCeUd8S",
        "colab_type": "code",
        "colab": {
          "base_uri": "https://localhost:8080/",
          "height": 176
        },
        "outputId": "2a082348-a84b-4240-a59c-352e42333d77"
      },
      "source": [
        "#Python example based on a GEE tutorial available at https://developers.google.com/earth-engine/classification\n",
        "#This is the example that uses libsvm classifier.\n",
        "#Important thing is that the image has to be a float. IT DOES NOT WORK IF THE IMAGE IS np.uint16, AS MOST LANDST\n",
        "#IMAGES ARE. HENCE, I HAD TO CHANGE sat from sat = 'LANDSAT/LC08/C01/T1' to sat = 'LANDSAT/LC08/C01/T1_TOA'\n",
        "\n",
        "import ee\n",
        "from IPython.display import Image\n",
        "\n",
        "# Trigger the authentication flow.\n",
        "ee.Authenticate()"
      ],
      "execution_count": null,
      "outputs": [
        {
          "output_type": "stream",
          "text": [
            "To authorize access needed by Earth Engine, open the following URL in a web browser and follow the instructions. If the web browser does not start automatically, please manually browse the URL below.\n",
            "\n",
            "    https://accounts.google.com/o/oauth2/auth?client_id=517222506229-vsmmajv00ul0bs7p89v5m89qs8eb9359.apps.googleusercontent.com&scope=https%3A%2F%2Fwww.googleapis.com%2Fauth%2Fearthengine+https%3A%2F%2Fwww.googleapis.com%2Fauth%2Fdevstorage.full_control&redirect_uri=urn%3Aietf%3Awg%3Aoauth%3A2.0%3Aoob&response_type=code&code_challenge=2xLp9tEQlndtLKtQzMet4zr51n2zaKxDj3TDziM9aws&code_challenge_method=S256\n",
            "\n",
            "The authorization workflow will generate a code, which you should paste in the box below. \n",
            "Enter verification code: 4/1gHsfuZ4-ogREOfV53vPP2z8KqSJOpIiVZyX7-OpTWlz_D5QFUrY7U8\n",
            "\n",
            "Successfully saved authorization token.\n"
          ],
          "name": "stdout"
        }
      ]
    },
    {
      "cell_type": "code",
      "metadata": {
        "id": "Tuc89lAFU706",
        "colab_type": "code",
        "colab": {}
      },
      "source": [
        "ee.Initialize()\n",
        "\n",
        "def get_images(path_list, row_list, satellite, start_date, end_date, max_cloud_percentage):\n",
        "  coll = ee.ImageCollection(satellite).filterDate(start_date, end_date)\\\n",
        "            .filter(ee.Filter.inList('WRS_PATH', path_list))\\\n",
        "            .filter(ee.Filter.inList('WRS_ROW', row_list))\\\n",
        "            .filter(ee.Filter.lt('CLOUD_COVER', max_cloud_percentage))\n",
        "  image_ids = list(map(lambda x: x['id'], coll.getInfo()['features']))\n",
        "\n",
        "  images = list(map(lambda x: ee.Image(x), image_ids))\n",
        "\n",
        "  return images\n",
        "\n",
        "def get_image_coll(path_list, row_list, satellite, start_date, end_date, max_cloud_percentage):\n",
        "  coll = ee.ImageCollection(satellite).filterDate(start_date, end_date)\\\n",
        "            .filter(ee.Filter.inList('WRS_PATH', path_list))\\\n",
        "            .filter(ee.Filter.inList('WRS_ROW', row_list))\\\n",
        "            .filter(ee.Filter.lt('CLOUD_COVER', max_cloud_percentage))\n",
        "\n",
        "  return coll"
      ],
      "execution_count": null,
      "outputs": []
    },
    {
      "cell_type": "code",
      "metadata": {
        "id": "VcAvW9c0U8qm",
        "colab_type": "code",
        "colab": {}
      },
      "source": [
        "p = [144]\n",
        "r = [51]\n",
        "sat = 'LANDSAT/LC08/C01/T1_TOA'\n",
        "sd = '2013-05-01'\n",
        "ed = '2020-05-01'\n",
        "cc= 15\n",
        "\n",
        "image_list_nyc = get_images(p, r, sat, sd, ed, cc)\n",
        "image_coll = get_image_coll(p, r, sat, sd, ed, cc)\n",
        "#image_list_nyc"
      ],
      "execution_count": null,
      "outputs": []
    },
    {
      "cell_type": "code",
      "metadata": {
        "id": "-q6b29PLVIt1",
        "colab_type": "code",
        "colab": {
          "base_uri": "https://localhost:8080/",
          "height": 228
        },
        "outputId": "9f46768c-78ed-4e91-80ef-9ca60642e37f"
      },
      "source": [
        "'''\n",
        "Functions needed to display images and features/featurecollections are given here. \n",
        "These functions are all from other sources. Mostly from google tutorials.\n",
        "'''\n",
        "!pip install geojson pygeoj\n",
        "import geojson\n",
        "import json\n",
        "import pygeoj\n",
        "import numpy as np\n",
        "\n",
        "\n",
        "import folium\n",
        "\n",
        "\n",
        "# Define a method for displaying Earth Engine image tiles to folium map.\n",
        "def add_ee_layer(self, ee_image_object, vis_params, name):\n",
        "  map_id_dict = ee.Image(ee_image_object).getMapId(vis_params)\n",
        "  folium.raster_layers.TileLayer(\n",
        "    tiles = map_id_dict['tile_fetcher'].url_format,\n",
        "    attr = \"Map Data © Google Earth Engine\",\n",
        "    name = name,\n",
        "    overlay = True,\n",
        "    control = True\n",
        "  ).add_to(self)\n",
        "\n",
        "# Add EE drawing method to folium.\n",
        "folium.Map.add_ee_layer = add_ee_layer\n",
        "\n",
        "#@title Mapdisplay: Display GEE objects using folium.\n",
        "def Mapdisplay(center, dicc, Tiles=\"OpensTreetMap\",zoom_start=10):\n",
        "    '''\n",
        "    :param center: Center of the map (Latitude and Longitude).\n",
        "    :param dicc: Earth Engine Geometries or Tiles dictionary\n",
        "    :param Tiles: Mapbox Bright,Mapbox Control Room,Stamen Terrain,Stamen Toner,stamenwatercolor,cartodbpositron.\n",
        "    :zoom_start: Initial zoom level for the map.\n",
        "    :return: A folium.Map object.\n",
        "    '''\n",
        "    mapViz = folium.Map(location=center,tiles=Tiles, zoom_start=zoom_start)\n",
        "    for k,v in dicc.items():\n",
        "      if ee.image.Image in [type(x) for x in v.values()]:\n",
        "        folium.TileLayer(\n",
        "            tiles = v[\"tile_fetcher\"].url_format,\n",
        "            attr  = 'Google Earth Engine',\n",
        "            overlay =True,\n",
        "            name  = k\n",
        "          ).add_to(mapViz)\n",
        "      else:\n",
        "        folium.GeoJson(\n",
        "        data = v,\n",
        "        name = k\n",
        "          ).add_to(mapViz)\n",
        "    mapViz.add_child(folium.LayerControl())\n",
        "    return mapViz"
      ],
      "execution_count": null,
      "outputs": [
        {
          "output_type": "stream",
          "text": [
            "Collecting geojson\n",
            "  Downloading https://files.pythonhosted.org/packages/e4/8d/9e28e9af95739e6d2d2f8d4bef0b3432da40b7c3588fbad4298c1be09e48/geojson-2.5.0-py2.py3-none-any.whl\n",
            "Collecting pygeoj\n",
            "  Downloading https://files.pythonhosted.org/packages/f6/6c/c569e49b24beeef47dd15e02f583fb0ab0b3c95fffae71e8f5fe50a8297e/PyGeoj-1.0.0.tar.gz\n",
            "Building wheels for collected packages: pygeoj\n",
            "  Building wheel for pygeoj (setup.py) ... \u001b[?25l\u001b[?25hdone\n",
            "  Created wheel for pygeoj: filename=PyGeoj-1.0.0-cp36-none-any.whl size=10348 sha256=e1fcf67239b2d4400c1cadca541b812a49681c04d4d1c3f1a357fb9cbf4e948e\n",
            "  Stored in directory: /root/.cache/pip/wheels/7d/7c/8e/3c82fc15ee9f04d8df3e59817d2ee5499a8413341d6476c7d8\n",
            "Successfully built pygeoj\n",
            "Installing collected packages: geojson, pygeoj\n",
            "Successfully installed geojson-2.5.0 pygeoj-1.0.0\n"
          ],
          "name": "stdout"
        }
      ]
    },
    {
      "cell_type": "code",
      "metadata": {
        "id": "HPcjYPs2jh0p",
        "colab_type": "code",
        "colab": {}
      },
      "source": [
        "approxhyd = 'sample_data/' + 'AlmostCircleAroundHyderabad' +'.json'\n",
        "approxBLR = 'sample_data/' + 'ApproxBengaluru' +'.json'\n",
        "f = open(approxBLR)\n",
        "approxGeoJSON = geojson.load(f)\n",
        "\n",
        "approxBLREE = ee.Geometry.Polygon(np.array(approxGeoJSON['features'][0]['geometry']['coordinates'][0])[:,0:2].tolist())"
      ],
      "execution_count": null,
      "outputs": []
    },
    {
      "cell_type": "code",
      "metadata": {
        "id": "WbAlyRdJSvXh",
        "colab_type": "code",
        "colab": {}
      },
      "source": [
        "def addNDWIbands(image):\n",
        "  #return image.regexpRename('nd', 'ndwi');\n",
        "  return image.addBands(image.normalizedDifference(['B3', 'B6']).rename('NDWI'));\n",
        "\n",
        "def addNDVIbands(image):\n",
        "  image = image.addBands(image.normalizedDifference(['B5', 'B4']).rename('NDVI'));\n",
        "  return image\n"
      ],
      "execution_count": null,
      "outputs": []
    },
    {
      "cell_type": "code",
      "metadata": {
        "id": "A9SNj-kFUJKa",
        "colab_type": "code",
        "colab": {}
      },
      "source": [
        "image_coll = image_coll.map(addNDVIbands)\n",
        "\n",
        "image_coll = image_coll.map(addNDWIbands)"
      ],
      "execution_count": null,
      "outputs": []
    },
    {
      "cell_type": "code",
      "metadata": {
        "id": "X1_m1GmZdSVA",
        "colab_type": "code",
        "colab": {}
      },
      "source": [
        "def addImageNDhistAnalysis(image):\n",
        "  #import numpy as np\n",
        "  year = ee.Date(image.get('system:time_start')).get('year')\n",
        "  month = ee.Date(image.get('system:time_start')).get('month')\n",
        "  day = ee.Date(image.get('system:time_start')).get('day')\n",
        "\n",
        "  #img_data_ndwi = ee.List(image.sample(numPixels = 1000).reduceColumns(reducer=ee.Reducer.toList().repeat(1), selectors=['NDWI']).get('list'))\n",
        "  #img_data_ndvi = ee.List(image.sample(numPixels = 1000).reduceColumns(reducer=ee.Reducer.toList().repeat(1), selectors=['NDVI']).get('list'))\n",
        "\n",
        "  meanDictionary = image.select(['NDVI', 'NDWI']).reduceRegion(reducer= ee.Reducer.mean(), scale= 30, maxPixels = 1e9)\n",
        "  stdevDictionary = image.select(['NDVI', 'NDWI']).reduceRegion(reducer= ee.Reducer.stdDev(), scale= 30, maxPixels = 1e9)\n",
        "  #meanDictionary = image.select(['NDVI', 'NDWI']).reduceRegion(reducer= ee.Reducer.mean(), scale= 30, maxPixels = 1e9).getInfo()\n",
        "  #stdevDictionary = image.select(['NDVI', 'NDWI']).reduceRegion(reducer= ee.Reducer.stdDev(), scale= 30, maxPixels = 1e9).getInfo()\n",
        "\n",
        "  #image = image.setMulti({'year': year, 'month': month, 'day': day, 'ndwi, mean': meanDictionary['NDWI'], 'ndwi, stdev': stdevDictionary['NDWI'], 'ndvi, mean': meanDictionary['NDVI'], 'ndvi, stdev': stdevDictionary['NDVI']})\n",
        "  image = image.setMulti({'year': year, 'month': month, 'day': day, 'mean': meanDictionary, 'stdev': stdevDictionary})\n",
        "\n",
        "  return image"
      ],
      "execution_count": null,
      "outputs": []
    },
    {
      "cell_type": "code",
      "metadata": {
        "id": "tLcxFflLlfMQ",
        "colab_type": "code",
        "colab": {}
      },
      "source": [
        "#image_coll_test = ee.ImageCollection(image_coll.first()).map(addImageNDhistAnalysis)\n",
        "image_coll_test = image_coll.map(addImageNDhistAnalysis)\n",
        "\n",
        "#image_coll_test.first().propertyNames().getInfo()\n",
        "#image_coll_test.first().get('stdev').getInfo()#"
      ],
      "execution_count": null,
      "outputs": []
    },
    {
      "cell_type": "code",
      "metadata": {
        "id": "qS0H1KiK5PFd",
        "colab_type": "code",
        "colab": {
          "base_uri": "https://localhost:8080/",
          "height": 676
        },
        "outputId": "a143a39b-d3bf-4c7f-ded9-47d501fb3760"
      },
      "source": [
        "import seaborn as sns\n",
        "import matplotlib.pyplot as plt\n",
        "import pandas as pd\n",
        "from datetime import datetime\n",
        "\n",
        "df = pd.DataFrame()\n",
        "dfdict = {}\n",
        "\n",
        "f, (ax1,ax2) = plt.subplots(2, figsize=(10,10))\n",
        "\n",
        "for images in image_list_nyc[0:]:\n",
        "  #images = images.clip(approxhydEE) approxBLREE\n",
        "  images = images.clip(approxBLREE) \n",
        "  ndvi = images.normalizedDifference(['B5', 'B4'])\n",
        "  ndwi = images.normalizedDifference(['B3', 'B6'])\n",
        "\n",
        "  images = images.addBands(ndvi.rename('NDVI')) # band 'nd' is ndvi\n",
        "  images = images.addBands(ndwi.rename('NDWI')) #band 'nd_1' is ndwi\n",
        "\n",
        "  year = ee.Date(images.get('system:time_start')).get('year').getInfo()\n",
        "  month = ee.Date(images.get('system:time_start')).get('month').getInfo()\n",
        "\n",
        "  img_dict_ndwi = images.sample(numPixels = 1000).reduceColumns(ee.Reducer.toList().repeat(1), ['NDWI'])\n",
        "  img_list_ndwi = ee.List(img_dict_ndwi.get('list'))\n",
        "  img_data_ndwi = img_list_ndwi.getInfo()\n",
        "\n",
        "  dfdict['date'] = ee.Date(images.get('system:time_start')).format().getInfo()\n",
        "  dfdict['year'] = year\n",
        "  dfdict['month'] = month\n",
        "  dfdict['ndwi, mean'] = np.mean(img_data_ndwi)\n",
        "  dfdict['ndwi, stdev'] = np.std(img_data_ndwi)\n",
        "\n",
        "  img_data_ndvi = ee.List(images.sample(numPixels = 1000).reduceColumns(ee.Reducer.toList().repeat(1), ['NDVI']).get('list')).getInfo()\n",
        "\n",
        "  dfdict['ndvi, mean'] = np.mean(img_data_ndvi)\n",
        "  dfdict['ndvi, stdev'] = np.std(img_data_ndvi)\n",
        "\n",
        "  df = df.append(pd.DataFrame([[ee.Date(images.get('system:time_start')).format().getInfo(), \n",
        "                                year, month, np.mean(img_data_ndwi), np.std(img_data_ndwi),\n",
        "                                np.mean(img_data_ndvi), np.std(img_data_ndvi)]],\n",
        "                        columns=['date', 'year', 'month', 'ndwi, mean', 'ndwi, stdev', \n",
        "                              'ndvi, mean', 'ndvi, stdev']))\n",
        "\n",
        "  sns.distplot(img_data_ndwi, bins=50, label=str(month)+'/'+str(year), ax=ax1,\n",
        "               hist_kws={'alpha':0.3})\n",
        "  sns.distplot(img_data_ndvi, bins=50, label=ee.Date(images.get('system:time_start')).format().getInfo(), ax=ax2,\n",
        "               hist_kws={'alpha':0.3})\n",
        "#ax1.legend(loc='upper right')\n",
        "\n",
        "ax2.set_xlabel('Normalized difference')\n",
        "ax1.title.set_text('NDWI (B3, B6)')\n",
        "ax2.title.set_text('NDVI (B5, B4)')"
      ],
      "execution_count": null,
      "outputs": [
        {
          "output_type": "stream",
          "text": [
            "/usr/local/lib/python3.6/dist-packages/statsmodels/tools/_testing.py:19: FutureWarning: pandas.util.testing is deprecated. Use the functions in the public API at pandas.testing instead.\n",
            "  import pandas.util.testing as tm\n"
          ],
          "name": "stderr"
        },
        {
          "output_type": "display_data",
          "data": {
            "image/png": "[encoded data removed]",
            "text/plain": [
              "<Figure size 720x720 with 2 Axes>"
            ]
          },
          "metadata": {
            "tags": [],
            "needs_background": "light"
          }
        }
      ]
    },
    {
      "cell_type": "code",
      "metadata": {
        "id": "CDlGceJoUFu1",
        "colab_type": "code",
        "colab": {}
      },
      "source": [
        ""
      ],
      "execution_count": null,
      "outputs": []
    },
    {
      "cell_type": "code",
      "metadata": {
        "id": "v2fz3ICsi6Bi",
        "colab_type": "code",
        "colab": {
          "base_uri": "https://localhost:8080/",
          "height": 558
        },
        "outputId": "7064bf7b-ebde-4cae-e8c8-636ea9287152"
      },
      "source": [
        "df.plot.scatter(x='month', y='ndvi, mean')\n",
        "df.plot.scatter(x='month', y='ndvi, stdev')"
      ],
      "execution_count": null,
      "outputs": [
        {
          "output_type": "execute_result",
          "data": {
            "text/plain": [
              "<matplotlib.axes._subplots.AxesSubplot at 0x7ff1c7a60ba8>"
            ]
          },
          "metadata": {
            "tags": []
          },
          "execution_count": 12
        },
        {
          "output_type": "display_data",
          "data": {
            "image/png": "[encoded data removed]",
            "text/plain": [
              "<Figure size 432x288 with 1 Axes>"
            ]
          },
          "metadata": {
            "tags": [],
            "needs_background": "light"
          }
        },
        {
          "output_type": "display_data",
          "data": {
            "image/png": "[encoded data removed]",
            "text/plain": [
              "<Figure size 432x288 with 1 Axes>"
            ]
          },
          "metadata": {
            "tags": [],
            "needs_background": "light"
          }
        }
      ]
    },
    {
      "cell_type": "code",
      "metadata": {
        "id": "Mpo9uzhJoVpo",
        "colab_type": "code",
        "colab": {
          "base_uri": "https://localhost:8080/",
          "height": 34
        },
        "outputId": "b2ec6a69-7b7a-400c-ac66-efcd30a623dd"
      },
      "source": [
        "ee.Date(image_coll.first().get('system:time_start')).get('day').getInfo()"
      ],
      "execution_count": null,
      "outputs": [
        {
          "output_type": "execute_result",
          "data": {
            "text/plain": [
              "7"
            ]
          },
          "metadata": {
            "tags": []
          },
          "execution_count": 42
        }
      ]
    },
    {
      "cell_type": "code",
      "metadata": {
        "id": "DK9OJUIqwnXz",
        "colab_type": "code",
        "colab": {
          "base_uri": "https://localhost:8080/",
          "height": 260
        },
        "outputId": "4454bb4e-fbe0-4b07-9a87-e4cdeac84b36"
      },
      "source": [
        "image_coll.first().get('system:band_names').getInfo()\n",
        "#image_coll.first().propertyNames().getInfo()"
      ],
      "execution_count": null,
      "outputs": [
        {
          "output_type": "execute_result",
          "data": {
            "text/plain": [
              "['B1',\n",
              " 'B2',\n",
              " 'B3',\n",
              " 'B4',\n",
              " 'B5',\n",
              " 'B6',\n",
              " 'B7',\n",
              " 'B8',\n",
              " 'B9',\n",
              " 'B10',\n",
              " 'B11',\n",
              " 'BQA',\n",
              " 'NDVI',\n",
              " 'NDWI']"
            ]
          },
          "metadata": {
            "tags": []
          },
          "execution_count": 238
        }
      ]
    },
    {
      "cell_type": "code",
      "metadata": {
        "id": "xFOZN_FVoQsZ",
        "colab_type": "code",
        "colab": {
          "base_uri": "https://localhost:8080/",
          "height": 34
        },
        "outputId": "363b8726-a734-4b5b-909d-9f5b935616c1"
      },
      "source": [
        "image_coll.first().propertyNames().getInfo()\n",
        "img_data_ndwi = ee.List(image_coll.first().sample(numPixels = 1000).reduceColumns(reducer=ee.Reducer.toList().repeat(1), selectors=['NDWI']).get('list'))\n",
        "type(img_data_ndwi)"
      ],
      "execution_count": null,
      "outputs": [
        {
          "output_type": "execute_result",
          "data": {
            "text/plain": [
              "ee.ee_list.List"
            ]
          },
          "metadata": {
            "tags": []
          },
          "execution_count": 113
        }
      ]
    },
    {
      "cell_type": "code",
      "metadata": {
        "id": "b1mnM5G4Meo_",
        "colab_type": "code",
        "colab": {
          "base_uri": "https://localhost:8080/",
          "height": 34
        },
        "outputId": "a38080df-f833-4f53-948f-8415aaea9f1c"
      },
      "source": [
        "image_coll.first().sample(numPixels = 1000)"
      ],
      "execution_count": null,
      "outputs": [
        {
          "output_type": "execute_result",
          "data": {
            "text/plain": [
              "<ee.featurecollection.FeatureCollection at 0x7ff0031bcdd8>"
            ]
          },
          "metadata": {
            "tags": []
          },
          "execution_count": 87
        }
      ]
    },
    {
      "cell_type": "code",
      "metadata": {
        "id": "4gzp4L_WTmUs",
        "colab_type": "code",
        "colab": {}
      },
      "source": [
        "meanDictionary = image_coll.first().select(['NDVI', 'NDWI']).reduceRegion(reducer= ee.Reducer.mean(), scale= 30, maxPixels = 1e9)\n",
        "stdevDictionary = image_coll.first().select(['NDVI', 'NDWI']).reduceRegion(reducer= ee.Reducer.stdDev(), scale= 30, maxPixels = 1e9)"
      ],
      "execution_count": null,
      "outputs": []
    },
    {
      "cell_type": "code",
      "metadata": {
        "id": "LtBmCedubVVi",
        "colab_type": "code",
        "colab": {
          "base_uri": "https://localhost:8080/",
          "height": 34
        },
        "outputId": "cedcccf4-94f2-4920-abfb-8d049b2c7868"
      },
      "source": [
        "meanDictionary.getInfo()['NDVI']"
      ],
      "execution_count": null,
      "outputs": [
        {
          "output_type": "execute_result",
          "data": {
            "text/plain": [
              "0.4696940115983523"
            ]
          },
          "metadata": {
            "tags": []
          },
          "execution_count": 146
        }
      ]
    },
    {
      "cell_type": "code",
      "metadata": {
        "id": "fvgHGuF3bjff",
        "colab_type": "code",
        "colab": {
          "base_uri": "https://localhost:8080/",
          "height": 34
        },
        "outputId": "d7b2f3ba-9a90-4e22-b2c3-ba4abf7aeacb"
      },
      "source": [
        "image_coll_test.first().get('mean').getInfo()"
      ],
      "execution_count": null,
      "outputs": [
        {
          "output_type": "execute_result",
          "data": {
            "text/plain": [
              "{'NDVI': 0.4696940115983523, 'NDWI': -0.2572714890539351}"
            ]
          },
          "metadata": {
            "tags": []
          },
          "execution_count": 213
        }
      ]
    },
    {
      "cell_type": "code",
      "metadata": {
        "id": "RNFAlLwwdIen",
        "colab_type": "code",
        "colab": {
          "base_uri": "https://localhost:8080/",
          "height": 34
        },
        "outputId": "8e789edd-40cb-4583-b093-c737ccd03555"
      },
      "source": [
        "image_coll.first().sample(numPixels = 1000).reduceColumns(reducer=ee.Reducer.toList().repeat(1), selectors=['NDWI']).get('list')"
      ],
      "execution_count": null,
      "outputs": [
        {
          "output_type": "execute_result",
          "data": {
            "text/plain": [
              "<ee.computedobject.ComputedObject at 0x7ff0014fb780>"
            ]
          },
          "metadata": {
            "tags": []
          },
          "execution_count": 130
        }
      ]
    },
    {
      "cell_type": "code",
      "metadata": {
        "id": "VIupVquYkits",
        "colab_type": "code",
        "colab": {}
      },
      "source": [
        "image_ids = list(map(lambda x: x['id'], image_coll_test.getInfo()['features'] )) "
      ],
      "execution_count": null,
      "outputs": []
    },
    {
      "cell_type": "code",
      "metadata": {
        "id": "_RMZi-XipFPS",
        "colab_type": "code",
        "colab": {}
      },
      "source": [
        "image_coll_list = image_coll_test.toList(image_coll_test.size())"
      ],
      "execution_count": null,
      "outputs": []
    },
    {
      "cell_type": "code",
      "metadata": {
        "id": "QsYn0RjfruEa",
        "colab_type": "code",
        "colab": {
          "base_uri": "https://localhost:8080/",
          "height": 1000
        },
        "outputId": "a0afe0dd-6f5a-4f12-b4c3-c9fc48f4bcf2"
      },
      "source": [
        "[ee.Image(image_coll_list.get(n)).get('mean').getInfo() for n in range(image_coll_test.size().getInfo())]"
      ],
      "execution_count": null,
      "outputs": [
        {
          "output_type": "execute_result",
          "data": {
            "text/plain": [
              "[{'NDVI': 0.4696940115983523, 'NDWI': -0.2572714890539351},\n",
              " {'NDVI': 0.3842017925371886, 'NDWI': -0.3195683924877002},\n",
              " {'NDVI': 0.3258426404118608, 'NDWI': -0.2883485957217835},\n",
              " {'NDVI': 0.2992702647932876, 'NDWI': -0.2782305232314698},\n",
              " {'NDVI': 0.3035071906424645, 'NDWI': -0.33564243550676554},\n",
              " {'NDVI': 0.29534808982486677, 'NDWI': -0.3355029134485245},\n",
              " {'NDVI': 0.33070635763288847, 'NDWI': -0.37057193186130494},\n",
              " {'NDVI': 0.27322329030320536, 'NDWI': -0.2975190903996098},\n",
              " {'NDVI': 0.28947356965403287, 'NDWI': -0.34684356214632783},\n",
              " {'NDVI': 0.2693192349793157, 'NDWI': -0.33904591096464337},\n",
              " {'NDVI': 0.28351388538878713, 'NDWI': -0.3380577091675103},\n",
              " {'NDVI': 0.3095720520737102, 'NDWI': -0.335043344862592},\n",
              " {'NDVI': 0.30482293902167507, 'NDWI': -0.36250917619997614},\n",
              " {'NDVI': 0.2581118904284626, 'NDWI': -0.2954031620513397},\n",
              " {'NDVI': 0.2654654692593909, 'NDWI': -0.35397094649020006},\n",
              " {'NDVI': 0.2815193265967128, 'NDWI': -0.3612721217768998},\n",
              " {'NDVI': 0.27384114114740293, 'NDWI': -0.366125416227366},\n",
              " {'NDVI': 0.30449088641691757, 'NDWI': -0.34701034299797257},\n",
              " {'NDVI': 0.30799917886418077, 'NDWI': -0.33876434386775756},\n",
              " {'NDVI': 0.27727959278707504, 'NDWI': -0.34437012850075127},\n",
              " {'NDVI': 0.49939934775990147, 'NDWI': -0.2954039933116081},\n",
              " {'NDVI': 0.39400256470027256, 'NDWI': -0.3699907700088394},\n",
              " {'NDVI': 0.3157805273573658, 'NDWI': -0.3614566708160074},\n",
              " {'NDVI': 0.2965737750668908, 'NDWI': -0.377925305961282},\n",
              " {'NDVI': 0.24815686758425418, 'NDWI': -0.356425289743406},\n",
              " {'NDVI': 0.25284864907061666, 'NDWI': -0.38751370714937056},\n",
              " {'NDVI': 0.22740683128758407, 'NDWI': -0.3568108680610833},\n",
              " {'NDVI': 0.2091498584957612, 'NDWI': -0.3499574699200489},\n",
              " {'NDVI': 0.22153890560857836, 'NDWI': -0.3682752924844166},\n",
              " {'NDVI': 0.25171258682145115, 'NDWI': -0.35179578601471434},\n",
              " {'NDVI': 0.5248771751756888, 'NDWI': -0.28000205838781295},\n",
              " {'NDVI': 0.3470861428195067, 'NDWI': -0.3159707422882637},\n",
              " {'NDVI': 0.3094983636732175, 'NDWI': -0.3058119045214654},\n",
              " {'NDVI': 0.2929513971302369, 'NDWI': -0.3031078615197685},\n",
              " {'NDVI': 0.28670935077281695, 'NDWI': -0.3129475190885884},\n",
              " {'NDVI': 0.29533649002707296, 'NDWI': -0.3598183112483551},\n",
              " {'NDVI': 0.25961690796160936, 'NDWI': -0.29532648425303293},\n",
              " {'NDVI': 0.28241038944868374, 'NDWI': -0.36217814586016417},\n",
              " {'NDVI': 0.2653303307990836, 'NDWI': -0.3470212082152114},\n",
              " {'NDVI': 0.24286047919167142, 'NDWI': -0.3570723041041654},\n",
              " {'NDVI': 0.2285330282932862, 'NDWI': -0.32617393399402655},\n",
              " {'NDVI': 0.19464841705888764, 'NDWI': -0.28953871591994246},\n",
              " {'NDVI': 0.4954699877255827, 'NDWI': -0.2874465939815314},\n",
              " {'NDVI': 0.3823411556097492, 'NDWI': -0.3005857405526143},\n",
              " {'NDVI': 0.3630740226867652, 'NDWI': -0.3395314512409514},\n",
              " {'NDVI': 0.2954369207009876, 'NDWI': -0.2705082583968686},\n",
              " {'NDVI': 0.3014886943405939, 'NDWI': -0.3102679884318331},\n",
              " {'NDVI': 0.27458633433959806, 'NDWI': -0.2954999736538534},\n",
              " {'NDVI': 0.2625757024827431, 'NDWI': -0.28456303654538295},\n",
              " {'NDVI': 0.2650068334078166, 'NDWI': -0.314641339339275},\n",
              " {'NDVI': 0.2694156287841479, 'NDWI': -0.3253938577276797},\n",
              " {'NDVI': 0.2800724421319432, 'NDWI': -0.34235688531995545},\n",
              " {'NDVI': 0.26095814154919555, 'NDWI': -0.34706530850956135},\n",
              " {'NDVI': 0.23612033457056503, 'NDWI': -0.32292226567526133},\n",
              " {'NDVI': 0.34286157958117686, 'NDWI': -0.3035638922096723},\n",
              " {'NDVI': 0.4696730362548499, 'NDWI': -0.2390208298219789},\n",
              " {'NDVI': 0.45645228062483034, 'NDWI': -0.3205219032224581},\n",
              " {'NDVI': 0.36546728494939873, 'NDWI': -0.2817735500808626},\n",
              " {'NDVI': 0.33790812794944103, 'NDWI': -0.33619370071797244},\n",
              " {'NDVI': 0.24420253982476778, 'NDWI': -0.2964019461116107},\n",
              " {'NDVI': 0.22668228763413906, 'NDWI': -0.28973245004579157},\n",
              " {'NDVI': 0.2205443036436068, 'NDWI': -0.29624724782396866},\n",
              " {'NDVI': 0.24235801484147912, 'NDWI': -0.34845062494688},\n",
              " {'NDVI': 0.2337322057033281, 'NDWI': -0.3422960648714778},\n",
              " {'NDVI': 0.23211933473236301, 'NDWI': -0.35500211218385064},\n",
              " {'NDVI': 0.23043047189806137, 'NDWI': -0.3652026160078977},\n",
              " {'NDVI': 0.20197021877282434, 'NDWI': -0.32628946168497386},\n",
              " {'NDVI': 0.4425665483106385, 'NDWI': -0.2660384041926239},\n",
              " {'NDVI': 0.3916339724226975, 'NDWI': -0.27658024959385386},\n",
              " {'NDVI': 0.3052530683579375, 'NDWI': -0.249467766498173},\n",
              " {'NDVI': 0.3171146540326124, 'NDWI': -0.32063484744690407},\n",
              " {'NDVI': 0.27534555445433534, 'NDWI': -0.3106390812542983},\n",
              " {'NDVI': 0.30221426002494006, 'NDWI': -0.3615191588040151},\n",
              " {'NDVI': 0.2795983355635435, 'NDWI': -0.34965925625648003},\n",
              " {'NDVI': 0.24786972651759487, 'NDWI': -0.33650165016491096}]"
            ]
          },
          "metadata": {
            "tags": []
          },
          "execution_count": 225
        }
      ]
    },
    {
      "cell_type": "code",
      "metadata": {
        "id": "A7DfAmqbK5Sh",
        "colab_type": "code",
        "colab": {
          "base_uri": "https://localhost:8080/",
          "height": 34
        },
        "outputId": "c823ff33-7c55-4da7-c64a-c3168109d079"
      },
      "source": [
        "ee.Image(image_coll_list.get(4)).get('mean').getInfo()"
      ],
      "execution_count": null,
      "outputs": [
        {
          "output_type": "execute_result",
          "data": {
            "text/plain": [
              "{'NDVI': 0.3035071906424645, 'NDWI': -0.33564243550676554}"
            ]
          },
          "metadata": {
            "tags": []
          },
          "execution_count": 227
        }
      ]
    },
    {
      "cell_type": "code",
      "metadata": {
        "id": "Euz0I5PIRCVJ",
        "colab_type": "code",
        "colab": {}
      },
      "source": [
        "image_list_nyc[0] = image_list_nyc[0].addBands(image_list_nyc[0].normalizedDifference(['B5', 'B4']).rename('NDVI'))\n",
        "image_list_nyc[0] = image_list_nyc[0].addBands(image_list_nyc[0].normalizedDifference(['B3', 'B6']).rename('NDWI'))\n",
        "\n",
        "meanDictionary = image_list_nyc[0].select(['NDVI', 'NDWI']).reduceRegion(reducer= ee.Reducer.mean(), scale= 30, maxPixels = 1e9)"
      ],
      "execution_count": null,
      "outputs": []
    },
    {
      "cell_type": "code",
      "metadata": {
        "id": "oxYD46NvWAvr",
        "colab_type": "code",
        "colab": {
          "base_uri": "https://localhost:8080/",
          "height": 34
        },
        "outputId": "1e13d6aa-a0d0-4f82-ca4d-4671739ee5bb"
      },
      "source": [
        "meanDictionary.get('NDWI').getInfo()"
      ],
      "execution_count": null,
      "outputs": [
        {
          "output_type": "execute_result",
          "data": {
            "text/plain": [
              "-0.2572714890539351"
            ]
          },
          "metadata": {
            "tags": []
          },
          "execution_count": 233
        }
      ]
    },
    {
      "cell_type": "code",
      "metadata": {
        "id": "5sY67wdXWHtK",
        "colab_type": "code",
        "colab": {}
      },
      "source": [
        "dfhyd = df"
      ],
      "execution_count": null,
      "outputs": []
    },
    {
      "cell_type": "code",
      "metadata": {
        "id": "QtTpETZwZ8pl",
        "colab_type": "code",
        "colab": {
          "base_uri": "https://localhost:8080/",
          "height": 423
        },
        "outputId": "fdea7187-1bd1-4901-cf99-ab23165e4017"
      },
      "source": [
        "dfhyd"
      ],
      "execution_count": null,
      "outputs": [
        {
          "output_type": "execute_result",
          "data": {
            "text/html": [
              "<div>\n",
              "<style scoped>\n",
              "    .dataframe tbody tr th:only-of-type {\n",
              "        vertical-align: middle;\n",
              "    }\n",
              "\n",
              "    .dataframe tbody tr th {\n",
              "        vertical-align: top;\n",
              "    }\n",
              "\n",
              "    .dataframe thead th {\n",
              "        text-align: right;\n",
              "    }\n",
              "</style>\n",
              "<table border=\"1\" class=\"dataframe\">\n",
              "  <thead>\n",
              "    <tr style=\"text-align: right;\">\n",
              "      <th></th>\n",
              "      <th>date</th>\n",
              "      <th>year</th>\n",
              "      <th>month</th>\n",
              "      <th>ndwi, mean</th>\n",
              "      <th>ndwi, stdev</th>\n",
              "      <th>ndvi, mean</th>\n",
              "      <th>ndvi, stdev</th>\n",
              "    </tr>\n",
              "  </thead>\n",
              "  <tbody>\n",
              "    <tr>\n",
              "      <th>0</th>\n",
              "      <td>2013-11-07T05:11:25</td>\n",
              "      <td>2013</td>\n",
              "      <td>11</td>\n",
              "      <td>-0.243126</td>\n",
              "      <td>0.164199</td>\n",
              "      <td>0.443791</td>\n",
              "      <td>0.133249</td>\n",
              "    </tr>\n",
              "    <tr>\n",
              "      <th>0</th>\n",
              "      <td>2013-12-25T05:11:07</td>\n",
              "      <td>2013</td>\n",
              "      <td>12</td>\n",
              "      <td>-0.305075</td>\n",
              "      <td>0.176421</td>\n",
              "      <td>0.350228</td>\n",
              "      <td>0.125104</td>\n",
              "    </tr>\n",
              "    <tr>\n",
              "      <th>0</th>\n",
              "      <td>2014-01-10T05:10:56</td>\n",
              "      <td>2014</td>\n",
              "      <td>1</td>\n",
              "      <td>-0.280000</td>\n",
              "      <td>0.174799</td>\n",
              "      <td>0.300250</td>\n",
              "      <td>0.109276</td>\n",
              "    </tr>\n",
              "    <tr>\n",
              "      <th>0</th>\n",
              "      <td>2014-01-26T05:10:47</td>\n",
              "      <td>2014</td>\n",
              "      <td>1</td>\n",
              "      <td>-0.277428</td>\n",
              "      <td>0.181287</td>\n",
              "      <td>0.281139</td>\n",
              "      <td>0.097204</td>\n",
              "    </tr>\n",
              "    <tr>\n",
              "      <th>0</th>\n",
              "      <td>2014-02-11T05:10:34</td>\n",
              "      <td>2014</td>\n",
              "      <td>2</td>\n",
              "      <td>-0.313871</td>\n",
              "      <td>0.165293</td>\n",
              "      <td>0.278501</td>\n",
              "      <td>0.103714</td>\n",
              "    </tr>\n",
              "    <tr>\n",
              "      <th>...</th>\n",
              "      <td>...</td>\n",
              "      <td>...</td>\n",
              "      <td>...</td>\n",
              "      <td>...</td>\n",
              "      <td>...</td>\n",
              "      <td>...</td>\n",
              "      <td>...</td>\n",
              "    </tr>\n",
              "    <tr>\n",
              "      <th>0</th>\n",
              "      <td>2020-01-27T05:09:47</td>\n",
              "      <td>2020</td>\n",
              "      <td>1</td>\n",
              "      <td>-0.314552</td>\n",
              "      <td>0.155014</td>\n",
              "      <td>0.301750</td>\n",
              "      <td>0.108712</td>\n",
              "    </tr>\n",
              "    <tr>\n",
              "      <th>0</th>\n",
              "      <td>2020-02-28T05:09:38</td>\n",
              "      <td>2020</td>\n",
              "      <td>2</td>\n",
              "      <td>-0.319143</td>\n",
              "      <td>0.130930</td>\n",
              "      <td>0.277461</td>\n",
              "      <td>0.110830</td>\n",
              "    </tr>\n",
              "    <tr>\n",
              "      <th>0</th>\n",
              "      <td>2020-03-15T05:09:32</td>\n",
              "      <td>2020</td>\n",
              "      <td>3</td>\n",
              "      <td>-0.356571</td>\n",
              "      <td>0.112736</td>\n",
              "      <td>0.301562</td>\n",
              "      <td>0.126797</td>\n",
              "    </tr>\n",
              "    <tr>\n",
              "      <th>0</th>\n",
              "      <td>2020-03-31T05:09:22</td>\n",
              "      <td>2020</td>\n",
              "      <td>3</td>\n",
              "      <td>-0.332440</td>\n",
              "      <td>0.111479</td>\n",
              "      <td>0.280717</td>\n",
              "      <td>0.104335</td>\n",
              "    </tr>\n",
              "    <tr>\n",
              "      <th>0</th>\n",
              "      <td>2020-04-16T05:09:16</td>\n",
              "      <td>2020</td>\n",
              "      <td>4</td>\n",
              "      <td>-0.314742</td>\n",
              "      <td>0.106501</td>\n",
              "      <td>0.250717</td>\n",
              "      <td>0.079945</td>\n",
              "    </tr>\n",
              "  </tbody>\n",
              "</table>\n",
              "<p>75 rows × 7 columns</p>\n",
              "</div>"
            ],
            "text/plain": [
              "                   date  year  month  ...  ndwi, stdev  ndvi, mean  ndvi, stdev\n",
              "0   2013-11-07T05:11:25  2013     11  ...     0.164199    0.443791     0.133249\n",
              "0   2013-12-25T05:11:07  2013     12  ...     0.176421    0.350228     0.125104\n",
              "0   2014-01-10T05:10:56  2014      1  ...     0.174799    0.300250     0.109276\n",
              "0   2014-01-26T05:10:47  2014      1  ...     0.181287    0.281139     0.097204\n",
              "0   2014-02-11T05:10:34  2014      2  ...     0.165293    0.278501     0.103714\n",
              "..                  ...   ...    ...  ...          ...         ...          ...\n",
              "0   2020-01-27T05:09:47  2020      1  ...     0.155014    0.301750     0.108712\n",
              "0   2020-02-28T05:09:38  2020      2  ...     0.130930    0.277461     0.110830\n",
              "0   2020-03-15T05:09:32  2020      3  ...     0.112736    0.301562     0.126797\n",
              "0   2020-03-31T05:09:22  2020      3  ...     0.111479    0.280717     0.104335\n",
              "0   2020-04-16T05:09:16  2020      4  ...     0.106501    0.250717     0.079945\n",
              "\n",
              "[75 rows x 7 columns]"
            ]
          },
          "metadata": {
            "tags": []
          },
          "execution_count": 242
        }
      ]
    },
    {
      "cell_type": "code",
      "metadata": {
        "id": "dZf5suCwaaNB",
        "colab_type": "code",
        "colab": {
          "base_uri": "https://localhost:8080/",
          "height": 1000
        },
        "outputId": "db6df66b-4907-411d-b8d1-df3c871fb7d1"
      },
      "source": [
        "df"
      ],
      "execution_count": null,
      "outputs": [
        {
          "output_type": "execute_result",
          "data": {
            "text/html": [
              "<div>\n",
              "<style scoped>\n",
              "    .dataframe tbody tr th:only-of-type {\n",
              "        vertical-align: middle;\n",
              "    }\n",
              "\n",
              "    .dataframe tbody tr th {\n",
              "        vertical-align: top;\n",
              "    }\n",
              "\n",
              "    .dataframe thead th {\n",
              "        text-align: right;\n",
              "    }\n",
              "</style>\n",
              "<table border=\"1\" class=\"dataframe\">\n",
              "  <thead>\n",
              "    <tr style=\"text-align: right;\">\n",
              "      <th></th>\n",
              "      <th>date</th>\n",
              "      <th>year</th>\n",
              "      <th>month</th>\n",
              "      <th>ndwi, mean</th>\n",
              "      <th>ndwi, stdev</th>\n",
              "      <th>ndvi, mean</th>\n",
              "      <th>ndvi, stdev</th>\n",
              "    </tr>\n",
              "  </thead>\n",
              "  <tbody>\n",
              "    <tr>\n",
              "      <th>0</th>\n",
              "      <td>2013-11-07T05:12:37</td>\n",
              "      <td>2013</td>\n",
              "      <td>11</td>\n",
              "      <td>-0.260495</td>\n",
              "      <td>0.147776</td>\n",
              "      <td>0.404639</td>\n",
              "      <td>0.187480</td>\n",
              "    </tr>\n",
              "    <tr>\n",
              "      <th>0</th>\n",
              "      <td>2014-01-10T05:12:07</td>\n",
              "      <td>2014</td>\n",
              "      <td>1</td>\n",
              "      <td>-0.244060</td>\n",
              "      <td>0.151257</td>\n",
              "      <td>0.269880</td>\n",
              "      <td>0.127939</td>\n",
              "    </tr>\n",
              "    <tr>\n",
              "      <th>0</th>\n",
              "      <td>2014-01-26T05:11:59</td>\n",
              "      <td>2014</td>\n",
              "      <td>1</td>\n",
              "      <td>-0.271787</td>\n",
              "      <td>0.160609</td>\n",
              "      <td>0.258947</td>\n",
              "      <td>0.136727</td>\n",
              "    </tr>\n",
              "    <tr>\n",
              "      <th>0</th>\n",
              "      <td>2014-02-11T05:11:45</td>\n",
              "      <td>2014</td>\n",
              "      <td>2</td>\n",
              "      <td>-0.255310</td>\n",
              "      <td>0.136348</td>\n",
              "      <td>0.226423</td>\n",
              "      <td>0.105818</td>\n",
              "    </tr>\n",
              "    <tr>\n",
              "      <th>0</th>\n",
              "      <td>2014-02-27T05:11:33</td>\n",
              "      <td>2014</td>\n",
              "      <td>2</td>\n",
              "      <td>-0.273901</td>\n",
              "      <td>0.145290</td>\n",
              "      <td>0.242825</td>\n",
              "      <td>0.121114</td>\n",
              "    </tr>\n",
              "    <tr>\n",
              "      <th>0</th>\n",
              "      <td>2014-03-15T05:11:22</td>\n",
              "      <td>2014</td>\n",
              "      <td>3</td>\n",
              "      <td>-0.297693</td>\n",
              "      <td>0.129202</td>\n",
              "      <td>0.258938</td>\n",
              "      <td>0.132893</td>\n",
              "    </tr>\n",
              "    <tr>\n",
              "      <th>0</th>\n",
              "      <td>2014-03-31T05:11:05</td>\n",
              "      <td>2014</td>\n",
              "      <td>3</td>\n",
              "      <td>-0.270389</td>\n",
              "      <td>0.131777</td>\n",
              "      <td>0.234707</td>\n",
              "      <td>0.095748</td>\n",
              "    </tr>\n",
              "    <tr>\n",
              "      <th>0</th>\n",
              "      <td>2014-04-16T05:10:48</td>\n",
              "      <td>2014</td>\n",
              "      <td>4</td>\n",
              "      <td>-0.275321</td>\n",
              "      <td>0.134268</td>\n",
              "      <td>0.250458</td>\n",
              "      <td>0.105875</td>\n",
              "    </tr>\n",
              "    <tr>\n",
              "      <th>0</th>\n",
              "      <td>2014-05-02T05:10:35</td>\n",
              "      <td>2014</td>\n",
              "      <td>5</td>\n",
              "      <td>-0.274102</td>\n",
              "      <td>0.130147</td>\n",
              "      <td>0.244233</td>\n",
              "      <td>0.108694</td>\n",
              "    </tr>\n",
              "    <tr>\n",
              "      <th>0</th>\n",
              "      <td>2014-05-18T05:10:23</td>\n",
              "      <td>2014</td>\n",
              "      <td>5</td>\n",
              "      <td>-0.246062</td>\n",
              "      <td>0.104318</td>\n",
              "      <td>0.265611</td>\n",
              "      <td>0.109891</td>\n",
              "    </tr>\n",
              "    <tr>\n",
              "      <th>0</th>\n",
              "      <td>2014-11-10T05:11:06</td>\n",
              "      <td>2014</td>\n",
              "      <td>11</td>\n",
              "      <td>-0.245633</td>\n",
              "      <td>0.129823</td>\n",
              "      <td>0.376350</td>\n",
              "      <td>0.170673</td>\n",
              "    </tr>\n",
              "    <tr>\n",
              "      <th>0</th>\n",
              "      <td>2014-11-26T05:11:03</td>\n",
              "      <td>2014</td>\n",
              "      <td>11</td>\n",
              "      <td>-0.224795</td>\n",
              "      <td>0.125558</td>\n",
              "      <td>0.344769</td>\n",
              "      <td>0.148705</td>\n",
              "    </tr>\n",
              "    <tr>\n",
              "      <th>0</th>\n",
              "      <td>2015-01-13T05:10:54</td>\n",
              "      <td>2015</td>\n",
              "      <td>1</td>\n",
              "      <td>-0.251358</td>\n",
              "      <td>0.159097</td>\n",
              "      <td>0.291012</td>\n",
              "      <td>0.145935</td>\n",
              "    </tr>\n",
              "    <tr>\n",
              "      <th>0</th>\n",
              "      <td>2015-01-29T05:10:49</td>\n",
              "      <td>2015</td>\n",
              "      <td>1</td>\n",
              "      <td>-0.198811</td>\n",
              "      <td>0.146837</td>\n",
              "      <td>0.235728</td>\n",
              "      <td>0.106730</td>\n",
              "    </tr>\n",
              "    <tr>\n",
              "      <th>0</th>\n",
              "      <td>2015-02-14T05:10:40</td>\n",
              "      <td>2015</td>\n",
              "      <td>2</td>\n",
              "      <td>-0.266655</td>\n",
              "      <td>0.143818</td>\n",
              "      <td>0.239278</td>\n",
              "      <td>0.119940</td>\n",
              "    </tr>\n",
              "    <tr>\n",
              "      <th>0</th>\n",
              "      <td>2015-03-18T05:10:27</td>\n",
              "      <td>2015</td>\n",
              "      <td>3</td>\n",
              "      <td>-0.283754</td>\n",
              "      <td>0.139756</td>\n",
              "      <td>0.272363</td>\n",
              "      <td>0.135154</td>\n",
              "    </tr>\n",
              "    <tr>\n",
              "      <th>0</th>\n",
              "      <td>2015-04-03T05:10:14</td>\n",
              "      <td>2015</td>\n",
              "      <td>4</td>\n",
              "      <td>-0.213737</td>\n",
              "      <td>0.120745</td>\n",
              "      <td>0.228464</td>\n",
              "      <td>0.085373</td>\n",
              "    </tr>\n",
              "    <tr>\n",
              "      <th>0</th>\n",
              "      <td>2015-04-19T05:10:14</td>\n",
              "      <td>2015</td>\n",
              "      <td>4</td>\n",
              "      <td>-0.279461</td>\n",
              "      <td>0.127804</td>\n",
              "      <td>0.311766</td>\n",
              "      <td>0.148138</td>\n",
              "    </tr>\n",
              "    <tr>\n",
              "      <th>0</th>\n",
              "      <td>2015-05-21T05:09:55</td>\n",
              "      <td>2015</td>\n",
              "      <td>5</td>\n",
              "      <td>-0.241055</td>\n",
              "      <td>0.096125</td>\n",
              "      <td>0.369892</td>\n",
              "      <td>0.150752</td>\n",
              "    </tr>\n",
              "    <tr>\n",
              "      <th>0</th>\n",
              "      <td>2015-12-31T05:10:59</td>\n",
              "      <td>2015</td>\n",
              "      <td>12</td>\n",
              "      <td>-0.252309</td>\n",
              "      <td>0.152216</td>\n",
              "      <td>0.332897</td>\n",
              "      <td>0.173047</td>\n",
              "    </tr>\n",
              "    <tr>\n",
              "      <th>0</th>\n",
              "      <td>2016-01-16T05:10:57</td>\n",
              "      <td>2016</td>\n",
              "      <td>1</td>\n",
              "      <td>-0.196130</td>\n",
              "      <td>0.134338</td>\n",
              "      <td>0.262982</td>\n",
              "      <td>0.117102</td>\n",
              "    </tr>\n",
              "    <tr>\n",
              "      <th>0</th>\n",
              "      <td>2016-03-20T05:10:39</td>\n",
              "      <td>2016</td>\n",
              "      <td>3</td>\n",
              "      <td>-0.276746</td>\n",
              "      <td>0.136467</td>\n",
              "      <td>0.267207</td>\n",
              "      <td>0.116401</td>\n",
              "    </tr>\n",
              "    <tr>\n",
              "      <th>0</th>\n",
              "      <td>2016-04-05T05:10:30</td>\n",
              "      <td>2016</td>\n",
              "      <td>4</td>\n",
              "      <td>-0.276269</td>\n",
              "      <td>0.134362</td>\n",
              "      <td>0.259543</td>\n",
              "      <td>0.115847</td>\n",
              "    </tr>\n",
              "    <tr>\n",
              "      <th>0</th>\n",
              "      <td>2016-04-21T05:10:24</td>\n",
              "      <td>2016</td>\n",
              "      <td>4</td>\n",
              "      <td>-0.286357</td>\n",
              "      <td>0.126432</td>\n",
              "      <td>0.266660</td>\n",
              "      <td>0.126573</td>\n",
              "    </tr>\n",
              "    <tr>\n",
              "      <th>0</th>\n",
              "      <td>2016-05-07T05:10:27</td>\n",
              "      <td>2016</td>\n",
              "      <td>5</td>\n",
              "      <td>-0.250593</td>\n",
              "      <td>0.124603</td>\n",
              "      <td>0.273161</td>\n",
              "      <td>0.123134</td>\n",
              "    </tr>\n",
              "    <tr>\n",
              "      <th>0</th>\n",
              "      <td>2016-05-23T05:10:29</td>\n",
              "      <td>2016</td>\n",
              "      <td>5</td>\n",
              "      <td>-0.270562</td>\n",
              "      <td>0.123077</td>\n",
              "      <td>0.321797</td>\n",
              "      <td>0.146167</td>\n",
              "    </tr>\n",
              "    <tr>\n",
              "      <th>0</th>\n",
              "      <td>2016-12-17T05:11:07</td>\n",
              "      <td>2016</td>\n",
              "      <td>12</td>\n",
              "      <td>-0.197782</td>\n",
              "      <td>0.159506</td>\n",
              "      <td>0.277043</td>\n",
              "      <td>0.136835</td>\n",
              "    </tr>\n",
              "    <tr>\n",
              "      <th>0</th>\n",
              "      <td>2017-01-02T05:11:04</td>\n",
              "      <td>2017</td>\n",
              "      <td>1</td>\n",
              "      <td>-0.133606</td>\n",
              "      <td>0.199410</td>\n",
              "      <td>0.224125</td>\n",
              "      <td>0.135666</td>\n",
              "    </tr>\n",
              "    <tr>\n",
              "      <th>0</th>\n",
              "      <td>2017-01-18T05:11:00</td>\n",
              "      <td>2017</td>\n",
              "      <td>1</td>\n",
              "      <td>-0.245754</td>\n",
              "      <td>0.155585</td>\n",
              "      <td>0.274404</td>\n",
              "      <td>0.145797</td>\n",
              "    </tr>\n",
              "    <tr>\n",
              "      <th>0</th>\n",
              "      <td>2017-02-03T05:10:53</td>\n",
              "      <td>2017</td>\n",
              "      <td>2</td>\n",
              "      <td>-0.241346</td>\n",
              "      <td>0.148134</td>\n",
              "      <td>0.252808</td>\n",
              "      <td>0.125121</td>\n",
              "    </tr>\n",
              "    <tr>\n",
              "      <th>0</th>\n",
              "      <td>2017-03-07T05:10:40</td>\n",
              "      <td>2017</td>\n",
              "      <td>3</td>\n",
              "      <td>-0.129809</td>\n",
              "      <td>0.201145</td>\n",
              "      <td>0.183886</td>\n",
              "      <td>0.111511</td>\n",
              "    </tr>\n",
              "    <tr>\n",
              "      <th>0</th>\n",
              "      <td>2017-03-23T05:10:30</td>\n",
              "      <td>2017</td>\n",
              "      <td>3</td>\n",
              "      <td>-0.272583</td>\n",
              "      <td>0.134263</td>\n",
              "      <td>0.261941</td>\n",
              "      <td>0.121722</td>\n",
              "    </tr>\n",
              "    <tr>\n",
              "      <th>0</th>\n",
              "      <td>2017-04-08T05:10:23</td>\n",
              "      <td>2017</td>\n",
              "      <td>4</td>\n",
              "      <td>-0.264422</td>\n",
              "      <td>0.119136</td>\n",
              "      <td>0.257825</td>\n",
              "      <td>0.105022</td>\n",
              "    </tr>\n",
              "    <tr>\n",
              "      <th>0</th>\n",
              "      <td>2017-04-24T05:10:13</td>\n",
              "      <td>2017</td>\n",
              "      <td>4</td>\n",
              "      <td>-0.278302</td>\n",
              "      <td>0.104406</td>\n",
              "      <td>0.259327</td>\n",
              "      <td>0.107887</td>\n",
              "    </tr>\n",
              "    <tr>\n",
              "      <th>0</th>\n",
              "      <td>2017-05-26T05:10:25</td>\n",
              "      <td>2017</td>\n",
              "      <td>5</td>\n",
              "      <td>-0.230843</td>\n",
              "      <td>0.098813</td>\n",
              "      <td>0.312863</td>\n",
              "      <td>0.126343</td>\n",
              "    </tr>\n",
              "    <tr>\n",
              "      <th>0</th>\n",
              "      <td>2017-12-20T05:11:04</td>\n",
              "      <td>2017</td>\n",
              "      <td>12</td>\n",
              "      <td>-0.193843</td>\n",
              "      <td>0.166586</td>\n",
              "      <td>0.286442</td>\n",
              "      <td>0.154601</td>\n",
              "    </tr>\n",
              "    <tr>\n",
              "      <th>0</th>\n",
              "      <td>2018-01-05T05:11:00</td>\n",
              "      <td>2018</td>\n",
              "      <td>1</td>\n",
              "      <td>-0.174078</td>\n",
              "      <td>0.139120</td>\n",
              "      <td>0.245033</td>\n",
              "      <td>0.115602</td>\n",
              "    </tr>\n",
              "    <tr>\n",
              "      <th>0</th>\n",
              "      <td>2018-01-21T05:10:52</td>\n",
              "      <td>2018</td>\n",
              "      <td>1</td>\n",
              "      <td>-0.226521</td>\n",
              "      <td>0.131393</td>\n",
              "      <td>0.250863</td>\n",
              "      <td>0.129321</td>\n",
              "    </tr>\n",
              "    <tr>\n",
              "      <th>0</th>\n",
              "      <td>2018-02-06T05:10:43</td>\n",
              "      <td>2018</td>\n",
              "      <td>2</td>\n",
              "      <td>-0.248118</td>\n",
              "      <td>0.145676</td>\n",
              "      <td>0.247709</td>\n",
              "      <td>0.134517</td>\n",
              "    </tr>\n",
              "    <tr>\n",
              "      <th>0</th>\n",
              "      <td>2018-02-22T05:10:37</td>\n",
              "      <td>2018</td>\n",
              "      <td>2</td>\n",
              "      <td>-0.257916</td>\n",
              "      <td>0.144533</td>\n",
              "      <td>0.250085</td>\n",
              "      <td>0.128957</td>\n",
              "    </tr>\n",
              "    <tr>\n",
              "      <th>0</th>\n",
              "      <td>2018-03-10T05:10:29</td>\n",
              "      <td>2018</td>\n",
              "      <td>3</td>\n",
              "      <td>-0.215186</td>\n",
              "      <td>0.118839</td>\n",
              "      <td>0.218638</td>\n",
              "      <td>0.090197</td>\n",
              "    </tr>\n",
              "    <tr>\n",
              "      <th>0</th>\n",
              "      <td>2018-03-26T05:10:21</td>\n",
              "      <td>2018</td>\n",
              "      <td>3</td>\n",
              "      <td>-0.239943</td>\n",
              "      <td>0.112829</td>\n",
              "      <td>0.260971</td>\n",
              "      <td>0.108307</td>\n",
              "    </tr>\n",
              "    <tr>\n",
              "      <th>0</th>\n",
              "      <td>2018-04-11T05:10:13</td>\n",
              "      <td>2018</td>\n",
              "      <td>4</td>\n",
              "      <td>-0.275725</td>\n",
              "      <td>0.124869</td>\n",
              "      <td>0.296701</td>\n",
              "      <td>0.139035</td>\n",
              "    </tr>\n",
              "    <tr>\n",
              "      <th>0</th>\n",
              "      <td>2018-04-27T05:10:04</td>\n",
              "      <td>2018</td>\n",
              "      <td>4</td>\n",
              "      <td>-0.237439</td>\n",
              "      <td>0.102615</td>\n",
              "      <td>0.292858</td>\n",
              "      <td>0.119746</td>\n",
              "    </tr>\n",
              "    <tr>\n",
              "      <th>0</th>\n",
              "      <td>2018-05-13T05:09:54</td>\n",
              "      <td>2018</td>\n",
              "      <td>5</td>\n",
              "      <td>-0.228746</td>\n",
              "      <td>0.100674</td>\n",
              "      <td>0.332989</td>\n",
              "      <td>0.137157</td>\n",
              "    </tr>\n",
              "    <tr>\n",
              "      <th>0</th>\n",
              "      <td>2019-01-08T05:10:43</td>\n",
              "      <td>2019</td>\n",
              "      <td>1</td>\n",
              "      <td>-0.240768</td>\n",
              "      <td>0.143509</td>\n",
              "      <td>0.260493</td>\n",
              "      <td>0.137886</td>\n",
              "    </tr>\n",
              "    <tr>\n",
              "      <th>0</th>\n",
              "      <td>2019-01-24T05:10:40</td>\n",
              "      <td>2019</td>\n",
              "      <td>1</td>\n",
              "      <td>-0.192282</td>\n",
              "      <td>0.129064</td>\n",
              "      <td>0.211151</td>\n",
              "      <td>0.097413</td>\n",
              "    </tr>\n",
              "    <tr>\n",
              "      <th>0</th>\n",
              "      <td>2019-02-09T05:10:37</td>\n",
              "      <td>2019</td>\n",
              "      <td>2</td>\n",
              "      <td>-0.103229</td>\n",
              "      <td>0.160636</td>\n",
              "      <td>0.159283</td>\n",
              "      <td>0.082957</td>\n",
              "    </tr>\n",
              "    <tr>\n",
              "      <th>0</th>\n",
              "      <td>2019-02-25T05:10:34</td>\n",
              "      <td>2019</td>\n",
              "      <td>2</td>\n",
              "      <td>-0.276099</td>\n",
              "      <td>0.137514</td>\n",
              "      <td>0.244158</td>\n",
              "      <td>0.135319</td>\n",
              "    </tr>\n",
              "    <tr>\n",
              "      <th>0</th>\n",
              "      <td>2019-03-13T05:10:28</td>\n",
              "      <td>2019</td>\n",
              "      <td>3</td>\n",
              "      <td>-0.266813</td>\n",
              "      <td>0.117015</td>\n",
              "      <td>0.242521</td>\n",
              "      <td>0.119210</td>\n",
              "    </tr>\n",
              "    <tr>\n",
              "      <th>0</th>\n",
              "      <td>2019-03-29T05:10:25</td>\n",
              "      <td>2019</td>\n",
              "      <td>3</td>\n",
              "      <td>-0.258187</td>\n",
              "      <td>0.101306</td>\n",
              "      <td>0.239657</td>\n",
              "      <td>0.106184</td>\n",
              "    </tr>\n",
              "    <tr>\n",
              "      <th>0</th>\n",
              "      <td>2019-04-14T05:10:20</td>\n",
              "      <td>2019</td>\n",
              "      <td>4</td>\n",
              "      <td>-0.279238</td>\n",
              "      <td>0.103164</td>\n",
              "      <td>0.251278</td>\n",
              "      <td>0.116752</td>\n",
              "    </tr>\n",
              "    <tr>\n",
              "      <th>0</th>\n",
              "      <td>2019-05-16T05:10:27</td>\n",
              "      <td>2019</td>\n",
              "      <td>5</td>\n",
              "      <td>-0.228424</td>\n",
              "      <td>0.100429</td>\n",
              "      <td>0.316452</td>\n",
              "      <td>0.132855</td>\n",
              "    </tr>\n",
              "    <tr>\n",
              "      <th>0</th>\n",
              "      <td>2020-01-11T05:11:03</td>\n",
              "      <td>2020</td>\n",
              "      <td>1</td>\n",
              "      <td>-0.243993</td>\n",
              "      <td>0.154286</td>\n",
              "      <td>0.287793</td>\n",
              "      <td>0.160789</td>\n",
              "    </tr>\n",
              "    <tr>\n",
              "      <th>0</th>\n",
              "      <td>2020-01-27T05:10:59</td>\n",
              "      <td>2020</td>\n",
              "      <td>1</td>\n",
              "      <td>-0.241797</td>\n",
              "      <td>0.153153</td>\n",
              "      <td>0.256470</td>\n",
              "      <td>0.141958</td>\n",
              "    </tr>\n",
              "    <tr>\n",
              "      <th>0</th>\n",
              "      <td>2020-02-12T05:10:54</td>\n",
              "      <td>2020</td>\n",
              "      <td>2</td>\n",
              "      <td>-0.223446</td>\n",
              "      <td>0.159960</td>\n",
              "      <td>0.230687</td>\n",
              "      <td>0.132885</td>\n",
              "    </tr>\n",
              "    <tr>\n",
              "      <th>0</th>\n",
              "      <td>2020-02-28T05:10:50</td>\n",
              "      <td>2020</td>\n",
              "      <td>2</td>\n",
              "      <td>-0.211617</td>\n",
              "      <td>0.092698</td>\n",
              "      <td>0.213567</td>\n",
              "      <td>0.085628</td>\n",
              "    </tr>\n",
              "    <tr>\n",
              "      <th>0</th>\n",
              "      <td>2020-03-15T05:10:43</td>\n",
              "      <td>2020</td>\n",
              "      <td>3</td>\n",
              "      <td>-0.271238</td>\n",
              "      <td>0.135669</td>\n",
              "      <td>0.259468</td>\n",
              "      <td>0.134138</td>\n",
              "    </tr>\n",
              "    <tr>\n",
              "      <th>0</th>\n",
              "      <td>2020-03-31T05:10:34</td>\n",
              "      <td>2020</td>\n",
              "      <td>3</td>\n",
              "      <td>-0.287360</td>\n",
              "      <td>0.136984</td>\n",
              "      <td>0.267173</td>\n",
              "      <td>0.140112</td>\n",
              "    </tr>\n",
              "    <tr>\n",
              "      <th>0</th>\n",
              "      <td>2020-04-16T05:10:27</td>\n",
              "      <td>2020</td>\n",
              "      <td>4</td>\n",
              "      <td>-0.277275</td>\n",
              "      <td>0.123027</td>\n",
              "      <td>0.286509</td>\n",
              "      <td>0.130565</td>\n",
              "    </tr>\n",
              "  </tbody>\n",
              "</table>\n",
              "</div>"
            ],
            "text/plain": [
              "                  date  year  month  ...  ndwi, stdev  ndvi, mean  ndvi, stdev\n",
              "0  2013-11-07T05:12:37  2013     11  ...     0.147776    0.404639     0.187480\n",
              "0  2014-01-10T05:12:07  2014      1  ...     0.151257    0.269880     0.127939\n",
              "0  2014-01-26T05:11:59  2014      1  ...     0.160609    0.258947     0.136727\n",
              "0  2014-02-11T05:11:45  2014      2  ...     0.136348    0.226423     0.105818\n",
              "0  2014-02-27T05:11:33  2014      2  ...     0.145290    0.242825     0.121114\n",
              "0  2014-03-15T05:11:22  2014      3  ...     0.129202    0.258938     0.132893\n",
              "0  2014-03-31T05:11:05  2014      3  ...     0.131777    0.234707     0.095748\n",
              "0  2014-04-16T05:10:48  2014      4  ...     0.134268    0.250458     0.105875\n",
              "0  2014-05-02T05:10:35  2014      5  ...     0.130147    0.244233     0.108694\n",
              "0  2014-05-18T05:10:23  2014      5  ...     0.104318    0.265611     0.109891\n",
              "0  2014-11-10T05:11:06  2014     11  ...     0.129823    0.376350     0.170673\n",
              "0  2014-11-26T05:11:03  2014     11  ...     0.125558    0.344769     0.148705\n",
              "0  2015-01-13T05:10:54  2015      1  ...     0.159097    0.291012     0.145935\n",
              "0  2015-01-29T05:10:49  2015      1  ...     0.146837    0.235728     0.106730\n",
              "0  2015-02-14T05:10:40  2015      2  ...     0.143818    0.239278     0.119940\n",
              "0  2015-03-18T05:10:27  2015      3  ...     0.139756    0.272363     0.135154\n",
              "0  2015-04-03T05:10:14  2015      4  ...     0.120745    0.228464     0.085373\n",
              "0  2015-04-19T05:10:14  2015      4  ...     0.127804    0.311766     0.148138\n",
              "0  2015-05-21T05:09:55  2015      5  ...     0.096125    0.369892     0.150752\n",
              "0  2015-12-31T05:10:59  2015     12  ...     0.152216    0.332897     0.173047\n",
              "0  2016-01-16T05:10:57  2016      1  ...     0.134338    0.262982     0.117102\n",
              "0  2016-03-20T05:10:39  2016      3  ...     0.136467    0.267207     0.116401\n",
              "0  2016-04-05T05:10:30  2016      4  ...     0.134362    0.259543     0.115847\n",
              "0  2016-04-21T05:10:24  2016      4  ...     0.126432    0.266660     0.126573\n",
              "0  2016-05-07T05:10:27  2016      5  ...     0.124603    0.273161     0.123134\n",
              "0  2016-05-23T05:10:29  2016      5  ...     0.123077    0.321797     0.146167\n",
              "0  2016-12-17T05:11:07  2016     12  ...     0.159506    0.277043     0.136835\n",
              "0  2017-01-02T05:11:04  2017      1  ...     0.199410    0.224125     0.135666\n",
              "0  2017-01-18T05:11:00  2017      1  ...     0.155585    0.274404     0.145797\n",
              "0  2017-02-03T05:10:53  2017      2  ...     0.148134    0.252808     0.125121\n",
              "0  2017-03-07T05:10:40  2017      3  ...     0.201145    0.183886     0.111511\n",
              "0  2017-03-23T05:10:30  2017      3  ...     0.134263    0.261941     0.121722\n",
              "0  2017-04-08T05:10:23  2017      4  ...     0.119136    0.257825     0.105022\n",
              "0  2017-04-24T05:10:13  2017      4  ...     0.104406    0.259327     0.107887\n",
              "0  2017-05-26T05:10:25  2017      5  ...     0.098813    0.312863     0.126343\n",
              "0  2017-12-20T05:11:04  2017     12  ...     0.166586    0.286442     0.154601\n",
              "0  2018-01-05T05:11:00  2018      1  ...     0.139120    0.245033     0.115602\n",
              "0  2018-01-21T05:10:52  2018      1  ...     0.131393    0.250863     0.129321\n",
              "0  2018-02-06T05:10:43  2018      2  ...     0.145676    0.247709     0.134517\n",
              "0  2018-02-22T05:10:37  2018      2  ...     0.144533    0.250085     0.128957\n",
              "0  2018-03-10T05:10:29  2018      3  ...     0.118839    0.218638     0.090197\n",
              "0  2018-03-26T05:10:21  2018      3  ...     0.112829    0.260971     0.108307\n",
              "0  2018-04-11T05:10:13  2018      4  ...     0.124869    0.296701     0.139035\n",
              "0  2018-04-27T05:10:04  2018      4  ...     0.102615    0.292858     0.119746\n",
              "0  2018-05-13T05:09:54  2018      5  ...     0.100674    0.332989     0.137157\n",
              "0  2019-01-08T05:10:43  2019      1  ...     0.143509    0.260493     0.137886\n",
              "0  2019-01-24T05:10:40  2019      1  ...     0.129064    0.211151     0.097413\n",
              "0  2019-02-09T05:10:37  2019      2  ...     0.160636    0.159283     0.082957\n",
              "0  2019-02-25T05:10:34  2019      2  ...     0.137514    0.244158     0.135319\n",
              "0  2019-03-13T05:10:28  2019      3  ...     0.117015    0.242521     0.119210\n",
              "0  2019-03-29T05:10:25  2019      3  ...     0.101306    0.239657     0.106184\n",
              "0  2019-04-14T05:10:20  2019      4  ...     0.103164    0.251278     0.116752\n",
              "0  2019-05-16T05:10:27  2019      5  ...     0.100429    0.316452     0.132855\n",
              "0  2020-01-11T05:11:03  2020      1  ...     0.154286    0.287793     0.160789\n",
              "0  2020-01-27T05:10:59  2020      1  ...     0.153153    0.256470     0.141958\n",
              "0  2020-02-12T05:10:54  2020      2  ...     0.159960    0.230687     0.132885\n",
              "0  2020-02-28T05:10:50  2020      2  ...     0.092698    0.213567     0.085628\n",
              "0  2020-03-15T05:10:43  2020      3  ...     0.135669    0.259468     0.134138\n",
              "0  2020-03-31T05:10:34  2020      3  ...     0.136984    0.267173     0.140112\n",
              "0  2020-04-16T05:10:27  2020      4  ...     0.123027    0.286509     0.130565\n",
              "\n",
              "[60 rows x 7 columns]"
            ]
          },
          "metadata": {
            "tags": []
          },
          "execution_count": 11
        }
      ]
    },
    {
      "cell_type": "code",
      "metadata": {
        "id": "s4N-Iv75bJGM",
        "colab_type": "code",
        "colab": {
          "base_uri": "https://localhost:8080/",
          "height": 167
        },
        "outputId": "d0676730-64a5-4a0e-fb7f-207e931d47f5"
      },
      "source": [
        "df"
      ],
      "execution_count": null,
      "outputs": [
        {
          "output_type": "error",
          "ename": "NameError",
          "evalue": "ignored",
          "traceback": [
            "\u001b[0;31m---------------------------------------------------------------------------\u001b[0m",
            "\u001b[0;31mNameError\u001b[0m                                 Traceback (most recent call last)",
            "\u001b[0;32m<ipython-input-2-00cf07b74dcd>\u001b[0m in \u001b[0;36m<module>\u001b[0;34m()\u001b[0m\n\u001b[0;32m----> 1\u001b[0;31m \u001b[0mdf\u001b[0m\u001b[0;34m\u001b[0m\u001b[0;34m\u001b[0m\u001b[0m\n\u001b[0m",
            "\u001b[0;31mNameError\u001b[0m: name 'df' is not defined"
          ]
        }
      ]
    },
    {
      "cell_type": "code",
      "metadata": {
        "id": "N4BopJ8Af0dl",
        "colab_type": "code",
        "colab": {}
      },
      "source": [
        ""
      ],
      "execution_count": null,
      "outputs": []
    }
  ]
}