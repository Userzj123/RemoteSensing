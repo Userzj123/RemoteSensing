{
  "nbformat": 4,
  "nbformat_minor": 0,
  "metadata": {
    "colab": {
      "name": "GEE_SatelliteImageAreaPerimeterCannyEdge.ipynb",
      "provenance": [],
      "collapsed_sections": [],
      "authorship_tag": "ABX9TyOk3/f/SbTcZkoczi+O0Br5",
      "include_colab_link": true
    },
    "kernelspec": {
      "name": "python3",
      "display_name": "Python 3"
    }
  },
  "cells": [
    {
      "cell_type": "markdown",
      "metadata": {
        "id": "view-in-github",
        "colab_type": "text"
      },
      "source": [
        "<a href=\"https://colab.research.google.com/github/arvindnswamy/RemoteSensing/blob/development/GEE_SatelliteImageAreaPerimeterCannyEdge.ipynb\" target=\"_parent\"><img src=\"https://colab.research.google.com/assets/colab-badge.svg\" alt=\"Open In Colab\"/></a>"
      ]
    },
    {
      "cell_type": "code",
      "metadata": {
        "id": "OV4P9ozTdzPI",
        "colab_type": "code",
        "colab": {
          "base_uri": "https://localhost:8080/",
          "height": 176
        },
        "outputId": "883181f0-e0a1-48cb-bcb8-a5edae01fbb0"
      },
      "source": [
        "import ee\n",
        "import numpy as np\n",
        "from IPython.display import Image\n",
        "\n",
        "# Trigger the authentication flow.\n",
        "ee.Authenticate()"
      ],
      "execution_count": 1,
      "outputs": [
        {
          "output_type": "stream",
          "text": [
            "To authorize access needed by Earth Engine, open the following URL in a web browser and follow the instructions. If the web browser does not start automatically, please manually browse the URL below.\n",
            "\n",
            "    https://accounts.google.com/o/oauth2/auth?client_id=517222506229-vsmmajv00ul0bs7p89v5m89qs8eb9359.apps.googleusercontent.com&scope=https%3A%2F%2Fwww.googleapis.com%2Fauth%2Fearthengine+https%3A%2F%2Fwww.googleapis.com%2Fauth%2Fdevstorage.full_control&redirect_uri=urn%3Aietf%3Awg%3Aoauth%3A2.0%3Aoob&response_type=code&code_challenge=UU8i0zvmZoCPrOxBLdNG9AtQnp88N6K2na5JKMuLcmQ&code_challenge_method=S256\n",
            "\n",
            "The authorization workflow will generate a code, which you should paste in the box below. \n",
            "Enter verification code: 4/2gF72Lyu_df2Bl0WOibPQPluKJoj5TYOjv52Ay3UkP5glvYCm6Jn1Vg\n",
            "\n",
            "Successfully saved authorization token.\n"
          ],
          "name": "stdout"
        }
      ]
    },
    {
      "cell_type": "code",
      "metadata": {
        "id": "x4G1AYiYd7xv",
        "colab_type": "code",
        "colab": {}
      },
      "source": [
        "ee.Initialize()"
      ],
      "execution_count": 2,
      "outputs": []
    },
    {
      "cell_type": "code",
      "metadata": {
        "id": "5Q67FOrteKwF",
        "colab_type": "code",
        "colab": {}
      },
      "source": [
        "class Time_Lapse_Builder():\n",
        "    \n",
        "    \n",
        "    def __init__(self):\n",
        "        self.collection = None\n",
        "        \n",
        "\n",
        "    def get_collection(self, path_list , row_list , satelite , start_date , end_date , max_cloud_percentage , months):\n",
        "\n",
        "        # get image collection object\n",
        "        coll = ee.ImageCollection(satelite)\\\n",
        "            .filterDate(start_date, end_date)\\\n",
        "            .filter(ee.Filter.inList('WRS_PATH', path_list))\\\n",
        "            .filter(ee.Filter.inList('WRS_ROW', row_list))\\\n",
        "            .filter(ee.Filter.lt('CLOUD_COVER' , max_cloud_percentage))\\\n",
        "            .filter(ee.Filter.calendarRange(months[0],months[1],'month'))    # just may data\n",
        "        self.collection = coll\n",
        "        \n",
        "        \n",
        "    def build_movie(self , region , band_list , file_name):\n",
        "        from ee import batch\n",
        "        # select the bands we want to video\n",
        "        bands = self.collection.select(band_list)\n",
        "\n",
        "        # call the conversion    \n",
        "        outputVideo = bands.map(lambda x: x.multiply(512).uint8())\n",
        "\n",
        "        #Export to video.\n",
        "        out = batch.Export.video.toDrive( outputVideo, description= file_name, dimensions = 720,\\\n",
        "                            framesPerSecond = 2, region= region, maxFrames=10000)\n",
        "\n",
        "        # process the video\n",
        "        process = batch.Task.start(out)\n",
        "        \n",
        "    def build_movie_url(self , region , band_list):\n",
        "        bands = self.collection.select(band_list)\n",
        "        outputVideo = bands.map(lambda x: x.multiply(512).uint8())\n",
        "        vid = outputVideo.getVideoThumbURL({\n",
        "              'dimensions': 720,\n",
        "              'bands': band_list, \n",
        "              'framesPerSecond' : 2,\n",
        "               'region' : ee.Geometry.Polygon([region]) \n",
        "        })\n",
        "    \n",
        "        return vid"
      ],
      "execution_count": 3,
      "outputs": []
    },
    {
      "cell_type": "code",
      "metadata": {
        "id": "JRy0X1wzeQ0w",
        "colab_type": "code",
        "colab": {}
      },
      "source": [
        "# initialize the class\n",
        "mc = Time_Lapse_Builder()\n",
        "\n",
        "# fill in the information\n",
        "p = [39]                                    # path       \n",
        "r = [37]                                    # row \n",
        "sat = 'LANDSAT/LC08/C01/T1_TOA'             # use this satelite\n",
        "sd = '2013-05-01'                           # start date\n",
        "ed = '2020-05-01'                           # end date\n",
        "cc= 35                                    # max cloud cover percentage\n",
        "months = [5 , 5]                            # months [start, end]\n",
        "\n",
        "# collect the images\n",
        "mc.get_collection(p, r, sat, sd, ed, cc , months)\n",
        "\n",
        "# this surrounds the box\n",
        "lake_bounding_box = ([-116.2170533393782,33.578034161036506],\\\n",
        " [-116.1895875190657,33.03171253668441],\\\n",
        " [-115.3601197456282,33.045527348747925],\\\n",
        " [-115.4040650581282,33.64665492287974])\n",
        "\n",
        "# rgb bands\n",
        "band_list = ['B4', 'B3', 'B2']"
      ],
      "execution_count": 4,
      "outputs": []
    },
    {
      "cell_type": "code",
      "metadata": {
        "id": "Z7LuEMKLeXi1",
        "colab_type": "code",
        "colab": {}
      },
      "source": [
        "file_name = 'salton_sea_TimeLapse'\n",
        "mc.build_movie(lake_bounding_box, band_list , file_name)"
      ],
      "execution_count": 5,
      "outputs": []
    },
    {
      "cell_type": "code",
      "metadata": {
        "id": "8bz562TRecxl",
        "colab_type": "code",
        "colab": {
          "base_uri": "https://localhost:8080/",
          "height": 52
        },
        "outputId": "f377e032-3387-4e7d-9b5c-19aba8403d06"
      },
      "source": [
        "mc.build_movie_url(lake_bounding_box, band_list)"
      ],
      "execution_count": 6,
      "outputs": [
        {
          "output_type": "execute_result",
          "data": {
            "application/vnd.google.colaboratory.intrinsic+json": {
              "type": "string"
            },
            "text/plain": [
              "'https://earthengine.googleapis.com/v1alpha/projects/earthengine-legacy/videoThumbnails/36c4dc3ea13d77f252c003eda571b6e7-cf9499aceb17302a783e5048436cfd00:getPixels'"
            ]
          },
          "metadata": {
            "tags": []
          },
          "execution_count": 6
        }
      ]
    },
    {
      "cell_type": "code",
      "metadata": {
        "id": "kNv-dyFBeszx",
        "colab_type": "code",
        "colab": {
          "base_uri": "https://localhost:8080/",
          "height": 34
        },
        "outputId": "df61bd34-7df0-4f14-bf12-54894db7469b"
      },
      "source": [
        "type(mc.get_collection(p, r, sat, sd, ed, cc , months))"
      ],
      "execution_count": null,
      "outputs": [
        {
          "output_type": "execute_result",
          "data": {
            "text/plain": [
              "NoneType"
            ]
          },
          "metadata": {
            "tags": []
          },
          "execution_count": 9
        }
      ]
    },
    {
      "cell_type": "code",
      "metadata": {
        "id": "ryX7Cle-fu4R",
        "colab_type": "code",
        "colab": {}
      },
      "source": [
        "def get_images(path_list, row_list, satellite, start_date, end_date, max_cloud_percentage):\n",
        "  coll = ee.ImageCollection(satellite).filterDate(start_date, end_date)\\\n",
        "            .filter(ee.Filter.inList('WRS_PATH', path_list))\\\n",
        "            .filter(ee.Filter.inList('WRS_ROW', row_list))\\\n",
        "            .filter(ee.Filter.lt('CLOUD_COVER', max_cloud_percentage))\n",
        "  image_ids = list(map(lambda x: x['id'], coll.getInfo()['features']))\n",
        "\n",
        "  images = list(map(lambda x: ee.Image(x), image_ids))\n",
        "\n",
        "  return images"
      ],
      "execution_count": 7,
      "outputs": []
    },
    {
      "cell_type": "code",
      "metadata": {
        "id": "iRUV0UQfiODY",
        "colab_type": "code",
        "colab": {
          "base_uri": "https://localhost:8080/",
          "height": 504
        },
        "outputId": "5a6163e6-d35d-45ac-d893-403d8f3a7ed3"
      },
      "source": [
        "# fill in the information\n",
        "p = [39]                                    # path       \n",
        "r = [37]                                    # row \n",
        "sat = 'LANDSAT/LC08/C01/T1_TOA'             # use this satelite\n",
        "sd = '2013-05-01'                           # start date\n",
        "ed = '2020-05-01'                           # end date\n",
        "cc= 35                                    # max cloud cover percentage\n",
        "\n",
        "listOfImages = get_images(p, r, sat, sd, ed, cc)\n",
        "\n",
        "image0 = listOfImages[0]\n",
        "# this surrounds the box\n",
        "lake_bounding_box = ([-116.2170533393782,33.578034161036506],\\\n",
        " [-116.1895875190657,33.03171253668441],\\\n",
        " [-115.3601197456282,33.045527348747925],\\\n",
        " [-115.4040650581282,33.64665492287974])\n",
        "\n",
        "lakeRect = ee.Geometry.Rectangle([-116.2170533393782, 33.03171253668441, -115.4040650581282, 33.578034161036506]); #Created this from lake_bounding_box\n",
        "\n",
        "parameters = {'min': 0.0,\n",
        "              'max': 0.3,\n",
        "              'dimensions': 600,\n",
        "              'bands': ['B4', 'B3', 'B2']}\n",
        "\n",
        "Image(url = image0.clip(lakeRect).getThumbUrl(parameters))"
      ],
      "execution_count": 10,
      "outputs": [
        {
          "output_type": "execute_result",
          "data": {
            "text/html": [
              "<img src=\"https://earthengine.googleapis.com/v1alpha/projects/earthengine-legacy/thumbnails/83e6ed2e5aa621bebcaeae6cbdd98c6e-fbe8de2797f88e6b8e07ce7e3b703bc4:getPixels\"/>"
            ],
            "text/plain": [
              "<IPython.core.display.Image object>"
            ]
          },
          "metadata": {
            "tags": []
          },
          "execution_count": 10
        }
      ]
    },
    {
      "cell_type": "code",
      "metadata": {
        "id": "ZXC7D3BTk777",
        "colab_type": "code",
        "colab": {
          "base_uri": "https://localhost:8080/",
          "height": 504
        },
        "outputId": "4c3e0102-a09d-46f3-f20b-c0308578a45d"
      },
      "source": [
        "image0NDWIB3B6 = image0.normalizedDifference(['B3', 'B6'])\n",
        "parameters = {'min': -1,\n",
        "              'max': 1.0,\n",
        "              'dimensions': 600}\n",
        "Image(url = image0NDWIB3B6.clip(lakeRect).getThumbUrl(parameters))"
      ],
      "execution_count": 13,
      "outputs": [
        {
          "output_type": "execute_result",
          "data": {
            "text/html": [
              "<img src=\"https://earthengine.googleapis.com/v1alpha/projects/earthengine-legacy/thumbnails/82d15d900dbdd187afdb76a3f6314479-007bfdf85d21eb670b3040214dbcc0d8:getPixels\"/>"
            ],
            "text/plain": [
              "<IPython.core.display.Image object>"
            ]
          },
          "metadata": {
            "tags": []
          },
          "execution_count": 13
        }
      ]
    },
    {
      "cell_type": "code",
      "metadata": {
        "id": "Gqhi7qIJmSj7",
        "colab_type": "code",
        "colab": {
          "base_uri": "https://localhost:8080/",
          "height": 337
        },
        "outputId": "ca73a49b-90d4-4855-e104-280d4df5cdd8"
      },
      "source": [
        "import seaborn as sns\n",
        "import matplotlib.pyplot as plt\n",
        "\n",
        "ndwi_dict_B3B6 = image0NDWIB3B6.sample(numPixels = 1000).reduceColumns(ee.Reducer.toList().repeat(1), ['nd']) \n",
        "\n",
        "ndwi_data_B3B6 = ee.List(ndwi_dict_B3B6.get('list')).getInfo()\n",
        "\n",
        "ax1=plt.gca()\n",
        "sns.distplot(ndwi_data_B3B6[0], bins=50, ax=ax1, label='B3B6')\n",
        "\n",
        "ax1.legend(loc='upper right')"
      ],
      "execution_count": 14,
      "outputs": [
        {
          "output_type": "stream",
          "text": [
            "/usr/local/lib/python3.6/dist-packages/statsmodels/tools/_testing.py:19: FutureWarning: pandas.util.testing is deprecated. Use the functions in the public API at pandas.testing instead.\n",
            "  import pandas.util.testing as tm\n"
          ],
          "name": "stderr"
        },
        {
          "output_type": "execute_result",
          "data": {
            "text/plain": [
              "<matplotlib.legend.Legend at 0x7f51c449f2b0>"
            ]
          },
          "metadata": {
            "tags": []
          },
          "execution_count": 14
        },
        {
          "output_type": "display_data",
          "data": {
            "image/png": "[encoded data removed]",
            "text/plain": [
              "<Figure size 432x288 with 1 Axes>"
            ]
          },
          "metadata": {
            "tags": [],
            "needs_background": "light"
          }
        }
      ]
    },
    {
      "cell_type": "code",
      "metadata": {
        "id": "JkzyaOC6woNx",
        "colab_type": "code",
        "colab": {}
      },
      "source": [
        "canny = ee.Algorithms.CannyEdgeDetector(image = image0NDWIB3B6, threshold = 2., sigma = 1.) \n",
        "#I don't know what I am doing here - I dont understand the values of threshold and sigma - how they affect the final result"
      ],
      "execution_count": 36,
      "outputs": []
    },
    {
      "cell_type": "code",
      "metadata": {
        "id": "FJjvu_sWzvam",
        "colab_type": "code",
        "colab": {
          "base_uri": "https://localhost:8080/",
          "height": 34
        },
        "outputId": "906a1749-48f2-4ee9-c0dd-e6e3ef90ca19"
      },
      "source": [
        "type(canny) #Canny is an image"
      ],
      "execution_count": 17,
      "outputs": [
        {
          "output_type": "execute_result",
          "data": {
            "text/plain": [
              "ee.image.Image"
            ]
          },
          "metadata": {
            "tags": []
          },
          "execution_count": 17
        }
      ]
    },
    {
      "cell_type": "code",
      "metadata": {
        "id": "mxqgJFiVzzqT",
        "colab_type": "code",
        "colab": {
          "base_uri": "https://localhost:8080/",
          "height": 504
        },
        "outputId": "e4bf9dce-502e-479a-ae87-a604e8f28033"
      },
      "source": [
        "parameters = {'min': 0,\n",
        "              'max': 1,\n",
        "              'dimensions': 600}\n",
        "Image(url = canny.clip(lakeRect).getThumbUrl(parameters)) #Nice, we can see the outline of the lake. But what about the area and the perimeter?"
      ],
      "execution_count": 41,
      "outputs": [
        {
          "output_type": "execute_result",
          "data": {
            "text/html": [
              "<img src=\"https://earthengine.googleapis.com/v1alpha/projects/earthengine-legacy/thumbnails/de8fe3dca10fcb72c21bdfc881e93c13-5cd75f46ea2cc4b40bba05d6192a12b1:getPixels\"/>"
            ],
            "text/plain": [
              "<IPython.core.display.Image object>"
            ]
          },
          "metadata": {
            "tags": []
          },
          "execution_count": 41
        }
      ]
    },
    {
      "cell_type": "code",
      "metadata": {
        "id": "q4fpxL3k0QKc",
        "colab_type": "code",
        "colab": {}
      },
      "source": [
        "canny_dict = canny.sample(numPixels = 1000).reduceColumns(ee.Reducer.toList().repeat(1), ['nd']) \n",
        "\n",
        "canny_data = ee.List(canny_dict.get('list')).getInfo()"
      ],
      "execution_count": 38,
      "outputs": []
    },
    {
      "cell_type": "code",
      "metadata": {
        "id": "TpIUBJWJ1nM1",
        "colab_type": "code",
        "colab": {
          "base_uri": "https://localhost:8080/",
          "height": 317
        },
        "outputId": "264808ea-33f3-4294-cc89-9cfa64c32132"
      },
      "source": [
        "ax2=plt.gca()\n",
        "sns.distplot(canny_data, bins=50, ax=ax2, label='canny')\n",
        "\n",
        "ax2.legend(loc='upper right')"
      ],
      "execution_count": 39,
      "outputs": [
        {
          "output_type": "stream",
          "text": [
            "/usr/local/lib/python3.6/dist-packages/seaborn/distributions.py:283: UserWarning: Data must have variance to compute a kernel density estimate.\n",
            "  warnings.warn(msg, UserWarning)\n"
          ],
          "name": "stderr"
        },
        {
          "output_type": "execute_result",
          "data": {
            "text/plain": [
              "<matplotlib.legend.Legend at 0x7f51c3e0e978>"
            ]
          },
          "metadata": {
            "tags": []
          },
          "execution_count": 39
        },
        {
          "output_type": "display_data",
          "data": {
            "image/png": "[encoded data removed]",
            "text/plain": [
              "<Figure size 432x288 with 1 Axes>"
            ]
          },
          "metadata": {
            "tags": [],
            "needs_background": "light"
          }
        }
      ]
    },
    {
      "cell_type": "code",
      "metadata": {
        "id": "J0N1bGoC1vL9",
        "colab_type": "code",
        "colab": {}
      },
      "source": [
        "hough = ee.Algorithms.HoughTransform(canny)"
      ],
      "execution_count": 53,
      "outputs": []
    },
    {
      "cell_type": "code",
      "metadata": {
        "id": "52VnKRYn7tIL",
        "colab_type": "code",
        "colab": {
          "base_uri": "https://localhost:8080/",
          "height": 34
        },
        "outputId": "562edd98-c525-40a3-f8d5-2e6997cbf190"
      },
      "source": [
        "type(hough)"
      ],
      "execution_count": 43,
      "outputs": [
        {
          "output_type": "execute_result",
          "data": {
            "text/plain": [
              "ee.image.Image"
            ]
          },
          "metadata": {
            "tags": []
          },
          "execution_count": 43
        }
      ]
    },
    {
      "cell_type": "code",
      "metadata": {
        "id": "HDcN9JCp7vmC",
        "colab_type": "code",
        "colab": {
          "base_uri": "https://localhost:8080/",
          "height": 504
        },
        "outputId": "a6faeb8a-427c-46c2-9ca7-d3534c02f94c"
      },
      "source": [
        "parameters = {'dimensions': 600}\n",
        "Image(url = hough.clip(lakeRect).getThumbUrl(parameters))"
      ],
      "execution_count": 56,
      "outputs": [
        {
          "output_type": "execute_result",
          "data": {
            "text/html": [
              "<img src=\"https://earthengine.googleapis.com/v1alpha/projects/earthengine-legacy/thumbnails/84e0cbb82a9fd1ebaeb72eb9b6e4df27-82f92de509532f8bc961d96724a2ae5b:getPixels\"/>"
            ],
            "text/plain": [
              "<IPython.core.display.Image object>"
            ]
          },
          "metadata": {
            "tags": []
          },
          "execution_count": 56
        }
      ]
    },
    {
      "cell_type": "code",
      "metadata": {
        "id": "7BjvzB2Q85j9",
        "colab_type": "code",
        "colab": {}
      },
      "source": [
        ""
      ],
      "execution_count": null,
      "outputs": []
    }
  ]
}